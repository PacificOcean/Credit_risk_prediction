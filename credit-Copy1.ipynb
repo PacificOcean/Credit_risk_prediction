{
 "cells": [
  {
   "cell_type": "code",
   "execution_count": 1,
   "metadata": {},
   "outputs": [],
   "source": [
    "# -*- coding: utf-8 -*-\n",
    "# 基本モジュール\n",
    "import pandas as pd\n",
    "import numpy as np\n",
    "import os\n",
    "import sys\n",
    "from tqdm import tqdm\n",
    "#import pandas_profiling\n",
    "\n",
    "import time\n",
    "import datetime\n",
    "import dateutil.parser #変数の時間型への変換で使用\n",
    "from dateutil.relativedelta import relativedelta\n",
    "\n",
    "from sklearn.linear_model import LinearRegression\n",
    "from sklearn.preprocessing import PolynomialFeatures\n",
    "from sklearn.pipeline import Pipeline\n",
    "\n",
    "from sklearn.ensemble import RandomForestClassifier\n",
    "np.random.seed(0)\n",
    "from sklearn.metrics import accuracy_score, f1_score, precision_score, recall_score, classification_report, confusion_matrix\n",
    "from sklearn.metrics import roc_auc_score\n",
    "\n",
    "import matplotlib.pylab as plt\n",
    "from matplotlib.font_manager import FontProperties\n",
    "fp = FontProperties(fname='meiryo.ttc')\n",
    "%matplotlib inline"
   ]
  },
  {
   "cell_type": "code",
   "execution_count": 2,
   "metadata": {},
   "outputs": [],
   "source": [
    "import warnings\n",
    "warnings.filterwarnings('ignore')"
   ]
  },
  {
   "cell_type": "code",
   "execution_count": 3,
   "metadata": {},
   "outputs": [],
   "source": [
    "def grep_startswith(lst,word):\n",
    "    tgt = []\n",
    "    for string in lst:\n",
    "        if string.startswith(word) == True:\n",
    "            tgt.append(string)\n",
    "    return tgt\n",
    "\n",
    "def grep_endswith(lst,word):\n",
    "    tgt = []\n",
    "    for string in lst:\n",
    "        if string.endswith(word) == True:\n",
    "            tgt.append(string)\n",
    "    return tgt\n",
    "\n",
    "def grep_not_startswith(lst,word):\n",
    "    tgt = []\n",
    "    for string in lst:\n",
    "        if string.startswith(word) == False:\n",
    "            tgt.append(string)\n",
    "    return tgt\n",
    "\n",
    "def grep_not_endswith(lst,word):\n",
    "    tgt = []\n",
    "    for string in lst:\n",
    "        if string.endswith(word) == False:\n",
    "            tgt.append(string)\n",
    "    return tgt\n",
    "\n",
    "def grep_include(lst,word):\n",
    "    tgt = []\n",
    "    for string in lst:\n",
    "        if string.find(word) != -1: #wordがstringに含まれている\n",
    "            tgt.append(string)\n",
    "    return tgt\n",
    "\n",
    "def grep_not_include(lst,word):\n",
    "    tgt = []\n",
    "    for string in lst:\n",
    "        if string.find(word) == -1: #wordがstringに含まれていない\n",
    "            tgt.append(string)\n",
    "    return tgt\n",
    "\n",
    "def zfill2(x):\n",
    "    return str(x).zfill(2)\n",
    "\n",
    "def datetime_parser(x):\n",
    "    return dateutil.parser.parse(x)\n"
   ]
  },
  {
   "cell_type": "code",
   "execution_count": 4,
   "metadata": {},
   "outputs": [],
   "source": [
    "app_train=pd.read_csv(\"application_train.csv\")"
   ]
  },
  {
   "cell_type": "code",
   "execution_count": 5,
   "metadata": {},
   "outputs": [
    {
     "data": {
      "text/html": [
       "<div>\n",
       "<style scoped>\n",
       "    .dataframe tbody tr th:only-of-type {\n",
       "        vertical-align: middle;\n",
       "    }\n",
       "\n",
       "    .dataframe tbody tr th {\n",
       "        vertical-align: top;\n",
       "    }\n",
       "\n",
       "    .dataframe thead th {\n",
       "        text-align: right;\n",
       "    }\n",
       "</style>\n",
       "<table border=\"1\" class=\"dataframe\">\n",
       "  <thead>\n",
       "    <tr style=\"text-align: right;\">\n",
       "      <th></th>\n",
       "      <th>SK_ID_CURR</th>\n",
       "      <th>TARGET</th>\n",
       "      <th>NAME_CONTRACT_TYPE</th>\n",
       "      <th>CODE_GENDER</th>\n",
       "      <th>FLAG_OWN_CAR</th>\n",
       "      <th>FLAG_OWN_REALTY</th>\n",
       "      <th>CNT_CHILDREN</th>\n",
       "      <th>AMT_INCOME_TOTAL</th>\n",
       "      <th>AMT_CREDIT</th>\n",
       "      <th>AMT_ANNUITY</th>\n",
       "      <th>...</th>\n",
       "      <th>FLAG_DOCUMENT_18</th>\n",
       "      <th>FLAG_DOCUMENT_19</th>\n",
       "      <th>FLAG_DOCUMENT_20</th>\n",
       "      <th>FLAG_DOCUMENT_21</th>\n",
       "      <th>AMT_REQ_CREDIT_BUREAU_HOUR</th>\n",
       "      <th>AMT_REQ_CREDIT_BUREAU_DAY</th>\n",
       "      <th>AMT_REQ_CREDIT_BUREAU_WEEK</th>\n",
       "      <th>AMT_REQ_CREDIT_BUREAU_MON</th>\n",
       "      <th>AMT_REQ_CREDIT_BUREAU_QRT</th>\n",
       "      <th>AMT_REQ_CREDIT_BUREAU_YEAR</th>\n",
       "    </tr>\n",
       "  </thead>\n",
       "  <tbody>\n",
       "    <tr>\n",
       "      <th>0</th>\n",
       "      <td>100002</td>\n",
       "      <td>1</td>\n",
       "      <td>Cash loans</td>\n",
       "      <td>M</td>\n",
       "      <td>N</td>\n",
       "      <td>Y</td>\n",
       "      <td>0</td>\n",
       "      <td>202500.0</td>\n",
       "      <td>406597.5</td>\n",
       "      <td>24700.5</td>\n",
       "      <td>...</td>\n",
       "      <td>0</td>\n",
       "      <td>0</td>\n",
       "      <td>0</td>\n",
       "      <td>0</td>\n",
       "      <td>0.0</td>\n",
       "      <td>0.0</td>\n",
       "      <td>0.0</td>\n",
       "      <td>0.0</td>\n",
       "      <td>0.0</td>\n",
       "      <td>1.0</td>\n",
       "    </tr>\n",
       "    <tr>\n",
       "      <th>1</th>\n",
       "      <td>100003</td>\n",
       "      <td>0</td>\n",
       "      <td>Cash loans</td>\n",
       "      <td>F</td>\n",
       "      <td>N</td>\n",
       "      <td>N</td>\n",
       "      <td>0</td>\n",
       "      <td>270000.0</td>\n",
       "      <td>1293502.5</td>\n",
       "      <td>35698.5</td>\n",
       "      <td>...</td>\n",
       "      <td>0</td>\n",
       "      <td>0</td>\n",
       "      <td>0</td>\n",
       "      <td>0</td>\n",
       "      <td>0.0</td>\n",
       "      <td>0.0</td>\n",
       "      <td>0.0</td>\n",
       "      <td>0.0</td>\n",
       "      <td>0.0</td>\n",
       "      <td>0.0</td>\n",
       "    </tr>\n",
       "    <tr>\n",
       "      <th>2</th>\n",
       "      <td>100004</td>\n",
       "      <td>0</td>\n",
       "      <td>Revolving loans</td>\n",
       "      <td>M</td>\n",
       "      <td>Y</td>\n",
       "      <td>Y</td>\n",
       "      <td>0</td>\n",
       "      <td>67500.0</td>\n",
       "      <td>135000.0</td>\n",
       "      <td>6750.0</td>\n",
       "      <td>...</td>\n",
       "      <td>0</td>\n",
       "      <td>0</td>\n",
       "      <td>0</td>\n",
       "      <td>0</td>\n",
       "      <td>0.0</td>\n",
       "      <td>0.0</td>\n",
       "      <td>0.0</td>\n",
       "      <td>0.0</td>\n",
       "      <td>0.0</td>\n",
       "      <td>0.0</td>\n",
       "    </tr>\n",
       "    <tr>\n",
       "      <th>3</th>\n",
       "      <td>100006</td>\n",
       "      <td>0</td>\n",
       "      <td>Cash loans</td>\n",
       "      <td>F</td>\n",
       "      <td>N</td>\n",
       "      <td>Y</td>\n",
       "      <td>0</td>\n",
       "      <td>135000.0</td>\n",
       "      <td>312682.5</td>\n",
       "      <td>29686.5</td>\n",
       "      <td>...</td>\n",
       "      <td>0</td>\n",
       "      <td>0</td>\n",
       "      <td>0</td>\n",
       "      <td>0</td>\n",
       "      <td>NaN</td>\n",
       "      <td>NaN</td>\n",
       "      <td>NaN</td>\n",
       "      <td>NaN</td>\n",
       "      <td>NaN</td>\n",
       "      <td>NaN</td>\n",
       "    </tr>\n",
       "    <tr>\n",
       "      <th>4</th>\n",
       "      <td>100007</td>\n",
       "      <td>0</td>\n",
       "      <td>Cash loans</td>\n",
       "      <td>M</td>\n",
       "      <td>N</td>\n",
       "      <td>Y</td>\n",
       "      <td>0</td>\n",
       "      <td>121500.0</td>\n",
       "      <td>513000.0</td>\n",
       "      <td>21865.5</td>\n",
       "      <td>...</td>\n",
       "      <td>0</td>\n",
       "      <td>0</td>\n",
       "      <td>0</td>\n",
       "      <td>0</td>\n",
       "      <td>0.0</td>\n",
       "      <td>0.0</td>\n",
       "      <td>0.0</td>\n",
       "      <td>0.0</td>\n",
       "      <td>0.0</td>\n",
       "      <td>0.0</td>\n",
       "    </tr>\n",
       "  </tbody>\n",
       "</table>\n",
       "<p>5 rows × 122 columns</p>\n",
       "</div>"
      ],
      "text/plain": [
       "   SK_ID_CURR  TARGET NAME_CONTRACT_TYPE CODE_GENDER FLAG_OWN_CAR  \\\n",
       "0      100002       1         Cash loans           M            N   \n",
       "1      100003       0         Cash loans           F            N   \n",
       "2      100004       0    Revolving loans           M            Y   \n",
       "3      100006       0         Cash loans           F            N   \n",
       "4      100007       0         Cash loans           M            N   \n",
       "\n",
       "  FLAG_OWN_REALTY  CNT_CHILDREN  AMT_INCOME_TOTAL  AMT_CREDIT  AMT_ANNUITY  \\\n",
       "0               Y             0          202500.0    406597.5      24700.5   \n",
       "1               N             0          270000.0   1293502.5      35698.5   \n",
       "2               Y             0           67500.0    135000.0       6750.0   \n",
       "3               Y             0          135000.0    312682.5      29686.5   \n",
       "4               Y             0          121500.0    513000.0      21865.5   \n",
       "\n",
       "              ...              FLAG_DOCUMENT_18 FLAG_DOCUMENT_19  \\\n",
       "0             ...                             0                0   \n",
       "1             ...                             0                0   \n",
       "2             ...                             0                0   \n",
       "3             ...                             0                0   \n",
       "4             ...                             0                0   \n",
       "\n",
       "  FLAG_DOCUMENT_20 FLAG_DOCUMENT_21 AMT_REQ_CREDIT_BUREAU_HOUR  \\\n",
       "0                0                0                        0.0   \n",
       "1                0                0                        0.0   \n",
       "2                0                0                        0.0   \n",
       "3                0                0                        NaN   \n",
       "4                0                0                        0.0   \n",
       "\n",
       "  AMT_REQ_CREDIT_BUREAU_DAY  AMT_REQ_CREDIT_BUREAU_WEEK  \\\n",
       "0                       0.0                         0.0   \n",
       "1                       0.0                         0.0   \n",
       "2                       0.0                         0.0   \n",
       "3                       NaN                         NaN   \n",
       "4                       0.0                         0.0   \n",
       "\n",
       "   AMT_REQ_CREDIT_BUREAU_MON  AMT_REQ_CREDIT_BUREAU_QRT  \\\n",
       "0                        0.0                        0.0   \n",
       "1                        0.0                        0.0   \n",
       "2                        0.0                        0.0   \n",
       "3                        NaN                        NaN   \n",
       "4                        0.0                        0.0   \n",
       "\n",
       "   AMT_REQ_CREDIT_BUREAU_YEAR  \n",
       "0                         1.0  \n",
       "1                         0.0  \n",
       "2                         0.0  \n",
       "3                         NaN  \n",
       "4                         0.0  \n",
       "\n",
       "[5 rows x 122 columns]"
      ]
     },
     "execution_count": 5,
     "metadata": {},
     "output_type": "execute_result"
    }
   ],
   "source": [
    "app_train.head()"
   ]
  },
  {
   "cell_type": "code",
   "execution_count": 6,
   "metadata": {},
   "outputs": [
    {
     "data": {
      "text/plain": [
       "Index(['SK_ID_CURR', 'TARGET', 'NAME_CONTRACT_TYPE', 'CODE_GENDER',\n",
       "       'FLAG_OWN_CAR', 'FLAG_OWN_REALTY', 'CNT_CHILDREN', 'AMT_INCOME_TOTAL',\n",
       "       'AMT_CREDIT', 'AMT_ANNUITY',\n",
       "       ...\n",
       "       'FLAG_DOCUMENT_18', 'FLAG_DOCUMENT_19', 'FLAG_DOCUMENT_20',\n",
       "       'FLAG_DOCUMENT_21', 'AMT_REQ_CREDIT_BUREAU_HOUR',\n",
       "       'AMT_REQ_CREDIT_BUREAU_DAY', 'AMT_REQ_CREDIT_BUREAU_WEEK',\n",
       "       'AMT_REQ_CREDIT_BUREAU_MON', 'AMT_REQ_CREDIT_BUREAU_QRT',\n",
       "       'AMT_REQ_CREDIT_BUREAU_YEAR'],\n",
       "      dtype='object', length=122)"
      ]
     },
     "execution_count": 6,
     "metadata": {},
     "output_type": "execute_result"
    }
   ],
   "source": [
    "app_train.columns"
   ]
  },
  {
   "cell_type": "raw",
   "metadata": {},
   "source": []
  },
  {
   "cell_type": "code",
   "execution_count": 7,
   "metadata": {},
   "outputs": [
    {
     "data": {
      "text/plain": [
       "0    0.919271\n",
       "1    0.080729\n",
       "Name: TARGET, dtype: float64"
      ]
     },
     "execution_count": 7,
     "metadata": {},
     "output_type": "execute_result"
    }
   ],
   "source": [
    "app_train[\"TARGET\"].value_counts()/len(app_train)"
   ]
  },
  {
   "cell_type": "code",
   "execution_count": 8,
   "metadata": {},
   "outputs": [],
   "source": [
    "app_test=pd.read_csv(\"application_test.csv\")"
   ]
  },
  {
   "cell_type": "code",
   "execution_count": 9,
   "metadata": {},
   "outputs": [
    {
     "data": {
      "text/html": [
       "<div>\n",
       "<style scoped>\n",
       "    .dataframe tbody tr th:only-of-type {\n",
       "        vertical-align: middle;\n",
       "    }\n",
       "\n",
       "    .dataframe tbody tr th {\n",
       "        vertical-align: top;\n",
       "    }\n",
       "\n",
       "    .dataframe thead th {\n",
       "        text-align: right;\n",
       "    }\n",
       "</style>\n",
       "<table border=\"1\" class=\"dataframe\">\n",
       "  <thead>\n",
       "    <tr style=\"text-align: right;\">\n",
       "      <th></th>\n",
       "      <th>SK_ID_CURR</th>\n",
       "      <th>NAME_CONTRACT_TYPE</th>\n",
       "      <th>CODE_GENDER</th>\n",
       "      <th>FLAG_OWN_CAR</th>\n",
       "      <th>FLAG_OWN_REALTY</th>\n",
       "      <th>CNT_CHILDREN</th>\n",
       "      <th>AMT_INCOME_TOTAL</th>\n",
       "      <th>AMT_CREDIT</th>\n",
       "      <th>AMT_ANNUITY</th>\n",
       "      <th>AMT_GOODS_PRICE</th>\n",
       "      <th>...</th>\n",
       "      <th>FLAG_DOCUMENT_18</th>\n",
       "      <th>FLAG_DOCUMENT_19</th>\n",
       "      <th>FLAG_DOCUMENT_20</th>\n",
       "      <th>FLAG_DOCUMENT_21</th>\n",
       "      <th>AMT_REQ_CREDIT_BUREAU_HOUR</th>\n",
       "      <th>AMT_REQ_CREDIT_BUREAU_DAY</th>\n",
       "      <th>AMT_REQ_CREDIT_BUREAU_WEEK</th>\n",
       "      <th>AMT_REQ_CREDIT_BUREAU_MON</th>\n",
       "      <th>AMT_REQ_CREDIT_BUREAU_QRT</th>\n",
       "      <th>AMT_REQ_CREDIT_BUREAU_YEAR</th>\n",
       "    </tr>\n",
       "  </thead>\n",
       "  <tbody>\n",
       "    <tr>\n",
       "      <th>0</th>\n",
       "      <td>100001</td>\n",
       "      <td>Cash loans</td>\n",
       "      <td>F</td>\n",
       "      <td>N</td>\n",
       "      <td>Y</td>\n",
       "      <td>0</td>\n",
       "      <td>135000.0</td>\n",
       "      <td>568800.0</td>\n",
       "      <td>20560.5</td>\n",
       "      <td>450000.0</td>\n",
       "      <td>...</td>\n",
       "      <td>0</td>\n",
       "      <td>0</td>\n",
       "      <td>0</td>\n",
       "      <td>0</td>\n",
       "      <td>0.0</td>\n",
       "      <td>0.0</td>\n",
       "      <td>0.0</td>\n",
       "      <td>0.0</td>\n",
       "      <td>0.0</td>\n",
       "      <td>0.0</td>\n",
       "    </tr>\n",
       "    <tr>\n",
       "      <th>1</th>\n",
       "      <td>100005</td>\n",
       "      <td>Cash loans</td>\n",
       "      <td>M</td>\n",
       "      <td>N</td>\n",
       "      <td>Y</td>\n",
       "      <td>0</td>\n",
       "      <td>99000.0</td>\n",
       "      <td>222768.0</td>\n",
       "      <td>17370.0</td>\n",
       "      <td>180000.0</td>\n",
       "      <td>...</td>\n",
       "      <td>0</td>\n",
       "      <td>0</td>\n",
       "      <td>0</td>\n",
       "      <td>0</td>\n",
       "      <td>0.0</td>\n",
       "      <td>0.0</td>\n",
       "      <td>0.0</td>\n",
       "      <td>0.0</td>\n",
       "      <td>0.0</td>\n",
       "      <td>3.0</td>\n",
       "    </tr>\n",
       "    <tr>\n",
       "      <th>2</th>\n",
       "      <td>100013</td>\n",
       "      <td>Cash loans</td>\n",
       "      <td>M</td>\n",
       "      <td>Y</td>\n",
       "      <td>Y</td>\n",
       "      <td>0</td>\n",
       "      <td>202500.0</td>\n",
       "      <td>663264.0</td>\n",
       "      <td>69777.0</td>\n",
       "      <td>630000.0</td>\n",
       "      <td>...</td>\n",
       "      <td>0</td>\n",
       "      <td>0</td>\n",
       "      <td>0</td>\n",
       "      <td>0</td>\n",
       "      <td>0.0</td>\n",
       "      <td>0.0</td>\n",
       "      <td>0.0</td>\n",
       "      <td>0.0</td>\n",
       "      <td>1.0</td>\n",
       "      <td>4.0</td>\n",
       "    </tr>\n",
       "    <tr>\n",
       "      <th>3</th>\n",
       "      <td>100028</td>\n",
       "      <td>Cash loans</td>\n",
       "      <td>F</td>\n",
       "      <td>N</td>\n",
       "      <td>Y</td>\n",
       "      <td>2</td>\n",
       "      <td>315000.0</td>\n",
       "      <td>1575000.0</td>\n",
       "      <td>49018.5</td>\n",
       "      <td>1575000.0</td>\n",
       "      <td>...</td>\n",
       "      <td>0</td>\n",
       "      <td>0</td>\n",
       "      <td>0</td>\n",
       "      <td>0</td>\n",
       "      <td>0.0</td>\n",
       "      <td>0.0</td>\n",
       "      <td>0.0</td>\n",
       "      <td>0.0</td>\n",
       "      <td>0.0</td>\n",
       "      <td>3.0</td>\n",
       "    </tr>\n",
       "    <tr>\n",
       "      <th>4</th>\n",
       "      <td>100038</td>\n",
       "      <td>Cash loans</td>\n",
       "      <td>M</td>\n",
       "      <td>Y</td>\n",
       "      <td>N</td>\n",
       "      <td>1</td>\n",
       "      <td>180000.0</td>\n",
       "      <td>625500.0</td>\n",
       "      <td>32067.0</td>\n",
       "      <td>625500.0</td>\n",
       "      <td>...</td>\n",
       "      <td>0</td>\n",
       "      <td>0</td>\n",
       "      <td>0</td>\n",
       "      <td>0</td>\n",
       "      <td>NaN</td>\n",
       "      <td>NaN</td>\n",
       "      <td>NaN</td>\n",
       "      <td>NaN</td>\n",
       "      <td>NaN</td>\n",
       "      <td>NaN</td>\n",
       "    </tr>\n",
       "  </tbody>\n",
       "</table>\n",
       "<p>5 rows × 121 columns</p>\n",
       "</div>"
      ],
      "text/plain": [
       "   SK_ID_CURR NAME_CONTRACT_TYPE CODE_GENDER FLAG_OWN_CAR FLAG_OWN_REALTY  \\\n",
       "0      100001         Cash loans           F            N               Y   \n",
       "1      100005         Cash loans           M            N               Y   \n",
       "2      100013         Cash loans           M            Y               Y   \n",
       "3      100028         Cash loans           F            N               Y   \n",
       "4      100038         Cash loans           M            Y               N   \n",
       "\n",
       "   CNT_CHILDREN  AMT_INCOME_TOTAL  AMT_CREDIT  AMT_ANNUITY  AMT_GOODS_PRICE  \\\n",
       "0             0          135000.0    568800.0      20560.5         450000.0   \n",
       "1             0           99000.0    222768.0      17370.0         180000.0   \n",
       "2             0          202500.0    663264.0      69777.0         630000.0   \n",
       "3             2          315000.0   1575000.0      49018.5        1575000.0   \n",
       "4             1          180000.0    625500.0      32067.0         625500.0   \n",
       "\n",
       "              ...             FLAG_DOCUMENT_18 FLAG_DOCUMENT_19  \\\n",
       "0             ...                            0                0   \n",
       "1             ...                            0                0   \n",
       "2             ...                            0                0   \n",
       "3             ...                            0                0   \n",
       "4             ...                            0                0   \n",
       "\n",
       "  FLAG_DOCUMENT_20 FLAG_DOCUMENT_21 AMT_REQ_CREDIT_BUREAU_HOUR  \\\n",
       "0                0                0                        0.0   \n",
       "1                0                0                        0.0   \n",
       "2                0                0                        0.0   \n",
       "3                0                0                        0.0   \n",
       "4                0                0                        NaN   \n",
       "\n",
       "   AMT_REQ_CREDIT_BUREAU_DAY  AMT_REQ_CREDIT_BUREAU_WEEK  \\\n",
       "0                        0.0                         0.0   \n",
       "1                        0.0                         0.0   \n",
       "2                        0.0                         0.0   \n",
       "3                        0.0                         0.0   \n",
       "4                        NaN                         NaN   \n",
       "\n",
       "   AMT_REQ_CREDIT_BUREAU_MON  AMT_REQ_CREDIT_BUREAU_QRT  \\\n",
       "0                        0.0                        0.0   \n",
       "1                        0.0                        0.0   \n",
       "2                        0.0                        1.0   \n",
       "3                        0.0                        0.0   \n",
       "4                        NaN                        NaN   \n",
       "\n",
       "   AMT_REQ_CREDIT_BUREAU_YEAR  \n",
       "0                         0.0  \n",
       "1                         3.0  \n",
       "2                         4.0  \n",
       "3                         3.0  \n",
       "4                         NaN  \n",
       "\n",
       "[5 rows x 121 columns]"
      ]
     },
     "execution_count": 9,
     "metadata": {},
     "output_type": "execute_result"
    }
   ],
   "source": [
    "app_test.head()"
   ]
  },
  {
   "cell_type": "code",
   "execution_count": 10,
   "metadata": {},
   "outputs": [
    {
     "data": {
      "text/plain": [
       "48744"
      ]
     },
     "execution_count": 10,
     "metadata": {},
     "output_type": "execute_result"
    }
   ],
   "source": [
    "len(app_test)"
   ]
  },
  {
   "cell_type": "code",
   "execution_count": 11,
   "metadata": {},
   "outputs": [],
   "source": [
    "# bureauデータの整形\n",
    "\n",
    "bureau_data=pd.read_csv(\"bureau.csv\")\n",
    "# bureau_data.columns\n",
    "\n",
    "bureau_data[\"CREDIT_CNT\"]=1\n",
    "\n",
    "cate_cols=['CREDIT_ACTIVE', 'CREDIT_CURRENCY', 'CREDIT_TYPE']\n",
    "\n",
    "for tgt_col in cate_cols:\n",
    "    tmp_DF=pd.get_dummies(bureau_data[tgt_col])\n",
    "    tmp_DF.columns=[tgt_col+\"_\"+str(x) for x in tmp_DF.columns]\n",
    "    bureau_data=pd.concat([bureau_data,tmp_DF],axis=1)\n",
    "    del bureau_data[tgt_col]\n",
    "\n",
    "del bureau_data[\"SK_ID_BUREAU\"]\n",
    "\n",
    "bureau_data[\"AMT_ANNUITY_BUREAU\"]=bureau_data[\"AMT_ANNUITY\"]\n",
    "del bureau_data[\"AMT_ANNUITY\"]\n",
    "\n",
    "bureau_data2=bureau_data.fillna(0).groupby(\"SK_ID_CURR\").sum().reset_index(drop=False)\n"
   ]
  },
  {
   "cell_type": "code",
   "execution_count": null,
   "metadata": {},
   "outputs": [],
   "source": []
  },
  {
   "cell_type": "code",
   "execution_count": 12,
   "metadata": {},
   "outputs": [],
   "source": [
    "# POS_CASHデータの整形\n",
    "\n",
    "POS_data=pd.read_csv(\"POS_CASH_balance.csv\")\n",
    "\n",
    "#PREV_IDの数、SK_DPDの合計、SK_DPDの回数、分割数の平均\n",
    "tmp_data1=POS_data.groupby([\"SK_ID_CURR\",\"SK_ID_PREV\"]).mean()\n",
    "tmp_data1[\"POS_ID_PREV_CNT\"]=1\n",
    "tmp_data1_2=tmp_data1.groupby([\"SK_ID_CURR\"]).sum()[\"POS_ID_PREV_CNT\"]\n",
    "tmp_data2=POS_data.groupby([\"SK_ID_CURR\"]).sum()[\"SK_DPD\"]\n",
    "POS_data[\"SK_DPD_CNT\"]=POS_data[\"SK_DPD\"].astype(bool).astype(int)\n",
    "tmp_data3=POS_data.groupby([\"SK_ID_CURR\"]).sum()[\"SK_DPD_CNT\"]\n",
    "tmp_data4=tmp_data1.groupby([\"SK_ID_CURR\"]).sum()[\"CNT_INSTALMENT\"]\n",
    "POS_data2=pd.concat([tmp_data1_2,tmp_data2,tmp_data3,tmp_data4],axis=1)\n",
    "POS_data2.columns=['POS_ID_PREV_CNT', 'POS_SK_DPD_SUM', 'POS_SK_DPD_CNT', 'POS_CNT_INSTALMENT_MEAN']\n",
    "POS_data2=POS_data2.reset_index()"
   ]
  },
  {
   "cell_type": "code",
   "execution_count": null,
   "metadata": {},
   "outputs": [],
   "source": []
  },
  {
   "cell_type": "code",
   "execution_count": null,
   "metadata": {},
   "outputs": [],
   "source": []
  },
  {
   "cell_type": "markdown",
   "metadata": {},
   "source": [
    "## ここから"
   ]
  },
  {
   "cell_type": "code",
   "execution_count": 13,
   "metadata": {},
   "outputs": [
    {
     "name": "stdout",
     "output_type": "stream",
     "text": [
      "356255\n"
     ]
    }
   ],
   "source": [
    "app_data=pd.concat([app_train,app_test]).reset_index(drop=True)\n",
    "print(len(app_data))"
   ]
  },
  {
   "cell_type": "code",
   "execution_count": 14,
   "metadata": {},
   "outputs": [],
   "source": [
    "#app_data['CODE_GENDER']=app_data['CODE_GENDER'].replace(\"XNA\",np.nan)#.value_counts()\n",
    "#app_data['ORGANIZATION_TYPE']=app_data['ORGANIZATION_TYPE'].replace(\"XNA\",np.nan)\n",
    "\n",
    "app_data2=app_data.replace(\"XNA\",np.nan)#.replace(\"N\",np.nan)"
   ]
  },
  {
   "cell_type": "code",
   "execution_count": null,
   "metadata": {},
   "outputs": [],
   "source": []
  },
  {
   "cell_type": "raw",
   "metadata": {},
   "source": [
    "方針\n",
    "上で計算できなかった人たちだけのデータフレームを生成し、\n",
    "その人たち向けに、別途モデルを生成する\n",
    "\n",
    "\n",
    "app_dataでモデル作成　割合0.8くらいで多めにとる\n",
    "RFで重要度の高い項目を選択する\n",
    "\n",
    "そのうちで、割合0.9のIDでデータが有効な項目に絞る。\n",
    "欠損のあるIDを除去する→①データ\n",
    "\n",
    "beau2を②データ、POSデータを➂データとする\n",
    "\n",
    "いずれも欠損値はない状態だが、IDが異なる。\n",
    "\n",
    "それぞれのモデルを作成する\n",
    "・①②➂すべてもつ collist_m1\n",
    "・①②のみ\n",
    "・①➂のみ\n",
    "・②➂のみ\n",
    "・①のみ\n",
    "・②のみ\n",
    "・➂のみ\n",
    "・どれももたない(①´で対応)\n",
    "\n",
    "\n"
   ]
  },
  {
   "cell_type": "code",
   "execution_count": null,
   "metadata": {},
   "outputs": [],
   "source": []
  },
  {
   "cell_type": "raw",
   "metadata": {},
   "source": [
    "# 結合\n",
    "app_data2=pd.merge(app_data2,bureau_data2,on=\"SK_ID_CURR\",how=\"outer\")\n",
    "print(len(app_data2))\n",
    "print(len(app_data2.columns))\n",
    "\n",
    "# 結合\n",
    "app_data2=pd.merge(app_data2,POS_data2,on=\"SK_ID_CURR\",how=\"outer\")\n",
    "print(len(app_data2))\n",
    "print(len(app_data2.columns))"
   ]
  },
  {
   "cell_type": "code",
   "execution_count": null,
   "metadata": {},
   "outputs": [],
   "source": []
  },
  {
   "cell_type": "code",
   "execution_count": null,
   "metadata": {},
   "outputs": [],
   "source": []
  },
  {
   "cell_type": "code",
   "execution_count": 15,
   "metadata": {},
   "outputs": [
    {
     "name": "stderr",
     "output_type": "stream",
     "text": [
      "100%|████████████████████████████████████████| 122/122 [00:03<00:00, 35.04it/s]\n"
     ]
    },
    {
     "name": "stdout",
     "output_type": "stream",
     "text": [
      "63\n",
      "352299\n"
     ]
    },
    {
     "name": "stderr",
     "output_type": "stream",
     "text": [
      "100%|████████████████████████████████████████| 122/122 [00:02<00:00, 41.27it/s]\n"
     ]
    },
    {
     "name": "stdout",
     "output_type": "stream",
     "text": [
      "65\n"
     ]
    }
   ],
   "source": [
    "col_lst1=[]\n",
    "for tmp_col in tqdm(app_data2.columns):\n",
    "    if app_data2[tmp_col].value_counts().sum()/len(app_data2) > 0.9:\n",
    "        col_lst1.append(tmp_col)\n",
    "print(len(col_lst1))\n",
    "print(len(app_data2[col_lst1].dropna()))\n",
    "        \n",
    "col_lst1_2=[]\n",
    "for tmp_col in tqdm(app_train.columns):\n",
    "    if app_train[tmp_col].value_counts().sum()/len(app_train) > 0.9:\n",
    "        col_lst1_2.append(tmp_col)\n",
    "print(len(col_lst1_2))"
   ]
  },
  {
   "cell_type": "code",
   "execution_count": 16,
   "metadata": {},
   "outputs": [],
   "source": [
    "#np.setdiff1d(app_data2.columns,imp_cols)"
   ]
  },
  {
   "cell_type": "code",
   "execution_count": 17,
   "metadata": {},
   "outputs": [
    {
     "data": {
      "text/plain": [
       "63"
      ]
     },
     "execution_count": 17,
     "metadata": {},
     "output_type": "execute_result"
    }
   ],
   "source": [
    "col_lst1=grep_not_include(col_lst1,\"TARGET\")\n",
    "len(col_lst1)"
   ]
  },
  {
   "cell_type": "code",
   "execution_count": 18,
   "metadata": {},
   "outputs": [
    {
     "data": {
      "text/plain": [
       "array(['ORGANIZATION_TYPE', 'TARGET'], dtype='<U27')"
      ]
     },
     "execution_count": 18,
     "metadata": {},
     "output_type": "execute_result"
    }
   ],
   "source": [
    "np.setdiff1d(col_lst1_2,col_lst1)"
   ]
  },
  {
   "cell_type": "code",
   "execution_count": null,
   "metadata": {},
   "outputs": [],
   "source": []
  },
  {
   "cell_type": "code",
   "execution_count": 19,
   "metadata": {},
   "outputs": [
    {
     "name": "stdout",
     "output_type": "stream",
     "text": [
      "352299\n",
      "63\n"
     ]
    }
   ],
   "source": [
    "app_data3=app_data2[col_lst1].dropna().reset_index(drop=True)\n",
    "print(len(app_data3))\n",
    "#print(len(app_data2.dropna()))\n",
    "\n",
    "print(len(col_lst1))"
   ]
  },
  {
   "cell_type": "code",
   "execution_count": null,
   "metadata": {},
   "outputs": [],
   "source": []
  },
  {
   "cell_type": "code",
   "execution_count": null,
   "metadata": {},
   "outputs": [],
   "source": []
  },
  {
   "cell_type": "code",
   "execution_count": 20,
   "metadata": {},
   "outputs": [
    {
     "data": {
      "text/html": [
       "<div>\n",
       "<style scoped>\n",
       "    .dataframe tbody tr th:only-of-type {\n",
       "        vertical-align: middle;\n",
       "    }\n",
       "\n",
       "    .dataframe tbody tr th {\n",
       "        vertical-align: top;\n",
       "    }\n",
       "\n",
       "    .dataframe thead th {\n",
       "        text-align: right;\n",
       "    }\n",
       "</style>\n",
       "<table border=\"1\" class=\"dataframe\">\n",
       "  <thead>\n",
       "    <tr style=\"text-align: right;\">\n",
       "      <th></th>\n",
       "      <th>AMT_ANNUITY</th>\n",
       "      <th>AMT_CREDIT</th>\n",
       "      <th>AMT_GOODS_PRICE</th>\n",
       "      <th>AMT_INCOME_TOTAL</th>\n",
       "      <th>CNT_CHILDREN</th>\n",
       "      <th>CNT_FAM_MEMBERS</th>\n",
       "      <th>DAYS_BIRTH</th>\n",
       "      <th>DAYS_EMPLOYED</th>\n",
       "      <th>DAYS_ID_PUBLISH</th>\n",
       "      <th>DAYS_LAST_PHONE_CHANGE</th>\n",
       "      <th>...</th>\n",
       "      <th>NAME_TYPE_SUITE_Other_B</th>\n",
       "      <th>NAME_TYPE_SUITE_Spouse, partner</th>\n",
       "      <th>NAME_TYPE_SUITE_Unaccompanied</th>\n",
       "      <th>WEEKDAY_APPR_PROCESS_START_FRIDAY</th>\n",
       "      <th>WEEKDAY_APPR_PROCESS_START_MONDAY</th>\n",
       "      <th>WEEKDAY_APPR_PROCESS_START_SATURDAY</th>\n",
       "      <th>WEEKDAY_APPR_PROCESS_START_SUNDAY</th>\n",
       "      <th>WEEKDAY_APPR_PROCESS_START_THURSDAY</th>\n",
       "      <th>WEEKDAY_APPR_PROCESS_START_TUESDAY</th>\n",
       "      <th>WEEKDAY_APPR_PROCESS_START_WEDNESDAY</th>\n",
       "    </tr>\n",
       "  </thead>\n",
       "  <tbody>\n",
       "    <tr>\n",
       "      <th>0</th>\n",
       "      <td>24700.5</td>\n",
       "      <td>406597.5</td>\n",
       "      <td>351000.0</td>\n",
       "      <td>202500.0</td>\n",
       "      <td>0</td>\n",
       "      <td>1.0</td>\n",
       "      <td>-9461</td>\n",
       "      <td>-637</td>\n",
       "      <td>-2120</td>\n",
       "      <td>-1134.0</td>\n",
       "      <td>...</td>\n",
       "      <td>0</td>\n",
       "      <td>0</td>\n",
       "      <td>1</td>\n",
       "      <td>0</td>\n",
       "      <td>0</td>\n",
       "      <td>0</td>\n",
       "      <td>0</td>\n",
       "      <td>0</td>\n",
       "      <td>0</td>\n",
       "      <td>1</td>\n",
       "    </tr>\n",
       "    <tr>\n",
       "      <th>1</th>\n",
       "      <td>35698.5</td>\n",
       "      <td>1293502.5</td>\n",
       "      <td>1129500.0</td>\n",
       "      <td>270000.0</td>\n",
       "      <td>0</td>\n",
       "      <td>2.0</td>\n",
       "      <td>-16765</td>\n",
       "      <td>-1188</td>\n",
       "      <td>-291</td>\n",
       "      <td>-828.0</td>\n",
       "      <td>...</td>\n",
       "      <td>0</td>\n",
       "      <td>0</td>\n",
       "      <td>0</td>\n",
       "      <td>0</td>\n",
       "      <td>1</td>\n",
       "      <td>0</td>\n",
       "      <td>0</td>\n",
       "      <td>0</td>\n",
       "      <td>0</td>\n",
       "      <td>0</td>\n",
       "    </tr>\n",
       "    <tr>\n",
       "      <th>2</th>\n",
       "      <td>6750.0</td>\n",
       "      <td>135000.0</td>\n",
       "      <td>135000.0</td>\n",
       "      <td>67500.0</td>\n",
       "      <td>0</td>\n",
       "      <td>1.0</td>\n",
       "      <td>-19046</td>\n",
       "      <td>-225</td>\n",
       "      <td>-2531</td>\n",
       "      <td>-815.0</td>\n",
       "      <td>...</td>\n",
       "      <td>0</td>\n",
       "      <td>0</td>\n",
       "      <td>1</td>\n",
       "      <td>0</td>\n",
       "      <td>1</td>\n",
       "      <td>0</td>\n",
       "      <td>0</td>\n",
       "      <td>0</td>\n",
       "      <td>0</td>\n",
       "      <td>0</td>\n",
       "    </tr>\n",
       "    <tr>\n",
       "      <th>3</th>\n",
       "      <td>29686.5</td>\n",
       "      <td>312682.5</td>\n",
       "      <td>297000.0</td>\n",
       "      <td>135000.0</td>\n",
       "      <td>0</td>\n",
       "      <td>2.0</td>\n",
       "      <td>-19005</td>\n",
       "      <td>-3039</td>\n",
       "      <td>-2437</td>\n",
       "      <td>-617.0</td>\n",
       "      <td>...</td>\n",
       "      <td>0</td>\n",
       "      <td>0</td>\n",
       "      <td>1</td>\n",
       "      <td>0</td>\n",
       "      <td>0</td>\n",
       "      <td>0</td>\n",
       "      <td>0</td>\n",
       "      <td>0</td>\n",
       "      <td>0</td>\n",
       "      <td>1</td>\n",
       "    </tr>\n",
       "    <tr>\n",
       "      <th>4</th>\n",
       "      <td>21865.5</td>\n",
       "      <td>513000.0</td>\n",
       "      <td>513000.0</td>\n",
       "      <td>121500.0</td>\n",
       "      <td>0</td>\n",
       "      <td>1.0</td>\n",
       "      <td>-19932</td>\n",
       "      <td>-3038</td>\n",
       "      <td>-3458</td>\n",
       "      <td>-1106.0</td>\n",
       "      <td>...</td>\n",
       "      <td>0</td>\n",
       "      <td>0</td>\n",
       "      <td>1</td>\n",
       "      <td>0</td>\n",
       "      <td>0</td>\n",
       "      <td>0</td>\n",
       "      <td>0</td>\n",
       "      <td>1</td>\n",
       "      <td>0</td>\n",
       "      <td>0</td>\n",
       "    </tr>\n",
       "  </tbody>\n",
       "</table>\n",
       "<p>5 rows × 97 columns</p>\n",
       "</div>"
      ],
      "text/plain": [
       "   AMT_ANNUITY  AMT_CREDIT  AMT_GOODS_PRICE  AMT_INCOME_TOTAL  CNT_CHILDREN  \\\n",
       "0      24700.5    406597.5         351000.0          202500.0             0   \n",
       "1      35698.5   1293502.5        1129500.0          270000.0             0   \n",
       "2       6750.0    135000.0         135000.0           67500.0             0   \n",
       "3      29686.5    312682.5         297000.0          135000.0             0   \n",
       "4      21865.5    513000.0         513000.0          121500.0             0   \n",
       "\n",
       "   CNT_FAM_MEMBERS  DAYS_BIRTH  DAYS_EMPLOYED  DAYS_ID_PUBLISH  \\\n",
       "0              1.0       -9461           -637            -2120   \n",
       "1              2.0      -16765          -1188             -291   \n",
       "2              1.0      -19046           -225            -2531   \n",
       "3              2.0      -19005          -3039            -2437   \n",
       "4              1.0      -19932          -3038            -3458   \n",
       "\n",
       "   DAYS_LAST_PHONE_CHANGE                  ...                   \\\n",
       "0                 -1134.0                  ...                    \n",
       "1                  -828.0                  ...                    \n",
       "2                  -815.0                  ...                    \n",
       "3                  -617.0                  ...                    \n",
       "4                 -1106.0                  ...                    \n",
       "\n",
       "   NAME_TYPE_SUITE_Other_B  NAME_TYPE_SUITE_Spouse, partner  \\\n",
       "0                        0                                0   \n",
       "1                        0                                0   \n",
       "2                        0                                0   \n",
       "3                        0                                0   \n",
       "4                        0                                0   \n",
       "\n",
       "   NAME_TYPE_SUITE_Unaccompanied  WEEKDAY_APPR_PROCESS_START_FRIDAY  \\\n",
       "0                              1                                  0   \n",
       "1                              0                                  0   \n",
       "2                              1                                  0   \n",
       "3                              1                                  0   \n",
       "4                              1                                  0   \n",
       "\n",
       "   WEEKDAY_APPR_PROCESS_START_MONDAY  WEEKDAY_APPR_PROCESS_START_SATURDAY  \\\n",
       "0                                  0                                    0   \n",
       "1                                  1                                    0   \n",
       "2                                  1                                    0   \n",
       "3                                  0                                    0   \n",
       "4                                  0                                    0   \n",
       "\n",
       "   WEEKDAY_APPR_PROCESS_START_SUNDAY  WEEKDAY_APPR_PROCESS_START_THURSDAY  \\\n",
       "0                                  0                                    0   \n",
       "1                                  0                                    0   \n",
       "2                                  0                                    0   \n",
       "3                                  0                                    0   \n",
       "4                                  0                                    1   \n",
       "\n",
       "   WEEKDAY_APPR_PROCESS_START_TUESDAY  WEEKDAY_APPR_PROCESS_START_WEDNESDAY  \n",
       "0                                   0                                     1  \n",
       "1                                   0                                     0  \n",
       "2                                   0                                     0  \n",
       "3                                   0                                     1  \n",
       "4                                   0                                     0  \n",
       "\n",
       "[5 rows x 97 columns]"
      ]
     },
     "execution_count": 20,
     "metadata": {},
     "output_type": "execute_result"
    }
   ],
   "source": [
    "tgt_col='CODE_GENDER'\n",
    "tmp_DF=pd.get_dummies(app_data3[tgt_col])\n",
    "tmp_DF.columns=[tgt_col+\"_\"+str(x) for x in tmp_DF.columns]\n",
    "\n",
    "app_data3=pd.concat([app_data3,tmp_DF],axis=1)\n",
    "del app_data3[tgt_col]\n",
    "\n",
    "app_data3[\"HOUR_APPR_PROCESS_START\"]=app_data3[\"HOUR_APPR_PROCESS_START\"].replace(0,24).replace(1,25).replace(2,26)\n",
    "\n",
    "for tgt_col in grep_startswith(app_data3.columns,\"NAME_\"):\n",
    "    #print(tgt_col)\n",
    "    tmp_DF=pd.get_dummies(app_data3[tgt_col])\n",
    "    tmp_DF.columns=[tgt_col+\"_\"+str(x) for x in tmp_DF.columns]\n",
    "\n",
    "    app_data3=pd.concat([app_data3,tmp_DF],axis=1)\n",
    "    del app_data3[tgt_col]\n",
    "    \n",
    "tgt_col='WEEKDAY_APPR_PROCESS_START'\n",
    "tmp_DF=pd.get_dummies(app_data3[tgt_col])\n",
    "tmp_DF.columns=[tgt_col+\"_\"+str(x) for x in tmp_DF.columns]\n",
    "\n",
    "app_data3=pd.concat([app_data3,tmp_DF],axis=1)\n",
    "del app_data3[tgt_col]\n",
    "\n",
    "app_data3['FLAG_OWN_CAR']=app_data3['FLAG_OWN_CAR'].replace(\"Y\",1).replace(\"N\",0)\n",
    "app_data3['FLAG_OWN_REALTY']=app_data3['FLAG_OWN_REALTY'].replace(\"Y\",1).replace(\"N\",0)\n",
    "\n",
    "app_data3.head()"
   ]
  },
  {
   "cell_type": "code",
   "execution_count": 21,
   "metadata": {},
   "outputs": [],
   "source": [
    "flag_data=app_data[[\"SK_ID_CURR\",\"TARGET\"]]\n",
    "app_data4=pd.merge(app_data3,flag_data,on=\"SK_ID_CURR\",how=\"left\")\n",
    "#app_data2.columns"
   ]
  },
  {
   "cell_type": "code",
   "execution_count": 22,
   "metadata": {},
   "outputs": [
    {
     "name": "stdout",
     "output_type": "stream",
     "text": [
      "304527\n",
      "NG\n",
      "0.999970445970308\n",
      "0.9998175700328373\n"
     ]
    }
   ],
   "source": [
    "train_data=app_data4[app_data4[\"TARGET\"]==app_data4[\"TARGET\"]]\n",
    "print(len(train_data))\n",
    "\n",
    "train_data_x=train_data.copy()\n",
    "del train_data_x[\"SK_ID_CURR\"]\n",
    "del train_data_x[\"TARGET\"]\n",
    "train_data_y=train_data[\"TARGET\"]\n",
    "\n",
    "try:\n",
    "    del train_data_x[\"ORGANIZATION_TYPE\"]\n",
    "except:\n",
    "    print(\"NG\")\n",
    "    \n",
    "model = RandomForestClassifier(random_state=0,n_estimators=100,n_jobs=-1)\n",
    "model.fit(train_data_x, train_data_y)\n",
    "\n",
    "ypred=model.predict(train_data_x)\n",
    "print(accuracy_score(train_data_y, ypred))\n",
    "print(roc_auc_score(train_data_y, ypred))"
   ]
  },
  {
   "cell_type": "code",
   "execution_count": null,
   "metadata": {},
   "outputs": [],
   "source": []
  },
  {
   "cell_type": "code",
   "execution_count": null,
   "metadata": {},
   "outputs": [],
   "source": []
  },
  {
   "cell_type": "code",
   "execution_count": 23,
   "metadata": {},
   "outputs": [
    {
     "name": "stdout",
     "output_type": "stream",
     "text": [
      "49\n"
     ]
    }
   ],
   "source": [
    "imp_data=pd.DataFrame([train_data_x.columns,model.feature_importances_]).T\n",
    "imp_data.columns=[\"col\",\"imp\"]\n",
    "\n",
    "imp_data=imp_data.sort_values(\"imp\",ascending=False)\n",
    "imp_data=imp_data.reset_index(drop=True)\n",
    "\n",
    "imp_data[\"cumsum\"]=imp_data.cumsum()[\"imp\"]\n",
    "\n",
    "imp_cols=np.array(imp_data[imp_data[\"cumsum\"]<0.95][\"col\"])\n",
    "print(len(imp_cols))\n",
    "\n",
    "#model2 = RandomForestClassifier(random_state=0,n_estimators=100,n_jobs=10)\n",
    "#model2.fit(train_data_x[imp_cols], train_data_y)\n",
    "\n",
    "#ypred2=model2.predict(train_data_x[imp_cols])\n",
    "#print(accuracy_score(train_data_y, ypred2))\n",
    "#print(roc_auc_score(train_data_y, ypred2))"
   ]
  },
  {
   "cell_type": "code",
   "execution_count": 24,
   "metadata": {},
   "outputs": [],
   "source": [
    "imp_cols_=[\"SK_ID_CURR\",\"TARGET\"]\n",
    "imp_cols_.extend(imp_cols)"
   ]
  },
  {
   "cell_type": "code",
   "execution_count": 25,
   "metadata": {},
   "outputs": [
    {
     "data": {
      "text/plain": [
       "51"
      ]
     },
     "execution_count": 25,
     "metadata": {},
     "output_type": "execute_result"
    }
   ],
   "source": [
    "len(imp_cols_)"
   ]
  },
  {
   "cell_type": "code",
   "execution_count": null,
   "metadata": {},
   "outputs": [],
   "source": []
  },
  {
   "cell_type": "code",
   "execution_count": 26,
   "metadata": {},
   "outputs": [],
   "source": [
    "# dropnaしない状態で再度生成"
   ]
  },
  {
   "cell_type": "code",
   "execution_count": 27,
   "metadata": {},
   "outputs": [
    {
     "name": "stdout",
     "output_type": "stream",
     "text": [
      "356255\n",
      "63\n"
     ]
    }
   ],
   "source": [
    "app_data3=app_data2[col_lst1].reset_index(drop=True)\n",
    "print(len(app_data3))\n",
    "#print(len(app_data2.dropna()))\n",
    "\n",
    "print(len(col_lst1))"
   ]
  },
  {
   "cell_type": "code",
   "execution_count": 28,
   "metadata": {},
   "outputs": [
    {
     "data": {
      "text/html": [
       "<div>\n",
       "<style scoped>\n",
       "    .dataframe tbody tr th:only-of-type {\n",
       "        vertical-align: middle;\n",
       "    }\n",
       "\n",
       "    .dataframe tbody tr th {\n",
       "        vertical-align: top;\n",
       "    }\n",
       "\n",
       "    .dataframe thead th {\n",
       "        text-align: right;\n",
       "    }\n",
       "</style>\n",
       "<table border=\"1\" class=\"dataframe\">\n",
       "  <thead>\n",
       "    <tr style=\"text-align: right;\">\n",
       "      <th></th>\n",
       "      <th>AMT_ANNUITY</th>\n",
       "      <th>AMT_CREDIT</th>\n",
       "      <th>AMT_GOODS_PRICE</th>\n",
       "      <th>AMT_INCOME_TOTAL</th>\n",
       "      <th>CNT_CHILDREN</th>\n",
       "      <th>CNT_FAM_MEMBERS</th>\n",
       "      <th>DAYS_BIRTH</th>\n",
       "      <th>DAYS_EMPLOYED</th>\n",
       "      <th>DAYS_ID_PUBLISH</th>\n",
       "      <th>DAYS_LAST_PHONE_CHANGE</th>\n",
       "      <th>...</th>\n",
       "      <th>NAME_TYPE_SUITE_Other_B</th>\n",
       "      <th>NAME_TYPE_SUITE_Spouse, partner</th>\n",
       "      <th>NAME_TYPE_SUITE_Unaccompanied</th>\n",
       "      <th>WEEKDAY_APPR_PROCESS_START_FRIDAY</th>\n",
       "      <th>WEEKDAY_APPR_PROCESS_START_MONDAY</th>\n",
       "      <th>WEEKDAY_APPR_PROCESS_START_SATURDAY</th>\n",
       "      <th>WEEKDAY_APPR_PROCESS_START_SUNDAY</th>\n",
       "      <th>WEEKDAY_APPR_PROCESS_START_THURSDAY</th>\n",
       "      <th>WEEKDAY_APPR_PROCESS_START_TUESDAY</th>\n",
       "      <th>WEEKDAY_APPR_PROCESS_START_WEDNESDAY</th>\n",
       "    </tr>\n",
       "  </thead>\n",
       "  <tbody>\n",
       "    <tr>\n",
       "      <th>0</th>\n",
       "      <td>24700.5</td>\n",
       "      <td>406597.5</td>\n",
       "      <td>351000.0</td>\n",
       "      <td>202500.0</td>\n",
       "      <td>0</td>\n",
       "      <td>1.0</td>\n",
       "      <td>-9461</td>\n",
       "      <td>-637</td>\n",
       "      <td>-2120</td>\n",
       "      <td>-1134.0</td>\n",
       "      <td>...</td>\n",
       "      <td>0</td>\n",
       "      <td>0</td>\n",
       "      <td>1</td>\n",
       "      <td>0</td>\n",
       "      <td>0</td>\n",
       "      <td>0</td>\n",
       "      <td>0</td>\n",
       "      <td>0</td>\n",
       "      <td>0</td>\n",
       "      <td>1</td>\n",
       "    </tr>\n",
       "    <tr>\n",
       "      <th>1</th>\n",
       "      <td>35698.5</td>\n",
       "      <td>1293502.5</td>\n",
       "      <td>1129500.0</td>\n",
       "      <td>270000.0</td>\n",
       "      <td>0</td>\n",
       "      <td>2.0</td>\n",
       "      <td>-16765</td>\n",
       "      <td>-1188</td>\n",
       "      <td>-291</td>\n",
       "      <td>-828.0</td>\n",
       "      <td>...</td>\n",
       "      <td>0</td>\n",
       "      <td>0</td>\n",
       "      <td>0</td>\n",
       "      <td>0</td>\n",
       "      <td>1</td>\n",
       "      <td>0</td>\n",
       "      <td>0</td>\n",
       "      <td>0</td>\n",
       "      <td>0</td>\n",
       "      <td>0</td>\n",
       "    </tr>\n",
       "    <tr>\n",
       "      <th>2</th>\n",
       "      <td>6750.0</td>\n",
       "      <td>135000.0</td>\n",
       "      <td>135000.0</td>\n",
       "      <td>67500.0</td>\n",
       "      <td>0</td>\n",
       "      <td>1.0</td>\n",
       "      <td>-19046</td>\n",
       "      <td>-225</td>\n",
       "      <td>-2531</td>\n",
       "      <td>-815.0</td>\n",
       "      <td>...</td>\n",
       "      <td>0</td>\n",
       "      <td>0</td>\n",
       "      <td>1</td>\n",
       "      <td>0</td>\n",
       "      <td>1</td>\n",
       "      <td>0</td>\n",
       "      <td>0</td>\n",
       "      <td>0</td>\n",
       "      <td>0</td>\n",
       "      <td>0</td>\n",
       "    </tr>\n",
       "    <tr>\n",
       "      <th>3</th>\n",
       "      <td>29686.5</td>\n",
       "      <td>312682.5</td>\n",
       "      <td>297000.0</td>\n",
       "      <td>135000.0</td>\n",
       "      <td>0</td>\n",
       "      <td>2.0</td>\n",
       "      <td>-19005</td>\n",
       "      <td>-3039</td>\n",
       "      <td>-2437</td>\n",
       "      <td>-617.0</td>\n",
       "      <td>...</td>\n",
       "      <td>0</td>\n",
       "      <td>0</td>\n",
       "      <td>1</td>\n",
       "      <td>0</td>\n",
       "      <td>0</td>\n",
       "      <td>0</td>\n",
       "      <td>0</td>\n",
       "      <td>0</td>\n",
       "      <td>0</td>\n",
       "      <td>1</td>\n",
       "    </tr>\n",
       "    <tr>\n",
       "      <th>4</th>\n",
       "      <td>21865.5</td>\n",
       "      <td>513000.0</td>\n",
       "      <td>513000.0</td>\n",
       "      <td>121500.0</td>\n",
       "      <td>0</td>\n",
       "      <td>1.0</td>\n",
       "      <td>-19932</td>\n",
       "      <td>-3038</td>\n",
       "      <td>-3458</td>\n",
       "      <td>-1106.0</td>\n",
       "      <td>...</td>\n",
       "      <td>0</td>\n",
       "      <td>0</td>\n",
       "      <td>1</td>\n",
       "      <td>0</td>\n",
       "      <td>0</td>\n",
       "      <td>0</td>\n",
       "      <td>0</td>\n",
       "      <td>1</td>\n",
       "      <td>0</td>\n",
       "      <td>0</td>\n",
       "    </tr>\n",
       "  </tbody>\n",
       "</table>\n",
       "<p>5 rows × 98 columns</p>\n",
       "</div>"
      ],
      "text/plain": [
       "   AMT_ANNUITY  AMT_CREDIT  AMT_GOODS_PRICE  AMT_INCOME_TOTAL  CNT_CHILDREN  \\\n",
       "0      24700.5    406597.5         351000.0          202500.0             0   \n",
       "1      35698.5   1293502.5        1129500.0          270000.0             0   \n",
       "2       6750.0    135000.0         135000.0           67500.0             0   \n",
       "3      29686.5    312682.5         297000.0          135000.0             0   \n",
       "4      21865.5    513000.0         513000.0          121500.0             0   \n",
       "\n",
       "   CNT_FAM_MEMBERS  DAYS_BIRTH  DAYS_EMPLOYED  DAYS_ID_PUBLISH  \\\n",
       "0              1.0       -9461           -637            -2120   \n",
       "1              2.0      -16765          -1188             -291   \n",
       "2              1.0      -19046           -225            -2531   \n",
       "3              2.0      -19005          -3039            -2437   \n",
       "4              1.0      -19932          -3038            -3458   \n",
       "\n",
       "   DAYS_LAST_PHONE_CHANGE                  ...                   \\\n",
       "0                 -1134.0                  ...                    \n",
       "1                  -828.0                  ...                    \n",
       "2                  -815.0                  ...                    \n",
       "3                  -617.0                  ...                    \n",
       "4                 -1106.0                  ...                    \n",
       "\n",
       "   NAME_TYPE_SUITE_Other_B  NAME_TYPE_SUITE_Spouse, partner  \\\n",
       "0                        0                                0   \n",
       "1                        0                                0   \n",
       "2                        0                                0   \n",
       "3                        0                                0   \n",
       "4                        0                                0   \n",
       "\n",
       "   NAME_TYPE_SUITE_Unaccompanied  WEEKDAY_APPR_PROCESS_START_FRIDAY  \\\n",
       "0                              1                                  0   \n",
       "1                              0                                  0   \n",
       "2                              1                                  0   \n",
       "3                              1                                  0   \n",
       "4                              1                                  0   \n",
       "\n",
       "   WEEKDAY_APPR_PROCESS_START_MONDAY  WEEKDAY_APPR_PROCESS_START_SATURDAY  \\\n",
       "0                                  0                                    0   \n",
       "1                                  1                                    0   \n",
       "2                                  1                                    0   \n",
       "3                                  0                                    0   \n",
       "4                                  0                                    0   \n",
       "\n",
       "   WEEKDAY_APPR_PROCESS_START_SUNDAY  WEEKDAY_APPR_PROCESS_START_THURSDAY  \\\n",
       "0                                  0                                    0   \n",
       "1                                  0                                    0   \n",
       "2                                  0                                    0   \n",
       "3                                  0                                    0   \n",
       "4                                  0                                    1   \n",
       "\n",
       "   WEEKDAY_APPR_PROCESS_START_TUESDAY  WEEKDAY_APPR_PROCESS_START_WEDNESDAY  \n",
       "0                                   0                                     1  \n",
       "1                                   0                                     0  \n",
       "2                                   0                                     0  \n",
       "3                                   0                                     1  \n",
       "4                                   0                                     0  \n",
       "\n",
       "[5 rows x 98 columns]"
      ]
     },
     "execution_count": 28,
     "metadata": {},
     "output_type": "execute_result"
    }
   ],
   "source": [
    "tgt_col='CODE_GENDER'\n",
    "tmp_DF=pd.get_dummies(app_data3[tgt_col])\n",
    "tmp_DF.columns=[tgt_col+\"_\"+str(x) for x in tmp_DF.columns]\n",
    "\n",
    "app_data3=pd.concat([app_data3,tmp_DF],axis=1)\n",
    "del app_data3[tgt_col]\n",
    "\n",
    "app_data3[\"HOUR_APPR_PROCESS_START\"]=app_data3[\"HOUR_APPR_PROCESS_START\"].replace(0,24).replace(1,25).replace(2,26)\n",
    "\n",
    "for tgt_col in grep_startswith(app_data3.columns,\"NAME_\"):\n",
    "    #print(tgt_col)\n",
    "    tmp_DF=pd.get_dummies(app_data3[tgt_col])\n",
    "    tmp_DF.columns=[tgt_col+\"_\"+str(x) for x in tmp_DF.columns]\n",
    "\n",
    "    app_data3=pd.concat([app_data3,tmp_DF],axis=1)\n",
    "    del app_data3[tgt_col]\n",
    "    \n",
    "tgt_col='WEEKDAY_APPR_PROCESS_START'\n",
    "tmp_DF=pd.get_dummies(app_data3[tgt_col])\n",
    "tmp_DF.columns=[tgt_col+\"_\"+str(x) for x in tmp_DF.columns]\n",
    "\n",
    "app_data3=pd.concat([app_data3,tmp_DF],axis=1)\n",
    "del app_data3[tgt_col]\n",
    "\n",
    "app_data3['FLAG_OWN_CAR']=app_data3['FLAG_OWN_CAR'].replace(\"Y\",1).replace(\"N\",0)\n",
    "app_data3['FLAG_OWN_REALTY']=app_data3['FLAG_OWN_REALTY'].replace(\"Y\",1).replace(\"N\",0)\n",
    "\n",
    "app_data3.head()"
   ]
  },
  {
   "cell_type": "code",
   "execution_count": 29,
   "metadata": {},
   "outputs": [],
   "source": [
    "flag_data=app_data[[\"SK_ID_CURR\",\"TARGET\"]]\n",
    "app_data4=pd.merge(app_data3,flag_data,on=\"SK_ID_CURR\",how=\"left\")\n",
    "#app_data2.columns"
   ]
  },
  {
   "cell_type": "code",
   "execution_count": 30,
   "metadata": {},
   "outputs": [
    {
     "name": "stdout",
     "output_type": "stream",
     "text": [
      "356255\n"
     ]
    }
   ],
   "source": [
    "app_data5=app_data4[imp_cols_]\n",
    "print(len(app_data5))"
   ]
  },
  {
   "cell_type": "code",
   "execution_count": null,
   "metadata": {},
   "outputs": [],
   "source": []
  },
  {
   "cell_type": "code",
   "execution_count": 31,
   "metadata": {},
   "outputs": [
    {
     "name": "stderr",
     "output_type": "stream",
     "text": [
      "100%|██████████████████████████████████████████| 51/51 [00:01<00:00, 41.14it/s]\n"
     ]
    },
    {
     "name": "stdout",
     "output_type": "stream",
     "text": [
      "50\n",
      "354228\n"
     ]
    }
   ],
   "source": [
    "col_lst2=[]\n",
    "for tmp_col in tqdm(imp_cols_):\n",
    "    if app_data5[tmp_col].value_counts().sum()/len(app_data5) > 0.9:\n",
    "        col_lst2.append(tmp_col)\n",
    "print(len(col_lst2))\n",
    "print(len(app_data5[col_lst2].dropna()))"
   ]
  },
  {
   "cell_type": "code",
   "execution_count": null,
   "metadata": {},
   "outputs": [],
   "source": []
  },
  {
   "cell_type": "code",
   "execution_count": 32,
   "metadata": {},
   "outputs": [
    {
     "name": "stdout",
     "output_type": "stream",
     "text": [
      "354228\n",
      "50\n"
     ]
    }
   ],
   "source": [
    "app_data6=app_data5[col_lst2].dropna().reset_index(drop=True)\n",
    "print(len(app_data6))\n",
    "#print(len(app_data2.dropna()))\n",
    "\n",
    "print(len(col_lst2))"
   ]
  },
  {
   "cell_type": "code",
   "execution_count": 33,
   "metadata": {},
   "outputs": [],
   "source": [
    "# app_data6　これが①データ"
   ]
  },
  {
   "cell_type": "raw",
   "metadata": {},
   "source": [
    "・①②➂すべてもつデータの生成"
   ]
  },
  {
   "cell_type": "code",
   "execution_count": null,
   "metadata": {},
   "outputs": [],
   "source": []
  },
  {
   "cell_type": "code",
   "execution_count": 34,
   "metadata": {},
   "outputs": [
    {
     "name": "stdout",
     "output_type": "stream",
     "text": [
      "288433\n",
      "90\n"
     ]
    }
   ],
   "source": [
    "# 結合\n",
    "merged_data1=pd.merge(app_data6,bureau_data2,on=\"SK_ID_CURR\",how=\"inner\")\n",
    "merged_data1=pd.merge(merged_data1,POS_data2,on=\"SK_ID_CURR\",how=\"inner\")\n",
    "\n",
    "print(len(merged_data1))\n",
    "print(len(merged_data1.columns))\n",
    "\n",
    "merged_data2=pd.merge(app_data6,bureau_data2,on=\"SK_ID_CURR\",how=\"inner\")\n",
    "merged_data3=pd.merge(app_data6,POS_data2,on=\"SK_ID_CURR\",how=\"inner\")"
   ]
  },
  {
   "cell_type": "code",
   "execution_count": 35,
   "metadata": {},
   "outputs": [
    {
     "name": "stdout",
     "output_type": "stream",
     "text": [
      "288433\n",
      "304162\n",
      "335583\n"
     ]
    }
   ],
   "source": [
    "print(len(merged_data1))\n",
    "print(len(merged_data2))\n",
    "print(len(merged_data3))\n"
   ]
  },
  {
   "cell_type": "code",
   "execution_count": 36,
   "metadata": {},
   "outputs": [],
   "source": [
    "merged_data1=pd.merge(merged_data1,flag_data,on=\"SK_ID_CURR\",how=\"left\")\n",
    "merged_data2=pd.merge(merged_data2,flag_data,on=\"SK_ID_CURR\",how=\"left\")\n",
    "merged_data3=pd.merge(merged_data3,flag_data,on=\"SK_ID_CURR\",how=\"left\")"
   ]
  },
  {
   "cell_type": "code",
   "execution_count": null,
   "metadata": {},
   "outputs": [],
   "source": []
  },
  {
   "cell_type": "code",
   "execution_count": 37,
   "metadata": {},
   "outputs": [
    {
     "name": "stdout",
     "output_type": "stream",
     "text": [
      "246869\n",
      "NG\n",
      "0.9999473404923259\n",
      "0.9996634739839503\n"
     ]
    }
   ],
   "source": [
    "train_data=merged_data1[merged_data1[\"TARGET\"]==merged_data1[\"TARGET\"]]\n",
    "print(len(train_data))\n",
    "\n",
    "train_data_x=train_data.copy()\n",
    "del train_data_x[\"SK_ID_CURR\"]\n",
    "del train_data_x[\"TARGET\"]\n",
    "train_data_y=train_data[\"TARGET\"]\n",
    "\n",
    "try:\n",
    "    del train_data_x[\"ORGANIZATION_TYPE\"]\n",
    "except:\n",
    "    print(\"NG\")\n",
    "    \n",
    "model = RandomForestClassifier(random_state=0,n_estimators=100,n_jobs=-1)\n",
    "model.fit(train_data_x, train_data_y)\n",
    "\n",
    "ypred=model.predict(train_data_x)\n",
    "print(accuracy_score(train_data_y, ypred))\n",
    "print(roc_auc_score(train_data_y, ypred))"
   ]
  },
  {
   "cell_type": "code",
   "execution_count": 38,
   "metadata": {},
   "outputs": [
    {
     "name": "stdout",
     "output_type": "stream",
     "text": [
      "41564\n",
      "41564\n"
     ]
    }
   ],
   "source": [
    "eval_data=merged_data1[merged_data1[\"TARGET\"]!=merged_data1[\"TARGET\"]].copy()\n",
    "print(len(eval_data))\n",
    "eval_data_x=eval_data.copy()\n",
    "del eval_data_x[\"TARGET\"]\n",
    "del eval_data_x[\"SK_ID_CURR\"]\n",
    "ypred=model.predict_proba(eval_data_x)\n",
    "\n",
    "submit_data1=pd.concat([eval_data.reset_index(drop=True)[\"SK_ID_CURR\"],pd.DataFrame(ypred[:,1])],axis=1)\n",
    "submit_data1.columns=[\"SK_ID_CURR\",\"TARGET\"]\n",
    "print(len(submit_data1))"
   ]
  },
  {
   "cell_type": "code",
   "execution_count": 39,
   "metadata": {},
   "outputs": [
    {
     "name": "stdout",
     "output_type": "stream",
     "text": [
      "261894\n",
      "NG\n",
      "0.9999656349515453\n",
      "0.9997781502662197\n"
     ]
    }
   ],
   "source": [
    "train_data=merged_data2[merged_data2[\"TARGET\"]==merged_data2[\"TARGET\"]]\n",
    "print(len(train_data))\n",
    "\n",
    "train_data_x=train_data.copy()\n",
    "del train_data_x[\"SK_ID_CURR\"]\n",
    "del train_data_x[\"TARGET\"]\n",
    "train_data_y=train_data[\"TARGET\"]\n",
    "\n",
    "try:\n",
    "    del train_data_x[\"ORGANIZATION_TYPE\"]\n",
    "except:\n",
    "    print(\"NG\")\n",
    "    \n",
    "model = RandomForestClassifier(random_state=0,n_estimators=100,n_jobs=-1)\n",
    "model.fit(train_data_x, train_data_y)\n",
    "\n",
    "ypred=model.predict(train_data_x)\n",
    "print(accuracy_score(train_data_y, ypred))\n",
    "print(roc_auc_score(train_data_y, ypred))"
   ]
  },
  {
   "cell_type": "code",
   "execution_count": 40,
   "metadata": {},
   "outputs": [
    {
     "name": "stdout",
     "output_type": "stream",
     "text": [
      "42268\n",
      "42268\n"
     ]
    }
   ],
   "source": [
    "eval_data=merged_data2[merged_data2[\"TARGET\"]!=merged_data2[\"TARGET\"]].copy()\n",
    "print(len(eval_data))\n",
    "eval_data_x=eval_data.copy()\n",
    "del eval_data_x[\"TARGET\"]\n",
    "del eval_data_x[\"SK_ID_CURR\"]\n",
    "ypred=model.predict_proba(eval_data_x)\n",
    "\n",
    "submit_data2=pd.concat([eval_data.reset_index(drop=True)[\"SK_ID_CURR\"],pd.DataFrame(ypred[:,1])],axis=1)\n",
    "submit_data2.columns=[\"SK_ID_CURR\",\"TARGET\"]\n",
    "print(len(submit_data2))"
   ]
  },
  {
   "cell_type": "code",
   "execution_count": 41,
   "metadata": {},
   "outputs": [
    {
     "name": "stdout",
     "output_type": "stream",
     "text": [
      "287813\n",
      "NG\n",
      "0.9999478828266966\n",
      "0.9996810410819086\n"
     ]
    }
   ],
   "source": [
    "train_data=merged_data3[merged_data3[\"TARGET\"]==merged_data3[\"TARGET\"]]\n",
    "print(len(train_data))\n",
    "\n",
    "train_data_x=train_data.copy()\n",
    "del train_data_x[\"SK_ID_CURR\"]\n",
    "del train_data_x[\"TARGET\"]\n",
    "train_data_y=train_data[\"TARGET\"]\n",
    "\n",
    "try:\n",
    "    del train_data_x[\"ORGANIZATION_TYPE\"]\n",
    "except:\n",
    "    print(\"NG\")\n",
    "    \n",
    "model = RandomForestClassifier(random_state=0,n_estimators=100,n_jobs=-1)\n",
    "model.fit(train_data_x, train_data_y)\n",
    "\n",
    "ypred=model.predict(train_data_x)\n",
    "print(accuracy_score(train_data_y, ypred))\n",
    "print(roc_auc_score(train_data_y, ypred))"
   ]
  },
  {
   "cell_type": "code",
   "execution_count": 42,
   "metadata": {},
   "outputs": [
    {
     "name": "stdout",
     "output_type": "stream",
     "text": [
      "47770\n",
      "47770\n"
     ]
    }
   ],
   "source": [
    "eval_data=merged_data3[merged_data3[\"TARGET\"]!=merged_data3[\"TARGET\"]].copy()\n",
    "print(len(eval_data))\n",
    "eval_data_x=eval_data.copy()\n",
    "del eval_data_x[\"TARGET\"]\n",
    "del eval_data_x[\"SK_ID_CURR\"]\n",
    "ypred=model.predict_proba(eval_data_x)\n",
    "\n",
    "submit_data3=pd.concat([eval_data.reset_index(drop=True)[\"SK_ID_CURR\"],pd.DataFrame(ypred[:,1])],axis=1)\n",
    "submit_data3.columns=[\"SK_ID_CURR\",\"TARGET\"]\n",
    "print(len(submit_data3))"
   ]
  },
  {
   "cell_type": "code",
   "execution_count": null,
   "metadata": {},
   "outputs": [],
   "source": []
  },
  {
   "cell_type": "code",
   "execution_count": 43,
   "metadata": {},
   "outputs": [],
   "source": [
    "diff_2_1=np.setdiff1d(submit_data2[\"SK_ID_CURR\"],submit_data1[\"SK_ID_CURR\"])\n",
    "diff_3_1=np.setdiff1d(submit_data3[\"SK_ID_CURR\"],submit_data1[\"SK_ID_CURR\"])"
   ]
  },
  {
   "cell_type": "code",
   "execution_count": 44,
   "metadata": {},
   "outputs": [
    {
     "name": "stdout",
     "output_type": "stream",
     "text": [
      "704\n",
      "6206\n"
     ]
    }
   ],
   "source": [
    "print(len(diff_2_1))\n",
    "print(len(diff_3_1))"
   ]
  },
  {
   "cell_type": "code",
   "execution_count": 45,
   "metadata": {},
   "outputs": [],
   "source": [
    "submit_data2_2=submit_data2.set_index(\"SK_ID_CURR\").ix[diff_2_1].reset_index()\n",
    "submit_data3_2=submit_data3.set_index(\"SK_ID_CURR\").ix[diff_3_1].reset_index()\n"
   ]
  },
  {
   "cell_type": "code",
   "execution_count": 46,
   "metadata": {},
   "outputs": [],
   "source": [
    "submit_data=pd.concat([submit_data1,submit_data2_2,submit_data3_2])"
   ]
  },
  {
   "cell_type": "code",
   "execution_count": 47,
   "metadata": {},
   "outputs": [
    {
     "data": {
      "text/plain": [
       "48474"
      ]
     },
     "execution_count": 47,
     "metadata": {},
     "output_type": "execute_result"
    }
   ],
   "source": [
    "len(submit_data)"
   ]
  },
  {
   "cell_type": "code",
   "execution_count": 48,
   "metadata": {},
   "outputs": [
    {
     "data": {
      "text/plain": [
       "270"
      ]
     },
     "execution_count": 48,
     "metadata": {},
     "output_type": "execute_result"
    }
   ],
   "source": [
    "len(np.setdiff1d(app_test[\"SK_ID_CURR\"],submit_data[\"SK_ID_CURR\"]))"
   ]
  },
  {
   "cell_type": "code",
   "execution_count": 49,
   "metadata": {},
   "outputs": [
    {
     "data": {
      "text/plain": [
       "<matplotlib.axes._subplots.AxesSubplot at 0x8e15973e80>"
      ]
     },
     "execution_count": 49,
     "metadata": {},
     "output_type": "execute_result"
    },
    {
     "data": {
      "image/png": "[encoded data removed]",
      "text/plain": [
       "<matplotlib.figure.Figure at 0x8e12e82b38>"
      ]
     },
     "metadata": {},
     "output_type": "display_data"
    }
   ],
   "source": [
    "submit_data[\"TARGET\"].hist()"
   ]
  },
  {
   "cell_type": "code",
   "execution_count": null,
   "metadata": {},
   "outputs": [],
   "source": []
  },
  {
   "cell_type": "code",
   "execution_count": 50,
   "metadata": {},
   "outputs": [
    {
     "data": {
      "text/plain": [
       "270"
      ]
     },
     "execution_count": 50,
     "metadata": {},
     "output_type": "execute_result"
    }
   ],
   "source": [
    "# 未提出IDのデータを抽出\n",
    "submit_data_tmp=submit_data.copy()\n",
    "submit_data_tmp[\"submit\"]=1\n",
    "#submit_data_tmp=submit_data_tmp[[\"SK_ID_CURR\",\"submit\"]].copy()\n",
    "app_data_tmp=pd.merge(app_data,submit_data_tmp[[\"SK_ID_CURR\",\"submit\"]],on=\"SK_ID_CURR\",how=\"outer\")\n",
    "app_data_nosubmit=app_data_tmp[(app_data_tmp[\"TARGET\"]!=app_data_tmp[\"TARGET\"])&(app_data_tmp[\"submit\"]!=app_data_tmp[\"submit\"])]\n",
    "app_data_nosubmit=app_data_nosubmit.replace(\"XNA\",np.nan)\n",
    "len(app_data_nosubmit)"
   ]
  },
  {
   "cell_type": "code",
   "execution_count": 51,
   "metadata": {},
   "outputs": [
    {
     "data": {
      "text/plain": [
       "270"
      ]
     },
     "execution_count": 51,
     "metadata": {},
     "output_type": "execute_result"
    }
   ],
   "source": [
    "len(app_data[app_data[\"TARGET\"]!=app_data[\"TARGET\"]])-len(submit_data)"
   ]
  },
  {
   "cell_type": "raw",
   "metadata": {},
   "source": [
    "app_data2[\"aval_flag\"]=1\n",
    "app_data3=app_data.copy()\n",
    "app_data3=pd.merge(app_data3,app_data2[[\"SK_ID_CURR\",\"aval_flag\"]],on=\"SK_ID_CURR\",how=\"outer\")\n",
    "app_data3=pd.merge(app_data3,submit_data_tmp[[\"SK_ID_CURR\",\"aval_flag\"]],on=\"SK_ID_CURR\",how=\"outer\")\n",
    "app_data3=app_data3[app_data3[\"aval_flag\"]!=app_data3[\"aval_flag\"]]\n",
    "\n",
    "print(len(app_data3))\n",
    "print(len(app_data)-len(app_data2))\n",
    "print(app_data3[\"TARGET\"].mean())"
   ]
  },
  {
   "cell_type": "code",
   "execution_count": null,
   "metadata": {},
   "outputs": [],
   "source": []
  },
  {
   "cell_type": "code",
   "execution_count": 52,
   "metadata": {},
   "outputs": [],
   "source": [
    "# 2周目"
   ]
  },
  {
   "cell_type": "code",
   "execution_count": 53,
   "metadata": {},
   "outputs": [
    {
     "name": "stdout",
     "output_type": "stream",
     "text": [
      "356255\n",
      "158\n",
      "356255\n",
      "162\n"
     ]
    }
   ],
   "source": [
    "app_data2=app_data.replace(\"XNA\",np.nan)#.replace(\"N\",np.nan)\n",
    "# 結合\n",
    "app_data2=pd.merge(app_data2,bureau_data2,on=\"SK_ID_CURR\",how=\"outer\")\n",
    "print(len(app_data2))\n",
    "print(len(app_data2.columns))\n",
    "\n",
    "\n",
    "# 結合\n",
    "app_data2=pd.merge(app_data2,POS_data2,on=\"SK_ID_CURR\",how=\"outer\")\n",
    "print(len(app_data2))\n",
    "print(len(app_data2.columns))"
   ]
  },
  {
   "cell_type": "code",
   "execution_count": 54,
   "metadata": {},
   "outputs": [],
   "source": [
    "app_data2=app_data.replace(\"XNA\",np.nan)#.replace(\"N\",np.nan)"
   ]
  },
  {
   "cell_type": "code",
   "execution_count": 55,
   "metadata": {},
   "outputs": [
    {
     "name": "stderr",
     "output_type": "stream",
     "text": [
      "100%|███████████████████████████████████████| 123/123 [00:00<00:00, 315.76it/s]\n"
     ]
    },
    {
     "name": "stdout",
     "output_type": "stream",
     "text": [
      "234\n"
     ]
    }
   ],
   "source": [
    "col_lst2=[]\n",
    "for tmp_col in tqdm(app_data_nosubmit.columns):\n",
    "#    if app_data_nosubmit[tmp_col].value_counts().sum()/len(app_data_nosubmit) > 0.95:\n",
    "    if app_data_nosubmit[tmp_col].value_counts().sum()/len(app_data_nosubmit) > 0.9:\n",
    "        col_lst2.append(tmp_col)\n",
    "        \n",
    "print(len(app_data_nosubmit[col_lst2].dropna()))"
   ]
  },
  {
   "cell_type": "code",
   "execution_count": 56,
   "metadata": {},
   "outputs": [
    {
     "data": {
      "text/plain": [
       "array([], dtype='<U27')"
      ]
     },
     "execution_count": 56,
     "metadata": {},
     "output_type": "execute_result"
    }
   ],
   "source": [
    "np.setdiff1d(col_lst2,col_lst1)"
   ]
  },
  {
   "cell_type": "code",
   "execution_count": 57,
   "metadata": {},
   "outputs": [
    {
     "data": {
      "text/plain": [
       "59"
      ]
     },
     "execution_count": 57,
     "metadata": {},
     "output_type": "execute_result"
    }
   ],
   "source": [
    "col_lst2=grep_not_include(col_lst2,\"TARGET\")\n",
    "len(col_lst2)"
   ]
  },
  {
   "cell_type": "code",
   "execution_count": null,
   "metadata": {},
   "outputs": [],
   "source": []
  },
  {
   "cell_type": "code",
   "execution_count": 58,
   "metadata": {},
   "outputs": [
    {
     "name": "stdout",
     "output_type": "stream",
     "text": [
      "60\n",
      "353349\n"
     ]
    }
   ],
   "source": [
    "app_data2=app_data[col_lst2].dropna().reset_index(drop=True)\n",
    "#flag_data=app_data[[\"SK_ID_CURR\",\"TARGET\"]]\n",
    "app_data2=pd.merge(app_data2,flag_data,on=\"SK_ID_CURR\",how=\"left\")\n",
    "\n",
    "print(len(app_data2.columns))\n",
    "print(len(app_data2))"
   ]
  },
  {
   "cell_type": "code",
   "execution_count": null,
   "metadata": {},
   "outputs": [],
   "source": []
  },
  {
   "cell_type": "code",
   "execution_count": 59,
   "metadata": {},
   "outputs": [
    {
     "name": "stdout",
     "output_type": "stream",
     "text": [
      "305548\n"
     ]
    },
    {
     "data": {
      "text/plain": [
       "RandomForestClassifier(bootstrap=True, class_weight=None, criterion='gini',\n",
       "            max_depth=None, max_features='auto', max_leaf_nodes=None,\n",
       "            min_impurity_decrease=0.0, min_impurity_split=None,\n",
       "            min_samples_leaf=1, min_samples_split=2,\n",
       "            min_weight_fraction_leaf=0.0, n_estimators=100, n_jobs=10,\n",
       "            oob_score=False, random_state=0, verbose=0, warm_start=False)"
      ]
     },
     "execution_count": 59,
     "metadata": {},
     "output_type": "execute_result"
    }
   ],
   "source": [
    "tgt_col='CODE_GENDER'\n",
    "tmp_DF=pd.get_dummies(app_data2[tgt_col])\n",
    "tmp_DF.columns=[tgt_col+\"_\"+str(x) for x in tmp_DF.columns]\n",
    "\n",
    "app_data2=pd.concat([app_data2,tmp_DF],axis=1)\n",
    "del app_data2[tgt_col]\n",
    "\n",
    "app_data2[\"HOUR_APPR_PROCESS_START\"]=app_data2[\"HOUR_APPR_PROCESS_START\"].replace(0,24).replace(1,25).replace(2,26)\n",
    "\n",
    "for tgt_col in grep_startswith(app_data2.columns,\"NAME_\"):\n",
    "    #print(tgt_col)\n",
    "    tmp_DF=pd.get_dummies(app_data2[tgt_col])\n",
    "    tmp_DF.columns=[tgt_col+\"_\"+str(x) for x in tmp_DF.columns]\n",
    "\n",
    "    app_data2=pd.concat([app_data2,tmp_DF],axis=1)\n",
    "    del app_data2[tgt_col]\n",
    "    \n",
    "tgt_col='WEEKDAY_APPR_PROCESS_START'\n",
    "tmp_DF=pd.get_dummies(app_data2[tgt_col])\n",
    "tmp_DF.columns=[tgt_col+\"_\"+str(x) for x in tmp_DF.columns]\n",
    "\n",
    "app_data2=pd.concat([app_data2,tmp_DF],axis=1)\n",
    "del app_data2[tgt_col]\n",
    "\n",
    "app_data2['FLAG_OWN_CAR']=app_data2['FLAG_OWN_CAR'].replace(\"Y\",1).replace(\"N\",0)\n",
    "app_data2['FLAG_OWN_REALTY']=app_data2['FLAG_OWN_REALTY'].replace(\"Y\",1).replace(\"N\",0)\n",
    "\n",
    "train_data=app_data2[app_data2[\"TARGET\"]==app_data2[\"TARGET\"]]\n",
    "print(len(train_data))\n",
    "\n",
    "train_data_x=train_data.copy()\n",
    "del train_data_x[\"SK_ID_CURR\"]\n",
    "del train_data_x[\"TARGET\"]\n",
    "train_data_y=train_data[\"TARGET\"]\n",
    "\n",
    "model = RandomForestClassifier(random_state=0,n_estimators=100,n_jobs=10)\n",
    "model.fit(train_data_x, train_data_y)"
   ]
  },
  {
   "cell_type": "raw",
   "metadata": {},
   "source": [
    "imp_data=pd.DataFrame([train_data_x.columns,model.feature_importances_]).T\n",
    "imp_data.columns=[\"col\",\"imp\"]\n",
    "\n",
    "imp_data=imp_data.sort_values(\"imp\",ascending=False)\n",
    "imp_data=imp_data.reset_index(drop=True)\n",
    "\n",
    "imp_data[\"cumsum\"]=imp_data.cumsum()[\"imp\"]\n",
    "\n",
    "imp_cols=np.array(imp_data[imp_data[\"cumsum\"]<0.8][\"col\"])\n",
    "print(len(imp_cols))\n",
    "\n",
    "model2 = RandomForestClassifier(random_state=0,n_estimators=100,n_jobs=10)\n",
    "model2.fit(train_data_x[imp_cols], train_data_y)"
   ]
  },
  {
   "cell_type": "code",
   "execution_count": 60,
   "metadata": {},
   "outputs": [
    {
     "name": "stdout",
     "output_type": "stream",
     "text": [
      "47801\n"
     ]
    }
   ],
   "source": [
    "eval_data=app_data2[app_data2[\"TARGET\"]!=app_data2[\"TARGET\"]].copy()\n",
    "print(len(eval_data))\n",
    "eval_data_x=eval_data.copy()\n",
    "del eval_data_x[\"TARGET\"]\n",
    "del eval_data_x[\"SK_ID_CURR\"]\n",
    "ypred=model.predict_proba(eval_data_x)\n",
    "#ypred2=model2.predict_proba(eval_data_x[imp_cols])"
   ]
  },
  {
   "cell_type": "code",
   "execution_count": 61,
   "metadata": {},
   "outputs": [
    {
     "name": "stdout",
     "output_type": "stream",
     "text": [
      "47801\n"
     ]
    }
   ],
   "source": [
    "submit_data_tmp=pd.concat([eval_data.reset_index(drop=True)[\"SK_ID_CURR\"],pd.DataFrame(ypred[:,1])],axis=1)\n",
    "submit_data_tmp.columns=[\"SK_ID_CURR\",\"TARGET\"]\n",
    "#submit_data.to_csv(\"submit_data_0527_01.csv\",index=False,header=True)\n",
    "print(len(submit_data_tmp))"
   ]
  },
  {
   "cell_type": "code",
   "execution_count": 62,
   "metadata": {},
   "outputs": [],
   "source": [
    "submit_data4=pd.merge(app_data_nosubmit[[\"SK_ID_CURR\"]],submit_data_tmp,on=\"SK_ID_CURR\",how=\"inner\")"
   ]
  },
  {
   "cell_type": "code",
   "execution_count": 63,
   "metadata": {},
   "outputs": [
    {
     "name": "stdout",
     "output_type": "stream",
     "text": [
      "270\n",
      "48474\n",
      "234\n",
      "48708\n",
      "48744\n",
      "36\n"
     ]
    }
   ],
   "source": [
    "print(len(app_data_nosubmit))\n",
    "print(len(submit_data))\n",
    "print(len(submit_data4))\n",
    "print(len(submit_data)+len(submit_data4))\n",
    "print(len(app_test))\n",
    "\n",
    "print(len(app_test)-len(submit_data)-len(submit_data4))"
   ]
  },
  {
   "cell_type": "code",
   "execution_count": 64,
   "metadata": {},
   "outputs": [
    {
     "data": {
      "text/plain": [
       "<matplotlib.axes._subplots.AxesSubplot at 0x8e13108cc0>"
      ]
     },
     "execution_count": 64,
     "metadata": {},
     "output_type": "execute_result"
    },
    {
     "data": {
      "image/png": "[encoded data removed]",
      "text/plain": [
       "<matplotlib.figure.Figure at 0x8e1310d358>"
      ]
     },
     "metadata": {},
     "output_type": "display_data"
    }
   ],
   "source": [
    "submit_data4[\"TARGET\"].hist()"
   ]
  },
  {
   "cell_type": "code",
   "execution_count": null,
   "metadata": {},
   "outputs": [],
   "source": []
  },
  {
   "cell_type": "code",
   "execution_count": 65,
   "metadata": {},
   "outputs": [],
   "source": [
    "# 未提出IDのデータを抽出\n",
    "submit_data_tmp=pd.concat([submit_data,submit_data4])\n",
    "submit_data_tmp[\"submit\"]=1\n",
    "#submit_data_tmp=submit_data_tmp[[\"SK_ID_CURR\",\"submit\"]].copy()\n",
    "app_data_tmp=pd.merge(app_data,submit_data_tmp[[\"SK_ID_CURR\",\"submit\"]],on=\"SK_ID_CURR\",how=\"outer\")\n",
    "app_data_nosubmit=app_data_tmp[(app_data_tmp[\"TARGET\"]!=app_data_tmp[\"TARGET\"])&(app_data_tmp[\"submit\"]!=app_data_tmp[\"submit\"])]\n",
    "app_data_nosubmit=app_data_nosubmit.replace(\"XNA\",np.nan)"
   ]
  },
  {
   "cell_type": "code",
   "execution_count": 66,
   "metadata": {},
   "outputs": [
    {
     "data": {
      "text/plain": [
       "36"
      ]
     },
     "execution_count": 66,
     "metadata": {},
     "output_type": "execute_result"
    }
   ],
   "source": [
    "len(app_data_nosubmit)"
   ]
  },
  {
   "cell_type": "code",
   "execution_count": null,
   "metadata": {},
   "outputs": [],
   "source": []
  },
  {
   "cell_type": "code",
   "execution_count": null,
   "metadata": {},
   "outputs": [],
   "source": []
  },
  {
   "cell_type": "code",
   "execution_count": 67,
   "metadata": {},
   "outputs": [],
   "source": [
    "# 3周目"
   ]
  },
  {
   "cell_type": "code",
   "execution_count": 68,
   "metadata": {},
   "outputs": [
    {
     "name": "stderr",
     "output_type": "stream",
     "text": [
      "100%|███████████████████████████████████████| 123/123 [00:00<00:00, 675.35it/s]\n"
     ]
    },
    {
     "name": "stdout",
     "output_type": "stream",
     "text": [
      "36\n",
      "60\n"
     ]
    }
   ],
   "source": [
    "col_lst3=[]\n",
    "for tmp_col in tqdm(app_data_nosubmit.columns):\n",
    "    if app_data_nosubmit[tmp_col].value_counts().sum()/len(app_data_nosubmit) > 0.9:\n",
    "        col_lst3.append(tmp_col)\n",
    "        \n",
    "print(len(app_data_nosubmit[col_lst3].dropna()))\n",
    "print(len(col_lst3))"
   ]
  },
  {
   "cell_type": "code",
   "execution_count": 69,
   "metadata": {},
   "outputs": [
    {
     "data": {
      "text/plain": [
       "array([], dtype='<U27')"
      ]
     },
     "execution_count": 69,
     "metadata": {},
     "output_type": "execute_result"
    }
   ],
   "source": [
    "np.setdiff1d(col_lst3,col_lst1)"
   ]
  },
  {
   "cell_type": "code",
   "execution_count": null,
   "metadata": {},
   "outputs": [],
   "source": []
  },
  {
   "cell_type": "code",
   "execution_count": 70,
   "metadata": {},
   "outputs": [
    {
     "name": "stdout",
     "output_type": "stream",
     "text": [
      "61\n",
      "354926\n"
     ]
    }
   ],
   "source": [
    "app_data2=app_data[col_lst3].dropna().reset_index(drop=True)\n",
    "flag_data=app_data[[\"SK_ID_CURR\",\"TARGET\"]]\n",
    "app_data2=pd.merge(app_data2,flag_data,on=\"SK_ID_CURR\",how=\"left\")\n",
    "\n",
    "print(len(app_data2.columns))\n",
    "print(len(app_data2))"
   ]
  },
  {
   "cell_type": "code",
   "execution_count": 71,
   "metadata": {},
   "outputs": [
    {
     "name": "stdout",
     "output_type": "stream",
     "text": [
      "306211\n"
     ]
    },
    {
     "data": {
      "text/plain": [
       "RandomForestClassifier(bootstrap=True, class_weight=None, criterion='gini',\n",
       "            max_depth=None, max_features='auto', max_leaf_nodes=None,\n",
       "            min_impurity_decrease=0.0, min_impurity_split=None,\n",
       "            min_samples_leaf=1, min_samples_split=2,\n",
       "            min_weight_fraction_leaf=0.0, n_estimators=100, n_jobs=10,\n",
       "            oob_score=False, random_state=0, verbose=0, warm_start=False)"
      ]
     },
     "execution_count": 71,
     "metadata": {},
     "output_type": "execute_result"
    }
   ],
   "source": [
    "tgt_col='CODE_GENDER'\n",
    "tmp_DF=pd.get_dummies(app_data2[tgt_col])\n",
    "tmp_DF.columns=[tgt_col+\"_\"+str(x) for x in tmp_DF.columns]\n",
    "\n",
    "app_data2=pd.concat([app_data2,tmp_DF],axis=1)\n",
    "del app_data2[tgt_col]\n",
    "\n",
    "app_data2[\"HOUR_APPR_PROCESS_START\"]=app_data2[\"HOUR_APPR_PROCESS_START\"].replace(0,24).replace(1,25).replace(2,26)\n",
    "\n",
    "for tgt_col in grep_startswith(app_data2.columns,\"NAME_\"):\n",
    "    #print(tgt_col)\n",
    "    tmp_DF=pd.get_dummies(app_data2[tgt_col])\n",
    "    tmp_DF.columns=[tgt_col+\"_\"+str(x) for x in tmp_DF.columns]\n",
    "\n",
    "    app_data2=pd.concat([app_data2,tmp_DF],axis=1)\n",
    "    del app_data2[tgt_col]\n",
    "    \n",
    "tgt_col='WEEKDAY_APPR_PROCESS_START'\n",
    "tmp_DF=pd.get_dummies(app_data2[tgt_col])\n",
    "tmp_DF.columns=[tgt_col+\"_\"+str(x) for x in tmp_DF.columns]\n",
    "\n",
    "app_data2=pd.concat([app_data2,tmp_DF],axis=1)\n",
    "del app_data2[tgt_col]\n",
    "\n",
    "app_data2['FLAG_OWN_CAR']=app_data2['FLAG_OWN_CAR'].replace(\"Y\",1).replace(\"N\",0)\n",
    "app_data2['FLAG_OWN_REALTY']=app_data2['FLAG_OWN_REALTY'].replace(\"Y\",1).replace(\"N\",0)\n",
    "\n",
    "train_data=app_data2[app_data2[\"TARGET\"]==app_data2[\"TARGET\"]]\n",
    "print(len(train_data))\n",
    "\n",
    "train_data_x=train_data.copy()\n",
    "del train_data_x[\"SK_ID_CURR\"]\n",
    "del train_data_x[\"TARGET\"]\n",
    "train_data_y=train_data[\"TARGET\"]\n",
    "\n",
    "model = RandomForestClassifier(random_state=0,n_estimators=100,n_jobs=10)\n",
    "model.fit(train_data_x, train_data_y)"
   ]
  },
  {
   "cell_type": "code",
   "execution_count": 72,
   "metadata": {},
   "outputs": [
    {
     "data": {
      "text/plain": [
       "RandomForestClassifier(bootstrap=True, class_weight=None, criterion='gini',\n",
       "            max_depth=None, max_features='auto', max_leaf_nodes=None,\n",
       "            min_impurity_decrease=0.0, min_impurity_split=None,\n",
       "            min_samples_leaf=1, min_samples_split=2,\n",
       "            min_weight_fraction_leaf=0.0, n_estimators=100, n_jobs=10,\n",
       "            oob_score=False, random_state=0, verbose=0, warm_start=False)"
      ]
     },
     "execution_count": 72,
     "metadata": {},
     "output_type": "execute_result"
    }
   ],
   "source": [
    "model = RandomForestClassifier(random_state=0,n_estimators=100,n_jobs=10)\n",
    "model.fit(train_data_x, train_data_y)"
   ]
  },
  {
   "cell_type": "code",
   "execution_count": 73,
   "metadata": {},
   "outputs": [
    {
     "name": "stdout",
     "output_type": "stream",
     "text": [
      "48715\n"
     ]
    }
   ],
   "source": [
    "eval_data=app_data2[app_data2[\"TARGET\"]!=app_data2[\"TARGET\"]].copy()\n",
    "print(len(eval_data))\n",
    "eval_data_x=eval_data.copy()\n",
    "del eval_data_x[\"TARGET\"]\n",
    "del eval_data_x[\"SK_ID_CURR\"]\n",
    "ypred=model.predict_proba(eval_data_x)\n",
    "#ypred2=model2.predict_proba(eval_data_x[imp_cols])"
   ]
  },
  {
   "cell_type": "code",
   "execution_count": 74,
   "metadata": {},
   "outputs": [
    {
     "name": "stdout",
     "output_type": "stream",
     "text": [
      "48715\n"
     ]
    }
   ],
   "source": [
    "submit_data_tmp=pd.concat([eval_data.reset_index(drop=True)[\"SK_ID_CURR\"],pd.DataFrame(ypred[:,1])],axis=1)\n",
    "submit_data_tmp.columns=[\"SK_ID_CURR\",\"TARGET\"]\n",
    "#submit_data.to_csv(\"submit_data_0527_01.csv\",index=False,header=True)\n",
    "print(len(submit_data_tmp))"
   ]
  },
  {
   "cell_type": "code",
   "execution_count": 75,
   "metadata": {},
   "outputs": [],
   "source": [
    "submit_data5=pd.merge(app_data_nosubmit[[\"SK_ID_CURR\"]],submit_data_tmp,on=\"SK_ID_CURR\",how=\"inner\")"
   ]
  },
  {
   "cell_type": "code",
   "execution_count": 76,
   "metadata": {},
   "outputs": [
    {
     "name": "stdout",
     "output_type": "stream",
     "text": [
      "36\n",
      "48474\n",
      "234\n",
      "36\n",
      "0\n"
     ]
    }
   ],
   "source": [
    "print(len(app_data_nosubmit))\n",
    "print(len(submit_data))\n",
    "print(len(submit_data4))\n",
    "print(len(submit_data5))\n",
    "print(len(app_test)-(len(submit_data)+len(submit_data4)+len(submit_data5)))\n",
    "\n"
   ]
  },
  {
   "cell_type": "code",
   "execution_count": null,
   "metadata": {},
   "outputs": [],
   "source": []
  },
  {
   "cell_type": "code",
   "execution_count": 77,
   "metadata": {},
   "outputs": [],
   "source": [
    "#app_data3_2=app_data3[app_data3[\"TARGET\"]!=app_data3[\"TARGET\"]]\n",
    "#app_data3_2[\"TARGET\"]=app_data3[\"TARGET\"].mean()\n",
    "submit_data6=pd.concat([submit_data,submit_data4,submit_data5]).sort_values(\"SK_ID_CURR\")\n"
   ]
  },
  {
   "cell_type": "code",
   "execution_count": 79,
   "metadata": {},
   "outputs": [
    {
     "name": "stdout",
     "output_type": "stream",
     "text": [
      "48744\n"
     ]
    }
   ],
   "source": [
    "print(len(submit_data6))"
   ]
  },
  {
   "cell_type": "code",
   "execution_count": 80,
   "metadata": {},
   "outputs": [
    {
     "name": "stdout",
     "output_type": "stream",
     "text": [
      "48474\n",
      "234\n",
      "36\n",
      "48744\n"
     ]
    }
   ],
   "source": [
    "print(len(submit_data))\n",
    "print(len(submit_data4))\n",
    "print(len(submit_data5))\n",
    "print(len(submit_data6))"
   ]
  },
  {
   "cell_type": "code",
   "execution_count": 84,
   "metadata": {},
   "outputs": [],
   "source": [
    "submit_data6=submit_data6.reset_index(drop=True)"
   ]
  },
  {
   "cell_type": "code",
   "execution_count": 78,
   "metadata": {},
   "outputs": [],
   "source": [
    "#submit_data6.to_csv(\"credit_submit_data_0602_01.csv\",index=False,header=True)\n",
    "tmp_data=pd.read_csv(\"credit_submit_data_0602_01.csv\")"
   ]
  },
  {
   "cell_type": "code",
   "execution_count": null,
   "metadata": {},
   "outputs": [],
   "source": []
  },
  {
   "cell_type": "code",
   "execution_count": 86,
   "metadata": {},
   "outputs": [
    {
     "data": {
      "text/plain": [
       "0"
      ]
     },
     "execution_count": 86,
     "metadata": {},
     "output_type": "execute_result"
    }
   ],
   "source": [
    "(submit_data6[\"TARGET\"]-tmp_data[\"TARGET\"]).astype(bool).astype(int).sum()"
   ]
  },
  {
   "cell_type": "code",
   "execution_count": null,
   "metadata": {},
   "outputs": [],
   "source": []
  },
  {
   "cell_type": "code",
   "execution_count": null,
   "metadata": {},
   "outputs": [],
   "source": []
  },
  {
   "cell_type": "code",
   "execution_count": null,
   "metadata": {},
   "outputs": [],
   "source": []
  },
  {
   "cell_type": "code",
   "execution_count": 764,
   "metadata": {},
   "outputs": [],
   "source": [
    "bureau_b_data=pd.read_csv(\"bureau_balance.csv\")"
   ]
  },
  {
   "cell_type": "code",
   "execution_count": 765,
   "metadata": {},
   "outputs": [
    {
     "data": {
      "text/html": [
       "<div>\n",
       "<style scoped>\n",
       "    .dataframe tbody tr th:only-of-type {\n",
       "        vertical-align: middle;\n",
       "    }\n",
       "\n",
       "    .dataframe tbody tr th {\n",
       "        vertical-align: top;\n",
       "    }\n",
       "\n",
       "    .dataframe thead th {\n",
       "        text-align: right;\n",
       "    }\n",
       "</style>\n",
       "<table border=\"1\" class=\"dataframe\">\n",
       "  <thead>\n",
       "    <tr style=\"text-align: right;\">\n",
       "      <th></th>\n",
       "      <th>SK_ID_BUREAU</th>\n",
       "      <th>MONTHS_BALANCE</th>\n",
       "      <th>STATUS</th>\n",
       "    </tr>\n",
       "  </thead>\n",
       "  <tbody>\n",
       "    <tr>\n",
       "      <th>0</th>\n",
       "      <td>5715448</td>\n",
       "      <td>0</td>\n",
       "      <td>C</td>\n",
       "    </tr>\n",
       "    <tr>\n",
       "      <th>1</th>\n",
       "      <td>5715448</td>\n",
       "      <td>-1</td>\n",
       "      <td>C</td>\n",
       "    </tr>\n",
       "    <tr>\n",
       "      <th>2</th>\n",
       "      <td>5715448</td>\n",
       "      <td>-2</td>\n",
       "      <td>C</td>\n",
       "    </tr>\n",
       "    <tr>\n",
       "      <th>3</th>\n",
       "      <td>5715448</td>\n",
       "      <td>-3</td>\n",
       "      <td>C</td>\n",
       "    </tr>\n",
       "    <tr>\n",
       "      <th>4</th>\n",
       "      <td>5715448</td>\n",
       "      <td>-4</td>\n",
       "      <td>C</td>\n",
       "    </tr>\n",
       "  </tbody>\n",
       "</table>\n",
       "</div>"
      ],
      "text/plain": [
       "   SK_ID_BUREAU  MONTHS_BALANCE STATUS\n",
       "0       5715448               0      C\n",
       "1       5715448              -1      C\n",
       "2       5715448              -2      C\n",
       "3       5715448              -3      C\n",
       "4       5715448              -4      C"
      ]
     },
     "execution_count": 765,
     "metadata": {},
     "output_type": "execute_result"
    }
   ],
   "source": [
    "bureau_b_data.head()"
   ]
  },
  {
   "cell_type": "code",
   "execution_count": null,
   "metadata": {},
   "outputs": [],
   "source": []
  },
  {
   "cell_type": "code",
   "execution_count": 772,
   "metadata": {},
   "outputs": [],
   "source": [
    "POS_data=pd.read_csv(\"POS_CASH_balance.csv\")"
   ]
  },
  {
   "cell_type": "code",
   "execution_count": 781,
   "metadata": {},
   "outputs": [
    {
     "data": {
      "text/html": [
       "<div>\n",
       "<style scoped>\n",
       "    .dataframe tbody tr th:only-of-type {\n",
       "        vertical-align: middle;\n",
       "    }\n",
       "\n",
       "    .dataframe tbody tr th {\n",
       "        vertical-align: top;\n",
       "    }\n",
       "\n",
       "    .dataframe thead th {\n",
       "        text-align: right;\n",
       "    }\n",
       "</style>\n",
       "<table border=\"1\" class=\"dataframe\">\n",
       "  <thead>\n",
       "    <tr style=\"text-align: right;\">\n",
       "      <th></th>\n",
       "      <th>SK_ID_PREV</th>\n",
       "      <th>SK_ID_CURR</th>\n",
       "      <th>MONTHS_BALANCE</th>\n",
       "      <th>CNT_INSTALMENT</th>\n",
       "      <th>CNT_INSTALMENT_FUTURE</th>\n",
       "      <th>NAME_CONTRACT_STATUS</th>\n",
       "      <th>SK_DPD</th>\n",
       "      <th>SK_DPD_DEF</th>\n",
       "    </tr>\n",
       "  </thead>\n",
       "  <tbody>\n",
       "    <tr>\n",
       "      <th>0</th>\n",
       "      <td>1803195</td>\n",
       "      <td>182943</td>\n",
       "      <td>-31</td>\n",
       "      <td>48.0</td>\n",
       "      <td>45.0</td>\n",
       "      <td>Active</td>\n",
       "      <td>0</td>\n",
       "      <td>0</td>\n",
       "    </tr>\n",
       "    <tr>\n",
       "      <th>1</th>\n",
       "      <td>1715348</td>\n",
       "      <td>367990</td>\n",
       "      <td>-33</td>\n",
       "      <td>36.0</td>\n",
       "      <td>35.0</td>\n",
       "      <td>Active</td>\n",
       "      <td>0</td>\n",
       "      <td>0</td>\n",
       "    </tr>\n",
       "    <tr>\n",
       "      <th>2</th>\n",
       "      <td>1784872</td>\n",
       "      <td>397406</td>\n",
       "      <td>-32</td>\n",
       "      <td>12.0</td>\n",
       "      <td>9.0</td>\n",
       "      <td>Active</td>\n",
       "      <td>0</td>\n",
       "      <td>0</td>\n",
       "    </tr>\n",
       "    <tr>\n",
       "      <th>3</th>\n",
       "      <td>1903291</td>\n",
       "      <td>269225</td>\n",
       "      <td>-35</td>\n",
       "      <td>48.0</td>\n",
       "      <td>42.0</td>\n",
       "      <td>Active</td>\n",
       "      <td>0</td>\n",
       "      <td>0</td>\n",
       "    </tr>\n",
       "    <tr>\n",
       "      <th>4</th>\n",
       "      <td>2341044</td>\n",
       "      <td>334279</td>\n",
       "      <td>-35</td>\n",
       "      <td>36.0</td>\n",
       "      <td>35.0</td>\n",
       "      <td>Active</td>\n",
       "      <td>0</td>\n",
       "      <td>0</td>\n",
       "    </tr>\n",
       "  </tbody>\n",
       "</table>\n",
       "</div>"
      ],
      "text/plain": [
       "   SK_ID_PREV  SK_ID_CURR  MONTHS_BALANCE  CNT_INSTALMENT  \\\n",
       "0     1803195      182943             -31            48.0   \n",
       "1     1715348      367990             -33            36.0   \n",
       "2     1784872      397406             -32            12.0   \n",
       "3     1903291      269225             -35            48.0   \n",
       "4     2341044      334279             -35            36.0   \n",
       "\n",
       "   CNT_INSTALMENT_FUTURE NAME_CONTRACT_STATUS  SK_DPD  SK_DPD_DEF  \n",
       "0                   45.0               Active       0           0  \n",
       "1                   35.0               Active       0           0  \n",
       "2                    9.0               Active       0           0  \n",
       "3                   42.0               Active       0           0  \n",
       "4                   35.0               Active       0           0  "
      ]
     },
     "execution_count": 781,
     "metadata": {},
     "output_type": "execute_result"
    }
   ],
   "source": [
    "POS_data.head()"
   ]
  },
  {
   "cell_type": "code",
   "execution_count": 779,
   "metadata": {},
   "outputs": [
    {
     "data": {
      "text/plain": [
       "<matplotlib.axes._subplots.AxesSubplot at 0x7fe0d840d3c8>"
      ]
     },
     "execution_count": 779,
     "metadata": {},
     "output_type": "execute_result"
    },
    {
     "data": {
      "image/png": "[encoded data removed]",
      "text/plain": [
       "<Figure size 432x288 with 1 Axes>"
      ]
     },
     "metadata": {},
     "output_type": "display_data"
    }
   ],
   "source": [
    "POS_data[\"SK_ID_CURR\"].value_counts().hist()"
   ]
  },
  {
   "cell_type": "code",
   "execution_count": 780,
   "metadata": {},
   "outputs": [
    {
     "data": {
      "text/plain": [
       "337252"
      ]
     },
     "execution_count": 780,
     "metadata": {},
     "output_type": "execute_result"
    }
   ],
   "source": [
    "len(POS_data[\"SK_ID_CURR\"].value_counts())"
   ]
  },
  {
   "cell_type": "code",
   "execution_count": 809,
   "metadata": {},
   "outputs": [
    {
     "data": {
      "text/html": [
       "<div>\n",
       "<style scoped>\n",
       "    .dataframe tbody tr th:only-of-type {\n",
       "        vertical-align: middle;\n",
       "    }\n",
       "\n",
       "    .dataframe tbody tr th {\n",
       "        vertical-align: top;\n",
       "    }\n",
       "\n",
       "    .dataframe thead th {\n",
       "        text-align: right;\n",
       "    }\n",
       "</style>\n",
       "<table border=\"1\" class=\"dataframe\">\n",
       "  <thead>\n",
       "    <tr style=\"text-align: right;\">\n",
       "      <th></th>\n",
       "      <th>SK_ID_PREV</th>\n",
       "      <th>SK_ID_CURR</th>\n",
       "      <th>MONTHS_BALANCE</th>\n",
       "      <th>CNT_INSTALMENT</th>\n",
       "      <th>CNT_INSTALMENT_FUTURE</th>\n",
       "      <th>NAME_CONTRACT_STATUS</th>\n",
       "      <th>SK_DPD</th>\n",
       "      <th>SK_DPD_DEF</th>\n",
       "    </tr>\n",
       "  </thead>\n",
       "  <tbody>\n",
       "    <tr>\n",
       "      <th>2197888</th>\n",
       "      <td>1369693</td>\n",
       "      <td>100001</td>\n",
       "      <td>-53</td>\n",
       "      <td>4.0</td>\n",
       "      <td>0.0</td>\n",
       "      <td>Completed</td>\n",
       "      <td>0</td>\n",
       "      <td>0</td>\n",
       "    </tr>\n",
       "    <tr>\n",
       "      <th>4704415</th>\n",
       "      <td>1369693</td>\n",
       "      <td>100001</td>\n",
       "      <td>-54</td>\n",
       "      <td>4.0</td>\n",
       "      <td>1.0</td>\n",
       "      <td>Active</td>\n",
       "      <td>0</td>\n",
       "      <td>0</td>\n",
       "    </tr>\n",
       "    <tr>\n",
       "      <th>7823681</th>\n",
       "      <td>1369693</td>\n",
       "      <td>100001</td>\n",
       "      <td>-55</td>\n",
       "      <td>4.0</td>\n",
       "      <td>2.0</td>\n",
       "      <td>Active</td>\n",
       "      <td>0</td>\n",
       "      <td>0</td>\n",
       "    </tr>\n",
       "    <tr>\n",
       "      <th>8789081</th>\n",
       "      <td>1369693</td>\n",
       "      <td>100001</td>\n",
       "      <td>-56</td>\n",
       "      <td>4.0</td>\n",
       "      <td>3.0</td>\n",
       "      <td>Active</td>\n",
       "      <td>0</td>\n",
       "      <td>0</td>\n",
       "    </tr>\n",
       "    <tr>\n",
       "      <th>7167007</th>\n",
       "      <td>1369693</td>\n",
       "      <td>100001</td>\n",
       "      <td>-57</td>\n",
       "      <td>4.0</td>\n",
       "      <td>4.0</td>\n",
       "      <td>Active</td>\n",
       "      <td>0</td>\n",
       "      <td>0</td>\n",
       "    </tr>\n",
       "    <tr>\n",
       "      <th>4928574</th>\n",
       "      <td>1851984</td>\n",
       "      <td>100001</td>\n",
       "      <td>-93</td>\n",
       "      <td>4.0</td>\n",
       "      <td>0.0</td>\n",
       "      <td>Completed</td>\n",
       "      <td>0</td>\n",
       "      <td>0</td>\n",
       "    </tr>\n",
       "    <tr>\n",
       "      <th>8531326</th>\n",
       "      <td>1851984</td>\n",
       "      <td>100001</td>\n",
       "      <td>-94</td>\n",
       "      <td>4.0</td>\n",
       "      <td>0.0</td>\n",
       "      <td>Active</td>\n",
       "      <td>0</td>\n",
       "      <td>0</td>\n",
       "    </tr>\n",
       "    <tr>\n",
       "      <th>1891462</th>\n",
       "      <td>1851984</td>\n",
       "      <td>100001</td>\n",
       "      <td>-95</td>\n",
       "      <td>4.0</td>\n",
       "      <td>1.0</td>\n",
       "      <td>Active</td>\n",
       "      <td>7</td>\n",
       "      <td>7</td>\n",
       "    </tr>\n",
       "    <tr>\n",
       "      <th>1261679</th>\n",
       "      <td>1851984</td>\n",
       "      <td>100001</td>\n",
       "      <td>-96</td>\n",
       "      <td>4.0</td>\n",
       "      <td>2.0</td>\n",
       "      <td>Active</td>\n",
       "      <td>0</td>\n",
       "      <td>0</td>\n",
       "    </tr>\n",
       "    <tr>\n",
       "      <th>6626366</th>\n",
       "      <td>1038818</td>\n",
       "      <td>100002</td>\n",
       "      <td>-1</td>\n",
       "      <td>24.0</td>\n",
       "      <td>6.0</td>\n",
       "      <td>Active</td>\n",
       "      <td>0</td>\n",
       "      <td>0</td>\n",
       "    </tr>\n",
       "  </tbody>\n",
       "</table>\n",
       "</div>"
      ],
      "text/plain": [
       "         SK_ID_PREV  SK_ID_CURR  MONTHS_BALANCE  CNT_INSTALMENT  \\\n",
       "2197888     1369693      100001             -53             4.0   \n",
       "4704415     1369693      100001             -54             4.0   \n",
       "7823681     1369693      100001             -55             4.0   \n",
       "8789081     1369693      100001             -56             4.0   \n",
       "7167007     1369693      100001             -57             4.0   \n",
       "4928574     1851984      100001             -93             4.0   \n",
       "8531326     1851984      100001             -94             4.0   \n",
       "1891462     1851984      100001             -95             4.0   \n",
       "1261679     1851984      100001             -96             4.0   \n",
       "6626366     1038818      100002              -1            24.0   \n",
       "\n",
       "         CNT_INSTALMENT_FUTURE NAME_CONTRACT_STATUS  SK_DPD  SK_DPD_DEF  \n",
       "2197888                    0.0            Completed       0           0  \n",
       "4704415                    1.0               Active       0           0  \n",
       "7823681                    2.0               Active       0           0  \n",
       "8789081                    3.0               Active       0           0  \n",
       "7167007                    4.0               Active       0           0  \n",
       "4928574                    0.0            Completed       0           0  \n",
       "8531326                    0.0               Active       0           0  \n",
       "1891462                    1.0               Active       7           7  \n",
       "1261679                    2.0               Active       0           0  \n",
       "6626366                    6.0               Active       0           0  "
      ]
     },
     "execution_count": 809,
     "metadata": {},
     "output_type": "execute_result"
    }
   ],
   "source": [
    "POS_data.sort_values([\"SK_ID_CURR\",\"SK_ID_PREV\",\"CNT_INSTALMENT_FUTURE\"]).head(10)"
   ]
  },
  {
   "cell_type": "code",
   "execution_count": null,
   "metadata": {},
   "outputs": [],
   "source": []
  },
  {
   "cell_type": "code",
   "execution_count": null,
   "metadata": {
    "scrolled": true
   },
   "outputs": [],
   "source": []
  },
  {
   "cell_type": "code",
   "execution_count": 800,
   "metadata": {},
   "outputs": [
    {
     "data": {
      "text/plain": [
       "0.10056141762522174"
      ]
     },
     "execution_count": 800,
     "metadata": {},
     "output_type": "execute_result"
    }
   ],
   "source": [
    "tmp_data=pd.merge(app_data,POS_data.groupby(\"SK_ID_CURR\").sum()[\"SK_DPD\"].reset_index(),on=\"SK_ID_CURR\",how=\"inner\")\n",
    "tmp_data=tmp_data[tmp_data[\"SK_DPD\"]>0]\n",
    "tmp_data[\"TARGET\"].mean()"
   ]
  },
  {
   "cell_type": "code",
   "execution_count": 808,
   "metadata": {},
   "outputs": [
    {
     "data": {
      "text/plain": [
       "0.10169694549810342"
      ]
     },
     "execution_count": 808,
     "metadata": {},
     "output_type": "execute_result"
    }
   ],
   "source": [
    "tmp_data=pd.merge(app_data,POS_data.groupby(\"SK_ID_CURR\").mean()[\"SK_DPD\"].reset_index(),on=\"SK_ID_CURR\",how=\"inner\")\n",
    "tmp_data=tmp_data[(tmp_data[\"SK_DPD\"]<=8)&(tmp_data[\"SK_DPD\"]>0)]\n",
    "tmp_data[\"TARGET\"].mean()"
   ]
  },
  {
   "cell_type": "code",
   "execution_count": 803,
   "metadata": {},
   "outputs": [
    {
     "data": {
      "text/plain": [
       "<matplotlib.axes._subplots.AxesSubplot at 0x7fe0d7bb8710>"
      ]
     },
     "execution_count": 803,
     "metadata": {},
     "output_type": "execute_result"
    },
    {
     "data": {
      "image/png": "[encoded data removed]",
      "text/plain": [
       "<Figure size 432x288 with 1 Axes>"
      ]
     },
     "metadata": {},
     "output_type": "display_data"
    }
   ],
   "source": [
    "tmp_data[\"SK_DPD\"].hist()"
   ]
  },
  {
   "cell_type": "code",
   "execution_count": 801,
   "metadata": {},
   "outputs": [
    {
     "data": {
      "text/plain": [
       "0.08072881945686496"
      ]
     },
     "execution_count": 801,
     "metadata": {},
     "output_type": "execute_result"
    }
   ],
   "source": [
    "app_data[\"TARGET\"].mean()"
   ]
  },
  {
   "cell_type": "code",
   "execution_count": null,
   "metadata": {},
   "outputs": [],
   "source": []
  },
  {
   "cell_type": "code",
   "execution_count": null,
   "metadata": {},
   "outputs": [],
   "source": []
  },
  {
   "cell_type": "code",
   "execution_count": 832,
   "metadata": {},
   "outputs": [],
   "source": [
    "# POS_CASHデータの結合\n",
    "\n",
    "POS_data=pd.read_csv(\"POS_CASH_balance.csv\")\n",
    "\n",
    "#PREV_IDの数、SK_DPDの合計、SK_DPDの回数、分割数の平均\n",
    "tmp_data1=POS_data.groupby([\"SK_ID_CURR\",\"SK_ID_PREV\"]).mean()\n",
    "tmp_data1[\"POS_ID_PREV_CNT\"]=1\n",
    "tmp_data1_2=tmp_data1.groupby([\"SK_ID_CURR\"]).sum()[\"POS_ID_PREV_CNT\"]\n",
    "tmp_data2=POS_data.groupby([\"SK_ID_CURR\"]).sum()[\"SK_DPD\"]\n",
    "POS_data[\"SK_DPD_CNT\"]=POS_data[\"SK_DPD\"].astype(bool).astype(int)\n",
    "tmp_data3=POS_data.groupby([\"SK_ID_CURR\"]).sum()[\"SK_DPD_CNT\"]\n",
    "tmp_data4=tmp_data1.groupby([\"SK_ID_CURR\"]).sum()[\"CNT_INSTALMENT\"]\n",
    "POS_data2=pd.concat([tmp_data1_2,tmp_data2,tmp_data3,tmp_data4],axis=1)\n",
    "POS_data2.columns=['POS_ID_PREV_CNT', 'POS_SK_DPD_SUM', 'POS_SK_DPD_CNT', 'POS_CNT_INSTALMENT_MEAN']\n",
    "POS_data2=POS_data2.reset_index()"
   ]
  },
  {
   "cell_type": "code",
   "execution_count": 833,
   "metadata": {},
   "outputs": [],
   "source": []
  },
  {
   "cell_type": "code",
   "execution_count": 834,
   "metadata": {},
   "outputs": [],
   "source": []
  },
  {
   "cell_type": "code",
   "execution_count": 835,
   "metadata": {},
   "outputs": [],
   "source": []
  },
  {
   "cell_type": "code",
   "execution_count": 836,
   "metadata": {},
   "outputs": [],
   "source": [
    "両方あるひと\n",
    "POSだけのひと\n",
    "BEAUEだけのひと"
   ]
  },
  {
   "cell_type": "code",
   "execution_count": 838,
   "metadata": {},
   "outputs": [],
   "source": []
  },
  {
   "cell_type": "code",
   "execution_count": 840,
   "metadata": {},
   "outputs": [],
   "source": []
  },
  {
   "cell_type": "code",
   "execution_count": 842,
   "metadata": {},
   "outputs": [],
   "source": []
  },
  {
   "cell_type": "code",
   "execution_count": null,
   "metadata": {},
   "outputs": [],
   "source": []
  }
 ],
 "metadata": {
  "kernelspec": {
   "display_name": "Python 3",
   "language": "python",
   "name": "python3"
  },
  "language_info": {
   "codemirror_mode": {
    "name": "ipython",
    "version": 3
   },
   "file_extension": ".py",
   "mimetype": "text/x-python",
   "name": "python",
   "nbconvert_exporter": "python",
   "pygments_lexer": "ipython3",
   "version": "3.6.4"
  }
 },
 "nbformat": 4,
 "nbformat_minor": 2
}
