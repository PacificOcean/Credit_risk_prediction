{
 "cells": [
  {
   "cell_type": "code",
   "execution_count": 1,
   "metadata": {},
   "outputs": [],
   "source": [
    "# -*- coding: utf-8 -*-\n",
    "# 基本モジュール\n",
    "import pandas as pd\n",
    "import numpy as np\n",
    "import os\n",
    "import sys\n",
    "from tqdm import tqdm\n",
    "#import pandas_profiling\n",
    "\n",
    "import time\n",
    "import datetime\n",
    "import dateutil.parser #変数の時間型への変換で使用\n",
    "from dateutil.relativedelta import relativedelta\n",
    "\n",
    "import math\n",
    "\n",
    "from sklearn.linear_model import LinearRegression\n",
    "from sklearn.preprocessing import PolynomialFeatures\n",
    "from sklearn.pipeline import Pipeline\n",
    "\n",
    "from sklearn.ensemble import RandomForestClassifier\n",
    "np.random.seed(0)\n",
    "from sklearn.metrics import accuracy_score, f1_score, precision_score, recall_score, classification_report, confusion_matrix\n",
    "from sklearn.metrics import roc_auc_score\n",
    "\n",
    "import matplotlib.pylab as plt\n",
    "from matplotlib.font_manager import FontProperties\n",
    "fp = FontProperties(fname='meiryo.ttc')\n",
    "%matplotlib inline\n",
    "\n",
    "import warnings\n",
    "warnings.filterwarnings('ignore')"
   ]
  },
  {
   "cell_type": "code",
   "execution_count": 2,
   "metadata": {},
   "outputs": [],
   "source": [
    "def grep_startswith(lst,word):\n",
    "    tgt = []\n",
    "    for string in lst:\n",
    "        if string.startswith(word) == True:\n",
    "            tgt.append(string)\n",
    "    return tgt\n",
    "\n",
    "def grep_endswith(lst,word):\n",
    "    tgt = []\n",
    "    for string in lst:\n",
    "        if string.endswith(word) == True:\n",
    "            tgt.append(string)\n",
    "    return tgt\n",
    "\n",
    "def grep_not_startswith(lst,word):\n",
    "    tgt = []\n",
    "    for string in lst:\n",
    "        if string.startswith(word) == False:\n",
    "            tgt.append(string)\n",
    "    return tgt\n",
    "\n",
    "def grep_not_endswith(lst,word):\n",
    "    tgt = []\n",
    "    for string in lst:\n",
    "        if string.endswith(word) == False:\n",
    "            tgt.append(string)\n",
    "    return tgt\n",
    "\n",
    "def grep_include(lst,word):\n",
    "    tgt = []\n",
    "    for string in lst:\n",
    "        if string.find(word) != -1: #wordがstringに含まれている\n",
    "            tgt.append(string)\n",
    "    return tgt\n",
    "\n",
    "def grep_not_include(lst,word):\n",
    "    tgt = []\n",
    "    for string in lst:\n",
    "        if string.find(word) == -1: #wordがstringに含まれていない\n",
    "            tgt.append(string)\n",
    "    return tgt\n",
    "\n",
    "def zfill2(x):\n",
    "    return str(x).zfill(2)\n",
    "\n",
    "def datetime_parser(x):\n",
    "    return dateutil.parser.parse(x)\n"
   ]
  },
  {
   "cell_type": "markdown",
   "metadata": {},
   "source": [
    "# カテゴリ変数の欠損は許容する版"
   ]
  },
  {
   "cell_type": "code",
   "execution_count": 3,
   "metadata": {},
   "outputs": [
    {
     "name": "stdout",
     "output_type": "stream",
     "text": [
      "307511\n"
     ]
    }
   ],
   "source": [
    "app_train=pd.read_csv(\"application_train.csv\")\n",
    "print(len(app_train))"
   ]
  },
  {
   "cell_type": "code",
   "execution_count": 4,
   "metadata": {},
   "outputs": [
    {
     "data": {
      "text/plain": [
       "0    0.919271\n",
       "1    0.080729\n",
       "Name: TARGET, dtype: float64"
      ]
     },
     "execution_count": 4,
     "metadata": {},
     "output_type": "execute_result"
    }
   ],
   "source": [
    "app_train[\"TARGET\"].value_counts()/len(app_train)"
   ]
  },
  {
   "cell_type": "code",
   "execution_count": 5,
   "metadata": {},
   "outputs": [
    {
     "name": "stdout",
     "output_type": "stream",
     "text": [
      "48744\n"
     ]
    }
   ],
   "source": [
    "app_test=pd.read_csv(\"application_test.csv\")\n",
    "print(len(app_test))"
   ]
  },
  {
   "cell_type": "code",
   "execution_count": null,
   "metadata": {},
   "outputs": [],
   "source": []
  },
  {
   "cell_type": "code",
   "execution_count": 6,
   "metadata": {},
   "outputs": [],
   "source": [
    "# bureauデータの整形\n",
    "\n",
    "bureau_data=pd.read_csv(\"bureau.csv\")\n",
    "# bureau_data.columns\n",
    "\n",
    "bureau_data[\"CREDIT_CNT\"]=1\n",
    "\n",
    "cate_cols=['CREDIT_ACTIVE', 'CREDIT_CURRENCY', 'CREDIT_TYPE']\n",
    "\n",
    "for tgt_col in cate_cols:\n",
    "    tmp_DF=pd.get_dummies(bureau_data[tgt_col])\n",
    "    tmp_DF.columns=[tgt_col+\"_\"+str(x) for x in tmp_DF.columns]\n",
    "    bureau_data=pd.concat([bureau_data,tmp_DF],axis=1)\n",
    "    del bureau_data[tgt_col]\n",
    "\n",
    "del bureau_data[\"SK_ID_BUREAU\"]\n",
    "\n",
    "bureau_data[\"AMT_ANNUITY_BUREAU\"]=bureau_data[\"AMT_ANNUITY\"]\n",
    "del bureau_data[\"AMT_ANNUITY\"]\n",
    "\n",
    "bureau_data2=bureau_data.fillna(0).groupby(\"SK_ID_CURR\").sum().reset_index(drop=False)\n"
   ]
  },
  {
   "cell_type": "code",
   "execution_count": null,
   "metadata": {},
   "outputs": [],
   "source": []
  },
  {
   "cell_type": "code",
   "execution_count": 7,
   "metadata": {},
   "outputs": [],
   "source": [
    "# POS_CASHデータの整形\n",
    "\n",
    "POS_data=pd.read_csv(\"POS_CASH_balance.csv\")\n",
    "\n",
    "#PREV_IDの数、SK_DPDの合計、SK_DPDの回数、分割数の平均\n",
    "tmp_data1=POS_data.groupby([\"SK_ID_CURR\",\"SK_ID_PREV\"]).mean()\n",
    "tmp_data1[\"POS_ID_PREV_CNT\"]=1\n",
    "tmp_data1_2=tmp_data1.groupby([\"SK_ID_CURR\"]).sum()[\"POS_ID_PREV_CNT\"]\n",
    "tmp_data2=POS_data.groupby([\"SK_ID_CURR\"]).sum()[\"SK_DPD\"]\n",
    "POS_data[\"SK_DPD_CNT\"]=POS_data[\"SK_DPD\"].astype(bool).astype(int)\n",
    "tmp_data3=POS_data.groupby([\"SK_ID_CURR\"]).sum()[\"SK_DPD_CNT\"]\n",
    "tmp_data4=tmp_data1.groupby([\"SK_ID_CURR\"]).sum()[\"CNT_INSTALMENT\"]\n",
    "POS_data2=pd.concat([tmp_data1_2,tmp_data2,tmp_data3,tmp_data4],axis=1)\n",
    "POS_data2.columns=['POS_ID_PREV_CNT', 'POS_SK_DPD_SUM', 'POS_SK_DPD_CNT', 'POS_CNT_INSTALMENT_MEAN']\n",
    "POS_data2=POS_data2.reset_index()"
   ]
  },
  {
   "cell_type": "code",
   "execution_count": null,
   "metadata": {},
   "outputs": [],
   "source": []
  },
  {
   "cell_type": "code",
   "execution_count": 8,
   "metadata": {},
   "outputs": [],
   "source": [
    "# CCBデータ加工 →現状、入れると精度が下がる\n",
    "ccb_data=pd.read_csv(\"credit_card_balance.csv\")\n",
    "\n",
    "def is_minus(x):\n",
    "    if x < 0:\n",
    "        ret=1\n",
    "    else:\n",
    "        ret=0\n",
    "    return ret\n",
    "\n",
    "def ret_minus(x):\n",
    "    if x < 0:\n",
    "        ret=x\n",
    "    else:\n",
    "        ret=0\n",
    "    return ret\n",
    "\n",
    "tmp_data1=ccb_data.groupby([\"SK_ID_CURR\",\"SK_ID_PREV\"]).mean()\n",
    "ccb_data_mean=tmp_data1.reset_index().groupby(\"SK_ID_CURR\").mean()\n",
    "del ccb_data_mean[\"SK_ID_PREV\"]\n",
    "ccb_data_mean.columns=[\"CCB\"+str(x)+\"_MEAN\" for x in ccb_data_mean.columns]\n",
    "ccb_data_mean=ccb_data_mean.fillna(0).reset_index()\n",
    "\n",
    "tmp_data1[\"CCB_num_of_loans\"]=1\n",
    "tmp_data1_2=tmp_data1.groupby([\"SK_ID_CURR\"]).sum()[\"CCB_num_of_loans\"].reset_index()\n",
    "\n",
    "ccb_data[\"CCB_ROW_CNT\"]=1\n",
    "ccb_data[\"CCB_SK_DPD_CNT\"]=ccb_data[\"SK_DPD\"].astype(float).astype(int)\n",
    "ccb_data[\"CCB_SK_DPD_DEF_CNT\"]=ccb_data[\"SK_DPD_DEF\"].astype(float).astype(int)\n",
    "\n",
    "tmp_data2=ccb_data.groupby([\"SK_ID_CURR\"]).sum()[[\"CCB_SK_DPD_DEF_CNT\",\"CCB_SK_DPD_DEF_CNT\",\"CCB_ROW_CNT\"]].reset_index()\n",
    "del tmp_data2[\"CCB_ROW_CNT\"]\n",
    "tmp_data3=ccb_data.groupby([\"SK_ID_CURR\"]).mean()[[\"SK_DPD\",\"SK_DPD_DEF\"]].reset_index()\n",
    "tmp_data3.columns=[\"SK_ID_CURR\",\"SK_DPD_MEAN\",\"SK_DPD_DEF_MEAN\"]\n",
    "\n",
    "ccb_data[\"CCB_LESS_PAY_CNT\"]=(ccb_data[\"AMT_PAYMENT_CURRENT\"]-ccb_data[\"AMT_INST_MIN_REGULARITY\"]).apply(is_minus)\n",
    "ccb_data[\"CCB_LESS_PAY_VAL_MEAN\"]=(ccb_data[\"AMT_PAYMENT_CURRENT\"]-ccb_data[\"AMT_INST_MIN_REGULARITY\"]).apply(ret_minus)\n",
    "tmp_data4=ccb_data.groupby([\"SK_ID_CURR\"]).sum()[[\"CCB_LESS_PAY_CNT\",\"CCB_ROW_CNT\"]].reset_index()\n",
    "tmp_data4_2=ccb_data.groupby([\"SK_ID_CURR\"]).mean()[\"CCB_LESS_PAY_VAL_MEAN\"].reset_index()\n",
    "tmp_data4[\"CCB_LESS_PAY_PCT\"]=tmp_data4[\"CCB_LESS_PAY_CNT\"]/tmp_data4[\"CCB_ROW_CNT\"]\n",
    "del tmp_data4[\"CCB_ROW_CNT\"]\n",
    "\n",
    "ccb_data2 = ccb_data_mean.merge(tmp_data1_2,on=\"SK_ID_CURR\").merge(tmp_data2,on=\"SK_ID_CURR\").merge(tmp_data3,on=\"SK_ID_CURR\").merge(tmp_data4,on=\"SK_ID_CURR\").merge(tmp_data4_2,on=\"SK_ID_CURR\")"
   ]
  },
  {
   "cell_type": "code",
   "execution_count": null,
   "metadata": {},
   "outputs": [],
   "source": []
  },
  {
   "cell_type": "code",
   "execution_count": 117,
   "metadata": {},
   "outputs": [],
   "source": [
    "# PREV_APPデータ加工\n",
    "# prev_app_cont_mean\n",
    "# prev_app_cate_sum\n",
    "\n",
    "# prev_app_cate_sum2=prev_app_cate_sum[imp_cols2_]"
   ]
  },
  {
   "cell_type": "code",
   "execution_count": null,
   "metadata": {},
   "outputs": [],
   "source": []
  },
  {
   "cell_type": "markdown",
   "metadata": {},
   "source": [
    "## ここから"
   ]
  },
  {
   "cell_type": "code",
   "execution_count": 25,
   "metadata": {},
   "outputs": [
    {
     "name": "stdout",
     "output_type": "stream",
     "text": [
      "356255\n",
      "305811\n",
      "337252\n",
      "103558\n"
     ]
    }
   ],
   "source": [
    "app_data=pd.concat([app_train,app_test]).reset_index(drop=True)\n",
    "print(len(app_data))\n",
    "print(len(bureau_data2))\n",
    "print(len(POS_data2))\n",
    "print(len(ccb_data2))\n",
    "flag_data=app_data[[\"SK_ID_CURR\",\"TARGET\"]]"
   ]
  },
  {
   "cell_type": "code",
   "execution_count": 26,
   "metadata": {},
   "outputs": [],
   "source": [
    "#app_data['CODE_GENDER']=app_data['CODE_GENDER'].replace(\"XNA\",np.nan)#.value_counts()\n",
    "#app_data['ORGANIZATION_TYPE']=app_data['ORGANIZATION_TYPE'].replace(\"XNA\",np.nan)\n",
    "\n",
    "app_data2=app_data.replace(\"XNA\",np.nan)#.replace(\"N\",np.nan)"
   ]
  },
  {
   "cell_type": "code",
   "execution_count": null,
   "metadata": {},
   "outputs": [],
   "source": []
  },
  {
   "cell_type": "raw",
   "metadata": {},
   "source": [
    "方針\n",
    "上で計算できなかった人たちだけのデータフレームを生成し、\n",
    "その人たち向けに、別途モデルを生成する\n",
    "\n",
    "\n",
    "app_dataでモデル作成　割合0.8くらいで多めにとる\n",
    "RFで重要度の高い項目を選択する\n",
    "\n",
    "そのうちで、割合0.9のIDでデータが有効な項目に絞る。\n",
    "欠損のあるIDを除去する→①データ\n",
    "\n",
    "beau2を②データ、POSデータを➂データとする\n",
    "\n",
    "いずれも欠損値はない状態だが、IDが異なる。\n",
    "\n",
    "それぞれのモデルを作成する\n",
    "・①②➂すべてもつ collist_m1\n",
    "・①②のみ\n",
    "・①➂のみ\n",
    "・②➂のみ\n",
    "・①のみ\n",
    "・②のみ\n",
    "・➂のみ\n",
    "・どれももたない(①´で対応)\n",
    "\n",
    "\n"
   ]
  },
  {
   "cell_type": "code",
   "execution_count": null,
   "metadata": {},
   "outputs": [],
   "source": []
  },
  {
   "cell_type": "code",
   "execution_count": 27,
   "metadata": {},
   "outputs": [],
   "source": [
    "tgt_col='CODE_GENDER'\n",
    "tmp_DF=pd.get_dummies(app_data2[tgt_col])\n",
    "tmp_DF.columns=[tgt_col+\"_\"+str(x) for x in tmp_DF.columns]\n",
    "\n",
    "app_data2=pd.concat([app_data2,tmp_DF],axis=1)\n",
    "del app_data2[tgt_col]\n",
    "\n",
    "app_data2[\"HOUR_APPR_PROCESS_START\"]=app_data2[\"HOUR_APPR_PROCESS_START\"].replace(0,24).replace(1,25).replace(2,26)\n",
    "\n",
    "for tgt_col in grep_startswith(app_data2.columns,\"NAME_\"):\n",
    "    #print(tgt_col)\n",
    "    tmp_DF=pd.get_dummies(app_data2[tgt_col])\n",
    "    tmp_DF.columns=[tgt_col+\"_\"+str(x) for x in tmp_DF.columns]\n",
    "\n",
    "    app_data2=pd.concat([app_data2,tmp_DF],axis=1)\n",
    "    del app_data2[tgt_col]\n",
    "    \n",
    "tgt_col='WEEKDAY_APPR_PROCESS_START'\n",
    "tmp_DF=pd.get_dummies(app_data2[tgt_col])\n",
    "tmp_DF.columns=[tgt_col+\"_\"+str(x) for x in tmp_DF.columns]\n",
    "\n",
    "app_data2=pd.concat([app_data2,tmp_DF],axis=1)\n",
    "del app_data2[tgt_col]\n",
    "\n",
    "app_data2['FLAG_OWN_CAR']=app_data2['FLAG_OWN_CAR'].replace(\"Y\",1).replace(\"N\",0)\n",
    "app_data2['FLAG_OWN_REALTY']=app_data2['FLAG_OWN_REALTY'].replace(\"Y\",1).replace(\"N\",0)\n",
    "\n",
    "#app_data2.head()"
   ]
  },
  {
   "cell_type": "code",
   "execution_count": 28,
   "metadata": {},
   "outputs": [],
   "source": [
    "app_data2[\"EMERGENCYSTATE_MODE\"]=app_data2[\"EMERGENCYSTATE_MODE\"].replace(\"Yes\",1).replace(\"No\",0)"
   ]
  },
  {
   "cell_type": "code",
   "execution_count": 29,
   "metadata": {},
   "outputs": [],
   "source": [
    "for tgt_col in [\"HOUSETYPE_MODE\",\"FONDKAPREMONT_MODE\",'OCCUPATION_TYPE','ORGANIZATION_TYPE','WALLSMATERIAL_MODE']:\n",
    "    #print(tgt_col)\n",
    "    tmp_DF=pd.get_dummies(app_data2[tgt_col])\n",
    "    tmp_DF.columns=[tgt_col+\"_\"+str(x) for x in tmp_DF.columns]\n",
    "\n",
    "    app_data2=pd.concat([app_data2,tmp_DF],axis=1)\n",
    "    del app_data2[tgt_col]"
   ]
  },
  {
   "cell_type": "code",
   "execution_count": 30,
   "metadata": {},
   "outputs": [
    {
     "data": {
      "text/plain": [
       "356255"
      ]
     },
     "execution_count": 30,
     "metadata": {},
     "output_type": "execute_result"
    }
   ],
   "source": [
    "len(app_data2)"
   ]
  },
  {
   "cell_type": "code",
   "execution_count": null,
   "metadata": {},
   "outputs": [],
   "source": []
  },
  {
   "cell_type": "code",
   "execution_count": 31,
   "metadata": {},
   "outputs": [
    {
     "name": "stderr",
     "output_type": "stream",
     "text": [
      "100%|██████████| 241/241 [00:01<00:00, 229.38it/s]\n"
     ]
    },
    {
     "name": "stdout",
     "output_type": "stream",
     "text": [
      "187\n"
     ]
    },
    {
     "name": "stderr",
     "output_type": "stream",
     "text": [
      "  3%|▎         | 4/122 [00:00<00:03, 33.03it/s]"
     ]
    },
    {
     "name": "stdout",
     "output_type": "stream",
     "text": [
      "354228\n"
     ]
    },
    {
     "name": "stderr",
     "output_type": "stream",
     "text": [
      "100%|██████████| 122/122 [00:01<00:00, 100.36it/s]"
     ]
    },
    {
     "name": "stdout",
     "output_type": "stream",
     "text": [
      "65\n"
     ]
    },
    {
     "name": "stderr",
     "output_type": "stream",
     "text": [
      "\n"
     ]
    }
   ],
   "source": [
    "# 一定数以上のユーザが持っている項目\n",
    "col_lst1=[]\n",
    "for tmp_col in tqdm(app_data2.columns):\n",
    "    if app_data2[tmp_col].value_counts().sum()/len(app_data2) > 0.9:\n",
    "        col_lst1.append(tmp_col)\n",
    "print(len(col_lst1))\n",
    "print(len(app_data2[col_lst1].dropna()))\n",
    "        \n",
    "col_lst1_2=[]\n",
    "for tmp_col in tqdm(app_train.columns):\n",
    "    if app_train[tmp_col].value_counts().sum()/len(app_train) > 0.9:\n",
    "        col_lst1_2.append(tmp_col)\n",
    "print(len(col_lst1_2))"
   ]
  },
  {
   "cell_type": "code",
   "execution_count": 32,
   "metadata": {},
   "outputs": [
    {
     "name": "stdout",
     "output_type": "stream",
     "text": [
      "187\n"
     ]
    },
    {
     "data": {
      "text/plain": [
       "array(['CODE_GENDER', 'NAME_CONTRACT_TYPE', 'NAME_EDUCATION_TYPE',\n",
       "       'NAME_FAMILY_STATUS', 'NAME_HOUSING_TYPE', 'NAME_INCOME_TYPE',\n",
       "       'NAME_TYPE_SUITE', 'ORGANIZATION_TYPE', 'TARGET',\n",
       "       'WEEKDAY_APPR_PROCESS_START'], dtype='<U27')"
      ]
     },
     "execution_count": 32,
     "metadata": {},
     "output_type": "execute_result"
    }
   ],
   "source": [
    "col_lst1=grep_not_include(col_lst1,\"TARGET\")\n",
    "print(len(col_lst1))\n",
    "np.setdiff1d(col_lst1_2,col_lst1)"
   ]
  },
  {
   "cell_type": "code",
   "execution_count": null,
   "metadata": {},
   "outputs": [],
   "source": []
  },
  {
   "cell_type": "code",
   "execution_count": 33,
   "metadata": {},
   "outputs": [
    {
     "name": "stdout",
     "output_type": "stream",
     "text": [
      "354228\n",
      "187\n"
     ]
    }
   ],
   "source": [
    "app_data3=app_data2[col_lst1].dropna().reset_index(drop=True)\n",
    "print(len(app_data3))\n",
    "#print(len(app_data2.dropna()))\n",
    "\n",
    "print(len(col_lst1))"
   ]
  },
  {
   "cell_type": "code",
   "execution_count": null,
   "metadata": {},
   "outputs": [],
   "source": []
  },
  {
   "cell_type": "code",
   "execution_count": 34,
   "metadata": {},
   "outputs": [],
   "source": [
    "app_data4=pd.merge(app_data3,flag_data,on=\"SK_ID_CURR\",how=\"left\")\n",
    "#app_data2.columns"
   ]
  },
  {
   "cell_type": "code",
   "execution_count": 35,
   "metadata": {},
   "outputs": [
    {
     "name": "stdout",
     "output_type": "stream",
     "text": [
      "305545\n",
      "NG\n",
      "0.9484167634881933\n",
      "0.9995975455627283\n"
     ]
    }
   ],
   "source": [
    "train_data=app_data4[app_data4[\"TARGET\"]==app_data4[\"TARGET\"]]\n",
    "print(len(train_data))\n",
    "\n",
    "train_data_x=train_data.copy()\n",
    "del train_data_x[\"SK_ID_CURR\"]\n",
    "del train_data_x[\"TARGET\"]\n",
    "train_data_y=train_data[\"TARGET\"]\n",
    "\n",
    "try:\n",
    "    del train_data_x[\"ORGANIZATION_TYPE\"]\n",
    "except:\n",
    "    print(\"NG\")\n",
    "    \n",
    "model = RandomForestClassifier(random_state=0,n_estimators=50,n_jobs=-1,max_depth=25)\n",
    "model.fit(train_data_x, train_data_y)\n",
    "\n",
    "ypred=model.predict_proba(train_data_x)\n",
    "print(accuracy_score(train_data_y,  np.argmax(ypred, axis=1)))\n",
    "print(roc_auc_score(train_data_y, ypred[:,1]))"
   ]
  },
  {
   "cell_type": "code",
   "execution_count": 36,
   "metadata": {},
   "outputs": [
    {
     "data": {
      "text/plain": [
       "array([[<matplotlib.axes._subplots.AxesSubplot object at 0x7f1f7903f048>]],\n",
       "      dtype=object)"
      ]
     },
     "execution_count": 36,
     "metadata": {},
     "output_type": "execute_result"
    },
    {
     "data": {
      "image/png": "[encoded data removed]",
      "text/plain": [
       "<Figure size 432x288 with 1 Axes>"
      ]
     },
     "metadata": {},
     "output_type": "display_data"
    }
   ],
   "source": [
    "pd.DataFrame(ypred[:,1]).hist()"
   ]
  },
  {
   "cell_type": "code",
   "execution_count": null,
   "metadata": {},
   "outputs": [],
   "source": []
  },
  {
   "cell_type": "code",
   "execution_count": 37,
   "metadata": {},
   "outputs": [
    {
     "name": "stdout",
     "output_type": "stream",
     "text": [
      "100\n"
     ]
    }
   ],
   "source": [
    "imp_data=pd.DataFrame([train_data_x.columns,model.feature_importances_]).T\n",
    "imp_data.columns=[\"col\",\"imp\"]\n",
    "\n",
    "imp_data=imp_data.sort_values(\"imp\",ascending=False)\n",
    "imp_data=imp_data.reset_index(drop=True)\n",
    "\n",
    "imp_data[\"cumsum\"]=imp_data.cumsum()[\"imp\"]\n",
    "\n",
    "imp_cols=np.array(imp_data[imp_data[\"cumsum\"]<0.95][\"col\"])\n",
    "print(len(imp_cols))\n",
    "\n",
    "#model2 = RandomForestClassifier(random_state=0,n_estimators=100,n_jobs=10)\n",
    "#model2.fit(train_data_x[imp_cols], train_data_y)\n",
    "\n",
    "#ypred2=model2.predict(train_data_x[imp_cols])\n",
    "#print(accuracy_score(train_data_y, ypred2))\n",
    "#print(roc_auc_score(train_data_y, ypred2))"
   ]
  },
  {
   "cell_type": "code",
   "execution_count": 38,
   "metadata": {},
   "outputs": [],
   "source": [
    "imp_cols_=[\"SK_ID_CURR\",\"TARGET\"]\n",
    "imp_cols_.extend(imp_cols)"
   ]
  },
  {
   "cell_type": "code",
   "execution_count": 39,
   "metadata": {},
   "outputs": [
    {
     "data": {
      "text/plain": [
       "102"
      ]
     },
     "execution_count": 39,
     "metadata": {},
     "output_type": "execute_result"
    }
   ],
   "source": [
    "len(imp_cols_)"
   ]
  },
  {
   "cell_type": "code",
   "execution_count": null,
   "metadata": {},
   "outputs": [],
   "source": []
  },
  {
   "cell_type": "code",
   "execution_count": 40,
   "metadata": {},
   "outputs": [
    {
     "name": "stdout",
     "output_type": "stream",
     "text": [
      "356255\n"
     ]
    }
   ],
   "source": [
    "# dropnaしない状態で再度生成\n",
    "app_data5=app_data2[imp_cols_].reset_index(drop=True)\n",
    "print(len(app_data5))\n",
    "#print(len(app_data2.dropna()))"
   ]
  },
  {
   "cell_type": "code",
   "execution_count": null,
   "metadata": {},
   "outputs": [],
   "source": []
  },
  {
   "cell_type": "code",
   "execution_count": 41,
   "metadata": {},
   "outputs": [
    {
     "name": "stderr",
     "output_type": "stream",
     "text": [
      "100%|██████████| 102/102 [00:00<00:00, 193.14it/s]\n"
     ]
    },
    {
     "name": "stdout",
     "output_type": "stream",
     "text": [
      "101\n",
      "354228\n"
     ]
    }
   ],
   "source": [
    "col_lst2=[]\n",
    "for tmp_col in tqdm(imp_cols_):\n",
    "    if app_data5[tmp_col].value_counts().sum()/len(app_data5) > 0.9:\n",
    "        col_lst2.append(tmp_col)\n",
    "print(len(col_lst2))\n",
    "print(len(app_data5[col_lst2].dropna()))"
   ]
  },
  {
   "cell_type": "code",
   "execution_count": null,
   "metadata": {},
   "outputs": [],
   "source": []
  },
  {
   "cell_type": "code",
   "execution_count": 42,
   "metadata": {},
   "outputs": [
    {
     "name": "stdout",
     "output_type": "stream",
     "text": [
      "354228\n",
      "101\n"
     ]
    }
   ],
   "source": [
    "# app_data6　これが①データ\n",
    "app_data6=app_data5[col_lst2].dropna().reset_index(drop=True)\n",
    "print(len(app_data6))\n",
    "#print(len(app_data2.dropna()))\n",
    "\n",
    "print(len(col_lst2))"
   ]
  },
  {
   "cell_type": "code",
   "execution_count": null,
   "metadata": {},
   "outputs": [],
   "source": []
  },
  {
   "cell_type": "raw",
   "metadata": {},
   "source": [
    "・①②➂すべてもつデータの生成"
   ]
  },
  {
   "cell_type": "code",
   "execution_count": 32,
   "metadata": {},
   "outputs": [
    {
     "name": "stdout",
     "output_type": "stream",
     "text": [
      "286032\n",
      "291\n",
      "287372\n",
      "287\n",
      "332782\n",
      "255\n"
     ]
    }
   ],
   "source": [
    "# 結合\n",
    "merged_data1=pd.merge(app_data6,bureau_data2,on=\"SK_ID_CURR\",how=\"inner\").merge(POS_data2,on=\"SK_ID_CURR\",how=\"inner\").merge(prev_app_cate_sum,on=\"SK_ID_CURR\",how=\"inner\").merge(prev_app_cont_mean,on=\"SK_ID_CURR\",how=\"inner\").merge(inst_pay_aggr2,on=\"SK_ID_CURR\",how=\"inner\")\n",
    "print(len(merged_data1))\n",
    "print(len(merged_data1.columns))\n",
    "\n",
    "merged_data2=pd.merge(app_data6,bureau_data2,on=\"SK_ID_CURR\",how=\"inner\").merge(prev_app_cate_sum,on=\"SK_ID_CURR\",how=\"inner\").merge(prev_app_cont_mean,on=\"SK_ID_CURR\",how=\"inner\").merge(inst_pay_aggr2,on=\"SK_ID_CURR\",how=\"inner\")\n",
    "merged_data3=pd.merge(app_data6,POS_data2,on=\"SK_ID_CURR\",how=\"inner\").merge(prev_app_cate_sum,on=\"SK_ID_CURR\",how=\"inner\").merge(prev_app_cont_mean,on=\"SK_ID_CURR\",how=\"inner\").merge(inst_pay_aggr2,on=\"SK_ID_CURR\",how=\"inner\")\n",
    "\n",
    "print(len(merged_data2))\n",
    "print(len(merged_data2.columns))\n",
    "print(len(merged_data3))\n",
    "print(len(merged_data3.columns))"
   ]
  },
  {
   "cell_type": "code",
   "execution_count": 77,
   "metadata": {},
   "outputs": [
    {
     "name": "stdout",
     "output_type": "stream",
     "text": [
      "288433\n",
      "304162\n",
      "335583\n"
     ]
    }
   ],
   "source": []
  },
  {
   "cell_type": "code",
   "execution_count": 33,
   "metadata": {},
   "outputs": [],
   "source": [
    "merged_data1=pd.merge(merged_data1,flag_data,on=\"SK_ID_CURR\",how=\"left\")\n",
    "merged_data2=pd.merge(merged_data2,flag_data,on=\"SK_ID_CURR\",how=\"left\")\n",
    "merged_data3=pd.merge(merged_data3,flag_data,on=\"SK_ID_CURR\",how=\"left\")"
   ]
  },
  {
   "cell_type": "code",
   "execution_count": null,
   "metadata": {},
   "outputs": [],
   "source": []
  },
  {
   "cell_type": "code",
   "execution_count": 34,
   "metadata": {},
   "outputs": [
    {
     "name": "stdout",
     "output_type": "stream",
     "text": [
      "244817\n",
      "NG\n",
      "0.9322555214711397\n",
      "0.9995160613858192\n"
     ]
    }
   ],
   "source": [
    "train_data=merged_data1[merged_data1[\"TARGET\"]==merged_data1[\"TARGET\"]]\n",
    "print(len(train_data))\n",
    "\n",
    "train_data_x=train_data.copy()\n",
    "del train_data_x[\"SK_ID_CURR\"]\n",
    "del train_data_x[\"TARGET\"]\n",
    "train_data_y=train_data[\"TARGET\"]\n",
    "\n",
    "try:\n",
    "    del train_data_x[\"ORGANIZATION_TYPE\"]\n",
    "except:\n",
    "    print(\"NG\")\n",
    "    \n",
    "model = RandomForestClassifier(random_state=0,n_estimators=100,n_jobs=-1,max_depth=25,min_samples_leaf=3)\n",
    "model.fit(train_data_x, train_data_y)\n",
    "\n",
    "ypred=model.predict_proba(train_data_x)\n",
    "print(accuracy_score(train_data_y,  np.argmax(ypred, axis=1)))\n",
    "print(roc_auc_score(train_data_y, ypred[:,1]))"
   ]
  },
  {
   "cell_type": "code",
   "execution_count": 35,
   "metadata": {},
   "outputs": [
    {
     "data": {
      "text/plain": [
       "array([[<matplotlib.axes._subplots.AxesSubplot object at 0x7f30d90c2358>]],\n",
       "      dtype=object)"
      ]
     },
     "execution_count": 35,
     "metadata": {},
     "output_type": "execute_result"
    },
    {
     "data": {
      "image/png": "[encoded data removed]",
      "text/plain": [
       "<Figure size 432x288 with 1 Axes>"
      ]
     },
     "metadata": {},
     "output_type": "display_data"
    }
   ],
   "source": [
    "pd.DataFrame(ypred[:,1]).hist()"
   ]
  },
  {
   "cell_type": "code",
   "execution_count": 36,
   "metadata": {},
   "outputs": [
    {
     "name": "stdout",
     "output_type": "stream",
     "text": [
      "41215\n",
      "41215\n"
     ]
    }
   ],
   "source": [
    "eval_data=merged_data1[merged_data1[\"TARGET\"]!=merged_data1[\"TARGET\"]].copy()\n",
    "print(len(eval_data))\n",
    "eval_data_x=eval_data.copy()\n",
    "del eval_data_x[\"TARGET\"]\n",
    "del eval_data_x[\"SK_ID_CURR\"]\n",
    "ypred=model.predict_proba(eval_data_x)\n",
    "\n",
    "submit_data1=pd.concat([eval_data.reset_index(drop=True)[\"SK_ID_CURR\"],pd.DataFrame(ypred[:,1])],axis=1)\n",
    "submit_data1.columns=[\"SK_ID_CURR\",\"TARGET\"]\n",
    "print(len(submit_data1))"
   ]
  },
  {
   "cell_type": "code",
   "execution_count": 37,
   "metadata": {},
   "outputs": [
    {
     "data": {
      "text/plain": [
       "array([[<matplotlib.axes._subplots.AxesSubplot object at 0x7f30d90d5ef0>]],\n",
       "      dtype=object)"
      ]
     },
     "execution_count": 37,
     "metadata": {},
     "output_type": "execute_result"
    },
    {
     "data": {
      "image/png": "[encoded data removed]",
      "text/plain": [
       "<Figure size 432x288 with 1 Axes>"
      ]
     },
     "metadata": {},
     "output_type": "display_data"
    }
   ],
   "source": [
    "pd.DataFrame(ypred[:,1]).hist()"
   ]
  },
  {
   "cell_type": "code",
   "execution_count": 38,
   "metadata": {},
   "outputs": [
    {
     "name": "stdout",
     "output_type": "stream",
     "text": [
      "246111\n",
      "NG\n",
      "0.9310433097260992\n",
      "0.9995362298328464\n"
     ]
    }
   ],
   "source": [
    "train_data=merged_data2[merged_data2[\"TARGET\"]==merged_data2[\"TARGET\"]]\n",
    "print(len(train_data))\n",
    "\n",
    "train_data_x=train_data.copy()\n",
    "del train_data_x[\"SK_ID_CURR\"]\n",
    "del train_data_x[\"TARGET\"]\n",
    "train_data_y=train_data[\"TARGET\"]\n",
    "\n",
    "try:\n",
    "    del train_data_x[\"ORGANIZATION_TYPE\"]\n",
    "except:\n",
    "    print(\"NG\")\n",
    "    \n",
    "model = RandomForestClassifier(random_state=0,n_estimators=100,n_jobs=-1,max_depth=25,min_samples_leaf=3)\n",
    "model.fit(train_data_x, train_data_y)\n",
    "\n",
    "ypred=model.predict_proba(train_data_x)\n",
    "print(accuracy_score(train_data_y,  np.argmax(ypred, axis=1)))\n",
    "print(roc_auc_score(train_data_y, ypred[:,1]))"
   ]
  },
  {
   "cell_type": "code",
   "execution_count": 39,
   "metadata": {},
   "outputs": [
    {
     "data": {
      "text/plain": [
       "array([[<matplotlib.axes._subplots.AxesSubplot object at 0x7f30d907c978>]],\n",
       "      dtype=object)"
      ]
     },
     "execution_count": 39,
     "metadata": {},
     "output_type": "execute_result"
    },
    {
     "data": {
      "image/png": "[encoded data removed]",
      "text/plain": [
       "<Figure size 432x288 with 1 Axes>"
      ]
     },
     "metadata": {},
     "output_type": "display_data"
    }
   ],
   "source": [
    "pd.DataFrame(ypred[:,1]).hist()"
   ]
  },
  {
   "cell_type": "code",
   "execution_count": 40,
   "metadata": {},
   "outputs": [
    {
     "name": "stdout",
     "output_type": "stream",
     "text": [
      "41261\n",
      "41261\n"
     ]
    }
   ],
   "source": [
    "eval_data=merged_data2[merged_data2[\"TARGET\"]!=merged_data2[\"TARGET\"]].copy()\n",
    "print(len(eval_data))\n",
    "eval_data_x=eval_data.copy()\n",
    "del eval_data_x[\"TARGET\"]\n",
    "del eval_data_x[\"SK_ID_CURR\"]\n",
    "ypred=model.predict_proba(eval_data_x)\n",
    "\n",
    "submit_data2=pd.concat([eval_data.reset_index(drop=True)[\"SK_ID_CURR\"],pd.DataFrame(ypred[:,1])],axis=1)\n",
    "submit_data2.columns=[\"SK_ID_CURR\",\"TARGET\"]\n",
    "print(len(submit_data2))"
   ]
  },
  {
   "cell_type": "code",
   "execution_count": 41,
   "metadata": {},
   "outputs": [
    {
     "data": {
      "text/plain": [
       "array([[<matplotlib.axes._subplots.AxesSubplot object at 0x7f30d9117b38>]],\n",
       "      dtype=object)"
      ]
     },
     "execution_count": 41,
     "metadata": {},
     "output_type": "execute_result"
    },
    {
     "data": {
      "image/png": "[encoded data removed]",
      "text/plain": [
       "<Figure size 432x288 with 1 Axes>"
      ]
     },
     "metadata": {},
     "output_type": "display_data"
    }
   ],
   "source": [
    "pd.DataFrame(ypred[:,1]).hist()"
   ]
  },
  {
   "cell_type": "code",
   "execution_count": 42,
   "metadata": {},
   "outputs": [
    {
     "name": "stdout",
     "output_type": "stream",
     "text": [
      "285408\n",
      "NG\n",
      "0.9272935586949209\n",
      "0.9991861716327153\n"
     ]
    }
   ],
   "source": [
    "train_data=merged_data3[merged_data3[\"TARGET\"]==merged_data3[\"TARGET\"]]\n",
    "print(len(train_data))\n",
    "\n",
    "train_data_x=train_data.copy()\n",
    "del train_data_x[\"SK_ID_CURR\"]\n",
    "del train_data_x[\"TARGET\"]\n",
    "train_data_y=train_data[\"TARGET\"]\n",
    "\n",
    "try:\n",
    "    del train_data_x[\"ORGANIZATION_TYPE\"]\n",
    "except:\n",
    "    print(\"NG\")\n",
    "    \n",
    "model = RandomForestClassifier(random_state=0,n_estimators=100,n_jobs=-1,max_depth=25,min_samples_leaf=3)\n",
    "model.fit(train_data_x, train_data_y)\n",
    "\n",
    "ypred=model.predict_proba(train_data_x)\n",
    "print(accuracy_score(train_data_y,  np.argmax(ypred, axis=1)))\n",
    "print(roc_auc_score(train_data_y, ypred[:,1]))"
   ]
  },
  {
   "cell_type": "code",
   "execution_count": 43,
   "metadata": {},
   "outputs": [
    {
     "data": {
      "text/plain": [
       "array([[<matplotlib.axes._subplots.AxesSubplot object at 0x7f30cef18cc0>]],\n",
       "      dtype=object)"
      ]
     },
     "execution_count": 43,
     "metadata": {},
     "output_type": "execute_result"
    },
    {
     "data": {
      "image/png": "[encoded data removed]",
      "text/plain": [
       "<Figure size 432x288 with 1 Axes>"
      ]
     },
     "metadata": {},
     "output_type": "display_data"
    }
   ],
   "source": [
    "pd.DataFrame(ypred[:,1]).hist()"
   ]
  },
  {
   "cell_type": "code",
   "execution_count": 44,
   "metadata": {},
   "outputs": [
    {
     "name": "stdout",
     "output_type": "stream",
     "text": [
      "47374\n",
      "47374\n"
     ]
    }
   ],
   "source": [
    "eval_data=merged_data3[merged_data3[\"TARGET\"]!=merged_data3[\"TARGET\"]].copy()\n",
    "print(len(eval_data))\n",
    "eval_data_x=eval_data.copy()\n",
    "del eval_data_x[\"TARGET\"]\n",
    "del eval_data_x[\"SK_ID_CURR\"]\n",
    "ypred=model.predict_proba(eval_data_x)\n",
    "\n",
    "submit_data3=pd.concat([eval_data.reset_index(drop=True)[\"SK_ID_CURR\"],pd.DataFrame(ypred[:,1])],axis=1)\n",
    "submit_data3.columns=[\"SK_ID_CURR\",\"TARGET\"]\n",
    "print(len(submit_data3))"
   ]
  },
  {
   "cell_type": "code",
   "execution_count": 45,
   "metadata": {},
   "outputs": [
    {
     "data": {
      "text/plain": [
       "array([[<matplotlib.axes._subplots.AxesSubplot object at 0x7f30cee7fc88>]],\n",
       "      dtype=object)"
      ]
     },
     "execution_count": 45,
     "metadata": {},
     "output_type": "execute_result"
    },
    {
     "data": {
      "image/png": "[encoded data removed]",
      "text/plain": [
       "<Figure size 432x288 with 1 Axes>"
      ]
     },
     "metadata": {},
     "output_type": "display_data"
    }
   ],
   "source": [
    "pd.DataFrame(ypred[:,1]).hist()"
   ]
  },
  {
   "cell_type": "code",
   "execution_count": null,
   "metadata": {},
   "outputs": [],
   "source": []
  },
  {
   "cell_type": "code",
   "execution_count": 46,
   "metadata": {},
   "outputs": [],
   "source": [
    "diff_2_1=np.setdiff1d(submit_data2[\"SK_ID_CURR\"],submit_data1[\"SK_ID_CURR\"])\n",
    "diff_3_1=np.setdiff1d(submit_data3[\"SK_ID_CURR\"],submit_data1[\"SK_ID_CURR\"])"
   ]
  },
  {
   "cell_type": "code",
   "execution_count": 47,
   "metadata": {},
   "outputs": [
    {
     "name": "stdout",
     "output_type": "stream",
     "text": [
      "46\n",
      "6159\n"
     ]
    }
   ],
   "source": [
    "print(len(diff_2_1))\n",
    "print(len(diff_3_1))"
   ]
  },
  {
   "cell_type": "code",
   "execution_count": 48,
   "metadata": {},
   "outputs": [],
   "source": [
    "submit_data2_2=submit_data2.set_index(\"SK_ID_CURR\").ix[diff_2_1].reset_index()\n",
    "submit_data3_2=submit_data3.set_index(\"SK_ID_CURR\").ix[diff_3_1].reset_index()\n"
   ]
  },
  {
   "cell_type": "code",
   "execution_count": 49,
   "metadata": {},
   "outputs": [],
   "source": [
    "submit_data=pd.concat([submit_data1,submit_data2_2,submit_data3_2])"
   ]
  },
  {
   "cell_type": "code",
   "execution_count": null,
   "metadata": {},
   "outputs": [],
   "source": []
  },
  {
   "cell_type": "code",
   "execution_count": null,
   "metadata": {},
   "outputs": [],
   "source": []
  },
  {
   "cell_type": "code",
   "execution_count": 95,
   "metadata": {},
   "outputs": [
    {
     "data": {
      "text/plain": [
       "48474"
      ]
     },
     "execution_count": 95,
     "metadata": {},
     "output_type": "execute_result"
    }
   ],
   "source": [
    "len(submit_data)"
   ]
  },
  {
   "cell_type": "code",
   "execution_count": 96,
   "metadata": {},
   "outputs": [
    {
     "data": {
      "text/plain": [
       "270"
      ]
     },
     "execution_count": 96,
     "metadata": {},
     "output_type": "execute_result"
    }
   ],
   "source": [
    "len(np.setdiff1d(app_test[\"SK_ID_CURR\"],submit_data[\"SK_ID_CURR\"]))"
   ]
  },
  {
   "cell_type": "code",
   "execution_count": 97,
   "metadata": {},
   "outputs": [
    {
     "data": {
      "text/plain": [
       "<matplotlib.axes._subplots.AxesSubplot at 0x7f600110d208>"
      ]
     },
     "execution_count": 97,
     "metadata": {},
     "output_type": "execute_result"
    },
    {
     "data": {
      "image/png": "[encoded data removed]",
      "text/plain": [
       "<Figure size 432x288 with 1 Axes>"
      ]
     },
     "metadata": {},
     "output_type": "display_data"
    }
   ],
   "source": [
    "submit_data[\"TARGET\"].hist()"
   ]
  },
  {
   "cell_type": "code",
   "execution_count": null,
   "metadata": {},
   "outputs": [],
   "source": []
  },
  {
   "cell_type": "code",
   "execution_count": 108,
   "metadata": {},
   "outputs": [
    {
     "data": {
      "text/plain": [
       "270"
      ]
     },
     "execution_count": 108,
     "metadata": {},
     "output_type": "execute_result"
    }
   ],
   "source": [
    "# 未提出IDのデータを抽出\n",
    "submit_data_tmp=submit_data.copy()\n",
    "submit_data_tmp[\"submit\"]=1\n",
    "#submit_data_tmp=submit_data_tmp[[\"SK_ID_CURR\",\"submit\"]].copy()\n",
    "app_data_tmp=pd.merge(app_data2,submit_data_tmp[[\"SK_ID_CURR\",\"submit\"]],on=\"SK_ID_CURR\",how=\"outer\")\n",
    "app_data_nosubmit=app_data_tmp[(app_data_tmp[\"TARGET\"]!=app_data_tmp[\"TARGET\"])&(app_data_tmp[\"submit\"]!=app_data_tmp[\"submit\"])]\n",
    "app_data_nosubmit=app_data_nosubmit.replace(\"XNA\",np.nan)\n",
    "len(app_data_nosubmit)"
   ]
  },
  {
   "cell_type": "code",
   "execution_count": 109,
   "metadata": {},
   "outputs": [
    {
     "data": {
      "text/plain": [
       "270"
      ]
     },
     "execution_count": 109,
     "metadata": {},
     "output_type": "execute_result"
    }
   ],
   "source": [
    "len(app_data[app_data[\"TARGET\"]!=app_data[\"TARGET\"]])-len(submit_data)"
   ]
  },
  {
   "cell_type": "code",
   "execution_count": 110,
   "metadata": {},
   "outputs": [
    {
     "data": {
      "text/plain": [
       "242"
      ]
     },
     "execution_count": 110,
     "metadata": {},
     "output_type": "execute_result"
    }
   ],
   "source": [
    "len(app_data_nosubmit.columns)"
   ]
  },
  {
   "cell_type": "code",
   "execution_count": 100,
   "metadata": {},
   "outputs": [],
   "source": [
    "# 2周目"
   ]
  },
  {
   "cell_type": "raw",
   "metadata": {},
   "source": [
    "app_data2=app_data.replace(\"XNA\",np.nan)#.replace(\"N\",np.nan)\n",
    "# 結合\n",
    "app_data2=pd.merge(app_data2,bureau_data2,on=\"SK_ID_CURR\",how=\"outer\")\n",
    "print(len(app_data2))\n",
    "print(len(app_data2.columns))\n",
    "\n",
    "# 結合\n",
    "app_data2=pd.merge(app_data2,POS_data2,on=\"SK_ID_CURR\",how=\"outer\")\n",
    "print(len(app_data2))\n",
    "print(len(app_data2.columns))\n",
    "\n",
    "app_data2=app_data.replace(\"XNA\",np.nan)#.replace(\"N\",np.nan)"
   ]
  },
  {
   "cell_type": "code",
   "execution_count": 111,
   "metadata": {},
   "outputs": [
    {
     "name": "stderr",
     "output_type": "stream",
     "text": [
      "100%|██████████| 242/242 [00:00<00:00, 828.52it/s]\n"
     ]
    },
    {
     "name": "stdout",
     "output_type": "stream",
     "text": [
      "238\n"
     ]
    }
   ],
   "source": [
    "col_lst2=[]\n",
    "for tmp_col in tqdm(app_data_nosubmit.columns):\n",
    "#    if app_data_nosubmit[tmp_col].value_counts().sum()/len(app_data_nosubmit) > 0.95:\n",
    "    if app_data_nosubmit[tmp_col].value_counts().sum()/len(app_data_nosubmit) > 0.9:\n",
    "        col_lst2.append(tmp_col)\n",
    "        \n",
    "print(len(app_data_nosubmit[col_lst2].dropna()))"
   ]
  },
  {
   "cell_type": "code",
   "execution_count": null,
   "metadata": {},
   "outputs": [],
   "source": []
  },
  {
   "cell_type": "code",
   "execution_count": 112,
   "metadata": {},
   "outputs": [
    {
     "name": "stdout",
     "output_type": "stream",
     "text": [
      "183\n"
     ]
    },
    {
     "data": {
      "text/plain": [
       "array([], dtype='<U49')"
      ]
     },
     "execution_count": 112,
     "metadata": {},
     "output_type": "execute_result"
    }
   ],
   "source": [
    "col_lst2=grep_not_include(col_lst2,\"TARGET\")\n",
    "print(len(col_lst2))\n",
    "np.setdiff1d(col_lst2,col_lst1)"
   ]
  },
  {
   "cell_type": "code",
   "execution_count": null,
   "metadata": {},
   "outputs": [],
   "source": []
  },
  {
   "cell_type": "code",
   "execution_count": 113,
   "metadata": {},
   "outputs": [
    {
     "name": "stdout",
     "output_type": "stream",
     "text": [
      "184\n",
      "355274\n"
     ]
    }
   ],
   "source": [
    "app_data2_2=app_data2[col_lst2].dropna().reset_index(drop=True)\n",
    "#flag_data=app_data[[\"SK_ID_CURR\",\"TARGET\"]]\n",
    "app_data2_2=pd.merge(app_data2_2,flag_data,on=\"SK_ID_CURR\",how=\"left\")\n",
    "\n",
    "print(len(app_data2_2.columns))\n",
    "print(len(app_data2_2))"
   ]
  },
  {
   "cell_type": "code",
   "execution_count": null,
   "metadata": {},
   "outputs": [],
   "source": []
  },
  {
   "cell_type": "code",
   "execution_count": 116,
   "metadata": {},
   "outputs": [
    {
     "name": "stdout",
     "output_type": "stream",
     "text": [
      "306562\n"
     ]
    }
   ],
   "source": [
    "train_data=app_data2_2[app_data2_2[\"TARGET\"]==app_data2_2[\"TARGET\"]]\n",
    "print(len(train_data))\n",
    "\n",
    "train_data_x=train_data.copy()\n",
    "del train_data_x[\"SK_ID_CURR\"]\n",
    "del train_data_x[\"TARGET\"]\n",
    "train_data_y=train_data[\"TARGET\"]"
   ]
  },
  {
   "cell_type": "code",
   "execution_count": 117,
   "metadata": {},
   "outputs": [
    {
     "name": "stdout",
     "output_type": "stream",
     "text": [
      "0.9211774453454766\n",
      "0.9983888686468464\n"
     ]
    }
   ],
   "source": [
    "model = RandomForestClassifier(random_state=0,n_estimators=100,n_jobs=-1,max_depth=30,min_samples_leaf=3)\n",
    "model.fit(train_data_x, train_data_y)\n",
    "\n",
    "ypred=model.predict_proba(train_data_x)\n",
    "print(accuracy_score(train_data_y,  np.argmax(ypred, axis=1)))\n",
    "print(roc_auc_score(train_data_y, ypred[:,1]))"
   ]
  },
  {
   "cell_type": "code",
   "execution_count": 118,
   "metadata": {},
   "outputs": [
    {
     "data": {
      "text/plain": [
       "array([[<matplotlib.axes._subplots.AxesSubplot object at 0x7f5fe869fcc0>]],\n",
       "      dtype=object)"
      ]
     },
     "execution_count": 118,
     "metadata": {},
     "output_type": "execute_result"
    },
    {
     "data": {
      "image/png": "[encoded data removed]",
      "text/plain": [
       "<Figure size 432x288 with 1 Axes>"
      ]
     },
     "metadata": {},
     "output_type": "display_data"
    }
   ],
   "source": [
    "pd.DataFrame(ypred[:,1]).hist()"
   ]
  },
  {
   "cell_type": "code",
   "execution_count": 119,
   "metadata": {},
   "outputs": [
    {
     "name": "stdout",
     "output_type": "stream",
     "text": [
      "48712\n"
     ]
    }
   ],
   "source": [
    "eval_data=app_data2_2[app_data2_2[\"TARGET\"]!=app_data2_2[\"TARGET\"]].copy()\n",
    "print(len(eval_data))\n",
    "eval_data_x=eval_data.copy()\n",
    "del eval_data_x[\"TARGET\"]\n",
    "del eval_data_x[\"SK_ID_CURR\"]\n",
    "ypred=model.predict_proba(eval_data_x)\n",
    "#ypred2=model2.predict_proba(eval_data_x[imp_cols])"
   ]
  },
  {
   "cell_type": "code",
   "execution_count": 120,
   "metadata": {},
   "outputs": [
    {
     "data": {
      "text/plain": [
       "array([[<matplotlib.axes._subplots.AxesSubplot object at 0x7f5ffe50f588>]],\n",
       "      dtype=object)"
      ]
     },
     "execution_count": 120,
     "metadata": {},
     "output_type": "execute_result"
    },
    {
     "data": {
      "image/png": "[encoded data removed]",
      "text/plain": [
       "<Figure size 432x288 with 1 Axes>"
      ]
     },
     "metadata": {},
     "output_type": "display_data"
    }
   ],
   "source": [
    "pd.DataFrame(ypred[:,1]).hist()"
   ]
  },
  {
   "cell_type": "code",
   "execution_count": 121,
   "metadata": {},
   "outputs": [
    {
     "name": "stdout",
     "output_type": "stream",
     "text": [
      "48712\n"
     ]
    }
   ],
   "source": [
    "submit_data_tmp=pd.concat([eval_data.reset_index(drop=True)[\"SK_ID_CURR\"],pd.DataFrame(ypred[:,1])],axis=1)\n",
    "submit_data_tmp.columns=[\"SK_ID_CURR\",\"TARGET\"]\n",
    "#submit_data.to_csv(\"submit_data_0527_01.csv\",index=False,header=True)\n",
    "print(len(submit_data_tmp))"
   ]
  },
  {
   "cell_type": "code",
   "execution_count": 122,
   "metadata": {},
   "outputs": [],
   "source": [
    "submit_data4=pd.merge(app_data_nosubmit[[\"SK_ID_CURR\"]],submit_data_tmp,on=\"SK_ID_CURR\",how=\"inner\")"
   ]
  },
  {
   "cell_type": "code",
   "execution_count": 123,
   "metadata": {},
   "outputs": [
    {
     "name": "stdout",
     "output_type": "stream",
     "text": [
      "270\n",
      "48474\n",
      "238\n",
      "48712\n",
      "48744\n",
      "32\n"
     ]
    }
   ],
   "source": [
    "print(len(app_data_nosubmit))\n",
    "print(len(submit_data))\n",
    "print(len(submit_data4))\n",
    "print(len(submit_data)+len(submit_data4))\n",
    "print(len(app_test))\n",
    "\n",
    "print(len(app_test)-len(submit_data)-len(submit_data4))"
   ]
  },
  {
   "cell_type": "code",
   "execution_count": null,
   "metadata": {},
   "outputs": [],
   "source": []
  },
  {
   "cell_type": "code",
   "execution_count": null,
   "metadata": {},
   "outputs": [],
   "source": []
  },
  {
   "cell_type": "code",
   "execution_count": 124,
   "metadata": {},
   "outputs": [
    {
     "name": "stdout",
     "output_type": "stream",
     "text": [
      "32\n"
     ]
    }
   ],
   "source": [
    "# 未提出IDのデータを抽出\n",
    "submit_data_tmp=pd.concat([submit_data,submit_data4])\n",
    "submit_data_tmp[\"submit\"]=1\n",
    "#submit_data_tmp=submit_data_tmp[[\"SK_ID_CURR\",\"submit\"]].copy()\n",
    "app_data_tmp=pd.merge(app_data2,submit_data_tmp[[\"SK_ID_CURR\",\"submit\"]],on=\"SK_ID_CURR\",how=\"outer\")\n",
    "app_data_nosubmit=app_data_tmp[(app_data_tmp[\"TARGET\"]!=app_data_tmp[\"TARGET\"])&(app_data_tmp[\"submit\"]!=app_data_tmp[\"submit\"])]\n",
    "app_data_nosubmit=app_data_nosubmit.replace(\"XNA\",np.nan)\n",
    "print(len(app_data_nosubmit))"
   ]
  },
  {
   "cell_type": "code",
   "execution_count": null,
   "metadata": {},
   "outputs": [],
   "source": []
  },
  {
   "cell_type": "code",
   "execution_count": null,
   "metadata": {},
   "outputs": [],
   "source": []
  },
  {
   "cell_type": "code",
   "execution_count": 67,
   "metadata": {},
   "outputs": [],
   "source": [
    "# 3周目"
   ]
  },
  {
   "cell_type": "code",
   "execution_count": 136,
   "metadata": {},
   "outputs": [
    {
     "name": "stderr",
     "output_type": "stream",
     "text": [
      "100%|██████████| 242/242 [00:00<00:00, 1377.97it/s]"
     ]
    },
    {
     "name": "stdout",
     "output_type": "stream",
     "text": [
      "32\n",
      "185\n"
     ]
    },
    {
     "name": "stderr",
     "output_type": "stream",
     "text": [
      "\n"
     ]
    }
   ],
   "source": [
    "col_lst3=[]\n",
    "for tmp_col in tqdm(app_data_nosubmit.columns):\n",
    "    if app_data_nosubmit[tmp_col].value_counts().sum()/len(app_data_nosubmit) > 0.95:\n",
    "        col_lst3.append(tmp_col)\n",
    "        \n",
    "print(len(app_data_nosubmit[col_lst3].dropna()))\n",
    "print(len(col_lst3))"
   ]
  },
  {
   "cell_type": "code",
   "execution_count": 137,
   "metadata": {},
   "outputs": [
    {
     "data": {
      "text/plain": [
       "array([], dtype='<U49')"
      ]
     },
     "execution_count": 137,
     "metadata": {},
     "output_type": "execute_result"
    }
   ],
   "source": [
    "np.setdiff1d(col_lst3,col_lst1)"
   ]
  },
  {
   "cell_type": "code",
   "execution_count": null,
   "metadata": {},
   "outputs": [],
   "source": []
  },
  {
   "cell_type": "code",
   "execution_count": 138,
   "metadata": {},
   "outputs": [
    {
     "name": "stdout",
     "output_type": "stream",
     "text": [
      "186\n",
      "354926\n"
     ]
    }
   ],
   "source": [
    "app_data2_3=app_data2[col_lst3].dropna().reset_index(drop=True)\n",
    "#flag_data=app_data[[\"SK_ID_CURR\",\"TARGET\"]]\n",
    "app_data2_3=pd.merge(app_data2_3,flag_data,on=\"SK_ID_CURR\",how=\"left\")\n",
    "\n",
    "print(len(app_data2_3.columns))\n",
    "print(len(app_data2_3))"
   ]
  },
  {
   "cell_type": "code",
   "execution_count": 139,
   "metadata": {},
   "outputs": [
    {
     "name": "stdout",
     "output_type": "stream",
     "text": [
      "306211\n"
     ]
    }
   ],
   "source": [
    "train_data=app_data2_3[app_data2_3[\"TARGET\"]==app_data2_3[\"TARGET\"]]\n",
    "print(len(train_data))\n",
    "\n",
    "train_data_x=train_data.copy()\n",
    "del train_data_x[\"SK_ID_CURR\"]\n",
    "del train_data_x[\"TARGET\"]\n",
    "train_data_y=train_data[\"TARGET\"]"
   ]
  },
  {
   "cell_type": "code",
   "execution_count": 140,
   "metadata": {},
   "outputs": [
    {
     "name": "stdout",
     "output_type": "stream",
     "text": [
      "0.9193105407709063\n",
      "0.9987112257579045\n"
     ]
    }
   ],
   "source": [
    "model = RandomForestClassifier(random_state=0,n_estimators=100,n_jobs=-1,max_depth=30,min_samples_leaf=3)\n",
    "model.fit(train_data_x, train_data_y)\n",
    "\n",
    "ypred=model.predict_proba(train_data_x)\n",
    "print(accuracy_score(train_data_y,  np.argmax(ypred, axis=1)))\n",
    "print(roc_auc_score(train_data_y, ypred[:,1]))"
   ]
  },
  {
   "cell_type": "code",
   "execution_count": 141,
   "metadata": {},
   "outputs": [
    {
     "data": {
      "text/plain": [
       "array([[<matplotlib.axes._subplots.AxesSubplot object at 0x7f5ffe262cf8>]],\n",
       "      dtype=object)"
      ]
     },
     "execution_count": 141,
     "metadata": {},
     "output_type": "execute_result"
    },
    {
     "data": {
      "image/png": "[encoded data removed]",
      "text/plain": [
       "<Figure size 432x288 with 1 Axes>"
      ]
     },
     "metadata": {},
     "output_type": "display_data"
    }
   ],
   "source": [
    "pd.DataFrame(ypred[:,1]).hist()"
   ]
  },
  {
   "cell_type": "code",
   "execution_count": 142,
   "metadata": {},
   "outputs": [
    {
     "name": "stdout",
     "output_type": "stream",
     "text": [
      "48715\n"
     ]
    }
   ],
   "source": [
    "eval_data=app_data2_3[app_data2_3[\"TARGET\"]!=app_data2_3[\"TARGET\"]].copy()\n",
    "print(len(eval_data))\n",
    "eval_data_x=eval_data.copy()\n",
    "del eval_data_x[\"TARGET\"]\n",
    "del eval_data_x[\"SK_ID_CURR\"]\n",
    "ypred=model.predict_proba(eval_data_x)\n",
    "#ypred2=model2.predict_proba(eval_data_x[imp_cols])"
   ]
  },
  {
   "cell_type": "code",
   "execution_count": 143,
   "metadata": {},
   "outputs": [
    {
     "data": {
      "text/plain": [
       "array([[<matplotlib.axes._subplots.AxesSubplot object at 0x7f5ff6860a90>]],\n",
       "      dtype=object)"
      ]
     },
     "execution_count": 143,
     "metadata": {},
     "output_type": "execute_result"
    },
    {
     "data": {
      "image/png": "[encoded data removed]",
      "text/plain": [
       "<Figure size 432x288 with 1 Axes>"
      ]
     },
     "metadata": {},
     "output_type": "display_data"
    }
   ],
   "source": [
    "pd.DataFrame(ypred[:,1]).hist()"
   ]
  },
  {
   "cell_type": "code",
   "execution_count": 144,
   "metadata": {},
   "outputs": [
    {
     "name": "stdout",
     "output_type": "stream",
     "text": [
      "48715\n"
     ]
    }
   ],
   "source": [
    "submit_data_tmp=pd.concat([eval_data.reset_index(drop=True)[\"SK_ID_CURR\"],pd.DataFrame(ypred[:,1])],axis=1)\n",
    "submit_data_tmp.columns=[\"SK_ID_CURR\",\"TARGET\"]\n",
    "#submit_data.to_csv(\"submit_data_0527_01.csv\",index=False,header=True)\n",
    "print(len(submit_data_tmp))"
   ]
  },
  {
   "cell_type": "code",
   "execution_count": 145,
   "metadata": {},
   "outputs": [],
   "source": [
    "submit_data5=pd.merge(app_data_nosubmit[[\"SK_ID_CURR\"]],submit_data_tmp,on=\"SK_ID_CURR\",how=\"inner\")"
   ]
  },
  {
   "cell_type": "code",
   "execution_count": 146,
   "metadata": {},
   "outputs": [
    {
     "name": "stdout",
     "output_type": "stream",
     "text": [
      "32\n",
      "48474\n",
      "238\n",
      "32\n",
      "0\n"
     ]
    }
   ],
   "source": [
    "print(len(app_data_nosubmit))\n",
    "print(len(submit_data))\n",
    "print(len(submit_data4))\n",
    "print(len(submit_data5))\n",
    "print(len(app_test)-(len(submit_data)+len(submit_data4)+len(submit_data5)))"
   ]
  },
  {
   "cell_type": "code",
   "execution_count": null,
   "metadata": {},
   "outputs": [],
   "source": []
  },
  {
   "cell_type": "code",
   "execution_count": 147,
   "metadata": {},
   "outputs": [],
   "source": [
    "#app_data3_2=app_data3[app_data3[\"TARGET\"]!=app_data3[\"TARGET\"]]\n",
    "#app_data3_2[\"TARGET\"]=app_data3[\"TARGET\"].mean()\n",
    "submit_data6=pd.concat([submit_data,submit_data4,submit_data5]).sort_values(\"SK_ID_CURR\")\n"
   ]
  },
  {
   "cell_type": "code",
   "execution_count": 148,
   "metadata": {},
   "outputs": [
    {
     "name": "stdout",
     "output_type": "stream",
     "text": [
      "48474\n",
      "238\n",
      "32\n",
      "48744\n"
     ]
    }
   ],
   "source": [
    "print(len(submit_data))\n",
    "print(len(submit_data4))\n",
    "print(len(submit_data5))\n",
    "print(len(submit_data6))"
   ]
  },
  {
   "cell_type": "code",
   "execution_count": 149,
   "metadata": {},
   "outputs": [],
   "source": [
    "submit_data6=submit_data6.reset_index(drop=True)"
   ]
  },
  {
   "cell_type": "code",
   "execution_count": 150,
   "metadata": {},
   "outputs": [],
   "source": [
    "submit_data6.to_csv(\"credit_submit_data_0606_02.csv\",index=False,header=True)\n",
    "#tmp_data=pd.read_csv(\"credit_submit_data_0605_01.csv\")"
   ]
  },
  {
   "cell_type": "code",
   "execution_count": null,
   "metadata": {},
   "outputs": [],
   "source": []
  },
  {
   "cell_type": "code",
   "execution_count": null,
   "metadata": {},
   "outputs": [],
   "source": []
  },
  {
   "cell_type": "code",
   "execution_count": null,
   "metadata": {},
   "outputs": [],
   "source": []
  },
  {
   "cell_type": "code",
   "execution_count": null,
   "metadata": {},
   "outputs": [],
   "source": [
    "# ④データを追加"
   ]
  },
  {
   "cell_type": "raw",
   "metadata": {},
   "source": [
    "# 全データ結合\n",
    "merged_data1_2=pd.merge(app_data6,bureau_data2,on=\"SK_ID_CURR\",how=\"inner\")\n",
    "merged_data1_2_3=pd.merge(merged_data1_2,POS_data2,on=\"SK_ID_CURR\",how=\"inner\")\n",
    "merged_data1_2_3_4=pd.merge(merged_data1_2_3,ccb_data2,on=\"SK_ID_CURR\",how=\"inner\")\n",
    "\n",
    "merged_data1_2_4=pd.merge(merged_data1_2,ccb_data2,on=\"SK_ID_CURR\",how=\"inner\")\n",
    "merged_data1_4=pd.merge(app_data6,ccb_data2,on=\"SK_ID_CURR\",how=\"inner\")\n",
    "\n",
    "print(len(merged_data1_2))\n",
    "print(len(merged_data1_2.columns))\n",
    "\n",
    "print(len(merged_data1_2_3))\n",
    "print(len(merged_data1_2_3.columns))\n",
    "\n",
    "print(len(merged_data1_2_3_4))\n",
    "print(len(merged_data1_2_3_4.columns))\n",
    "\n",
    "print(len(merged_data1_2_4))\n",
    "print(len(merged_data1_2_4.columns))\n",
    "\n",
    "print(len(merged_data1_4))\n",
    "print(len(merged_data1_4.columns))\n"
   ]
  },
  {
   "cell_type": "code",
   "execution_count": 68,
   "metadata": {},
   "outputs": [
    {
     "name": "stdout",
     "output_type": "stream",
     "text": [
      "286032\n"
     ]
    }
   ],
   "source": [
    "merged_data1_2_3_4_5_6=pd.merge(app_data6,bureau_data2,on=\"SK_ID_CURR\",how=\"inner\").merge(POS_data2,on=\"SK_ID_CURR\",how=\"inner\").merge(prev_app_cate_sum,on=\"SK_ID_CURR\",how=\"inner\").merge(prev_app_cont_mean,on=\"SK_ID_CURR\",how=\"inner\").merge(inst_pay_aggr2,on=\"SK_ID_CURR\",how=\"inner\")#.merge(ccb_data3,on=\"SK_ID_CURR\",how=\"inner\")\n",
    "print(len(merged_data1_2_3_4_5_6))"
   ]
  },
  {
   "cell_type": "code",
   "execution_count": 69,
   "metadata": {},
   "outputs": [],
   "source": [
    "merged_data1_2_3_4_5_6=pd.merge(merged_data1_2_3_4_5_6,flag_data,on=\"SK_ID_CURR\",how=\"left\")"
   ]
  },
  {
   "cell_type": "code",
   "execution_count": 70,
   "metadata": {},
   "outputs": [
    {
     "name": "stdout",
     "output_type": "stream",
     "text": [
      "244817\n",
      "NG\n",
      "0.9322555214711397\n",
      "0.9995160613858192\n"
     ]
    }
   ],
   "source": [
    "train_data=merged_data1_2_3_4_5_6[merged_data1_2_3_4_5_6[\"TARGET\"]==merged_data1_2_3_4_5_6[\"TARGET\"]]\n",
    "print(len(train_data))\n",
    "\n",
    "train_data_x=train_data.copy()\n",
    "del train_data_x[\"SK_ID_CURR\"]\n",
    "del train_data_x[\"TARGET\"]\n",
    "train_data_y=train_data[\"TARGET\"]\n",
    "\n",
    "try:\n",
    "    del train_data_x[\"ORGANIZATION_TYPE\"]\n",
    "except:\n",
    "    print(\"NG\")\n",
    "    \n",
    "model = RandomForestClassifier(random_state=0,n_estimators=100,n_jobs=-1,max_depth=25,min_samples_leaf=3)\n",
    "model.fit(train_data_x, train_data_y)\n",
    "\n",
    "ypred=model.predict_proba(train_data_x)\n",
    "print(accuracy_score(train_data_y,  np.argmax(ypred, axis=1)))\n",
    "print(roc_auc_score(train_data_y, ypred[:,1]))"
   ]
  },
  {
   "cell_type": "code",
   "execution_count": 71,
   "metadata": {},
   "outputs": [
    {
     "data": {
      "text/plain": [
       "array([[<matplotlib.axes._subplots.AxesSubplot object at 0x7f1f719d0b70>]],\n",
       "      dtype=object)"
      ]
     },
     "execution_count": 71,
     "metadata": {},
     "output_type": "execute_result"
    },
    {
     "data": {
      "image/png": "[encoded data removed]",
      "text/plain": [
       "<Figure size 432x288 with 1 Axes>"
      ]
     },
     "metadata": {},
     "output_type": "display_data"
    }
   ],
   "source": [
    "pd.DataFrame(ypred[:,1]).hist()"
   ]
  },
  {
   "cell_type": "code",
   "execution_count": 72,
   "metadata": {},
   "outputs": [
    {
     "name": "stdout",
     "output_type": "stream",
     "text": [
      "41215\n",
      "41215\n"
     ]
    },
    {
     "data": {
      "text/plain": [
       "array([[<matplotlib.axes._subplots.AxesSubplot object at 0x7f1f74059940>]],\n",
       "      dtype=object)"
      ]
     },
     "execution_count": 72,
     "metadata": {},
     "output_type": "execute_result"
    },
    {
     "data": {
      "image/png": "[encoded data removed]",
      "text/plain": [
       "<Figure size 432x288 with 1 Axes>"
      ]
     },
     "metadata": {},
     "output_type": "display_data"
    }
   ],
   "source": [
    "eval_data=merged_data1_2_3_4_5_6[merged_data1_2_3_4_5_6[\"TARGET\"]!=merged_data1_2_3_4_5_6[\"TARGET\"]].copy()\n",
    "print(len(eval_data))\n",
    "eval_data_x=eval_data.copy()\n",
    "del eval_data_x[\"TARGET\"]\n",
    "del eval_data_x[\"SK_ID_CURR\"]\n",
    "ypred=model.predict_proba(eval_data_x)\n",
    "\n",
    "submit_data1=pd.concat([eval_data.reset_index(drop=True)[\"SK_ID_CURR\"],pd.DataFrame(ypred[:,1])],axis=1)\n",
    "submit_data1.columns=[\"SK_ID_CURR\",\"TARGET\"]\n",
    "print(len(submit_data1))\n",
    "\n",
    "pd.DataFrame(ypred[:,1]).hist()"
   ]
  },
  {
   "cell_type": "code",
   "execution_count": 76,
   "metadata": {},
   "outputs": [],
   "source": [
    "submit_data_tmp=pd.concat([eval_data.reset_index(drop=True)[\"SK_ID_CURR\"],pd.DataFrame(ypred[:,1])],axis=1)\n",
    "submit_data_tmp.columns=[\"SK_ID_CURR\",\"TARGET2\"]\n",
    "submit_data_tmp=submit_data_tmp.set_index(\"SK_ID_CURR\")\n",
    "\n",
    "submit_data8=pd.read_csv(\"credit_submit_data_0607_05.csv\").set_index(\"SK_ID_CURR\")\n",
    "submit_data8.loc[submit_data_tmp.index,\"TARGET\"]=submit_data_tmp[\"TARGET2\"]"
   ]
  },
  {
   "cell_type": "code",
   "execution_count": 78,
   "metadata": {},
   "outputs": [
    {
     "data": {
      "text/plain": [
       "24289"
      ]
     },
     "execution_count": 78,
     "metadata": {},
     "output_type": "execute_result"
    }
   ],
   "source": [
    "tmp=pd.read_csv(\"credit_submit_data_0607_05.csv\").set_index(\"SK_ID_CURR\")\n",
    "(submit_data8[\"TARGET\"]-tmp[\"TARGET\"]).astype(bool).astype(int).sum()"
   ]
  },
  {
   "cell_type": "code",
   "execution_count": 79,
   "metadata": {},
   "outputs": [],
   "source": [
    "submit_data8.to_csv(\"credit_submit_data_0607_06.csv\",index=True,header=True)"
   ]
  },
  {
   "cell_type": "code",
   "execution_count": 297,
   "metadata": {},
   "outputs": [],
   "source": []
  },
  {
   "cell_type": "code",
   "execution_count": null,
   "metadata": {},
   "outputs": [],
   "source": []
  },
  {
   "cell_type": "code",
   "execution_count": null,
   "metadata": {},
   "outputs": [],
   "source": []
  },
  {
   "cell_type": "code",
   "execution_count": null,
   "metadata": {},
   "outputs": [],
   "source": []
  },
  {
   "cell_type": "code",
   "execution_count": 388,
   "metadata": {},
   "outputs": [],
   "source": [
    "# 全データ結合\n",
    "merged_data1_2=pd.merge(app_data6,bureau_data2,on=\"SK_ID_CURR\",how=\"outer\")\n",
    "merged_data1_2_3=pd.merge(merged_data1_2,POS_data2,on=\"SK_ID_CURR\",how=\"outer\")\n",
    "merged_data1_2_3_4=pd.merge(merged_data1_2_3,ccb_data2,on=\"SK_ID_CURR\",how=\"outer\")\n",
    "\n",
    "#merged_data1_2_3_4=pd.merge(merged_data1_2_3_4,flag_data,on=\"SK_ID_CURR\",how=\"outer\")\n",
    "#merged_data1_2_3_4=pd.merge(merged_data1_2_3_4,flag_data.dropna(subset=[\"TARGET\"]),on=\"SK_ID_CURR\",how=\"inner\")"
   ]
  },
  {
   "cell_type": "code",
   "execution_count": null,
   "metadata": {},
   "outputs": [],
   "source": []
  },
  {
   "cell_type": "code",
   "execution_count": 389,
   "metadata": {},
   "outputs": [],
   "source": [
    "#tmp_data=merged_data1_2_3_4[[\"SK_ID_CURR\",'AMT_ANNUITY',\"AMT_ANNUITY_BUREAU\",\"POS_ID_PREV_CNT\",\"CCB_num_of_loans\",\"TARGET\"]].sort_values(\"SK_ID_CURR\").set_index(\"SK_ID_CURR\").fillna(0).astype(bool).astype(int)\n",
    "tmp_data=merged_data1_2_3_4[[\"SK_ID_CURR\",'AMT_ANNUITY',\"AMT_ANNUITY_BUREAU\",\"POS_ID_PREV_CNT\",\"CCB_num_of_loans\"]].sort_values(\"SK_ID_CURR\").set_index(\"SK_ID_CURR\").fillna(0).astype(bool).astype(int)\n",
    "tmp_data.columns=[\"app_data\",\"bureau\",\"pos\",\"ccb\"]\n"
   ]
  },
  {
   "cell_type": "code",
   "execution_count": 390,
   "metadata": {},
   "outputs": [],
   "source": [
    "tmp_data.to_csv(\"merged_0605.csv\",index=False,header=True)"
   ]
  },
  {
   "cell_type": "code",
   "execution_count": null,
   "metadata": {},
   "outputs": [],
   "source": []
  },
  {
   "cell_type": "code",
   "execution_count": null,
   "metadata": {},
   "outputs": [],
   "source": []
  },
  {
   "cell_type": "code",
   "execution_count": 368,
   "metadata": {},
   "outputs": [],
   "source": [
    "# 案：複数のデータセットでモデル生成して、もっとも確率の高いスコアを予測スコアとする"
   ]
  },
  {
   "cell_type": "code",
   "execution_count": null,
   "metadata": {},
   "outputs": [],
   "source": []
  },
  {
   "cell_type": "code",
   "execution_count": 369,
   "metadata": {},
   "outputs": [],
   "source": [
    "tmp_data[\"app_data\"]=tmp_data[\"app_data\"]*1\n",
    "tmp_data[\"bureau\"]=tmp_data[\"bureau\"]*2\n",
    "tmp_data[\"pos\"]=tmp_data[\"pos\"]*4\n",
    "tmp_data[\"ccb\"]=tmp_data[\"ccb\"]*8"
   ]
  },
  {
   "cell_type": "code",
   "execution_count": 370,
   "metadata": {},
   "outputs": [
    {
     "data": {
      "text/plain": [
       "5     165955\n",
       "13     63843\n",
       "7      37852\n",
       "15     20163\n",
       "1      13126\n",
       "9       2388\n",
       "3       1778\n",
       "4       1542\n",
       "11       440\n",
       "0        223\n",
       "12        63\n",
       "6         19\n",
       "2         13\n",
       "14         7\n",
       "8          1\n",
       "dtype: int64"
      ]
     },
     "execution_count": 370,
     "metadata": {},
     "output_type": "execute_result"
    }
   ],
   "source": [
    "(tmp_data[\"app_data\"]+tmp_data[\"bureau\"]+tmp_data[\"pos\"]+tmp_data[\"ccb\"]).value_counts()"
   ]
  },
  {
   "cell_type": "code",
   "execution_count": 371,
   "metadata": {},
   "outputs": [],
   "source": [
    "tmp_data[\"CNT\"]=1\n",
    "tmp_data2=tmp_data.groupby([\"app_data\",\"bureau\",\"pos\",\"ccb\"]).sum()"
   ]
  },
  {
   "cell_type": "code",
   "execution_count": 372,
   "metadata": {},
   "outputs": [],
   "source": [
    "tmp_data2[\"pct\"]=tmp_data2[\"TARGET\"]/tmp_data2[\"CNT\"]"
   ]
  },
  {
   "cell_type": "code",
   "execution_count": 373,
   "metadata": {},
   "outputs": [],
   "source": [
    "tmp_data2.to_csv(\"merged_0605_aggr2.csv\",index=True,header=True)"
   ]
  },
  {
   "cell_type": "code",
   "execution_count": 374,
   "metadata": {},
   "outputs": [
    {
     "data": {
      "text/html": [
       "<div>\n",
       "<style scoped>\n",
       "    .dataframe tbody tr th:only-of-type {\n",
       "        vertical-align: middle;\n",
       "    }\n",
       "\n",
       "    .dataframe tbody tr th {\n",
       "        vertical-align: top;\n",
       "    }\n",
       "\n",
       "    .dataframe thead th {\n",
       "        text-align: right;\n",
       "    }\n",
       "</style>\n",
       "<table border=\"1\" class=\"dataframe\">\n",
       "  <thead>\n",
       "    <tr style=\"text-align: right;\">\n",
       "      <th></th>\n",
       "      <th></th>\n",
       "      <th></th>\n",
       "      <th></th>\n",
       "      <th>TARGET</th>\n",
       "      <th>CNT</th>\n",
       "      <th>pct</th>\n",
       "    </tr>\n",
       "    <tr>\n",
       "      <th>app_data</th>\n",
       "      <th>bureau</th>\n",
       "      <th>pos</th>\n",
       "      <th>ccb</th>\n",
       "      <th></th>\n",
       "      <th></th>\n",
       "      <th></th>\n",
       "    </tr>\n",
       "  </thead>\n",
       "  <tbody>\n",
       "    <tr>\n",
       "      <th rowspan=\"7\" valign=\"top\">0</th>\n",
       "      <th rowspan=\"4\" valign=\"top\">0</th>\n",
       "      <th rowspan=\"2\" valign=\"top\">0</th>\n",
       "      <th>0</th>\n",
       "      <td>2</td>\n",
       "      <td>223</td>\n",
       "      <td>0.008969</td>\n",
       "    </tr>\n",
       "    <tr>\n",
       "      <th>8</th>\n",
       "      <td>0</td>\n",
       "      <td>1</td>\n",
       "      <td>0.000000</td>\n",
       "    </tr>\n",
       "    <tr>\n",
       "      <th rowspan=\"2\" valign=\"top\">4</th>\n",
       "      <th>0</th>\n",
       "      <td>103</td>\n",
       "      <td>1542</td>\n",
       "      <td>0.066796</td>\n",
       "    </tr>\n",
       "    <tr>\n",
       "      <th>8</th>\n",
       "      <td>4</td>\n",
       "      <td>63</td>\n",
       "      <td>0.063492</td>\n",
       "    </tr>\n",
       "    <tr>\n",
       "      <th rowspan=\"3\" valign=\"top\">2</th>\n",
       "      <th>0</th>\n",
       "      <th>0</th>\n",
       "      <td>0</td>\n",
       "      <td>13</td>\n",
       "      <td>0.000000</td>\n",
       "    </tr>\n",
       "    <tr>\n",
       "      <th rowspan=\"2\" valign=\"top\">4</th>\n",
       "      <th>0</th>\n",
       "      <td>0</td>\n",
       "      <td>19</td>\n",
       "      <td>0.000000</td>\n",
       "    </tr>\n",
       "    <tr>\n",
       "      <th>8</th>\n",
       "      <td>0</td>\n",
       "      <td>7</td>\n",
       "      <td>0.000000</td>\n",
       "    </tr>\n",
       "    <tr>\n",
       "      <th rowspan=\"8\" valign=\"top\">1</th>\n",
       "      <th rowspan=\"4\" valign=\"top\">0</th>\n",
       "      <th rowspan=\"2\" valign=\"top\">0</th>\n",
       "      <th>0</th>\n",
       "      <td>767</td>\n",
       "      <td>13126</td>\n",
       "      <td>0.058434</td>\n",
       "    </tr>\n",
       "    <tr>\n",
       "      <th>8</th>\n",
       "      <td>289</td>\n",
       "      <td>2388</td>\n",
       "      <td>0.121022</td>\n",
       "    </tr>\n",
       "    <tr>\n",
       "      <th rowspan=\"2\" valign=\"top\">4</th>\n",
       "      <th>0</th>\n",
       "      <td>12949</td>\n",
       "      <td>165955</td>\n",
       "      <td>0.078027</td>\n",
       "    </tr>\n",
       "    <tr>\n",
       "      <th>8</th>\n",
       "      <td>5358</td>\n",
       "      <td>63843</td>\n",
       "      <td>0.083925</td>\n",
       "    </tr>\n",
       "    <tr>\n",
       "      <th rowspan=\"4\" valign=\"top\">2</th>\n",
       "      <th rowspan=\"2\" valign=\"top\">0</th>\n",
       "      <th>0</th>\n",
       "      <td>114</td>\n",
       "      <td>1778</td>\n",
       "      <td>0.064117</td>\n",
       "    </tr>\n",
       "    <tr>\n",
       "      <th>8</th>\n",
       "      <td>32</td>\n",
       "      <td>440</td>\n",
       "      <td>0.072727</td>\n",
       "    </tr>\n",
       "    <tr>\n",
       "      <th rowspan=\"2\" valign=\"top\">4</th>\n",
       "      <th>0</th>\n",
       "      <td>3356</td>\n",
       "      <td>37852</td>\n",
       "      <td>0.088661</td>\n",
       "    </tr>\n",
       "    <tr>\n",
       "      <th>8</th>\n",
       "      <td>1851</td>\n",
       "      <td>20163</td>\n",
       "      <td>0.091802</td>\n",
       "    </tr>\n",
       "  </tbody>\n",
       "</table>\n",
       "</div>"
      ],
      "text/plain": [
       "                         TARGET     CNT       pct\n",
       "app_data bureau pos ccb                          \n",
       "0        0      0   0         2     223  0.008969\n",
       "                    8         0       1  0.000000\n",
       "                4   0       103    1542  0.066796\n",
       "                    8         4      63  0.063492\n",
       "         2      0   0         0      13  0.000000\n",
       "                4   0         0      19  0.000000\n",
       "                    8         0       7  0.000000\n",
       "1        0      0   0       767   13126  0.058434\n",
       "                    8       289    2388  0.121022\n",
       "                4   0     12949  165955  0.078027\n",
       "                    8      5358   63843  0.083925\n",
       "         2      0   0       114    1778  0.064117\n",
       "                    8        32     440  0.072727\n",
       "                4   0      3356   37852  0.088661\n",
       "                    8      1851   20163  0.091802"
      ]
     },
     "execution_count": 374,
     "metadata": {},
     "output_type": "execute_result"
    }
   ],
   "source": [
    "tmp_data2"
   ]
  },
  {
   "cell_type": "code",
   "execution_count": 470,
   "metadata": {},
   "outputs": [],
   "source": [
    "# ①③④だけのデータで予測して、対象者の結果を置き換える\n",
    "tgt_index=tmp_data[(tmp_data[\"app_data\"]==1)&(tmp_data[\"bureau\"]==0)&(tmp_data[\"pos\"]==1)&(tmp_data[\"ccb\"]==1)].index\n",
    "\n",
    "merged_data1_3_4_ex=app_data6.merge(POS_data2,on=\"SK_ID_CURR\",how=\"inner\").merge(ccb_data2,on=\"SK_ID_CURR\",how=\"inner\").set_index(\"SK_ID_CURR\").ix[tgt_index]\n",
    "merged_data1_3_4_ex=pd.merge(merged_data1_3_4_ex.reset_index(),flag_data,on=\"SK_ID_CURR\",how=\"left\")"
   ]
  },
  {
   "cell_type": "code",
   "execution_count": 471,
   "metadata": {},
   "outputs": [
    {
     "name": "stdout",
     "output_type": "stream",
     "text": [
      "70011\n",
      "70011\n"
     ]
    }
   ],
   "source": [
    "print(len(tgt_index))\n",
    "print(len(merged_data1_3_4_ex))"
   ]
  },
  {
   "cell_type": "code",
   "execution_count": 476,
   "metadata": {},
   "outputs": [
    {
     "name": "stdout",
     "output_type": "stream",
     "text": [
      "63843\n",
      "NG\n",
      "0.9677803361370863\n",
      "0.9999992851732193\n"
     ]
    },
    {
     "data": {
      "text/plain": [
       "array([[<matplotlib.axes._subplots.AxesSubplot object at 0x7f36ebf858d0>]],\n",
       "      dtype=object)"
      ]
     },
     "execution_count": 476,
     "metadata": {},
     "output_type": "execute_result"
    },
    {
     "data": {
      "image/png": "[encoded data removed]",
      "text/plain": [
       "<Figure size 432x288 with 1 Axes>"
      ]
     },
     "metadata": {},
     "output_type": "display_data"
    }
   ],
   "source": [
    "train_data=merged_data1_3_4_ex[merged_data1_3_4_ex[\"TARGET\"]==merged_data1_3_4_ex[\"TARGET\"]]\n",
    "print(len(train_data))\n",
    "\n",
    "train_data_x=train_data.copy()\n",
    "del train_data_x[\"SK_ID_CURR\"]\n",
    "del train_data_x[\"TARGET\"]\n",
    "train_data_y=train_data[\"TARGET\"]\n",
    "\n",
    "try:\n",
    "    del train_data_x[\"ORGANIZATION_TYPE\"]\n",
    "except:\n",
    "    print(\"NG\")\n",
    "    \n",
    "model = RandomForestClassifier(random_state=0,n_estimators=100,n_jobs=-1,max_depth=30,min_samples_leaf=2)\n",
    "model.fit(train_data_x, train_data_y)\n",
    "\n",
    "ypred=model.predict_proba(train_data_x)\n",
    "print(accuracy_score(train_data_y,  np.argmax(ypred, axis=1)))\n",
    "print(roc_auc_score(train_data_y, ypred[:,1]))\n",
    "\n",
    "pd.DataFrame(ypred[:,1]).hist()"
   ]
  },
  {
   "cell_type": "code",
   "execution_count": 477,
   "metadata": {},
   "outputs": [
    {
     "name": "stdout",
     "output_type": "stream",
     "text": [
      "6168\n",
      "6168\n"
     ]
    },
    {
     "data": {
      "text/plain": [
       "array([[<matplotlib.axes._subplots.AxesSubplot object at 0x7f36dc9a23c8>]],\n",
       "      dtype=object)"
      ]
     },
     "execution_count": 477,
     "metadata": {},
     "output_type": "execute_result"
    },
    {
     "data": {
      "image/png": "[encoded data removed]",
      "text/plain": [
       "<Figure size 432x288 with 1 Axes>"
      ]
     },
     "metadata": {},
     "output_type": "display_data"
    }
   ],
   "source": [
    "eval_data=merged_data1_3_4_ex[merged_data1_3_4_ex[\"TARGET\"]!=merged_data1_3_4_ex[\"TARGET\"]].copy()\n",
    "print(len(eval_data))\n",
    "eval_data_x=eval_data.copy()\n",
    "del eval_data_x[\"TARGET\"]\n",
    "del eval_data_x[\"SK_ID_CURR\"]\n",
    "ypred=model.predict_proba(eval_data_x)\n",
    "\n",
    "submit_data1=pd.concat([eval_data.reset_index(drop=True)[\"SK_ID_CURR\"],pd.DataFrame(ypred[:,1])],axis=1)\n",
    "submit_data1.columns=[\"SK_ID_CURR\",\"TARGET\"]\n",
    "print(len(submit_data1))\n",
    "\n",
    "pd.DataFrame(ypred[:,1]).hist()"
   ]
  },
  {
   "cell_type": "code",
   "execution_count": null,
   "metadata": {},
   "outputs": [],
   "source": []
  },
  {
   "cell_type": "code",
   "execution_count": 478,
   "metadata": {},
   "outputs": [
    {
     "name": "stdout",
     "output_type": "stream",
     "text": [
      "6168\n"
     ]
    }
   ],
   "source": [
    "submit_data_tmp=pd.concat([eval_data.reset_index(drop=True)[\"SK_ID_CURR\"],pd.DataFrame(ypred[:,1])],axis=1)\n",
    "submit_data_tmp.columns=[\"SK_ID_CURR\",\"TARGET2\"]\n",
    "\n",
    "submit_data8=submit_data6.copy()\n",
    "submit_data_tmp=submit_data_tmp.set_index(\"SK_ID_CURR\")\n",
    "#submit_data8=submit_data6.set_index(\"SK_ID_CURR\")\n",
    "\n",
    "submit_data8.loc[submit_data_tmp.index,\"TARGET\"]=submit_data_tmp[\"TARGET2\"]\n",
    "\n",
    "print(len(submit_data6[\"TARGET\"])-(submit_data6[\"TARGET\"]==submit_data8[\"TARGET\"]).astype(int).sum())"
   ]
  },
  {
   "cell_type": "code",
   "execution_count": 479,
   "metadata": {},
   "outputs": [],
   "source": [
    "#submit_data8.to_csv(\"credit_submit_data_0606_01.csv\",index=True,header=True)"
   ]
  },
  {
   "cell_type": "code",
   "execution_count": null,
   "metadata": {},
   "outputs": [],
   "source": []
  },
  {
   "cell_type": "code",
   "execution_count": null,
   "metadata": {},
   "outputs": [],
   "source": []
  },
  {
   "cell_type": "code",
   "execution_count": 50,
   "metadata": {},
   "outputs": [],
   "source": [
    "submit_data.columns=[\"SK_ID_CURR\",\"TARGET2\"]\n",
    "submit_data8=pd.read_csv(\"credit_submit_data_0607_05.csv\").set_index(\"SK_ID_CURR\")\n",
    "submit_data_tmp=submit_data.copy()\n",
    "submit_data_tmp=submit_data_tmp.set_index(\"SK_ID_CURR\")\n",
    "submit_data8.loc[submit_data_tmp.index,\"TARGET\"]=submit_data_tmp[\"TARGET2\"]"
   ]
  },
  {
   "cell_type": "code",
   "execution_count": 51,
   "metadata": {},
   "outputs": [
    {
     "data": {
      "text/html": [
       "<div>\n",
       "<style scoped>\n",
       "    .dataframe tbody tr th:only-of-type {\n",
       "        vertical-align: middle;\n",
       "    }\n",
       "\n",
       "    .dataframe tbody tr th {\n",
       "        vertical-align: top;\n",
       "    }\n",
       "\n",
       "    .dataframe thead th {\n",
       "        text-align: right;\n",
       "    }\n",
       "</style>\n",
       "<table border=\"1\" class=\"dataframe\">\n",
       "  <thead>\n",
       "    <tr style=\"text-align: right;\">\n",
       "      <th></th>\n",
       "      <th>TARGET</th>\n",
       "    </tr>\n",
       "    <tr>\n",
       "      <th>SK_ID_CURR</th>\n",
       "      <th></th>\n",
       "    </tr>\n",
       "  </thead>\n",
       "  <tbody>\n",
       "    <tr>\n",
       "      <th>100001</th>\n",
       "      <td>0.042454</td>\n",
       "    </tr>\n",
       "    <tr>\n",
       "      <th>100005</th>\n",
       "      <td>0.097603</td>\n",
       "    </tr>\n",
       "    <tr>\n",
       "      <th>100013</th>\n",
       "      <td>0.058171</td>\n",
       "    </tr>\n",
       "    <tr>\n",
       "      <th>100028</th>\n",
       "      <td>0.056082</td>\n",
       "    </tr>\n",
       "    <tr>\n",
       "      <th>100038</th>\n",
       "      <td>0.124911</td>\n",
       "    </tr>\n",
       "  </tbody>\n",
       "</table>\n",
       "</div>"
      ],
      "text/plain": [
       "              TARGET\n",
       "SK_ID_CURR          \n",
       "100001      0.042454\n",
       "100005      0.097603\n",
       "100013      0.058171\n",
       "100028      0.056082\n",
       "100038      0.124911"
      ]
     },
     "execution_count": 51,
     "metadata": {},
     "output_type": "execute_result"
    }
   ],
   "source": [
    "submit_data8.head()"
   ]
  },
  {
   "cell_type": "code",
   "execution_count": 52,
   "metadata": {},
   "outputs": [],
   "source": [
    "submit_data8.to_csv(\"credit_submit_data_0607_05.csv\",index=True,header=True) #ベスト"
   ]
  },
  {
   "cell_type": "code",
   "execution_count": null,
   "metadata": {},
   "outputs": [],
   "source": []
  },
  {
   "cell_type": "code",
   "execution_count": null,
   "metadata": {},
   "outputs": [],
   "source": []
  },
  {
   "cell_type": "code",
   "execution_count": null,
   "metadata": {},
   "outputs": [],
   "source": []
  },
  {
   "cell_type": "code",
   "execution_count": null,
   "metadata": {},
   "outputs": [],
   "source": []
  },
  {
   "cell_type": "code",
   "execution_count": 62,
   "metadata": {},
   "outputs": [
    {
     "data": {
      "text/plain": [
       "47743"
      ]
     },
     "execution_count": 62,
     "metadata": {},
     "output_type": "execute_result"
    }
   ],
   "source": [
    "tmp=pd.read_csv(\"credit_submit_data_0606_02.csv\").set_index(\"SK_ID_CURR\")\n",
    "(submit_data8[\"TARGET\"]-tmp[\"TARGET\"]).astype(bool).astype(int).sum()"
   ]
  },
  {
   "cell_type": "code",
   "execution_count": 161,
   "metadata": {},
   "outputs": [
    {
     "data": {
      "text/plain": [
       "48744"
      ]
     },
     "execution_count": 161,
     "metadata": {},
     "output_type": "execute_result"
    }
   ],
   "source": [
    "len(submit_data8)"
   ]
  },
  {
   "cell_type": "code",
   "execution_count": null,
   "metadata": {},
   "outputs": [],
   "source": []
  },
  {
   "cell_type": "code",
   "execution_count": null,
   "metadata": {},
   "outputs": [],
   "source": []
  },
  {
   "cell_type": "code",
   "execution_count": 9,
   "metadata": {},
   "outputs": [
    {
     "name": "stdout",
     "output_type": "stream",
     "text": [
      "(1670214, 37)\n",
      "338857\n",
      "1670214\n"
     ]
    },
    {
     "name": "stderr",
     "output_type": "stream",
     "text": [
      "100%|██████████| 16/16 [00:15<00:00,  1.04it/s]\n"
     ]
    }
   ],
   "source": [
    "# previous_applicationデータの加工\n",
    "prev_app=pd.read_csv(\"previous_application.csv\")\n",
    "prev_app=prev_app.replace(\"XNA\",np.nan)\n",
    "print(prev_app.shape)\n",
    "print(len(prev_app[\"SK_ID_CURR\"].value_counts()))\n",
    "\n",
    "print(len(prev_app.sort_values([\"SK_ID_CURR\",\"SK_ID_PREV\"])))\n",
    "# 2種類のIDの組み合わせはユニークらしい\n",
    "\n",
    "prev_app2=prev_app.copy()\n",
    "#prev_app2[\"FLAG_LAST_APPL_PER_CONTRACT\"]=prev_app2[\"FLAG_LAST_APPL_PER_CONTRACT\"].replace(\"Y\",1).replace(\"N\",0)\n",
    "for tgt_col in tqdm([\"NAME_CONTRACT_TYPE\",\"WEEKDAY_APPR_PROCESS_START\",\"NAME_CASH_LOAN_PURPOSE\",\"NAME_CONTRACT_STATUS\",\n",
    "                     \"NAME_PAYMENT_TYPE\",\"CODE_REJECT_REASON\",\"NAME_TYPE_SUITE\",\"NAME_CLIENT_TYPE\",\"NAME_GOODS_CATEGORY\",\n",
    "                     \"NAME_PORTFOLIO\",\"NAME_PRODUCT_TYPE\",\"FLAG_LAST_APPL_PER_CONTRACT\",\"CHANNEL_TYPE\",\"NAME_SELLER_INDUSTRY\",\n",
    "                     \"NAME_YIELD_GROUP\",\"PRODUCT_COMBINATION\"]):\n",
    "    #print(tgt_col)\n",
    "    tmp_DF=pd.get_dummies(prev_app2[tgt_col])\n",
    "    tmp_DF.columns=[tgt_col+\"_\"+str(x) for x in tmp_DF.columns]\n",
    "\n",
    "    prev_app2=pd.concat([prev_app2,tmp_DF],axis=1)\n",
    "    del prev_app2[tgt_col]"
   ]
  },
  {
   "cell_type": "raw",
   "metadata": {},
   "source": [
    "tgt_col='PRODUCT_COMBINATION'\n",
    "tmp_DF=pd.get_dummies(prev_app2[tgt_col])\n",
    "tmp_DF.columns=[tgt_col+\"_\"+str(x) for x in tmp_DF.columns]\n",
    "\n",
    "prev_app2=pd.concat([prev_app2,tmp_DF],axis=1)\n",
    "del prev_app2[tgt_col]"
   ]
  },
  {
   "cell_type": "code",
   "execution_count": 10,
   "metadata": {},
   "outputs": [
    {
     "name": "stdout",
     "output_type": "stream",
     "text": [
      "['NFLAG_LAST_APPL_IN_DAY', 'NFLAG_INSURED_ON_APPROVAL']\n",
      "338857\n",
      "338602\n"
     ]
    }
   ],
   "source": [
    "prev_app2_cate=pd.concat([prev_app2[prev_app2.columns[1:2]],prev_app2[prev_app2.columns[21:]]],axis=1)\n",
    "prev_app2_cont=prev_app2[prev_app2.columns[:21]]\n",
    "prev_app2_cont[\"HOUR_APPR_PROCESS_START\"]=prev_app2_cont[\"HOUR_APPR_PROCESS_START\"].replace(0,24).replace(1,25).replace(2,26)\n",
    "\n",
    "print(grep_include(prev_app2_cont.columns,\"FLAG\")) # フラグをカテゴリとするかは、後日検討\n",
    "print(len(prev_app[\"SK_ID_CURR\"].value_counts()))\n",
    "# 案：キャンセルになったレコードを削除する or しないで２パターン試す →削除するほうがよい\n",
    "print(len(prev_app[prev_app[\"NAME_CONTRACT_STATUS\"]!=\"Canceled\"][\"SK_ID_CURR\"].value_counts()))\n",
    "\n",
    "prev_app2_cont=prev_app2_cont[prev_app2[\"NAME_CONTRACT_STATUS_Canceled\"]!=1]\n",
    "del prev_app2_cont[\"SK_ID_PREV\"]\n",
    "prev_app_cont_mean=prev_app2_cont.groupby(\"SK_ID_CURR\").mean()"
   ]
  },
  {
   "cell_type": "code",
   "execution_count": 11,
   "metadata": {},
   "outputs": [
    {
     "name": "stderr",
     "output_type": "stream",
     "text": [
      "100%|██████████| 19/19 [00:00<00:00, 77.68it/s]\n"
     ]
    },
    {
     "name": "stdout",
     "output_type": "stream",
     "text": [
      "338602\n",
      "336519\n",
      "15\n"
     ]
    }
   ],
   "source": [
    "col_lst_prev_app=[]\n",
    "for tmp_col in tqdm(prev_app_cont_mean.columns):\n",
    "    if prev_app_cont_mean[tmp_col].value_counts().sum()/len(prev_app_cont_mean) > 0.95:\n",
    "        col_lst_prev_app.append(tmp_col)\n",
    "\n",
    "print(len(prev_app_cont_mean))\n",
    "print(len(prev_app_cont_mean[col_lst_prev_app].dropna()))\n",
    "print(len(col_lst_prev_app))\n",
    "\n",
    "# ⑤データ\n",
    "prev_app_cont_mean=prev_app_cont_mean[col_lst_prev_app].dropna()\n",
    "#prev_app2_cont.sort_values(\"SK_ID_CURR\")\n",
    "prev_app_cont_mean.columns=[\"6_\"+str(x)+\"_mean\" for x in prev_app_cont_mean.columns]\n",
    "prev_app_cont_mean=prev_app_cont_mean.reset_index()\n",
    "\n",
    "# ⑥データ\n",
    "prev_app_cate_sum=prev_app2_cate.groupby(\"SK_ID_CURR\").sum()\n",
    "prev_app_cate_sum.columns=[\"6_\"+str(x)+\"_sum\" for x in prev_app_cate_sum.columns]\n",
    "prev_app_cate_sum=prev_app_cate_sum.reset_index()"
   ]
  },
  {
   "cell_type": "code",
   "execution_count": null,
   "metadata": {},
   "outputs": [],
   "source": []
  },
  {
   "cell_type": "code",
   "execution_count": null,
   "metadata": {},
   "outputs": [],
   "source": [
    "# 変数選択→　しないほうがよい"
   ]
  },
  {
   "cell_type": "code",
   "execution_count": 108,
   "metadata": {},
   "outputs": [],
   "source": [
    "tmp_prev=pd.merge(prev_app_cate_sum, flag_data, on=\"SK_ID_CURR\", how=\"left\")"
   ]
  },
  {
   "cell_type": "code",
   "execution_count": 109,
   "metadata": {},
   "outputs": [
    {
     "name": "stdout",
     "output_type": "stream",
     "text": [
      "291057\n",
      "NG\n",
      "0.9779974369281619\n",
      "0.9907837521858908\n"
     ]
    }
   ],
   "source": [
    "train_data=tmp_prev[tmp_prev[\"TARGET\"]==tmp_prev[\"TARGET\"]]\n",
    "print(len(train_data))\n",
    "\n",
    "train_data_x=train_data.copy()\n",
    "del train_data_x[\"SK_ID_CURR\"]\n",
    "del train_data_x[\"TARGET\"]\n",
    "train_data_y=train_data[\"TARGET\"]\n",
    "\n",
    "try:\n",
    "    del train_data_x[\"ORGANIZATION_TYPE\"]\n",
    "except:\n",
    "    print(\"NG\")\n",
    "    \n",
    "model = RandomForestClassifier(random_state=0,n_estimators=100,n_jobs=-1,max_depth=40)\n",
    "model.fit(train_data_x, train_data_y)\n",
    "\n",
    "ypred=model.predict_proba(train_data_x)\n",
    "print(accuracy_score(train_data_y,  np.argmax(ypred, axis=1)))\n",
    "print(roc_auc_score(train_data_y, ypred[:,1]))"
   ]
  },
  {
   "cell_type": "code",
   "execution_count": 110,
   "metadata": {},
   "outputs": [
    {
     "data": {
      "text/plain": [
       "array([[<matplotlib.axes._subplots.AxesSubplot object at 0x7fdc28a94c50>]],\n",
       "      dtype=object)"
      ]
     },
     "execution_count": 110,
     "metadata": {},
     "output_type": "execute_result"
    },
    {
     "data": {
      "image/png": "[encoded data removed]",
      "text/plain": [
       "<Figure size 432x288 with 1 Axes>"
      ]
     },
     "metadata": {},
     "output_type": "display_data"
    }
   ],
   "source": [
    "pd.DataFrame(ypred[:,1]).hist()"
   ]
  },
  {
   "cell_type": "code",
   "execution_count": 111,
   "metadata": {},
   "outputs": [],
   "source": [
    "imp_data=pd.DataFrame([train_data_x.columns,model.feature_importances_]).T\n",
    "imp_data.columns=[\"col\",\"imp\"]\n",
    "\n",
    "imp_data=imp_data.sort_values(\"imp\",ascending=False)\n",
    "imp_data=imp_data.reset_index(drop=True)\n",
    "\n",
    "imp_data[\"cumsum\"]=imp_data.cumsum()[\"imp\"]\n",
    "\n"
   ]
  },
  {
   "cell_type": "code",
   "execution_count": 71,
   "metadata": {},
   "outputs": [
    {
     "data": {
      "text/html": [
       "<div>\n",
       "<style scoped>\n",
       "    .dataframe tbody tr th:only-of-type {\n",
       "        vertical-align: middle;\n",
       "    }\n",
       "\n",
       "    .dataframe tbody tr th {\n",
       "        vertical-align: top;\n",
       "    }\n",
       "\n",
       "    .dataframe thead th {\n",
       "        text-align: right;\n",
       "    }\n",
       "</style>\n",
       "<table border=\"1\" class=\"dataframe\">\n",
       "  <thead>\n",
       "    <tr style=\"text-align: right;\">\n",
       "      <th></th>\n",
       "      <th>col</th>\n",
       "      <th>imp</th>\n",
       "      <th>cumsum</th>\n",
       "    </tr>\n",
       "  </thead>\n",
       "  <tbody>\n",
       "    <tr>\n",
       "      <th>118</th>\n",
       "      <td>6_NAME_GOODS_CATEGORY_Direct Sales_sum</td>\n",
       "      <td>0.000368583</td>\n",
       "      <td>0.998449</td>\n",
       "    </tr>\n",
       "    <tr>\n",
       "      <th>119</th>\n",
       "      <td>6_NAME_SELLER_INDUSTRY_Tourism_sum</td>\n",
       "      <td>0.000227624</td>\n",
       "      <td>0.998677</td>\n",
       "    </tr>\n",
       "    <tr>\n",
       "      <th>120</th>\n",
       "      <td>6_NAME_PORTFOLIO_Cars_sum</td>\n",
       "      <td>0.000176398</td>\n",
       "      <td>0.998853</td>\n",
       "    </tr>\n",
       "    <tr>\n",
       "      <th>121</th>\n",
       "      <td>6_NAME_GOODS_CATEGORY_Insurance_sum</td>\n",
       "      <td>0.000173214</td>\n",
       "      <td>0.999027</td>\n",
       "    </tr>\n",
       "    <tr>\n",
       "      <th>122</th>\n",
       "      <td>6_NAME_GOODS_CATEGORY_Fitness_sum</td>\n",
       "      <td>0.000161771</td>\n",
       "      <td>0.999188</td>\n",
       "    </tr>\n",
       "    <tr>\n",
       "      <th>123</th>\n",
       "      <td>6_CHANNEL_TYPE_Car dealer_sum</td>\n",
       "      <td>0.000154973</td>\n",
       "      <td>0.999343</td>\n",
       "    </tr>\n",
       "    <tr>\n",
       "      <th>124</th>\n",
       "      <td>6_NAME_CASH_LOAN_PURPOSE_Hobby_sum</td>\n",
       "      <td>0.000140576</td>\n",
       "      <td>0.999484</td>\n",
       "    </tr>\n",
       "    <tr>\n",
       "      <th>125</th>\n",
       "      <td>6_NAME_GOODS_CATEGORY_Additional Service_sum</td>\n",
       "      <td>0.000133577</td>\n",
       "      <td>0.999618</td>\n",
       "    </tr>\n",
       "    <tr>\n",
       "      <th>126</th>\n",
       "      <td>6_NAME_CASH_LOAN_PURPOSE_Buying a garage_sum</td>\n",
       "      <td>0.000106374</td>\n",
       "      <td>0.999724</td>\n",
       "    </tr>\n",
       "    <tr>\n",
       "      <th>127</th>\n",
       "      <td>6_NAME_GOODS_CATEGORY_Weapon_sum</td>\n",
       "      <td>9.15076e-05</td>\n",
       "      <td>0.999815</td>\n",
       "    </tr>\n",
       "    <tr>\n",
       "      <th>128</th>\n",
       "      <td>6_NAME_GOODS_CATEGORY_Education_sum</td>\n",
       "      <td>8.64303e-05</td>\n",
       "      <td>0.999902</td>\n",
       "    </tr>\n",
       "    <tr>\n",
       "      <th>129</th>\n",
       "      <td>6_NAME_CASH_LOAN_PURPOSE_Refusal to name the g...</td>\n",
       "      <td>5.28269e-05</td>\n",
       "      <td>0.999955</td>\n",
       "    </tr>\n",
       "    <tr>\n",
       "      <th>130</th>\n",
       "      <td>6_NAME_CASH_LOAN_PURPOSE_Money for a third per...</td>\n",
       "      <td>4.4618e-05</td>\n",
       "      <td>0.999999</td>\n",
       "    </tr>\n",
       "    <tr>\n",
       "      <th>131</th>\n",
       "      <td>6_NAME_GOODS_CATEGORY_Animals_sum</td>\n",
       "      <td>6.95314e-07</td>\n",
       "      <td>1</td>\n",
       "    </tr>\n",
       "    <tr>\n",
       "      <th>132</th>\n",
       "      <td>6_NAME_GOODS_CATEGORY_House Construction_sum</td>\n",
       "      <td>0</td>\n",
       "      <td>1</td>\n",
       "    </tr>\n",
       "  </tbody>\n",
       "</table>\n",
       "</div>"
      ],
      "text/plain": [
       "                                                   col          imp    cumsum\n",
       "118             6_NAME_GOODS_CATEGORY_Direct Sales_sum  0.000368583  0.998449\n",
       "119                 6_NAME_SELLER_INDUSTRY_Tourism_sum  0.000227624  0.998677\n",
       "120                          6_NAME_PORTFOLIO_Cars_sum  0.000176398  0.998853\n",
       "121                6_NAME_GOODS_CATEGORY_Insurance_sum  0.000173214  0.999027\n",
       "122                  6_NAME_GOODS_CATEGORY_Fitness_sum  0.000161771  0.999188\n",
       "123                      6_CHANNEL_TYPE_Car dealer_sum  0.000154973  0.999343\n",
       "124                 6_NAME_CASH_LOAN_PURPOSE_Hobby_sum  0.000140576  0.999484\n",
       "125       6_NAME_GOODS_CATEGORY_Additional Service_sum  0.000133577  0.999618\n",
       "126       6_NAME_CASH_LOAN_PURPOSE_Buying a garage_sum  0.000106374  0.999724\n",
       "127                   6_NAME_GOODS_CATEGORY_Weapon_sum  9.15076e-05  0.999815\n",
       "128                6_NAME_GOODS_CATEGORY_Education_sum  8.64303e-05  0.999902\n",
       "129  6_NAME_CASH_LOAN_PURPOSE_Refusal to name the g...  5.28269e-05  0.999955\n",
       "130  6_NAME_CASH_LOAN_PURPOSE_Money for a third per...   4.4618e-05  0.999999\n",
       "131                  6_NAME_GOODS_CATEGORY_Animals_sum  6.95314e-07         1\n",
       "132       6_NAME_GOODS_CATEGORY_House Construction_sum            0         1"
      ]
     },
     "execution_count": 71,
     "metadata": {},
     "output_type": "execute_result"
    }
   ],
   "source": [
    "imp_data.tail(15)"
   ]
  },
  {
   "cell_type": "code",
   "execution_count": null,
   "metadata": {},
   "outputs": [],
   "source": []
  },
  {
   "cell_type": "code",
   "execution_count": 83,
   "metadata": {},
   "outputs": [
    {
     "name": "stdout",
     "output_type": "stream",
     "text": [
      "0.95\n",
      "79\n",
      "0.9907646985473104\n",
      "\n",
      "0.951\n",
      "79\n",
      "0.9907646985473105\n",
      "\n",
      "0.952\n",
      "80\n",
      "0.9908119272163075\n",
      "\n",
      "0.953\n",
      "80\n",
      "0.9908119272163076\n",
      "\n",
      "0.954\n",
      "80\n",
      "0.9908119272163075\n",
      "\n",
      "0.955\n",
      "81\n",
      "0.9907494975092983\n",
      "\n",
      "0.956\n",
      "81\n",
      "0.9907494975092983\n",
      "\n",
      "0.957\n",
      "82\n",
      "0.9907621796629918\n",
      "\n",
      "0.958\n",
      "82\n",
      "0.9907621796629917\n",
      "\n",
      "0.959\n",
      "83\n",
      "0.9907495663295589\n",
      "\n",
      "0.96\n",
      "83\n",
      "0.9907495663295589\n",
      "\n",
      "0.961\n",
      "84\n",
      "0.990805935223759\n",
      "\n",
      "0.962\n",
      "84\n",
      "0.990805935223759\n",
      "\n",
      "0.963\n",
      "85\n",
      "0.9908477231685443\n",
      "\n",
      "0.964\n",
      "85\n",
      "0.9908477231685443\n",
      "\n",
      "0.965\n",
      "86\n",
      "0.9907926708836186\n",
      "\n",
      "0.966\n",
      "86\n",
      "0.9907926708836187\n",
      "\n",
      "0.967\n",
      "87\n",
      "0.9908797105432077\n",
      "\n",
      "0.968\n",
      "87\n",
      "0.9908797105432078\n",
      "\n",
      "0.969\n",
      "88\n",
      "0.990847287803885\n",
      "\n",
      "0.97\n",
      "88\n",
      "0.9908472878038849\n",
      "\n",
      "0.971\n",
      "89\n",
      "0.9908317527090315\n",
      "\n",
      "0.972\n",
      "90\n",
      "0.9908803810895332\n",
      "\n",
      "0.973\n",
      "90\n",
      "0.9908803810895332\n",
      "\n",
      "0.974\n",
      "91\n",
      "0.9908635165159382\n",
      "\n",
      "0.975\n",
      "92\n",
      "0.9909082935514297\n",
      "\n",
      "0.976\n",
      "92\n",
      "0.9909082935514298\n",
      "\n",
      "0.977\n",
      "93\n",
      "0.9909344551380056\n",
      "\n",
      "0.978\n",
      "94\n",
      "0.9908825919698347\n",
      "\n",
      "0.979\n",
      "95\n",
      "0.9909174086654774\n",
      "\n",
      "0.98\n",
      "95\n",
      "0.9909174086654774\n",
      "\n",
      "0.981\n",
      "96\n",
      "0.9909218578129344\n",
      "\n",
      "0.982\n",
      "97\n",
      "0.9909799253983351\n",
      "\n",
      "0.983\n",
      "98\n",
      "0.9909341843298874\n",
      "\n",
      "0.984\n",
      "99\n",
      "0.9908492479649927\n",
      "\n",
      "0.985\n",
      "99\n",
      "0.9908492479649927\n",
      "\n",
      "0.986\n",
      "100\n",
      "0.9908564746416706\n",
      "\n",
      "0.987\n",
      "101\n",
      "0.990886494400352\n",
      "\n",
      "0.988\n",
      "102\n",
      "0.9908594565913923\n",
      "\n",
      "0.989\n",
      "103\n",
      "0.9908500306483223\n",
      "\n"
     ]
    }
   ],
   "source": [
    "for tmp_pct in np.arange(950,990)/1000:\n",
    "    print(tmp_pct)\n",
    "    imp_cols=np.array(imp_data[imp_data[\"cumsum\"]<tmp_pct][\"col\"])\n",
    "    print(len(imp_cols))\n",
    "\n",
    "    model2 = RandomForestClassifier(random_state=0,n_estimators=100,n_jobs=-1,max_depth=40)\n",
    "    model2.fit(train_data_x[imp_cols], train_data_y)\n",
    "\n",
    "    ypred2=model2.predict_proba(train_data_x[imp_cols])\n",
    "    #print(accuracy_score(train_data_y, np.argmax(ypred2, axis=1)))\n",
    "    print(roc_auc_score(train_data_y, ypred2[:,1]))\n",
    "    print(\"\")"
   ]
  },
  {
   "cell_type": "code",
   "execution_count": 112,
   "metadata": {},
   "outputs": [
    {
     "name": "stdout",
     "output_type": "stream",
     "text": [
      "97\n",
      "0.9809968494143759\n",
      "0.9909799253983351\n"
     ]
    }
   ],
   "source": [
    "imp_cols2=np.array(imp_data[imp_data[\"cumsum\"]<0.982][\"col\"])\n",
    "print(len(imp_cols2))\n",
    "model2 = RandomForestClassifier(random_state=0,n_estimators=100,n_jobs=-1,max_depth=40)\n",
    "model2.fit(train_data_x[imp_cols2], train_data_y)\n",
    "ypred2=model2.predict_proba(train_data_x[imp_cols2])\n",
    "print(accuracy_score(train_data_y, np.argmax(ypred2, axis=1)))\n",
    "print(roc_auc_score(train_data_y, ypred2[:,1]))\n",
    "#print(\"\")"
   ]
  },
  {
   "cell_type": "code",
   "execution_count": 113,
   "metadata": {},
   "outputs": [
    {
     "data": {
      "text/plain": [
       "array([[<matplotlib.axes._subplots.AxesSubplot object at 0x7fdc2e2747b8>]],\n",
       "      dtype=object)"
      ]
     },
     "execution_count": 113,
     "metadata": {},
     "output_type": "execute_result"
    },
    {
     "data": {
      "image/png": "[encoded data removed]",
      "text/plain": [
       "<Figure size 432x288 with 1 Axes>"
      ]
     },
     "metadata": {},
     "output_type": "display_data"
    }
   ],
   "source": [
    "pd.DataFrame(ypred[:,1]).hist()\n"
   ]
  },
  {
   "cell_type": "code",
   "execution_count": 116,
   "metadata": {},
   "outputs": [],
   "source": [
    "imp_cols2_=[\"SK_ID_CURR\"]\n",
    "imp_cols2_.extend(imp_cols2)"
   ]
  },
  {
   "cell_type": "code",
   "execution_count": null,
   "metadata": {},
   "outputs": [],
   "source": []
  },
  {
   "cell_type": "code",
   "execution_count": null,
   "metadata": {},
   "outputs": [],
   "source": []
  },
  {
   "cell_type": "code",
   "execution_count": null,
   "metadata": {},
   "outputs": [],
   "source": []
  },
  {
   "cell_type": "code",
   "execution_count": null,
   "metadata": {},
   "outputs": [],
   "source": []
  },
  {
   "cell_type": "code",
   "execution_count": null,
   "metadata": {},
   "outputs": [],
   "source": []
  },
  {
   "cell_type": "code",
   "execution_count": 44,
   "metadata": {},
   "outputs": [
    {
     "name": "stdout",
     "output_type": "stream",
     "text": [
      "(13605401, 8)\n",
      "(339578, 3)\n"
     ]
    }
   ],
   "source": [
    "# installments_paymentsデータの加工\n",
    "inst_pay=pd.read_csv(\"installments_payments.csv\")\n",
    "inst_pay=inst_pay.replace(\"XNA\",np.nan)\n",
    "del inst_pay[\"NUM_INSTALMENT_VERSION\"]\n",
    "inst_pay2=inst_pay.merge(flag_data,on=\"SK_ID_CURR\",how=\"left\")\n",
    "print(inst_pay2.shape)\n",
    "\n",
    "inst_pay2=inst_pay2.sort_values([\"SK_ID_CURR\",\"SK_ID_PREV\",\"NUM_INSTALMENT_NUMBER\"])\n",
    "#inst_pay.tail(10)\n",
    "inst_pay2[\"DIFF_DAYS\"]=inst_pay2[\"DAYS_INSTALMENT\"]-inst_pay2[\"DAYS_ENTRY_PAYMENT\"]\n",
    "inst_pay2[\"DIFF_AMT\"]=inst_pay2[\"AMT_INSTALMENT\"]-inst_pay2[\"AMT_PAYMENT\"]\n",
    "\n",
    "inst_pay2_aggr=inst_pay2.groupby(\"SK_ID_CURR\").mean().reset_index()\n",
    "\n",
    "inst_pay_aggr2=inst_pay2_aggr[[\"SK_ID_CURR\",\"DIFF_DAYS\",\"DIFF_AMT\"]]\n",
    "inst_pay_aggr2.columns=[\"SK_ID_CURR\",\"7_DIFF_DAYS_MEAN\",\"7_DIFF_AMT_MEAN\"]\n",
    "\n",
    "# ⑦データ\n",
    "inst_pay_aggr2=inst_pay_aggr2.dropna()\n",
    "print(inst_pay_aggr2.shape)"
   ]
  },
  {
   "cell_type": "code",
   "execution_count": 76,
   "metadata": {},
   "outputs": [],
   "source": []
  },
  {
   "cell_type": "code",
   "execution_count": null,
   "metadata": {},
   "outputs": [],
   "source": []
  },
  {
   "cell_type": "code",
   "execution_count": 218,
   "metadata": {},
   "outputs": [],
   "source": []
  },
  {
   "cell_type": "code",
   "execution_count": 231,
   "metadata": {},
   "outputs": [
    {
     "name": "stdout",
     "output_type": "stream",
     "text": [
      "11.257627519706618\n",
      "11.283686674373408\n",
      "10.28269802813243\n",
      "-390.7862638420607\n",
      "-409.50835416675216\n",
      "148.13908890156327\n"
     ]
    }
   ],
   "source": [
    "print(inst_pay2_aggr[\"DIFF_DAYS\"].mean())\n",
    "print(inst_pay2_aggr[(inst_pay2_aggr[\"TARGET\"]==0)][\"DIFF_DAYS\"].mean())\n",
    "print(inst_pay2_aggr[(inst_pay2_aggr[\"TARGET\"]==1)][\"DIFF_DAYS\"].mean())\n",
    "print(inst_pay2_aggr[\"DIFF_AMT\"].mean())\n",
    "print(inst_pay2_aggr[(inst_pay2_aggr[\"TARGET\"]==0)][\"DIFF_AMT\"].mean())\n",
    "print(inst_pay2_aggr[(inst_pay2_aggr[\"TARGET\"]==1)][\"DIFF_AMT\"].mean())"
   ]
  },
  {
   "cell_type": "code",
   "execution_count": 234,
   "metadata": {},
   "outputs": [],
   "source": [
    "inst_pay_aggr2=inst_pay2_aggr[[\"SK_ID_CURR\",\"DIFF_DAYS\",\"DIFF_AMT\"]]\n",
    "inst_pay_aggr2.columns=[\"SK_ID_CURR\",\"7_DIFF_DAYS_MEAN\",\"7_DIFF_AMT_MEAN\"]"
   ]
  },
  {
   "cell_type": "code",
   "execution_count": null,
   "metadata": {},
   "outputs": [],
   "source": []
  },
  {
   "cell_type": "code",
   "execution_count": 214,
   "metadata": {},
   "outputs": [
    {
     "data": {
      "text/html": [
       "<div>\n",
       "<style scoped>\n",
       "    .dataframe tbody tr th:only-of-type {\n",
       "        vertical-align: middle;\n",
       "    }\n",
       "\n",
       "    .dataframe tbody tr th {\n",
       "        vertical-align: top;\n",
       "    }\n",
       "\n",
       "    .dataframe thead th {\n",
       "        text-align: right;\n",
       "    }\n",
       "</style>\n",
       "<table border=\"1\" class=\"dataframe\">\n",
       "  <thead>\n",
       "    <tr style=\"text-align: right;\">\n",
       "      <th></th>\n",
       "      <th>SK_ID_PREV</th>\n",
       "      <th>SK_ID_CURR</th>\n",
       "      <th>NUM_INSTALMENT_NUMBER</th>\n",
       "      <th>DAYS_INSTALMENT</th>\n",
       "      <th>DAYS_ENTRY_PAYMENT</th>\n",
       "      <th>AMT_INSTALMENT</th>\n",
       "      <th>AMT_PAYMENT</th>\n",
       "    </tr>\n",
       "  </thead>\n",
       "  <tbody>\n",
       "    <tr>\n",
       "      <th>4</th>\n",
       "      <td>2714724</td>\n",
       "      <td>167756</td>\n",
       "      <td>2</td>\n",
       "      <td>-1383.0</td>\n",
       "      <td>-1366.0</td>\n",
       "      <td>2165.040</td>\n",
       "      <td>2160.585</td>\n",
       "    </tr>\n",
       "    <tr>\n",
       "      <th>17</th>\n",
       "      <td>1410565</td>\n",
       "      <td>197687</td>\n",
       "      <td>1</td>\n",
       "      <td>-1037.0</td>\n",
       "      <td>-1048.0</td>\n",
       "      <td>12514.050</td>\n",
       "      <td>12510.450</td>\n",
       "    </tr>\n",
       "    <tr>\n",
       "      <th>30</th>\n",
       "      <td>1840786</td>\n",
       "      <td>175114</td>\n",
       "      <td>11</td>\n",
       "      <td>-476.0</td>\n",
       "      <td>-474.0</td>\n",
       "      <td>21179.700</td>\n",
       "      <td>21161.700</td>\n",
       "    </tr>\n",
       "    <tr>\n",
       "      <th>40</th>\n",
       "      <td>2270983</td>\n",
       "      <td>159586</td>\n",
       "      <td>30</td>\n",
       "      <td>-2022.0</td>\n",
       "      <td>-2046.0</td>\n",
       "      <td>9000.000</td>\n",
       "      <td>1800.000</td>\n",
       "    </tr>\n",
       "    <tr>\n",
       "      <th>47</th>\n",
       "      <td>1895324</td>\n",
       "      <td>131465</td>\n",
       "      <td>6</td>\n",
       "      <td>-1386.0</td>\n",
       "      <td>-1379.0</td>\n",
       "      <td>3229.065</td>\n",
       "      <td>3212.865</td>\n",
       "    </tr>\n",
       "  </tbody>\n",
       "</table>\n",
       "</div>"
      ],
      "text/plain": [
       "    SK_ID_PREV  SK_ID_CURR  NUM_INSTALMENT_NUMBER  DAYS_INSTALMENT  \\\n",
       "4      2714724      167756                      2          -1383.0   \n",
       "17     1410565      197687                      1          -1037.0   \n",
       "30     1840786      175114                     11           -476.0   \n",
       "40     2270983      159586                     30          -2022.0   \n",
       "47     1895324      131465                      6          -1386.0   \n",
       "\n",
       "    DAYS_ENTRY_PAYMENT  AMT_INSTALMENT  AMT_PAYMENT  \n",
       "4              -1366.0        2165.040     2160.585  \n",
       "17             -1048.0       12514.050    12510.450  \n",
       "30              -474.0       21179.700    21161.700  \n",
       "40             -2046.0        9000.000     1800.000  \n",
       "47             -1379.0        3229.065     3212.865  "
      ]
     },
     "execution_count": 214,
     "metadata": {},
     "output_type": "execute_result"
    }
   ],
   "source": [
    "tmp_inst_pay=inst_pay[(inst_pay[\"AMT_INSTALMENT\"]-inst_pay[\"AMT_PAYMENT\"])!=0]\n",
    "tmp_inst_pay.head()"
   ]
  },
  {
   "cell_type": "code",
   "execution_count": 480,
   "metadata": {},
   "outputs": [
    {
     "data": {
      "text/plain": [
       "339587"
      ]
     },
     "execution_count": 480,
     "metadata": {},
     "output_type": "execute_result"
    }
   ],
   "source": [
    "len(inst_pay[\"SK_ID_CURR\"].value_counts())"
   ]
  },
  {
   "cell_type": "code",
   "execution_count": 174,
   "metadata": {},
   "outputs": [
    {
     "data": {
      "text/plain": [
       "<matplotlib.axes._subplots.AxesSubplot at 0x7fdc00e41588>"
      ]
     },
     "execution_count": 174,
     "metadata": {},
     "output_type": "execute_result"
    },
    {
     "data": {
      "image/png": "[encoded data removed]",
      "text/plain": [
       "<Figure size 432x288 with 1 Axes>"
      ]
     },
     "metadata": {},
     "output_type": "display_data"
    }
   ],
   "source": [
    "inst_pay[inst_pay[\"NUM_INSTALMENT_NUMBER\"]<160][\"NUM_INSTALMENT_NUMBER\"].hist()"
   ]
  },
  {
   "cell_type": "code",
   "execution_count": 171,
   "metadata": {},
   "outputs": [
    {
     "data": {
      "text/plain": [
       "<matplotlib.axes._subplots.AxesSubplot at 0x7fdbb543be48>"
      ]
     },
     "execution_count": 171,
     "metadata": {},
     "output_type": "execute_result"
    },
    {
     "data": {
      "image/png": "[encoded data removed]",
      "text/plain": [
       "<Figure size 432x288 with 1 Axes>"
      ]
     },
     "metadata": {},
     "output_type": "display_data"
    }
   ],
   "source": [
    "inst_pay[inst_pay[\"NUM_INSTALMENT_VERSION\"]<10][\"NUM_INSTALMENT_VERSION\"].hist()"
   ]
  },
  {
   "cell_type": "code",
   "execution_count": null,
   "metadata": {},
   "outputs": [],
   "source": []
  },
  {
   "cell_type": "code",
   "execution_count": null,
   "metadata": {},
   "outputs": [],
   "source": []
  },
  {
   "cell_type": "code",
   "execution_count": 106,
   "metadata": {},
   "outputs": [],
   "source": [
    "# CCBデータ加工 →現状、入れると精度が下がる\n",
    "ccb_data=pd.read_csv(\"credit_card_balance.csv\")\n",
    "\n",
    "def is_minus(x):\n",
    "    if x < 0:\n",
    "        ret=1\n",
    "    else:\n",
    "        ret=0\n",
    "    return ret\n",
    "\n",
    "def ret_minus(x):\n",
    "    if x < 0:\n",
    "        ret=x\n",
    "    else:\n",
    "        ret=0\n",
    "    return ret\n",
    "\n",
    "tmp_data1=ccb_data.groupby([\"SK_ID_CURR\",\"SK_ID_PREV\"]).mean()\n",
    "ccb_data_mean=tmp_data1.reset_index().groupby(\"SK_ID_CURR\").mean()\n",
    "del ccb_data_mean[\"SK_ID_PREV\"]\n",
    "ccb_data_mean.columns=[\"CCB\"+str(x)+\"_MEAN\" for x in ccb_data_mean.columns]\n",
    "ccb_data_mean=ccb_data_mean.fillna(0).reset_index()\n",
    "\n",
    "tmp_data1[\"CCB_num_of_loans\"]=1\n",
    "tmp_data1_2=tmp_data1.groupby([\"SK_ID_CURR\"]).sum()[\"CCB_num_of_loans\"].reset_index()\n",
    "\n",
    "ccb_data[\"CCB_ROW_CNT\"]=1\n",
    "ccb_data[\"CCB_SK_DPD_CNT\"]=ccb_data[\"SK_DPD\"].astype(float).astype(int)\n",
    "ccb_data[\"CCB_SK_DPD_DEF_CNT\"]=ccb_data[\"SK_DPD_DEF\"].astype(float).astype(int)\n",
    "\n",
    "tmp_data2=ccb_data.groupby([\"SK_ID_CURR\"]).sum()[[\"CCB_SK_DPD_DEF_CNT\",\"CCB_SK_DPD_DEF_CNT\",\"CCB_ROW_CNT\"]].reset_index()\n",
    "del tmp_data2[\"CCB_ROW_CNT\"]\n",
    "tmp_data3=ccb_data.groupby([\"SK_ID_CURR\"]).mean()[[\"SK_DPD\",\"SK_DPD_DEF\"]].reset_index()\n",
    "tmp_data3.columns=[\"SK_ID_CURR\",\"SK_DPD_MEAN\",\"SK_DPD_DEF_MEAN\"]\n",
    "\n",
    "ccb_data[\"CCB_LESS_PAY_CNT\"]=(ccb_data[\"AMT_PAYMENT_CURRENT\"]-ccb_data[\"AMT_INST_MIN_REGULARITY\"]).apply(is_minus)\n",
    "ccb_data[\"CCB_LESS_PAY_VAL_MEAN\"]=(ccb_data[\"AMT_PAYMENT_CURRENT\"]-ccb_data[\"AMT_INST_MIN_REGULARITY\"]).apply(ret_minus)\n",
    "tmp_data4=ccb_data.groupby([\"SK_ID_CURR\"]).sum()[[\"CCB_LESS_PAY_CNT\",\"CCB_ROW_CNT\"]].reset_index()\n",
    "tmp_data4_2=ccb_data.groupby([\"SK_ID_CURR\"]).mean()[\"CCB_LESS_PAY_VAL_MEAN\"].reset_index()\n",
    "tmp_data4[\"CCB_LESS_PAY_PCT\"]=tmp_data4[\"CCB_LESS_PAY_CNT\"]/tmp_data4[\"CCB_ROW_CNT\"]\n",
    "del tmp_data4[\"CCB_ROW_CNT\"]\n",
    "\n",
    "ccb_data2 = ccb_data_mean.merge(tmp_data1_2,on=\"SK_ID_CURR\").merge(tmp_data2,on=\"SK_ID_CURR\").merge(tmp_data3,on=\"SK_ID_CURR\").merge(tmp_data4,on=\"SK_ID_CURR\").merge(tmp_data4_2,on=\"SK_ID_CURR\")\n"
   ]
  },
  {
   "cell_type": "code",
   "execution_count": 112,
   "metadata": {},
   "outputs": [],
   "source": [
    "ccb_data2=ccb_data.set_index(\"SK_ID_CURR\").reset_index().sort_values([\"SK_ID_CURR\",\"SK_ID_PREV\",\"MONTHS_BALANCE\"])"
   ]
  },
  {
   "cell_type": "code",
   "execution_count": 113,
   "metadata": {},
   "outputs": [],
   "source": [
    "ccb_data2=ccb_data2.merge(flag_data, on=\"SK_ID_CURR\", how=\"left\")"
   ]
  },
  {
   "cell_type": "code",
   "execution_count": 117,
   "metadata": {},
   "outputs": [
    {
     "data": {
      "text/plain": [
       "Index(['SK_ID_CURR', 'SK_ID_PREV', 'MONTHS_BALANCE', 'AMT_BALANCE',\n",
       "       'AMT_CREDIT_LIMIT_ACTUAL', 'AMT_DRAWINGS_ATM_CURRENT',\n",
       "       'AMT_DRAWINGS_CURRENT', 'AMT_DRAWINGS_OTHER_CURRENT',\n",
       "       'AMT_DRAWINGS_POS_CURRENT', 'AMT_INST_MIN_REGULARITY',\n",
       "       'AMT_PAYMENT_CURRENT', 'AMT_PAYMENT_TOTAL_CURRENT',\n",
       "       'AMT_RECEIVABLE_PRINCIPAL', 'AMT_RECIVABLE', 'AMT_TOTAL_RECEIVABLE',\n",
       "       'CNT_DRAWINGS_ATM_CURRENT', 'CNT_DRAWINGS_CURRENT',\n",
       "       'CNT_DRAWINGS_OTHER_CURRENT', 'CNT_DRAWINGS_POS_CURRENT',\n",
       "       'CNT_INSTALMENT_MATURE_CUM', 'NAME_CONTRACT_STATUS', 'SK_DPD',\n",
       "       'SK_DPD_DEF', 'CCB_ROW_CNT', 'CCB_SK_DPD_CNT', 'CCB_SK_DPD_DEF_CNT',\n",
       "       'CCB_LESS_PAY_CNT', 'CCB_LESS_PAY_VAL_MEAN', 'TARGET'],\n",
       "      dtype='object')"
      ]
     },
     "execution_count": 117,
     "metadata": {},
     "output_type": "execute_result"
    }
   ],
   "source": [
    "ccb_data2.columns"
   ]
  },
  {
   "cell_type": "code",
   "execution_count": 118,
   "metadata": {},
   "outputs": [
    {
     "data": {
      "text/html": [
       "<div>\n",
       "<style scoped>\n",
       "    .dataframe tbody tr th:only-of-type {\n",
       "        vertical-align: middle;\n",
       "    }\n",
       "\n",
       "    .dataframe tbody tr th {\n",
       "        vertical-align: top;\n",
       "    }\n",
       "\n",
       "    .dataframe thead th {\n",
       "        text-align: right;\n",
       "    }\n",
       "</style>\n",
       "<table border=\"1\" class=\"dataframe\">\n",
       "  <thead>\n",
       "    <tr style=\"text-align: right;\">\n",
       "      <th></th>\n",
       "      <th>SK_ID_CURR</th>\n",
       "      <th>SK_ID_PREV</th>\n",
       "      <th>MONTHS_BALANCE</th>\n",
       "      <th>AMT_BALANCE</th>\n",
       "      <th>AMT_CREDIT_LIMIT_ACTUAL</th>\n",
       "      <th>AMT_DRAWINGS_ATM_CURRENT</th>\n",
       "      <th>AMT_DRAWINGS_CURRENT</th>\n",
       "      <th>AMT_DRAWINGS_OTHER_CURRENT</th>\n",
       "      <th>AMT_DRAWINGS_POS_CURRENT</th>\n",
       "      <th>AMT_INST_MIN_REGULARITY</th>\n",
       "      <th>...</th>\n",
       "      <th>CNT_INSTALMENT_MATURE_CUM</th>\n",
       "      <th>NAME_CONTRACT_STATUS</th>\n",
       "      <th>SK_DPD</th>\n",
       "      <th>SK_DPD_DEF</th>\n",
       "      <th>CCB_ROW_CNT</th>\n",
       "      <th>CCB_SK_DPD_CNT</th>\n",
       "      <th>CCB_SK_DPD_DEF_CNT</th>\n",
       "      <th>CCB_LESS_PAY_CNT</th>\n",
       "      <th>CCB_LESS_PAY_VAL_MEAN</th>\n",
       "      <th>TARGET</th>\n",
       "    </tr>\n",
       "  </thead>\n",
       "  <tbody>\n",
       "    <tr>\n",
       "      <th>0</th>\n",
       "      <td>100006</td>\n",
       "      <td>1489396</td>\n",
       "      <td>-6</td>\n",
       "      <td>0.0</td>\n",
       "      <td>270000</td>\n",
       "      <td>NaN</td>\n",
       "      <td>0.0</td>\n",
       "      <td>NaN</td>\n",
       "      <td>NaN</td>\n",
       "      <td>0.0</td>\n",
       "      <td>...</td>\n",
       "      <td>0.0</td>\n",
       "      <td>Active</td>\n",
       "      <td>0</td>\n",
       "      <td>0</td>\n",
       "      <td>1</td>\n",
       "      <td>0</td>\n",
       "      <td>0</td>\n",
       "      <td>0</td>\n",
       "      <td>0.0</td>\n",
       "      <td>0.0</td>\n",
       "    </tr>\n",
       "    <tr>\n",
       "      <th>1</th>\n",
       "      <td>100006</td>\n",
       "      <td>1489396</td>\n",
       "      <td>-5</td>\n",
       "      <td>0.0</td>\n",
       "      <td>270000</td>\n",
       "      <td>NaN</td>\n",
       "      <td>0.0</td>\n",
       "      <td>NaN</td>\n",
       "      <td>NaN</td>\n",
       "      <td>0.0</td>\n",
       "      <td>...</td>\n",
       "      <td>0.0</td>\n",
       "      <td>Active</td>\n",
       "      <td>0</td>\n",
       "      <td>0</td>\n",
       "      <td>1</td>\n",
       "      <td>0</td>\n",
       "      <td>0</td>\n",
       "      <td>0</td>\n",
       "      <td>0.0</td>\n",
       "      <td>0.0</td>\n",
       "    </tr>\n",
       "    <tr>\n",
       "      <th>2</th>\n",
       "      <td>100006</td>\n",
       "      <td>1489396</td>\n",
       "      <td>-4</td>\n",
       "      <td>0.0</td>\n",
       "      <td>270000</td>\n",
       "      <td>NaN</td>\n",
       "      <td>0.0</td>\n",
       "      <td>NaN</td>\n",
       "      <td>NaN</td>\n",
       "      <td>0.0</td>\n",
       "      <td>...</td>\n",
       "      <td>0.0</td>\n",
       "      <td>Active</td>\n",
       "      <td>0</td>\n",
       "      <td>0</td>\n",
       "      <td>1</td>\n",
       "      <td>0</td>\n",
       "      <td>0</td>\n",
       "      <td>0</td>\n",
       "      <td>0.0</td>\n",
       "      <td>0.0</td>\n",
       "    </tr>\n",
       "    <tr>\n",
       "      <th>3</th>\n",
       "      <td>100006</td>\n",
       "      <td>1489396</td>\n",
       "      <td>-3</td>\n",
       "      <td>0.0</td>\n",
       "      <td>270000</td>\n",
       "      <td>NaN</td>\n",
       "      <td>0.0</td>\n",
       "      <td>NaN</td>\n",
       "      <td>NaN</td>\n",
       "      <td>0.0</td>\n",
       "      <td>...</td>\n",
       "      <td>0.0</td>\n",
       "      <td>Active</td>\n",
       "      <td>0</td>\n",
       "      <td>0</td>\n",
       "      <td>1</td>\n",
       "      <td>0</td>\n",
       "      <td>0</td>\n",
       "      <td>0</td>\n",
       "      <td>0.0</td>\n",
       "      <td>0.0</td>\n",
       "    </tr>\n",
       "    <tr>\n",
       "      <th>4</th>\n",
       "      <td>100006</td>\n",
       "      <td>1489396</td>\n",
       "      <td>-2</td>\n",
       "      <td>0.0</td>\n",
       "      <td>270000</td>\n",
       "      <td>NaN</td>\n",
       "      <td>0.0</td>\n",
       "      <td>NaN</td>\n",
       "      <td>NaN</td>\n",
       "      <td>0.0</td>\n",
       "      <td>...</td>\n",
       "      <td>0.0</td>\n",
       "      <td>Active</td>\n",
       "      <td>0</td>\n",
       "      <td>0</td>\n",
       "      <td>1</td>\n",
       "      <td>0</td>\n",
       "      <td>0</td>\n",
       "      <td>0</td>\n",
       "      <td>0.0</td>\n",
       "      <td>0.0</td>\n",
       "    </tr>\n",
       "  </tbody>\n",
       "</table>\n",
       "<p>5 rows × 29 columns</p>\n",
       "</div>"
      ],
      "text/plain": [
       "   SK_ID_CURR  SK_ID_PREV  MONTHS_BALANCE  AMT_BALANCE  \\\n",
       "0      100006     1489396              -6          0.0   \n",
       "1      100006     1489396              -5          0.0   \n",
       "2      100006     1489396              -4          0.0   \n",
       "3      100006     1489396              -3          0.0   \n",
       "4      100006     1489396              -2          0.0   \n",
       "\n",
       "   AMT_CREDIT_LIMIT_ACTUAL  AMT_DRAWINGS_ATM_CURRENT  AMT_DRAWINGS_CURRENT  \\\n",
       "0                   270000                       NaN                   0.0   \n",
       "1                   270000                       NaN                   0.0   \n",
       "2                   270000                       NaN                   0.0   \n",
       "3                   270000                       NaN                   0.0   \n",
       "4                   270000                       NaN                   0.0   \n",
       "\n",
       "   AMT_DRAWINGS_OTHER_CURRENT  AMT_DRAWINGS_POS_CURRENT  \\\n",
       "0                         NaN                       NaN   \n",
       "1                         NaN                       NaN   \n",
       "2                         NaN                       NaN   \n",
       "3                         NaN                       NaN   \n",
       "4                         NaN                       NaN   \n",
       "\n",
       "   AMT_INST_MIN_REGULARITY   ...    CNT_INSTALMENT_MATURE_CUM  \\\n",
       "0                      0.0   ...                          0.0   \n",
       "1                      0.0   ...                          0.0   \n",
       "2                      0.0   ...                          0.0   \n",
       "3                      0.0   ...                          0.0   \n",
       "4                      0.0   ...                          0.0   \n",
       "\n",
       "   NAME_CONTRACT_STATUS  SK_DPD  SK_DPD_DEF  CCB_ROW_CNT  CCB_SK_DPD_CNT  \\\n",
       "0                Active       0           0            1               0   \n",
       "1                Active       0           0            1               0   \n",
       "2                Active       0           0            1               0   \n",
       "3                Active       0           0            1               0   \n",
       "4                Active       0           0            1               0   \n",
       "\n",
       "   CCB_SK_DPD_DEF_CNT  CCB_LESS_PAY_CNT  CCB_LESS_PAY_VAL_MEAN  TARGET  \n",
       "0                   0                 0                    0.0     0.0  \n",
       "1                   0                 0                    0.0     0.0  \n",
       "2                   0                 0                    0.0     0.0  \n",
       "3                   0                 0                    0.0     0.0  \n",
       "4                   0                 0                    0.0     0.0  \n",
       "\n",
       "[5 rows x 29 columns]"
      ]
     },
     "execution_count": 118,
     "metadata": {},
     "output_type": "execute_result"
    }
   ],
   "source": [
    "ccb_data2.head()"
   ]
  },
  {
   "cell_type": "code",
   "execution_count": null,
   "metadata": {},
   "outputs": [],
   "source": []
  },
  {
   "cell_type": "code",
   "execution_count": null,
   "metadata": {},
   "outputs": [],
   "source": []
  },
  {
   "cell_type": "code",
   "execution_count": null,
   "metadata": {},
   "outputs": [],
   "source": []
  },
  {
   "cell_type": "code",
   "execution_count": null,
   "metadata": {},
   "outputs": [],
   "source": []
  },
  {
   "cell_type": "code",
   "execution_count": null,
   "metadata": {},
   "outputs": [],
   "source": [
    "# TODO:階層的なデータ構造を反映する"
   ]
  },
  {
   "cell_type": "code",
   "execution_count": null,
   "metadata": {},
   "outputs": [],
   "source": []
  },
  {
   "cell_type": "code",
   "execution_count": null,
   "metadata": {},
   "outputs": [],
   "source": []
  },
  {
   "cell_type": "raw",
   "metadata": {},
   "source": [
    "# discussionで公開されているデータを追加する"
   ]
  },
  {
   "cell_type": "raw",
   "metadata": {},
   "source": [
    "This kernel explores the Credit Card Balance CSV\n",
    "\n",
    "Credt Card Balance - Feature Engineer\n",
    "\n",
    "8 Features have been developed from this CSV across two Categories - Customer Risk Profile & Customer Behaviour\n",
    "\n",
    "This is only an Exploration of potential features.\n",
    "\n",
    "CUSTOMER RISK PROFILE\n",
    "- Number of Loans per Customer\n",
    "- Rate at which Loan is paid back by customer - No of instalments per loan\n",
    "- How much did the Customer load a Credit line?\n",
    "- How many times did the Customer miss the minimum payment?\n",
    "- What is the average number of days did Customer go past due date?\n",
    "- What fraction of minimum payments were missed?\n",
    "\n",
    "CUSTOMER BEHAVIOUR PATTERNS\n",
    "- Cash withdrawals VS Overall Spending ratio\n",
    "- Average number of drawings per customer - Total Drawings / Number of Drawings\n"
   ]
  },
  {
   "cell_type": "code",
   "execution_count": 13,
   "metadata": {},
   "outputs": [],
   "source": [
    "CCB_FULL = pd.read_csv('credit_card_balance.csv')"
   ]
  },
  {
   "cell_type": "code",
   "execution_count": 14,
   "metadata": {},
   "outputs": [],
   "source": [
    "CCB = CCB_FULL[0:]\n",
    "grp = CCB.groupby(by = ['SK_ID_CURR'])['SK_ID_PREV'].nunique().reset_index().rename(index = str, columns = {'SK_ID_PREV': 'NO_LOANS'})\n",
    "CCB = CCB.merge(grp, on = ['SK_ID_CURR'], how = 'left')\n",
    "del grp \n",
    "#gc.collect()\n",
    "#print(CCB.dtypes, CCB.shape)\n",
    "CCB1=CCB.copy()"
   ]
  },
  {
   "cell_type": "code",
   "execution_count": 15,
   "metadata": {},
   "outputs": [],
   "source": [
    "# CNT_INSTALMENT_MATURE_CUM gives number of installments paid as of that month \n",
    "# The Max of this column shows the total number of installments made for that loan \n",
    "\n",
    "CCB = CCB_FULL[0:]\n",
    "\n",
    "# No of Loans per customer \n",
    "\n",
    "CCB = CCB_FULL[0:]\n",
    "grp = CCB.groupby(by = ['SK_ID_CURR'])['SK_ID_PREV'].nunique().reset_index().rename(index = str, columns = {'SK_ID_PREV': 'NO_LOANS'})\n",
    "CCB = CCB.merge(grp, on = ['SK_ID_CURR'], how = 'left')\n",
    "del grp \n",
    "#gc.collect()\n",
    "\n",
    "#print(CCB.dtypes)\n",
    "\n",
    "\n",
    "# No of Installments paid per Loan per Customer \n",
    "\n",
    "grp = CCB.groupby(by = ['SK_ID_CURR', 'SK_ID_PREV'])['CNT_INSTALMENT_MATURE_CUM'].max().reset_index().rename(index = str, columns = {'CNT_INSTALMENT_MATURE_CUM': 'NO_INSTALMENTS'})\n",
    "grp1 = grp.groupby(by = ['SK_ID_CURR'])['NO_INSTALMENTS'].sum().reset_index().rename(index = str, columns = {'NO_INSTALMENTS': 'TOTAL_INSTALMENTS'})\n",
    "CCB = CCB.merge(grp1, on = ['SK_ID_CURR'], how = 'left')\n",
    "del grp, grp1\n",
    "#gc.collect()\n",
    "\n",
    "# Average Number of installments paid per loan \n",
    "\n",
    "CCB['INSTALLMENTS_PER_LOAN'] = (CCB['TOTAL_INSTALMENTS']/CCB['NO_LOANS']).astype('uint32')\n",
    "#del CCB['TOTAL_INSTALMENTS']\n",
    "del CCB['NO_LOANS']\n",
    "#gc.collect()\n",
    "\n",
    "#print(CCB.dtypes, CCB.shape)\n",
    "\n",
    "CCB2=CCB.copy()"
   ]
  },
  {
   "cell_type": "code",
   "execution_count": null,
   "metadata": {},
   "outputs": [],
   "source": []
  },
  {
   "cell_type": "code",
   "execution_count": 16,
   "metadata": {},
   "outputs": [
    {
     "name": "stdout",
     "output_type": "stream",
     "text": [
      "SK_ID_CURR       int64\n",
      "CREDIT_LOAD    float64\n",
      "dtype: object\n"
     ]
    }
   ],
   "source": [
    "CCB = CCB_FULL[0:]\n",
    "\n",
    "CCB['AMT_CREDIT_LIMIT_ACTUAL1'] = CCB['AMT_CREDIT_LIMIT_ACTUAL']\n",
    "\n",
    "def f(x1, x2):\n",
    "    \n",
    "    balance = x1.max()\n",
    "    limit = x2.max()\n",
    "    \n",
    "    return (balance/limit)\n",
    "\n",
    "# Calculate the ratio of Amount Balance to Credit Limit - CREDIT LOAD OF CUSTOMER \n",
    "# This is done for each Credit limit value per loan per Customer \n",
    "\n",
    "grp = CCB.groupby(by = ['SK_ID_CURR', 'SK_ID_PREV', 'AMT_CREDIT_LIMIT_ACTUAL']).apply(lambda x: f(x.AMT_BALANCE, x.AMT_CREDIT_LIMIT_ACTUAL1)).reset_index().rename(index = str, columns = {0: 'CREDIT_LOAD1'})\n",
    "#del CCB['AMT_CREDIT_LIMIT_ACTUAL1']\n",
    "#gc.collect()\n",
    "\n",
    "# We now calculate the mean Credit load of All Loan transactions of Customer \n",
    "grp1 = grp.groupby(by = ['SK_ID_CURR'])['CREDIT_LOAD1'].mean().reset_index().rename(index = str, columns = {'CREDIT_LOAD1': 'CREDIT_LOAD'})\n",
    "print(grp1.dtypes)\n",
    "\n",
    "CCB = CCB.merge(grp1, on = ['SK_ID_CURR'], how = 'left')\n",
    "del grp, grp1\n",
    "#gc.collect()\n",
    "\n",
    "#print(CCB.dtypes, CCB.shape)\n",
    "\n",
    "CCB3=CCB.copy()"
   ]
  },
  {
   "cell_type": "code",
   "execution_count": 17,
   "metadata": {},
   "outputs": [],
   "source": [
    "# Function to calculate number of times Days Past Due occurred \n",
    "\n",
    "CCB = CCB_FULL[0:]\n",
    "\n",
    "def f(DPD):\n",
    "    \n",
    "    # DPD is a series of values of SK_DPD for each of the groupby combination \n",
    "    # We convert it to a list to get the number of SK_DPD values NOT EQUALS ZERO\n",
    "    x = DPD.tolist()\n",
    "    c = 0\n",
    "    for i,j in enumerate(x):\n",
    "        if j != 0:\n",
    "            c += 1\n",
    "    \n",
    "    return c \n",
    "\n",
    "grp = CCB.groupby(by = ['SK_ID_CURR', 'SK_ID_PREV']).apply(lambda x: f(x.SK_DPD)).reset_index().rename(index = str, columns = {0: 'NO_DPD'})\n",
    "grp1 = grp.groupby(by = ['SK_ID_CURR'])['NO_DPD'].mean().reset_index().rename(index = str, columns = {'NO_DPD' : 'DPD_COUNT'})\n",
    "\n",
    "CCB = CCB.merge(grp1, on = ['SK_ID_CURR'], how = 'left')\n",
    "del grp1\n",
    "del grp \n",
    "#gc.collect()\n",
    "\n",
    "#print(CCB.dtypes, CCB.shape)\n",
    "\n",
    "CCB4=CCB.copy()"
   ]
  },
  {
   "cell_type": "code",
   "execution_count": 18,
   "metadata": {},
   "outputs": [],
   "source": [
    "CCB = CCB_FULL[0:]\n",
    "\n",
    "grp = CCB.groupby(by= ['SK_ID_CURR'])['SK_DPD'].mean().reset_index().rename(index = str, columns = {'SK_DPD': 'AVG_DPD'})\n",
    "CCB = CCB.merge(grp, on = ['SK_ID_CURR'], how = 'left')\n",
    "del grp \n",
    "#gc.collect()\n",
    "\n",
    "#print(CCB.dtypes, CCB.shape)\n",
    "\n",
    "CCB5=CCB.copy()"
   ]
  },
  {
   "cell_type": "code",
   "execution_count": 19,
   "metadata": {},
   "outputs": [],
   "source": [
    "CCB = CCB_FULL[0:]\n",
    "\n",
    "def f(min_pay, total_pay):\n",
    "    \n",
    "    M = min_pay.tolist()\n",
    "    T = total_pay.tolist()\n",
    "    P = len(M)\n",
    "    c = 0 \n",
    "    # Find the count of transactions when Payment made is less than Minimum Payment \n",
    "    for i in range(len(M)):\n",
    "        if T[i] < M[i]:\n",
    "            c += 1  \n",
    "    return (100*c)/P\n",
    "\n",
    "grp = CCB.groupby(by = ['SK_ID_CURR']).apply(lambda x: f(x.AMT_INST_MIN_REGULARITY, x.AMT_PAYMENT_CURRENT)).reset_index().rename(index = str, columns = { 0 : 'PERCENTAGE_MISSED_PAYMENTS'})\n",
    "CCB = CCB.merge(grp, on = ['SK_ID_CURR'], how = 'left')\n",
    "del grp \n",
    "#gc.collect()\n",
    "\n",
    "#print(CCB.dtypes, CCB.shape)\n",
    "\n",
    "CCB6=CCB.copy()"
   ]
  },
  {
   "cell_type": "code",
   "execution_count": 20,
   "metadata": {},
   "outputs": [],
   "source": [
    "CCB = CCB_FULL[0:]\n",
    "\n",
    "grp = CCB.groupby(by = ['SK_ID_CURR'])['AMT_DRAWINGS_ATM_CURRENT'].sum().reset_index().rename(index = str, columns = {'AMT_DRAWINGS_ATM_CURRENT' : 'DRAWINGS_ATM'})\n",
    "CCB = CCB.merge(grp, on = ['SK_ID_CURR'], how = 'left')\n",
    "del grp\n",
    "#gc.collect()\n",
    "\n",
    "grp = CCB.groupby(by = ['SK_ID_CURR'])['AMT_DRAWINGS_CURRENT'].sum().reset_index().rename(index = str, columns = {'AMT_DRAWINGS_CURRENT' : 'DRAWINGS_TOTAL'})\n",
    "CCB = CCB.merge(grp, on = ['SK_ID_CURR'], how = 'left')\n",
    "del grp\n",
    "#gc.collect()\n",
    "\n",
    "CCB['CASH_CARD_RATIO1'] = (CCB['DRAWINGS_ATM']/CCB['DRAWINGS_TOTAL'])*100\n",
    "#del CCB['DRAWINGS_ATM']\n",
    "#del CCB['DRAWINGS_TOTAL']\n",
    "#gc.collect()\n",
    "\n",
    "grp = CCB.groupby(by = ['SK_ID_CURR'])['CASH_CARD_RATIO1'].mean().reset_index().rename(index = str, columns ={ 'CASH_CARD_RATIO1' : 'CASH_CARD_RATIO'})\n",
    "CCB = CCB.merge(grp, on = ['SK_ID_CURR'], how = 'left')\n",
    "del grp \n",
    "#gc.collect()\n",
    "\n",
    "#del CCB['CASH_CARD_RATIO1']\n",
    "#gc.collect()\n",
    "\n",
    "#print(CCB.dtypes, CCB.shape)\n",
    "\n",
    "# WE can leave NaN values as they are for LGBM \n",
    "\n",
    "CCB7=CCB.copy()"
   ]
  },
  {
   "cell_type": "code",
   "execution_count": 21,
   "metadata": {},
   "outputs": [],
   "source": [
    "CCB = CCB_FULL[0:]\n",
    "\n",
    "grp = CCB.groupby(by = ['SK_ID_CURR'])['AMT_DRAWINGS_CURRENT'].sum().reset_index().rename(index = str, columns = {'AMT_DRAWINGS_CURRENT' : 'TOTAL_DRAWINGS'})\n",
    "CCB = CCB.merge(grp, on = ['SK_ID_CURR'], how = 'left')\n",
    "del grp\n",
    "#gc.collect()\n",
    "\n",
    "grp = CCB.groupby(by = ['SK_ID_CURR'])['CNT_DRAWINGS_CURRENT'].sum().reset_index().rename(index = str, columns = {'CNT_DRAWINGS_CURRENT' : 'NO_DRAWINGS'})\n",
    "CCB = CCB.merge(grp, on = ['SK_ID_CURR'], how = 'left')\n",
    "del grp\n",
    "#gc.collect()\n",
    "\n",
    "CCB['DRAWINGS_RATIO1'] = (CCB['TOTAL_DRAWINGS']/CCB['NO_DRAWINGS'])*100\n",
    "#del CCB['TOTAL_DRAWINGS']\n",
    "#del CCB['NO_DRAWINGS']\n",
    "#gc.collect()\n",
    "\n",
    "grp = CCB.groupby(by = ['SK_ID_CURR'])['DRAWINGS_RATIO1'].mean().reset_index().rename(index = str, columns ={ 'DRAWINGS_RATIO1' : 'DRAWINGS_RATIO'})\n",
    "CCB = CCB.merge(grp, on = ['SK_ID_CURR'], how = 'left')\n",
    "del grp \n",
    "#gc.collect()\n",
    "\n",
    "#del CCB['DRAWINGS_RATIO1']\n",
    "\n",
    "#print(CCB.dtypes, CCB.shape)\n",
    "\n",
    "CCB8=CCB.copy()"
   ]
  },
  {
   "cell_type": "code",
   "execution_count": null,
   "metadata": {},
   "outputs": [],
   "source": []
  },
  {
   "cell_type": "code",
   "execution_count": 22,
   "metadata": {},
   "outputs": [
    {
     "name": "stderr",
     "output_type": "stream",
     "text": [
      "100%|██████████| 8/8 [00:04<00:00,  1.69it/s]\n"
     ]
    }
   ],
   "source": [
    "merge_DF=CCB_FULL[[\"SK_ID_CURR\",\"SK_ID_PREV\"]]\n",
    "for tmp_DF in tqdm([CCB1,CCB2,CCB3,CCB4,CCB5,CCB6,CCB7,CCB8]):\n",
    "    #print(tmp_DF.columns[23:])\n",
    "    merge_DF=pd.concat([merge_DF,tmp_DF[tmp_DF.columns[23:]]],axis=1)"
   ]
  },
  {
   "cell_type": "code",
   "execution_count": 23,
   "metadata": {},
   "outputs": [],
   "source": [
    "merge_DF=merge_DF.sort_values([\"SK_ID_CURR\",\"SK_ID_PREV\"])\n",
    "merge_DF2=merge_DF.groupby([\"SK_ID_CURR\",\"SK_ID_PREV\"]).mean()\n",
    "ccb_data3=merge_DF2.groupby(\"SK_ID_CURR\").mean().fillna(0)\n",
    "#ccb_data3=ccb_data3.set_index(\"SK_ID_CURR\")\n",
    "ccb_data3.columns=[\"5_\"+str(x) for x in ccb_data3.columns]\n",
    "ccb_data3[\"5_DRAWINGS_RATIO\"]=ccb_data3[\"5_DRAWINGS_RATIO\"].apply(math.atan)\n",
    "ccb_data3[\"5_DRAWINGS_RATIO1\"]=ccb_data3[\"5_DRAWINGS_RATIO1\"].apply(math.atan)\n",
    "ccb_data3=ccb_data3.reset_index()  # ④データ"
   ]
  },
  {
   "cell_type": "code",
   "execution_count": null,
   "metadata": {},
   "outputs": [],
   "source": []
  },
  {
   "cell_type": "code",
   "execution_count": 173,
   "metadata": {},
   "outputs": [],
   "source": []
  },
  {
   "cell_type": "code",
   "execution_count": 176,
   "metadata": {},
   "outputs": [],
   "source": []
  },
  {
   "cell_type": "code",
   "execution_count": null,
   "metadata": {},
   "outputs": [],
   "source": []
  },
  {
   "cell_type": "code",
   "execution_count": null,
   "metadata": {},
   "outputs": [],
   "source": []
  }
 ],
 "metadata": {
  "kernelspec": {
   "display_name": "Python 3",
   "language": "python",
   "name": "python3"
  },
  "language_info": {
   "codemirror_mode": {
    "name": "ipython",
    "version": 3
   },
   "file_extension": ".py",
   "mimetype": "text/x-python",
   "name": "python",
   "nbconvert_exporter": "python",
   "pygments_lexer": "ipython3",
   "version": "3.6.4"
  }
 },
 "nbformat": 4,
 "nbformat_minor": 2
}
