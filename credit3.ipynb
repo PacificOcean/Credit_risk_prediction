{
 "cells": [
  {
   "cell_type": "code",
   "execution_count": 1,
   "metadata": {},
   "outputs": [],
   "source": [
    "# -*- coding: utf-8 -*-\n",
    "# 基本モジュール\n",
    "import pandas as pd\n",
    "import numpy as np\n",
    "import os\n",
    "import sys\n",
    "from tqdm import tqdm\n",
    "#import pandas_profiling\n",
    "\n",
    "import time\n",
    "import datetime\n",
    "import dateutil.parser #変数の時間型への変換で使用\n",
    "from dateutil.relativedelta import relativedelta\n",
    "\n",
    "from sklearn.linear_model import LinearRegression\n",
    "from sklearn.preprocessing import PolynomialFeatures\n",
    "from sklearn.pipeline import Pipeline\n",
    "\n",
    "from sklearn.ensemble import RandomForestClassifier\n",
    "np.random.seed(0)\n",
    "from sklearn.metrics import accuracy_score, f1_score, precision_score, recall_score, classification_report, confusion_matrix\n",
    "from sklearn.metrics import roc_auc_score\n",
    "\n",
    "import matplotlib.pylab as plt\n",
    "from matplotlib.font_manager import FontProperties\n",
    "fp = FontProperties(fname='meiryo.ttc')\n",
    "%matplotlib inline"
   ]
  },
  {
   "cell_type": "code",
   "execution_count": 2,
   "metadata": {},
   "outputs": [],
   "source": [
    "import warnings\n",
    "warnings.filterwarnings('ignore')"
   ]
  },
  {
   "cell_type": "code",
   "execution_count": 3,
   "metadata": {},
   "outputs": [],
   "source": [
    "def grep_startswith(lst,word):\n",
    "    tgt = []\n",
    "    for string in lst:\n",
    "        if string.startswith(word) == True:\n",
    "            tgt.append(string)\n",
    "    return tgt\n",
    "\n",
    "def grep_endswith(lst,word):\n",
    "    tgt = []\n",
    "    for string in lst:\n",
    "        if string.endswith(word) == True:\n",
    "            tgt.append(string)\n",
    "    return tgt\n",
    "\n",
    "def grep_not_startswith(lst,word):\n",
    "    tgt = []\n",
    "    for string in lst:\n",
    "        if string.startswith(word) == False:\n",
    "            tgt.append(string)\n",
    "    return tgt\n",
    "\n",
    "def grep_not_endswith(lst,word):\n",
    "    tgt = []\n",
    "    for string in lst:\n",
    "        if string.endswith(word) == False:\n",
    "            tgt.append(string)\n",
    "    return tgt\n",
    "\n",
    "def grep_include(lst,word):\n",
    "    tgt = []\n",
    "    for string in lst:\n",
    "        if string.find(word) != -1: #wordがstringに含まれている\n",
    "            tgt.append(string)\n",
    "    return tgt\n",
    "\n",
    "def grep_not_include(lst,word):\n",
    "    tgt = []\n",
    "    for string in lst:\n",
    "        if string.find(word) == -1: #wordがstringに含まれていない\n",
    "            tgt.append(string)\n",
    "    return tgt\n",
    "\n",
    "def zfill2(x):\n",
    "    return str(x).zfill(2)\n",
    "\n",
    "def datetime_parser(x):\n",
    "    return dateutil.parser.parse(x)\n"
   ]
  },
  {
   "cell_type": "markdown",
   "metadata": {},
   "source": [
    "# カテゴリ変数の欠損は許容する版"
   ]
  },
  {
   "cell_type": "code",
   "execution_count": 4,
   "metadata": {},
   "outputs": [
    {
     "name": "stdout",
     "output_type": "stream",
     "text": [
      "307511\n"
     ]
    }
   ],
   "source": [
    "app_train=pd.read_csv(\"application_train.csv\")\n",
    "print(len(app_train))"
   ]
  },
  {
   "cell_type": "code",
   "execution_count": 5,
   "metadata": {},
   "outputs": [
    {
     "data": {
      "text/plain": [
       "0    0.919271\n",
       "1    0.080729\n",
       "Name: TARGET, dtype: float64"
      ]
     },
     "execution_count": 5,
     "metadata": {},
     "output_type": "execute_result"
    }
   ],
   "source": [
    "app_train[\"TARGET\"].value_counts()/len(app_train)"
   ]
  },
  {
   "cell_type": "code",
   "execution_count": 6,
   "metadata": {},
   "outputs": [
    {
     "name": "stdout",
     "output_type": "stream",
     "text": [
      "48744\n"
     ]
    }
   ],
   "source": [
    "app_test=pd.read_csv(\"application_test.csv\")\n",
    "print(len(app_test))"
   ]
  },
  {
   "cell_type": "code",
   "execution_count": null,
   "metadata": {},
   "outputs": [],
   "source": []
  },
  {
   "cell_type": "code",
   "execution_count": 7,
   "metadata": {},
   "outputs": [],
   "source": [
    "# bureauデータの整形\n",
    "\n",
    "bureau_data=pd.read_csv(\"bureau.csv\")\n",
    "# bureau_data.columns\n",
    "\n",
    "bureau_data[\"CREDIT_CNT\"]=1\n",
    "\n",
    "cate_cols=['CREDIT_ACTIVE', 'CREDIT_CURRENCY', 'CREDIT_TYPE']\n",
    "\n",
    "for tgt_col in cate_cols:\n",
    "    tmp_DF=pd.get_dummies(bureau_data[tgt_col])\n",
    "    tmp_DF.columns=[tgt_col+\"_\"+str(x) for x in tmp_DF.columns]\n",
    "    bureau_data=pd.concat([bureau_data,tmp_DF],axis=1)\n",
    "    del bureau_data[tgt_col]\n",
    "\n",
    "del bureau_data[\"SK_ID_BUREAU\"]\n",
    "\n",
    "bureau_data[\"AMT_ANNUITY_BUREAU\"]=bureau_data[\"AMT_ANNUITY\"]\n",
    "del bureau_data[\"AMT_ANNUITY\"]\n",
    "\n",
    "bureau_data2=bureau_data.fillna(0).groupby(\"SK_ID_CURR\").sum().reset_index(drop=False)\n"
   ]
  },
  {
   "cell_type": "code",
   "execution_count": null,
   "metadata": {},
   "outputs": [],
   "source": []
  },
  {
   "cell_type": "code",
   "execution_count": 8,
   "metadata": {},
   "outputs": [],
   "source": [
    "# POS_CASHデータの整形\n",
    "\n",
    "POS_data=pd.read_csv(\"POS_CASH_balance.csv\")\n",
    "\n",
    "#PREV_IDの数、SK_DPDの合計、SK_DPDの回数、分割数の平均\n",
    "tmp_data1=POS_data.groupby([\"SK_ID_CURR\",\"SK_ID_PREV\"]).mean()\n",
    "tmp_data1[\"POS_ID_PREV_CNT\"]=1\n",
    "tmp_data1_2=tmp_data1.groupby([\"SK_ID_CURR\"]).sum()[\"POS_ID_PREV_CNT\"]\n",
    "tmp_data2=POS_data.groupby([\"SK_ID_CURR\"]).sum()[\"SK_DPD\"]\n",
    "POS_data[\"SK_DPD_CNT\"]=POS_data[\"SK_DPD\"].astype(bool).astype(int)\n",
    "tmp_data3=POS_data.groupby([\"SK_ID_CURR\"]).sum()[\"SK_DPD_CNT\"]\n",
    "tmp_data4=tmp_data1.groupby([\"SK_ID_CURR\"]).sum()[\"CNT_INSTALMENT\"]\n",
    "POS_data2=pd.concat([tmp_data1_2,tmp_data2,tmp_data3,tmp_data4],axis=1)\n",
    "POS_data2.columns=['POS_ID_PREV_CNT', 'POS_SK_DPD_SUM', 'POS_SK_DPD_CNT', 'POS_CNT_INSTALMENT_MEAN']\n",
    "POS_data2=POS_data2.reset_index()"
   ]
  },
  {
   "cell_type": "code",
   "execution_count": null,
   "metadata": {},
   "outputs": [],
   "source": []
  },
  {
   "cell_type": "code",
   "execution_count": 9,
   "metadata": {},
   "outputs": [],
   "source": [
    "# CCBデータ加工 →現状、入れると精度が下がる\n",
    "ccb_data=pd.read_csv(\"credit_card_balance.csv\")\n",
    "\n",
    "def is_minus(x):\n",
    "    if x < 0:\n",
    "        ret=1\n",
    "    else:\n",
    "        ret=0\n",
    "    return ret\n",
    "\n",
    "def ret_minus(x):\n",
    "    if x < 0:\n",
    "        ret=x\n",
    "    else:\n",
    "        ret=0\n",
    "    return ret\n",
    "\n",
    "tmp_data1=ccb_data.groupby([\"SK_ID_CURR\",\"SK_ID_PREV\"]).mean()\n",
    "ccb_data_mean=tmp_data1.reset_index().groupby(\"SK_ID_CURR\").mean()\n",
    "del ccb_data_mean[\"SK_ID_PREV\"]\n",
    "ccb_data_mean.columns=[\"CCB\"+str(x)+\"_MEAN\" for x in ccb_data_mean.columns]\n",
    "ccb_data_mean=ccb_data_mean.fillna(0).reset_index()\n",
    "\n",
    "tmp_data1[\"CCB_num_of_loans\"]=1\n",
    "tmp_data1_2=tmp_data1.groupby([\"SK_ID_CURR\"]).sum()[\"CCB_num_of_loans\"].reset_index()\n",
    "\n",
    "ccb_data[\"CCB_ROW_CNT\"]=1\n",
    "ccb_data[\"CCB_SK_DPD_CNT\"]=ccb_data[\"SK_DPD\"].astype(float).astype(int)\n",
    "ccb_data[\"CCB_SK_DPD_DEF_CNT\"]=ccb_data[\"SK_DPD_DEF\"].astype(float).astype(int)\n",
    "\n",
    "tmp_data2=ccb_data.groupby([\"SK_ID_CURR\"]).sum()[[\"CCB_SK_DPD_DEF_CNT\",\"CCB_SK_DPD_DEF_CNT\",\"CCB_ROW_CNT\"]].reset_index()\n",
    "del tmp_data2[\"CCB_ROW_CNT\"]\n",
    "tmp_data3=ccb_data.groupby([\"SK_ID_CURR\"]).mean()[[\"SK_DPD\",\"SK_DPD_DEF\"]].reset_index()\n",
    "tmp_data3.columns=[\"SK_ID_CURR\",\"SK_DPD_MEAN\",\"SK_DPD_DEF_MEAN\"]\n",
    "\n",
    "ccb_data[\"CCB_LESS_PAY_CNT\"]=(ccb_data[\"AMT_PAYMENT_CURRENT\"]-ccb_data[\"AMT_INST_MIN_REGULARITY\"]).apply(is_minus)\n",
    "ccb_data[\"CCB_LESS_PAY_VAL_MEAN\"]=(ccb_data[\"AMT_PAYMENT_CURRENT\"]-ccb_data[\"AMT_INST_MIN_REGULARITY\"]).apply(ret_minus)\n",
    "tmp_data4=ccb_data.groupby([\"SK_ID_CURR\"]).sum()[[\"CCB_LESS_PAY_CNT\",\"CCB_ROW_CNT\"]].reset_index()\n",
    "tmp_data4_2=ccb_data.groupby([\"SK_ID_CURR\"]).mean()[\"CCB_LESS_PAY_VAL_MEAN\"].reset_index()\n",
    "tmp_data4[\"CCB_LESS_PAY_PCT\"]=tmp_data4[\"CCB_LESS_PAY_CNT\"]/tmp_data4[\"CCB_ROW_CNT\"]\n",
    "del tmp_data4[\"CCB_ROW_CNT\"]\n",
    "\n",
    "ccb_data2 = ccb_data_mean.merge(tmp_data1_2,on=\"SK_ID_CURR\").merge(tmp_data2,on=\"SK_ID_CURR\").merge(tmp_data3,on=\"SK_ID_CURR\").merge(tmp_data4,on=\"SK_ID_CURR\").merge(tmp_data4_2,on=\"SK_ID_CURR\")"
   ]
  },
  {
   "cell_type": "code",
   "execution_count": null,
   "metadata": {},
   "outputs": [],
   "source": []
  },
  {
   "cell_type": "code",
   "execution_count": null,
   "metadata": {},
   "outputs": [],
   "source": [
    "# PREV_APPデータ加工\n",
    "# prev_app_cont_mean\n",
    "# prev_app_cate_sum"
   ]
  },
  {
   "cell_type": "code",
   "execution_count": null,
   "metadata": {},
   "outputs": [],
   "source": []
  },
  {
   "cell_type": "markdown",
   "metadata": {},
   "source": [
    "## ここから"
   ]
  },
  {
   "cell_type": "code",
   "execution_count": 35,
   "metadata": {},
   "outputs": [
    {
     "name": "stdout",
     "output_type": "stream",
     "text": [
      "356255\n",
      "305811\n",
      "337252\n",
      "103558\n"
     ]
    }
   ],
   "source": [
    "app_data=pd.concat([app_train,app_test]).reset_index(drop=True)\n",
    "print(len(app_data))\n",
    "print(len(bureau_data2))\n",
    "print(len(POS_data2))\n",
    "print(len(ccb_data2))"
   ]
  },
  {
   "cell_type": "code",
   "execution_count": 36,
   "metadata": {},
   "outputs": [],
   "source": [
    "#app_data['CODE_GENDER']=app_data['CODE_GENDER'].replace(\"XNA\",np.nan)#.value_counts()\n",
    "#app_data['ORGANIZATION_TYPE']=app_data['ORGANIZATION_TYPE'].replace(\"XNA\",np.nan)\n",
    "\n",
    "app_data2=app_data.replace(\"XNA\",np.nan)#.replace(\"N\",np.nan)"
   ]
  },
  {
   "cell_type": "code",
   "execution_count": null,
   "metadata": {},
   "outputs": [],
   "source": []
  },
  {
   "cell_type": "raw",
   "metadata": {},
   "source": [
    "方針\n",
    "上で計算できなかった人たちだけのデータフレームを生成し、\n",
    "その人たち向けに、別途モデルを生成する\n",
    "\n",
    "\n",
    "app_dataでモデル作成　割合0.8くらいで多めにとる\n",
    "RFで重要度の高い項目を選択する\n",
    "\n",
    "そのうちで、割合0.9のIDでデータが有効な項目に絞る。\n",
    "欠損のあるIDを除去する→①データ\n",
    "\n",
    "beau2を②データ、POSデータを➂データとする\n",
    "\n",
    "いずれも欠損値はない状態だが、IDが異なる。\n",
    "\n",
    "それぞれのモデルを作成する\n",
    "・①②➂すべてもつ collist_m1\n",
    "・①②のみ\n",
    "・①➂のみ\n",
    "・②➂のみ\n",
    "・①のみ\n",
    "・②のみ\n",
    "・➂のみ\n",
    "・どれももたない(①´で対応)\n",
    "\n",
    "\n"
   ]
  },
  {
   "cell_type": "code",
   "execution_count": null,
   "metadata": {},
   "outputs": [],
   "source": []
  },
  {
   "cell_type": "code",
   "execution_count": 37,
   "metadata": {},
   "outputs": [],
   "source": [
    "tgt_col='CODE_GENDER'\n",
    "tmp_DF=pd.get_dummies(app_data2[tgt_col])\n",
    "tmp_DF.columns=[tgt_col+\"_\"+str(x) for x in tmp_DF.columns]\n",
    "\n",
    "app_data2=pd.concat([app_data2,tmp_DF],axis=1)\n",
    "del app_data2[tgt_col]\n",
    "\n",
    "app_data2[\"HOUR_APPR_PROCESS_START\"]=app_data2[\"HOUR_APPR_PROCESS_START\"].replace(0,24).replace(1,25).replace(2,26)\n",
    "\n",
    "for tgt_col in grep_startswith(app_data2.columns,\"NAME_\"):\n",
    "    #print(tgt_col)\n",
    "    tmp_DF=pd.get_dummies(app_data2[tgt_col])\n",
    "    tmp_DF.columns=[tgt_col+\"_\"+str(x) for x in tmp_DF.columns]\n",
    "\n",
    "    app_data2=pd.concat([app_data2,tmp_DF],axis=1)\n",
    "    del app_data2[tgt_col]\n",
    "    \n",
    "tgt_col='WEEKDAY_APPR_PROCESS_START'\n",
    "tmp_DF=pd.get_dummies(app_data2[tgt_col])\n",
    "tmp_DF.columns=[tgt_col+\"_\"+str(x) for x in tmp_DF.columns]\n",
    "\n",
    "app_data2=pd.concat([app_data2,tmp_DF],axis=1)\n",
    "del app_data2[tgt_col]\n",
    "\n",
    "app_data2['FLAG_OWN_CAR']=app_data2['FLAG_OWN_CAR'].replace(\"Y\",1).replace(\"N\",0)\n",
    "app_data2['FLAG_OWN_REALTY']=app_data2['FLAG_OWN_REALTY'].replace(\"Y\",1).replace(\"N\",0)\n",
    "\n",
    "#app_data2.head()"
   ]
  },
  {
   "cell_type": "code",
   "execution_count": 38,
   "metadata": {},
   "outputs": [],
   "source": [
    "app_data2[\"EMERGENCYSTATE_MODE\"]=app_data2[\"EMERGENCYSTATE_MODE\"].replace(\"Yes\",1).replace(\"No\",0)"
   ]
  },
  {
   "cell_type": "code",
   "execution_count": 39,
   "metadata": {},
   "outputs": [],
   "source": [
    "for tgt_col in [\"HOUSETYPE_MODE\",\"FONDKAPREMONT_MODE\",'OCCUPATION_TYPE','ORGANIZATION_TYPE','WALLSMATERIAL_MODE']:\n",
    "    #print(tgt_col)\n",
    "    tmp_DF=pd.get_dummies(app_data2[tgt_col])\n",
    "    tmp_DF.columns=[tgt_col+\"_\"+str(x) for x in tmp_DF.columns]\n",
    "\n",
    "    app_data2=pd.concat([app_data2,tmp_DF],axis=1)\n",
    "    del app_data2[tgt_col]"
   ]
  },
  {
   "cell_type": "code",
   "execution_count": 40,
   "metadata": {},
   "outputs": [
    {
     "data": {
      "text/plain": [
       "356255"
      ]
     },
     "execution_count": 40,
     "metadata": {},
     "output_type": "execute_result"
    }
   ],
   "source": [
    "len(app_data2)"
   ]
  },
  {
   "cell_type": "code",
   "execution_count": null,
   "metadata": {},
   "outputs": [],
   "source": []
  },
  {
   "cell_type": "code",
   "execution_count": 41,
   "metadata": {},
   "outputs": [
    {
     "name": "stderr",
     "output_type": "stream",
     "text": [
      "100%|██████████| 241/241 [00:01<00:00, 188.05it/s]\n"
     ]
    },
    {
     "name": "stdout",
     "output_type": "stream",
     "text": [
      "187\n"
     ]
    },
    {
     "name": "stderr",
     "output_type": "stream",
     "text": [
      "  3%|▎         | 4/122 [00:00<00:03, 32.11it/s]"
     ]
    },
    {
     "name": "stdout",
     "output_type": "stream",
     "text": [
      "354228\n"
     ]
    },
    {
     "name": "stderr",
     "output_type": "stream",
     "text": [
      "100%|██████████| 122/122 [00:01<00:00, 84.35it/s]"
     ]
    },
    {
     "name": "stdout",
     "output_type": "stream",
     "text": [
      "65\n"
     ]
    },
    {
     "name": "stderr",
     "output_type": "stream",
     "text": [
      "\n"
     ]
    }
   ],
   "source": [
    "# 一定数以上のユーザが持っている項目\n",
    "col_lst1=[]\n",
    "for tmp_col in tqdm(app_data2.columns):\n",
    "    if app_data2[tmp_col].value_counts().sum()/len(app_data2) > 0.9:\n",
    "        col_lst1.append(tmp_col)\n",
    "print(len(col_lst1))\n",
    "print(len(app_data2[col_lst1].dropna()))\n",
    "        \n",
    "col_lst1_2=[]\n",
    "for tmp_col in tqdm(app_train.columns):\n",
    "    if app_train[tmp_col].value_counts().sum()/len(app_train) > 0.9:\n",
    "        col_lst1_2.append(tmp_col)\n",
    "print(len(col_lst1_2))"
   ]
  },
  {
   "cell_type": "code",
   "execution_count": 42,
   "metadata": {},
   "outputs": [
    {
     "name": "stdout",
     "output_type": "stream",
     "text": [
      "187\n"
     ]
    },
    {
     "data": {
      "text/plain": [
       "array(['CODE_GENDER', 'NAME_CONTRACT_TYPE', 'NAME_EDUCATION_TYPE',\n",
       "       'NAME_FAMILY_STATUS', 'NAME_HOUSING_TYPE', 'NAME_INCOME_TYPE',\n",
       "       'NAME_TYPE_SUITE', 'ORGANIZATION_TYPE', 'TARGET',\n",
       "       'WEEKDAY_APPR_PROCESS_START'], dtype='<U27')"
      ]
     },
     "execution_count": 42,
     "metadata": {},
     "output_type": "execute_result"
    }
   ],
   "source": [
    "col_lst1=grep_not_include(col_lst1,\"TARGET\")\n",
    "print(len(col_lst1))\n",
    "np.setdiff1d(col_lst1_2,col_lst1)"
   ]
  },
  {
   "cell_type": "code",
   "execution_count": null,
   "metadata": {},
   "outputs": [],
   "source": []
  },
  {
   "cell_type": "code",
   "execution_count": 43,
   "metadata": {},
   "outputs": [
    {
     "name": "stdout",
     "output_type": "stream",
     "text": [
      "354228\n",
      "187\n"
     ]
    }
   ],
   "source": [
    "app_data3=app_data2[col_lst1].dropna().reset_index(drop=True)\n",
    "print(len(app_data3))\n",
    "#print(len(app_data2.dropna()))\n",
    "\n",
    "print(len(col_lst1))"
   ]
  },
  {
   "cell_type": "code",
   "execution_count": null,
   "metadata": {},
   "outputs": [],
   "source": []
  },
  {
   "cell_type": "code",
   "execution_count": 44,
   "metadata": {},
   "outputs": [],
   "source": [
    "flag_data=app_data[[\"SK_ID_CURR\",\"TARGET\"]]\n",
    "app_data4=pd.merge(app_data3,flag_data,on=\"SK_ID_CURR\",how=\"left\")\n",
    "#app_data2.columns"
   ]
  },
  {
   "cell_type": "code",
   "execution_count": 45,
   "metadata": {},
   "outputs": [
    {
     "name": "stdout",
     "output_type": "stream",
     "text": [
      "305545\n",
      "NG\n",
      "0.9484167634881933\n",
      "0.9995975455627283\n"
     ]
    }
   ],
   "source": [
    "train_data=app_data4[app_data4[\"TARGET\"]==app_data4[\"TARGET\"]]\n",
    "print(len(train_data))\n",
    "\n",
    "train_data_x=train_data.copy()\n",
    "del train_data_x[\"SK_ID_CURR\"]\n",
    "del train_data_x[\"TARGET\"]\n",
    "train_data_y=train_data[\"TARGET\"]\n",
    "\n",
    "try:\n",
    "    del train_data_x[\"ORGANIZATION_TYPE\"]\n",
    "except:\n",
    "    print(\"NG\")\n",
    "    \n",
    "model = RandomForestClassifier(random_state=0,n_estimators=50,n_jobs=-1,max_depth=25)\n",
    "model.fit(train_data_x, train_data_y)\n",
    "\n",
    "ypred=model.predict_proba(train_data_x)\n",
    "print(accuracy_score(train_data_y,  np.argmax(ypred, axis=1)))\n",
    "print(roc_auc_score(train_data_y, ypred[:,1]))"
   ]
  },
  {
   "cell_type": "code",
   "execution_count": 46,
   "metadata": {},
   "outputs": [
    {
     "data": {
      "text/plain": [
       "array([[<matplotlib.axes._subplots.AxesSubplot object at 0x7fc6b61ce748>]],\n",
       "      dtype=object)"
      ]
     },
     "execution_count": 46,
     "metadata": {},
     "output_type": "execute_result"
    },
    {
     "data": {
      "image/png": "[encoded data removed]",
      "text/plain": [
       "<Figure size 432x288 with 1 Axes>"
      ]
     },
     "metadata": {},
     "output_type": "display_data"
    }
   ],
   "source": [
    "pd.DataFrame(ypred[:,1]).hist()"
   ]
  },
  {
   "cell_type": "code",
   "execution_count": null,
   "metadata": {},
   "outputs": [],
   "source": []
  },
  {
   "cell_type": "code",
   "execution_count": 47,
   "metadata": {},
   "outputs": [
    {
     "name": "stdout",
     "output_type": "stream",
     "text": [
      "100\n"
     ]
    }
   ],
   "source": [
    "imp_data=pd.DataFrame([train_data_x.columns,model.feature_importances_]).T\n",
    "imp_data.columns=[\"col\",\"imp\"]\n",
    "\n",
    "imp_data=imp_data.sort_values(\"imp\",ascending=False)\n",
    "imp_data=imp_data.reset_index(drop=True)\n",
    "\n",
    "imp_data[\"cumsum\"]=imp_data.cumsum()[\"imp\"]\n",
    "\n",
    "imp_cols=np.array(imp_data[imp_data[\"cumsum\"]<0.95][\"col\"])\n",
    "print(len(imp_cols))\n",
    "\n",
    "#model2 = RandomForestClassifier(random_state=0,n_estimators=100,n_jobs=10)\n",
    "#model2.fit(train_data_x[imp_cols], train_data_y)\n",
    "\n",
    "#ypred2=model2.predict(train_data_x[imp_cols])\n",
    "#print(accuracy_score(train_data_y, ypred2))\n",
    "#print(roc_auc_score(train_data_y, ypred2))"
   ]
  },
  {
   "cell_type": "code",
   "execution_count": 48,
   "metadata": {},
   "outputs": [],
   "source": [
    "imp_cols_=[\"SK_ID_CURR\",\"TARGET\"]\n",
    "imp_cols_.extend(imp_cols)"
   ]
  },
  {
   "cell_type": "code",
   "execution_count": 49,
   "metadata": {},
   "outputs": [
    {
     "data": {
      "text/plain": [
       "102"
      ]
     },
     "execution_count": 49,
     "metadata": {},
     "output_type": "execute_result"
    }
   ],
   "source": [
    "len(imp_cols_)"
   ]
  },
  {
   "cell_type": "code",
   "execution_count": null,
   "metadata": {},
   "outputs": [],
   "source": []
  },
  {
   "cell_type": "code",
   "execution_count": 50,
   "metadata": {},
   "outputs": [],
   "source": [
    "# dropnaしない状態で再度生成"
   ]
  },
  {
   "cell_type": "code",
   "execution_count": 54,
   "metadata": {},
   "outputs": [
    {
     "name": "stdout",
     "output_type": "stream",
     "text": [
      "356255\n"
     ]
    }
   ],
   "source": [
    "app_data5=app_data2[imp_cols_].reset_index(drop=True)\n",
    "print(len(app_data5))\n",
    "#print(len(app_data2.dropna()))"
   ]
  },
  {
   "cell_type": "code",
   "execution_count": null,
   "metadata": {},
   "outputs": [],
   "source": []
  },
  {
   "cell_type": "code",
   "execution_count": 55,
   "metadata": {},
   "outputs": [
    {
     "name": "stderr",
     "output_type": "stream",
     "text": [
      "100%|██████████| 102/102 [00:00<00:00, 194.99it/s]\n"
     ]
    },
    {
     "name": "stdout",
     "output_type": "stream",
     "text": [
      "101\n",
      "354228\n"
     ]
    }
   ],
   "source": [
    "col_lst2=[]\n",
    "for tmp_col in tqdm(imp_cols_):\n",
    "    if app_data5[tmp_col].value_counts().sum()/len(app_data5) > 0.9:\n",
    "        col_lst2.append(tmp_col)\n",
    "print(len(col_lst2))\n",
    "print(len(app_data5[col_lst2].dropna()))"
   ]
  },
  {
   "cell_type": "code",
   "execution_count": null,
   "metadata": {},
   "outputs": [],
   "source": []
  },
  {
   "cell_type": "code",
   "execution_count": 56,
   "metadata": {},
   "outputs": [
    {
     "name": "stdout",
     "output_type": "stream",
     "text": [
      "354228\n",
      "101\n"
     ]
    }
   ],
   "source": [
    "# app_data6　これが①データ\n",
    "app_data6=app_data5[col_lst2].dropna().reset_index(drop=True)\n",
    "print(len(app_data6))\n",
    "#print(len(app_data2.dropna()))\n",
    "\n",
    "print(len(col_lst2))"
   ]
  },
  {
   "cell_type": "code",
   "execution_count": null,
   "metadata": {},
   "outputs": [],
   "source": []
  },
  {
   "cell_type": "raw",
   "metadata": {},
   "source": [
    "・①②➂すべてもつデータの生成"
   ]
  },
  {
   "cell_type": "code",
   "execution_count": 57,
   "metadata": {},
   "outputs": [
    {
     "name": "stdout",
     "output_type": "stream",
     "text": [
      "287247\n",
      "407\n",
      "289697\n",
      "270\n",
      "334186\n",
      "238\n"
     ]
    }
   ],
   "source": [
    "# 結合\n",
    "merged_data1=pd.merge(app_data6,bureau_data2,on=\"SK_ID_CURR\",how=\"inner\").merge(prev_app_cate_sum,on=\"SK_ID_CURR\",how=\"inner\")\n",
    "merged_data1=pd.merge(merged_data1,POS_data2,on=\"SK_ID_CURR\",how=\"inner\").merge(prev_app_cate_sum,on=\"SK_ID_CURR\",how=\"inner\")\n",
    "\n",
    "print(len(merged_data1))\n",
    "print(len(merged_data1.columns))\n",
    "\n",
    "merged_data2=pd.merge(app_data6,bureau_data2,on=\"SK_ID_CURR\",how=\"inner\").merge(prev_app_cate_sum,on=\"SK_ID_CURR\",how=\"inner\")\n",
    "merged_data3=pd.merge(app_data6,POS_data2,on=\"SK_ID_CURR\",how=\"inner\").merge(prev_app_cate_sum,on=\"SK_ID_CURR\",how=\"inner\")\n",
    "\n",
    "print(len(merged_data2))\n",
    "print(len(merged_data2.columns))\n",
    "print(len(merged_data3))\n",
    "print(len(merged_data3.columns))"
   ]
  },
  {
   "cell_type": "code",
   "execution_count": 77,
   "metadata": {},
   "outputs": [
    {
     "name": "stdout",
     "output_type": "stream",
     "text": [
      "288433\n",
      "304162\n",
      "335583\n"
     ]
    }
   ],
   "source": []
  },
  {
   "cell_type": "code",
   "execution_count": 58,
   "metadata": {},
   "outputs": [],
   "source": [
    "merged_data1=pd.merge(merged_data1,flag_data,on=\"SK_ID_CURR\",how=\"left\")\n",
    "merged_data2=pd.merge(merged_data2,flag_data,on=\"SK_ID_CURR\",how=\"left\")\n",
    "merged_data3=pd.merge(merged_data3,flag_data,on=\"SK_ID_CURR\",how=\"left\")"
   ]
  },
  {
   "cell_type": "code",
   "execution_count": null,
   "metadata": {},
   "outputs": [],
   "source": []
  },
  {
   "cell_type": "code",
   "execution_count": 59,
   "metadata": {},
   "outputs": [
    {
     "name": "stdout",
     "output_type": "stream",
     "text": [
      "245887\n",
      "NG\n",
      "0.9287396242989666\n",
      "0.9989044209624143\n"
     ]
    }
   ],
   "source": [
    "train_data=merged_data1[merged_data1[\"TARGET\"]==merged_data1[\"TARGET\"]]\n",
    "print(len(train_data))\n",
    "\n",
    "train_data_x=train_data.copy()\n",
    "del train_data_x[\"SK_ID_CURR\"]\n",
    "del train_data_x[\"TARGET\"]\n",
    "train_data_y=train_data[\"TARGET\"]\n",
    "\n",
    "try:\n",
    "    del train_data_x[\"ORGANIZATION_TYPE\"]\n",
    "except:\n",
    "    print(\"NG\")\n",
    "    \n",
    "model = RandomForestClassifier(random_state=0,n_estimators=100,n_jobs=-1,max_depth=25,min_samples_leaf=3)\n",
    "model.fit(train_data_x, train_data_y)\n",
    "\n",
    "ypred=model.predict_proba(train_data_x)\n",
    "print(accuracy_score(train_data_y,  np.argmax(ypred, axis=1)))\n",
    "print(roc_auc_score(train_data_y, ypred[:,1]))"
   ]
  },
  {
   "cell_type": "code",
   "execution_count": 60,
   "metadata": {},
   "outputs": [
    {
     "data": {
      "text/plain": [
       "array([[<matplotlib.axes._subplots.AxesSubplot object at 0x7fc6b64d08d0>]],\n",
       "      dtype=object)"
      ]
     },
     "execution_count": 60,
     "metadata": {},
     "output_type": "execute_result"
    },
    {
     "data": {
      "image/png": "[encoded data removed]",
      "text/plain": [
       "<Figure size 432x288 with 1 Axes>"
      ]
     },
     "metadata": {},
     "output_type": "display_data"
    }
   ],
   "source": [
    "pd.DataFrame(ypred[:,1]).hist()"
   ]
  },
  {
   "cell_type": "code",
   "execution_count": 61,
   "metadata": {},
   "outputs": [
    {
     "name": "stdout",
     "output_type": "stream",
     "text": [
      "41360\n",
      "41360\n"
     ]
    }
   ],
   "source": [
    "eval_data=merged_data1[merged_data1[\"TARGET\"]!=merged_data1[\"TARGET\"]].copy()\n",
    "print(len(eval_data))\n",
    "eval_data_x=eval_data.copy()\n",
    "del eval_data_x[\"TARGET\"]\n",
    "del eval_data_x[\"SK_ID_CURR\"]\n",
    "ypred=model.predict_proba(eval_data_x)\n",
    "\n",
    "submit_data1=pd.concat([eval_data.reset_index(drop=True)[\"SK_ID_CURR\"],pd.DataFrame(ypred[:,1])],axis=1)\n",
    "submit_data1.columns=[\"SK_ID_CURR\",\"TARGET\"]\n",
    "print(len(submit_data1))"
   ]
  },
  {
   "cell_type": "code",
   "execution_count": 62,
   "metadata": {},
   "outputs": [
    {
     "data": {
      "text/plain": [
       "array([[<matplotlib.axes._subplots.AxesSubplot object at 0x7fc6b64f2c18>]],\n",
       "      dtype=object)"
      ]
     },
     "execution_count": 62,
     "metadata": {},
     "output_type": "execute_result"
    },
    {
     "data": {
      "image/png": "[encoded data removed]",
      "text/plain": [
       "<Figure size 432x288 with 1 Axes>"
      ]
     },
     "metadata": {},
     "output_type": "display_data"
    }
   ],
   "source": [
    "pd.DataFrame(ypred[:,1]).hist()"
   ]
  },
  {
   "cell_type": "code",
   "execution_count": 63,
   "metadata": {},
   "outputs": [
    {
     "name": "stdout",
     "output_type": "stream",
     "text": [
      "248148\n",
      "NG\n",
      "0.9287118977384464\n",
      "0.9990205631992052\n"
     ]
    }
   ],
   "source": [
    "train_data=merged_data2[merged_data2[\"TARGET\"]==merged_data2[\"TARGET\"]]\n",
    "print(len(train_data))\n",
    "\n",
    "train_data_x=train_data.copy()\n",
    "del train_data_x[\"SK_ID_CURR\"]\n",
    "del train_data_x[\"TARGET\"]\n",
    "train_data_y=train_data[\"TARGET\"]\n",
    "\n",
    "try:\n",
    "    del train_data_x[\"ORGANIZATION_TYPE\"]\n",
    "except:\n",
    "    print(\"NG\")\n",
    "    \n",
    "model = RandomForestClassifier(random_state=0,n_estimators=100,n_jobs=-1,max_depth=25,min_samples_leaf=3)\n",
    "model.fit(train_data_x, train_data_y)\n",
    "\n",
    "ypred=model.predict_proba(train_data_x)\n",
    "print(accuracy_score(train_data_y,  np.argmax(ypred, axis=1)))\n",
    "print(roc_auc_score(train_data_y, ypred[:,1]))"
   ]
  },
  {
   "cell_type": "code",
   "execution_count": 64,
   "metadata": {},
   "outputs": [
    {
     "data": {
      "text/plain": [
       "array([[<matplotlib.axes._subplots.AxesSubplot object at 0x7fc6b64ad4a8>]],\n",
       "      dtype=object)"
      ]
     },
     "execution_count": 64,
     "metadata": {},
     "output_type": "execute_result"
    },
    {
     "data": {
      "image/png": "[encoded data removed]",
      "text/plain": [
       "<Figure size 432x288 with 1 Axes>"
      ]
     },
     "metadata": {},
     "output_type": "display_data"
    }
   ],
   "source": [
    "pd.DataFrame(ypred[:,1]).hist()"
   ]
  },
  {
   "cell_type": "code",
   "execution_count": 65,
   "metadata": {},
   "outputs": [
    {
     "name": "stdout",
     "output_type": "stream",
     "text": [
      "41549\n",
      "41549\n"
     ]
    }
   ],
   "source": [
    "eval_data=merged_data2[merged_data2[\"TARGET\"]!=merged_data2[\"TARGET\"]].copy()\n",
    "print(len(eval_data))\n",
    "eval_data_x=eval_data.copy()\n",
    "del eval_data_x[\"TARGET\"]\n",
    "del eval_data_x[\"SK_ID_CURR\"]\n",
    "ypred=model.predict_proba(eval_data_x)\n",
    "\n",
    "submit_data2=pd.concat([eval_data.reset_index(drop=True)[\"SK_ID_CURR\"],pd.DataFrame(ypred[:,1])],axis=1)\n",
    "submit_data2.columns=[\"SK_ID_CURR\",\"TARGET\"]\n",
    "print(len(submit_data2))"
   ]
  },
  {
   "cell_type": "code",
   "execution_count": 66,
   "metadata": {},
   "outputs": [
    {
     "data": {
      "text/plain": [
       "array([[<matplotlib.axes._subplots.AxesSubplot object at 0x7fc6bfc16be0>]],\n",
       "      dtype=object)"
      ]
     },
     "execution_count": 66,
     "metadata": {},
     "output_type": "execute_result"
    },
    {
     "data": {
      "image/png": "[encoded data removed]",
      "text/plain": [
       "<Figure size 432x288 with 1 Axes>"
      ]
     },
     "metadata": {},
     "output_type": "display_data"
    }
   ],
   "source": [
    "pd.DataFrame(ypred[:,1]).hist()"
   ]
  },
  {
   "cell_type": "code",
   "execution_count": 67,
   "metadata": {},
   "outputs": [
    {
     "name": "stdout",
     "output_type": "stream",
     "text": [
      "286649\n",
      "NG\n",
      "0.9238022808382377\n",
      "0.9980381486124201\n"
     ]
    }
   ],
   "source": [
    "train_data=merged_data3[merged_data3[\"TARGET\"]==merged_data3[\"TARGET\"]]\n",
    "print(len(train_data))\n",
    "\n",
    "train_data_x=train_data.copy()\n",
    "del train_data_x[\"SK_ID_CURR\"]\n",
    "del train_data_x[\"TARGET\"]\n",
    "train_data_y=train_data[\"TARGET\"]\n",
    "\n",
    "try:\n",
    "    del train_data_x[\"ORGANIZATION_TYPE\"]\n",
    "except:\n",
    "    print(\"NG\")\n",
    "    \n",
    "model = RandomForestClassifier(random_state=0,n_estimators=100,n_jobs=-1,max_depth=25,min_samples_leaf=3)\n",
    "model.fit(train_data_x, train_data_y)\n",
    "\n",
    "ypred=model.predict_proba(train_data_x)\n",
    "print(accuracy_score(train_data_y,  np.argmax(ypred, axis=1)))\n",
    "print(roc_auc_score(train_data_y, ypred[:,1]))"
   ]
  },
  {
   "cell_type": "code",
   "execution_count": 68,
   "metadata": {},
   "outputs": [
    {
     "data": {
      "text/plain": [
       "array([[<matplotlib.axes._subplots.AxesSubplot object at 0x7fc6bfc21b70>]],\n",
       "      dtype=object)"
      ]
     },
     "execution_count": 68,
     "metadata": {},
     "output_type": "execute_result"
    },
    {
     "data": {
      "image/png": "[encoded data removed]",
      "text/plain": [
       "<Figure size 432x288 with 1 Axes>"
      ]
     },
     "metadata": {},
     "output_type": "display_data"
    }
   ],
   "source": [
    "pd.DataFrame(ypred[:,1]).hist()"
   ]
  },
  {
   "cell_type": "code",
   "execution_count": 69,
   "metadata": {},
   "outputs": [
    {
     "name": "stdout",
     "output_type": "stream",
     "text": [
      "47537\n",
      "47537\n"
     ]
    }
   ],
   "source": [
    "eval_data=merged_data3[merged_data3[\"TARGET\"]!=merged_data3[\"TARGET\"]].copy()\n",
    "print(len(eval_data))\n",
    "eval_data_x=eval_data.copy()\n",
    "del eval_data_x[\"TARGET\"]\n",
    "del eval_data_x[\"SK_ID_CURR\"]\n",
    "ypred=model.predict_proba(eval_data_x)\n",
    "\n",
    "submit_data3=pd.concat([eval_data.reset_index(drop=True)[\"SK_ID_CURR\"],pd.DataFrame(ypred[:,1])],axis=1)\n",
    "submit_data3.columns=[\"SK_ID_CURR\",\"TARGET\"]\n",
    "print(len(submit_data3))"
   ]
  },
  {
   "cell_type": "code",
   "execution_count": 70,
   "metadata": {},
   "outputs": [
    {
     "data": {
      "text/plain": [
       "array([[<matplotlib.axes._subplots.AxesSubplot object at 0x7fc6b148bd68>]],\n",
       "      dtype=object)"
      ]
     },
     "execution_count": 70,
     "metadata": {},
     "output_type": "execute_result"
    },
    {
     "data": {
      "image/png": "[encoded data removed]",
      "text/plain": [
       "<Figure size 432x288 with 1 Axes>"
      ]
     },
     "metadata": {},
     "output_type": "display_data"
    }
   ],
   "source": [
    "pd.DataFrame(ypred[:,1]).hist()"
   ]
  },
  {
   "cell_type": "code",
   "execution_count": null,
   "metadata": {},
   "outputs": [],
   "source": []
  },
  {
   "cell_type": "code",
   "execution_count": 71,
   "metadata": {},
   "outputs": [],
   "source": [
    "diff_2_1=np.setdiff1d(submit_data2[\"SK_ID_CURR\"],submit_data1[\"SK_ID_CURR\"])\n",
    "diff_3_1=np.setdiff1d(submit_data3[\"SK_ID_CURR\"],submit_data1[\"SK_ID_CURR\"])"
   ]
  },
  {
   "cell_type": "code",
   "execution_count": 72,
   "metadata": {},
   "outputs": [
    {
     "name": "stdout",
     "output_type": "stream",
     "text": [
      "189\n",
      "6177\n"
     ]
    }
   ],
   "source": [
    "print(len(diff_2_1))\n",
    "print(len(diff_3_1))"
   ]
  },
  {
   "cell_type": "code",
   "execution_count": 73,
   "metadata": {},
   "outputs": [],
   "source": [
    "submit_data2_2=submit_data2.set_index(\"SK_ID_CURR\").ix[diff_2_1].reset_index()\n",
    "submit_data3_2=submit_data3.set_index(\"SK_ID_CURR\").ix[diff_3_1].reset_index()\n"
   ]
  },
  {
   "cell_type": "code",
   "execution_count": 74,
   "metadata": {},
   "outputs": [],
   "source": [
    "submit_data=pd.concat([submit_data1,submit_data2_2,submit_data3_2])"
   ]
  },
  {
   "cell_type": "code",
   "execution_count": 95,
   "metadata": {},
   "outputs": [
    {
     "data": {
      "text/plain": [
       "48474"
      ]
     },
     "execution_count": 95,
     "metadata": {},
     "output_type": "execute_result"
    }
   ],
   "source": [
    "len(submit_data)"
   ]
  },
  {
   "cell_type": "code",
   "execution_count": 96,
   "metadata": {},
   "outputs": [
    {
     "data": {
      "text/plain": [
       "270"
      ]
     },
     "execution_count": 96,
     "metadata": {},
     "output_type": "execute_result"
    }
   ],
   "source": [
    "len(np.setdiff1d(app_test[\"SK_ID_CURR\"],submit_data[\"SK_ID_CURR\"]))"
   ]
  },
  {
   "cell_type": "code",
   "execution_count": 97,
   "metadata": {},
   "outputs": [
    {
     "data": {
      "text/plain": [
       "<matplotlib.axes._subplots.AxesSubplot at 0x7f600110d208>"
      ]
     },
     "execution_count": 97,
     "metadata": {},
     "output_type": "execute_result"
    },
    {
     "data": {
      "image/png": "[encoded data removed]",
      "text/plain": [
       "<Figure size 432x288 with 1 Axes>"
      ]
     },
     "metadata": {},
     "output_type": "display_data"
    }
   ],
   "source": [
    "submit_data[\"TARGET\"].hist()"
   ]
  },
  {
   "cell_type": "code",
   "execution_count": null,
   "metadata": {},
   "outputs": [],
   "source": []
  },
  {
   "cell_type": "code",
   "execution_count": 108,
   "metadata": {},
   "outputs": [
    {
     "data": {
      "text/plain": [
       "270"
      ]
     },
     "execution_count": 108,
     "metadata": {},
     "output_type": "execute_result"
    }
   ],
   "source": [
    "# 未提出IDのデータを抽出\n",
    "submit_data_tmp=submit_data.copy()\n",
    "submit_data_tmp[\"submit\"]=1\n",
    "#submit_data_tmp=submit_data_tmp[[\"SK_ID_CURR\",\"submit\"]].copy()\n",
    "app_data_tmp=pd.merge(app_data2,submit_data_tmp[[\"SK_ID_CURR\",\"submit\"]],on=\"SK_ID_CURR\",how=\"outer\")\n",
    "app_data_nosubmit=app_data_tmp[(app_data_tmp[\"TARGET\"]!=app_data_tmp[\"TARGET\"])&(app_data_tmp[\"submit\"]!=app_data_tmp[\"submit\"])]\n",
    "app_data_nosubmit=app_data_nosubmit.replace(\"XNA\",np.nan)\n",
    "len(app_data_nosubmit)"
   ]
  },
  {
   "cell_type": "code",
   "execution_count": 109,
   "metadata": {},
   "outputs": [
    {
     "data": {
      "text/plain": [
       "270"
      ]
     },
     "execution_count": 109,
     "metadata": {},
     "output_type": "execute_result"
    }
   ],
   "source": [
    "len(app_data[app_data[\"TARGET\"]!=app_data[\"TARGET\"]])-len(submit_data)"
   ]
  },
  {
   "cell_type": "code",
   "execution_count": 110,
   "metadata": {},
   "outputs": [
    {
     "data": {
      "text/plain": [
       "242"
      ]
     },
     "execution_count": 110,
     "metadata": {},
     "output_type": "execute_result"
    }
   ],
   "source": [
    "len(app_data_nosubmit.columns)"
   ]
  },
  {
   "cell_type": "code",
   "execution_count": 100,
   "metadata": {},
   "outputs": [],
   "source": [
    "# 2周目"
   ]
  },
  {
   "cell_type": "raw",
   "metadata": {},
   "source": [
    "app_data2=app_data.replace(\"XNA\",np.nan)#.replace(\"N\",np.nan)\n",
    "# 結合\n",
    "app_data2=pd.merge(app_data2,bureau_data2,on=\"SK_ID_CURR\",how=\"outer\")\n",
    "print(len(app_data2))\n",
    "print(len(app_data2.columns))\n",
    "\n",
    "# 結合\n",
    "app_data2=pd.merge(app_data2,POS_data2,on=\"SK_ID_CURR\",how=\"outer\")\n",
    "print(len(app_data2))\n",
    "print(len(app_data2.columns))\n",
    "\n",
    "app_data2=app_data.replace(\"XNA\",np.nan)#.replace(\"N\",np.nan)"
   ]
  },
  {
   "cell_type": "code",
   "execution_count": 111,
   "metadata": {},
   "outputs": [
    {
     "name": "stderr",
     "output_type": "stream",
     "text": [
      "100%|██████████| 242/242 [00:00<00:00, 828.52it/s]\n"
     ]
    },
    {
     "name": "stdout",
     "output_type": "stream",
     "text": [
      "238\n"
     ]
    }
   ],
   "source": [
    "col_lst2=[]\n",
    "for tmp_col in tqdm(app_data_nosubmit.columns):\n",
    "#    if app_data_nosubmit[tmp_col].value_counts().sum()/len(app_data_nosubmit) > 0.95:\n",
    "    if app_data_nosubmit[tmp_col].value_counts().sum()/len(app_data_nosubmit) > 0.9:\n",
    "        col_lst2.append(tmp_col)\n",
    "        \n",
    "print(len(app_data_nosubmit[col_lst2].dropna()))"
   ]
  },
  {
   "cell_type": "code",
   "execution_count": null,
   "metadata": {},
   "outputs": [],
   "source": []
  },
  {
   "cell_type": "code",
   "execution_count": 112,
   "metadata": {},
   "outputs": [
    {
     "name": "stdout",
     "output_type": "stream",
     "text": [
      "183\n"
     ]
    },
    {
     "data": {
      "text/plain": [
       "array([], dtype='<U49')"
      ]
     },
     "execution_count": 112,
     "metadata": {},
     "output_type": "execute_result"
    }
   ],
   "source": [
    "col_lst2=grep_not_include(col_lst2,\"TARGET\")\n",
    "print(len(col_lst2))\n",
    "np.setdiff1d(col_lst2,col_lst1)"
   ]
  },
  {
   "cell_type": "code",
   "execution_count": null,
   "metadata": {},
   "outputs": [],
   "source": []
  },
  {
   "cell_type": "code",
   "execution_count": 113,
   "metadata": {},
   "outputs": [
    {
     "name": "stdout",
     "output_type": "stream",
     "text": [
      "184\n",
      "355274\n"
     ]
    }
   ],
   "source": [
    "app_data2_2=app_data2[col_lst2].dropna().reset_index(drop=True)\n",
    "#flag_data=app_data[[\"SK_ID_CURR\",\"TARGET\"]]\n",
    "app_data2_2=pd.merge(app_data2_2,flag_data,on=\"SK_ID_CURR\",how=\"left\")\n",
    "\n",
    "print(len(app_data2_2.columns))\n",
    "print(len(app_data2_2))"
   ]
  },
  {
   "cell_type": "code",
   "execution_count": null,
   "metadata": {},
   "outputs": [],
   "source": []
  },
  {
   "cell_type": "code",
   "execution_count": 116,
   "metadata": {},
   "outputs": [
    {
     "name": "stdout",
     "output_type": "stream",
     "text": [
      "306562\n"
     ]
    }
   ],
   "source": [
    "train_data=app_data2_2[app_data2_2[\"TARGET\"]==app_data2_2[\"TARGET\"]]\n",
    "print(len(train_data))\n",
    "\n",
    "train_data_x=train_data.copy()\n",
    "del train_data_x[\"SK_ID_CURR\"]\n",
    "del train_data_x[\"TARGET\"]\n",
    "train_data_y=train_data[\"TARGET\"]"
   ]
  },
  {
   "cell_type": "code",
   "execution_count": 117,
   "metadata": {},
   "outputs": [
    {
     "name": "stdout",
     "output_type": "stream",
     "text": [
      "0.9211774453454766\n",
      "0.9983888686468464\n"
     ]
    }
   ],
   "source": [
    "model = RandomForestClassifier(random_state=0,n_estimators=100,n_jobs=-1,max_depth=30,min_samples_leaf=3)\n",
    "model.fit(train_data_x, train_data_y)\n",
    "\n",
    "ypred=model.predict_proba(train_data_x)\n",
    "print(accuracy_score(train_data_y,  np.argmax(ypred, axis=1)))\n",
    "print(roc_auc_score(train_data_y, ypred[:,1]))"
   ]
  },
  {
   "cell_type": "code",
   "execution_count": 118,
   "metadata": {},
   "outputs": [
    {
     "data": {
      "text/plain": [
       "array([[<matplotlib.axes._subplots.AxesSubplot object at 0x7f5fe869fcc0>]],\n",
       "      dtype=object)"
      ]
     },
     "execution_count": 118,
     "metadata": {},
     "output_type": "execute_result"
    },
    {
     "data": {
      "image/png": "[encoded data removed]",
      "text/plain": [
       "<Figure size 432x288 with 1 Axes>"
      ]
     },
     "metadata": {},
     "output_type": "display_data"
    }
   ],
   "source": [
    "pd.DataFrame(ypred[:,1]).hist()"
   ]
  },
  {
   "cell_type": "code",
   "execution_count": 119,
   "metadata": {},
   "outputs": [
    {
     "name": "stdout",
     "output_type": "stream",
     "text": [
      "48712\n"
     ]
    }
   ],
   "source": [
    "eval_data=app_data2_2[app_data2_2[\"TARGET\"]!=app_data2_2[\"TARGET\"]].copy()\n",
    "print(len(eval_data))\n",
    "eval_data_x=eval_data.copy()\n",
    "del eval_data_x[\"TARGET\"]\n",
    "del eval_data_x[\"SK_ID_CURR\"]\n",
    "ypred=model.predict_proba(eval_data_x)\n",
    "#ypred2=model2.predict_proba(eval_data_x[imp_cols])"
   ]
  },
  {
   "cell_type": "code",
   "execution_count": 120,
   "metadata": {},
   "outputs": [
    {
     "data": {
      "text/plain": [
       "array([[<matplotlib.axes._subplots.AxesSubplot object at 0x7f5ffe50f588>]],\n",
       "      dtype=object)"
      ]
     },
     "execution_count": 120,
     "metadata": {},
     "output_type": "execute_result"
    },
    {
     "data": {
      "image/png": "[encoded data removed]",
      "text/plain": [
       "<Figure size 432x288 with 1 Axes>"
      ]
     },
     "metadata": {},
     "output_type": "display_data"
    }
   ],
   "source": [
    "pd.DataFrame(ypred[:,1]).hist()"
   ]
  },
  {
   "cell_type": "code",
   "execution_count": 121,
   "metadata": {},
   "outputs": [
    {
     "name": "stdout",
     "output_type": "stream",
     "text": [
      "48712\n"
     ]
    }
   ],
   "source": [
    "submit_data_tmp=pd.concat([eval_data.reset_index(drop=True)[\"SK_ID_CURR\"],pd.DataFrame(ypred[:,1])],axis=1)\n",
    "submit_data_tmp.columns=[\"SK_ID_CURR\",\"TARGET\"]\n",
    "#submit_data.to_csv(\"submit_data_0527_01.csv\",index=False,header=True)\n",
    "print(len(submit_data_tmp))"
   ]
  },
  {
   "cell_type": "code",
   "execution_count": 122,
   "metadata": {},
   "outputs": [],
   "source": [
    "submit_data4=pd.merge(app_data_nosubmit[[\"SK_ID_CURR\"]],submit_data_tmp,on=\"SK_ID_CURR\",how=\"inner\")"
   ]
  },
  {
   "cell_type": "code",
   "execution_count": 123,
   "metadata": {},
   "outputs": [
    {
     "name": "stdout",
     "output_type": "stream",
     "text": [
      "270\n",
      "48474\n",
      "238\n",
      "48712\n",
      "48744\n",
      "32\n"
     ]
    }
   ],
   "source": [
    "print(len(app_data_nosubmit))\n",
    "print(len(submit_data))\n",
    "print(len(submit_data4))\n",
    "print(len(submit_data)+len(submit_data4))\n",
    "print(len(app_test))\n",
    "\n",
    "print(len(app_test)-len(submit_data)-len(submit_data4))"
   ]
  },
  {
   "cell_type": "code",
   "execution_count": null,
   "metadata": {},
   "outputs": [],
   "source": []
  },
  {
   "cell_type": "code",
   "execution_count": null,
   "metadata": {},
   "outputs": [],
   "source": []
  },
  {
   "cell_type": "code",
   "execution_count": 124,
   "metadata": {},
   "outputs": [
    {
     "name": "stdout",
     "output_type": "stream",
     "text": [
      "32\n"
     ]
    }
   ],
   "source": [
    "# 未提出IDのデータを抽出\n",
    "submit_data_tmp=pd.concat([submit_data,submit_data4])\n",
    "submit_data_tmp[\"submit\"]=1\n",
    "#submit_data_tmp=submit_data_tmp[[\"SK_ID_CURR\",\"submit\"]].copy()\n",
    "app_data_tmp=pd.merge(app_data2,submit_data_tmp[[\"SK_ID_CURR\",\"submit\"]],on=\"SK_ID_CURR\",how=\"outer\")\n",
    "app_data_nosubmit=app_data_tmp[(app_data_tmp[\"TARGET\"]!=app_data_tmp[\"TARGET\"])&(app_data_tmp[\"submit\"]!=app_data_tmp[\"submit\"])]\n",
    "app_data_nosubmit=app_data_nosubmit.replace(\"XNA\",np.nan)\n",
    "print(len(app_data_nosubmit))"
   ]
  },
  {
   "cell_type": "code",
   "execution_count": null,
   "metadata": {},
   "outputs": [],
   "source": []
  },
  {
   "cell_type": "code",
   "execution_count": null,
   "metadata": {},
   "outputs": [],
   "source": []
  },
  {
   "cell_type": "code",
   "execution_count": 67,
   "metadata": {},
   "outputs": [],
   "source": [
    "# 3周目"
   ]
  },
  {
   "cell_type": "code",
   "execution_count": 136,
   "metadata": {},
   "outputs": [
    {
     "name": "stderr",
     "output_type": "stream",
     "text": [
      "100%|██████████| 242/242 [00:00<00:00, 1377.97it/s]"
     ]
    },
    {
     "name": "stdout",
     "output_type": "stream",
     "text": [
      "32\n",
      "185\n"
     ]
    },
    {
     "name": "stderr",
     "output_type": "stream",
     "text": [
      "\n"
     ]
    }
   ],
   "source": [
    "col_lst3=[]\n",
    "for tmp_col in tqdm(app_data_nosubmit.columns):\n",
    "    if app_data_nosubmit[tmp_col].value_counts().sum()/len(app_data_nosubmit) > 0.95:\n",
    "        col_lst3.append(tmp_col)\n",
    "        \n",
    "print(len(app_data_nosubmit[col_lst3].dropna()))\n",
    "print(len(col_lst3))"
   ]
  },
  {
   "cell_type": "code",
   "execution_count": 137,
   "metadata": {},
   "outputs": [
    {
     "data": {
      "text/plain": [
       "array([], dtype='<U49')"
      ]
     },
     "execution_count": 137,
     "metadata": {},
     "output_type": "execute_result"
    }
   ],
   "source": [
    "np.setdiff1d(col_lst3,col_lst1)"
   ]
  },
  {
   "cell_type": "code",
   "execution_count": null,
   "metadata": {},
   "outputs": [],
   "source": []
  },
  {
   "cell_type": "code",
   "execution_count": 138,
   "metadata": {},
   "outputs": [
    {
     "name": "stdout",
     "output_type": "stream",
     "text": [
      "186\n",
      "354926\n"
     ]
    }
   ],
   "source": [
    "app_data2_3=app_data2[col_lst3].dropna().reset_index(drop=True)\n",
    "#flag_data=app_data[[\"SK_ID_CURR\",\"TARGET\"]]\n",
    "app_data2_3=pd.merge(app_data2_3,flag_data,on=\"SK_ID_CURR\",how=\"left\")\n",
    "\n",
    "print(len(app_data2_3.columns))\n",
    "print(len(app_data2_3))"
   ]
  },
  {
   "cell_type": "code",
   "execution_count": 139,
   "metadata": {},
   "outputs": [
    {
     "name": "stdout",
     "output_type": "stream",
     "text": [
      "306211\n"
     ]
    }
   ],
   "source": [
    "train_data=app_data2_3[app_data2_3[\"TARGET\"]==app_data2_3[\"TARGET\"]]\n",
    "print(len(train_data))\n",
    "\n",
    "train_data_x=train_data.copy()\n",
    "del train_data_x[\"SK_ID_CURR\"]\n",
    "del train_data_x[\"TARGET\"]\n",
    "train_data_y=train_data[\"TARGET\"]"
   ]
  },
  {
   "cell_type": "code",
   "execution_count": 140,
   "metadata": {},
   "outputs": [
    {
     "name": "stdout",
     "output_type": "stream",
     "text": [
      "0.9193105407709063\n",
      "0.9987112257579045\n"
     ]
    }
   ],
   "source": [
    "model = RandomForestClassifier(random_state=0,n_estimators=100,n_jobs=-1,max_depth=30,min_samples_leaf=3)\n",
    "model.fit(train_data_x, train_data_y)\n",
    "\n",
    "ypred=model.predict_proba(train_data_x)\n",
    "print(accuracy_score(train_data_y,  np.argmax(ypred, axis=1)))\n",
    "print(roc_auc_score(train_data_y, ypred[:,1]))"
   ]
  },
  {
   "cell_type": "code",
   "execution_count": 141,
   "metadata": {},
   "outputs": [
    {
     "data": {
      "text/plain": [
       "array([[<matplotlib.axes._subplots.AxesSubplot object at 0x7f5ffe262cf8>]],\n",
       "      dtype=object)"
      ]
     },
     "execution_count": 141,
     "metadata": {},
     "output_type": "execute_result"
    },
    {
     "data": {
      "image/png": "[encoded data removed]",
      "text/plain": [
       "<Figure size 432x288 with 1 Axes>"
      ]
     },
     "metadata": {},
     "output_type": "display_data"
    }
   ],
   "source": [
    "pd.DataFrame(ypred[:,1]).hist()"
   ]
  },
  {
   "cell_type": "code",
   "execution_count": 142,
   "metadata": {},
   "outputs": [
    {
     "name": "stdout",
     "output_type": "stream",
     "text": [
      "48715\n"
     ]
    }
   ],
   "source": [
    "eval_data=app_data2_3[app_data2_3[\"TARGET\"]!=app_data2_3[\"TARGET\"]].copy()\n",
    "print(len(eval_data))\n",
    "eval_data_x=eval_data.copy()\n",
    "del eval_data_x[\"TARGET\"]\n",
    "del eval_data_x[\"SK_ID_CURR\"]\n",
    "ypred=model.predict_proba(eval_data_x)\n",
    "#ypred2=model2.predict_proba(eval_data_x[imp_cols])"
   ]
  },
  {
   "cell_type": "code",
   "execution_count": 143,
   "metadata": {},
   "outputs": [
    {
     "data": {
      "text/plain": [
       "array([[<matplotlib.axes._subplots.AxesSubplot object at 0x7f5ff6860a90>]],\n",
       "      dtype=object)"
      ]
     },
     "execution_count": 143,
     "metadata": {},
     "output_type": "execute_result"
    },
    {
     "data": {
      "image/png": "[encoded data removed]",
      "text/plain": [
       "<Figure size 432x288 with 1 Axes>"
      ]
     },
     "metadata": {},
     "output_type": "display_data"
    }
   ],
   "source": [
    "pd.DataFrame(ypred[:,1]).hist()"
   ]
  },
  {
   "cell_type": "code",
   "execution_count": 144,
   "metadata": {},
   "outputs": [
    {
     "name": "stdout",
     "output_type": "stream",
     "text": [
      "48715\n"
     ]
    }
   ],
   "source": [
    "submit_data_tmp=pd.concat([eval_data.reset_index(drop=True)[\"SK_ID_CURR\"],pd.DataFrame(ypred[:,1])],axis=1)\n",
    "submit_data_tmp.columns=[\"SK_ID_CURR\",\"TARGET\"]\n",
    "#submit_data.to_csv(\"submit_data_0527_01.csv\",index=False,header=True)\n",
    "print(len(submit_data_tmp))"
   ]
  },
  {
   "cell_type": "code",
   "execution_count": 145,
   "metadata": {},
   "outputs": [],
   "source": [
    "submit_data5=pd.merge(app_data_nosubmit[[\"SK_ID_CURR\"]],submit_data_tmp,on=\"SK_ID_CURR\",how=\"inner\")"
   ]
  },
  {
   "cell_type": "code",
   "execution_count": 146,
   "metadata": {},
   "outputs": [
    {
     "name": "stdout",
     "output_type": "stream",
     "text": [
      "32\n",
      "48474\n",
      "238\n",
      "32\n",
      "0\n"
     ]
    }
   ],
   "source": [
    "print(len(app_data_nosubmit))\n",
    "print(len(submit_data))\n",
    "print(len(submit_data4))\n",
    "print(len(submit_data5))\n",
    "print(len(app_test)-(len(submit_data)+len(submit_data4)+len(submit_data5)))"
   ]
  },
  {
   "cell_type": "code",
   "execution_count": null,
   "metadata": {},
   "outputs": [],
   "source": []
  },
  {
   "cell_type": "code",
   "execution_count": 147,
   "metadata": {},
   "outputs": [],
   "source": [
    "#app_data3_2=app_data3[app_data3[\"TARGET\"]!=app_data3[\"TARGET\"]]\n",
    "#app_data3_2[\"TARGET\"]=app_data3[\"TARGET\"].mean()\n",
    "submit_data6=pd.concat([submit_data,submit_data4,submit_data5]).sort_values(\"SK_ID_CURR\")\n"
   ]
  },
  {
   "cell_type": "code",
   "execution_count": 148,
   "metadata": {},
   "outputs": [
    {
     "name": "stdout",
     "output_type": "stream",
     "text": [
      "48474\n",
      "238\n",
      "32\n",
      "48744\n"
     ]
    }
   ],
   "source": [
    "print(len(submit_data))\n",
    "print(len(submit_data4))\n",
    "print(len(submit_data5))\n",
    "print(len(submit_data6))"
   ]
  },
  {
   "cell_type": "code",
   "execution_count": 149,
   "metadata": {},
   "outputs": [],
   "source": [
    "submit_data6=submit_data6.reset_index(drop=True)"
   ]
  },
  {
   "cell_type": "code",
   "execution_count": 150,
   "metadata": {},
   "outputs": [],
   "source": [
    "submit_data6.to_csv(\"credit_submit_data_0606_02.csv\",index=False,header=True)　 #ベスト\n",
    "#tmp_data=pd.read_csv(\"credit_submit_data_0605_01.csv\")"
   ]
  },
  {
   "cell_type": "code",
   "execution_count": null,
   "metadata": {},
   "outputs": [],
   "source": []
  },
  {
   "cell_type": "code",
   "execution_count": null,
   "metadata": {},
   "outputs": [],
   "source": []
  },
  {
   "cell_type": "code",
   "execution_count": null,
   "metadata": {},
   "outputs": [],
   "source": []
  },
  {
   "cell_type": "code",
   "execution_count": null,
   "metadata": {},
   "outputs": [],
   "source": [
    "# ④データを追加"
   ]
  },
  {
   "cell_type": "code",
   "execution_count": 268,
   "metadata": {},
   "outputs": [
    {
     "name": "stdout",
     "output_type": "stream",
     "text": [
      "304162\n",
      "88\n",
      "288433\n",
      "92\n",
      "87339\n",
      "100\n",
      "89858\n",
      "96\n",
      "103478\n",
      "60\n"
     ]
    }
   ],
   "source": [
    "# 全データ結合\n",
    "merged_data1_2=pd.merge(app_data6,bureau_data2,on=\"SK_ID_CURR\",how=\"inner\")\n",
    "merged_data1_2_3=pd.merge(merged_data1_2,POS_data2,on=\"SK_ID_CURR\",how=\"inner\")\n",
    "merged_data1_2_3_4=pd.merge(merged_data1_2_3,ccb_data2,on=\"SK_ID_CURR\",how=\"inner\")\n",
    "\n",
    "merged_data1_2_4=pd.merge(merged_data1_2,ccb_data2,on=\"SK_ID_CURR\",how=\"inner\")\n",
    "merged_data1_4=pd.merge(app_data6,ccb_data2,on=\"SK_ID_CURR\",how=\"inner\")\n",
    "\n",
    "print(len(merged_data1_2))\n",
    "print(len(merged_data1_2.columns))\n",
    "\n",
    "print(len(merged_data1_2_3))\n",
    "print(len(merged_data1_2_3.columns))\n",
    "\n",
    "print(len(merged_data1_2_3_4))\n",
    "print(len(merged_data1_2_3_4.columns))\n",
    "\n",
    "print(len(merged_data1_2_4))\n",
    "print(len(merged_data1_2_4.columns))\n",
    "\n",
    "print(len(merged_data1_4))\n",
    "print(len(merged_data1_4.columns))\n"
   ]
  },
  {
   "cell_type": "code",
   "execution_count": 269,
   "metadata": {},
   "outputs": [],
   "source": [
    "merged_data1_2_3_4=pd.merge(merged_data1_2_3_4,flag_data,on=\"SK_ID_CURR\",how=\"left\")"
   ]
  },
  {
   "cell_type": "code",
   "execution_count": 276,
   "metadata": {},
   "outputs": [
    {
     "name": "stdout",
     "output_type": "stream",
     "text": [
      "72855\n",
      "NG\n",
      "0.930437169720678\n",
      "0.9999011187030756\n"
     ]
    }
   ],
   "source": [
    "train_data=merged_data1_2_3_4[merged_data1_2_3_4[\"TARGET\"]==merged_data1_2_3_4[\"TARGET\"]]\n",
    "print(len(train_data))\n",
    "\n",
    "train_data_x=train_data.copy()\n",
    "del train_data_x[\"SK_ID_CURR\"]\n",
    "del train_data_x[\"TARGET\"]\n",
    "train_data_y=train_data[\"TARGET\"]\n",
    "\n",
    "try:\n",
    "    del train_data_x[\"ORGANIZATION_TYPE\"]\n",
    "except:\n",
    "    print(\"NG\")\n",
    "    \n",
    "model = RandomForestClassifier(random_state=0,n_estimators=100,n_jobs=-1,max_depth=25,min_samples_leaf=3)\n",
    "model.fit(train_data_x, train_data_y)\n",
    "\n",
    "ypred=model.predict_proba(train_data_x)\n",
    "print(accuracy_score(train_data_y,  np.argmax(ypred, axis=1)))\n",
    "print(roc_auc_score(train_data_y, ypred[:,1]))"
   ]
  },
  {
   "cell_type": "code",
   "execution_count": 277,
   "metadata": {},
   "outputs": [
    {
     "data": {
      "text/plain": [
       "array([[<matplotlib.axes._subplots.AxesSubplot object at 0x7f36ec586a58>]],\n",
       "      dtype=object)"
      ]
     },
     "execution_count": 277,
     "metadata": {},
     "output_type": "execute_result"
    },
    {
     "data": {
      "image/png": "[encoded data removed]",
      "text/plain": [
       "<Figure size 432x288 with 1 Axes>"
      ]
     },
     "metadata": {},
     "output_type": "display_data"
    }
   ],
   "source": [
    "pd.DataFrame(ypred[:,1]).hist()"
   ]
  },
  {
   "cell_type": "code",
   "execution_count": 278,
   "metadata": {},
   "outputs": [
    {
     "name": "stdout",
     "output_type": "stream",
     "text": [
      "14484\n",
      "14484\n"
     ]
    },
    {
     "data": {
      "text/plain": [
       "array([[<matplotlib.axes._subplots.AxesSubplot object at 0x7f36ec6c09e8>]],\n",
       "      dtype=object)"
      ]
     },
     "execution_count": 278,
     "metadata": {},
     "output_type": "execute_result"
    },
    {
     "data": {
      "image/png": "[encoded data removed]",
      "text/plain": [
       "<Figure size 432x288 with 1 Axes>"
      ]
     },
     "metadata": {},
     "output_type": "display_data"
    }
   ],
   "source": [
    "eval_data=merged_data1_2_3_4[merged_data1_2_3_4[\"TARGET\"]!=merged_data1_2_3_4[\"TARGET\"]].copy()\n",
    "print(len(eval_data))\n",
    "eval_data_x=eval_data.copy()\n",
    "del eval_data_x[\"TARGET\"]\n",
    "del eval_data_x[\"SK_ID_CURR\"]\n",
    "ypred=model.predict_proba(eval_data_x)\n",
    "\n",
    "submit_data1=pd.concat([eval_data.reset_index(drop=True)[\"SK_ID_CURR\"],pd.DataFrame(ypred[:,1])],axis=1)\n",
    "submit_data1.columns=[\"SK_ID_CURR\",\"TARGET\"]\n",
    "print(len(submit_data1))\n",
    "\n",
    "pd.DataFrame(ypred[:,1]).hist()"
   ]
  },
  {
   "cell_type": "code",
   "execution_count": 279,
   "metadata": {},
   "outputs": [],
   "source": []
  },
  {
   "cell_type": "code",
   "execution_count": 294,
   "metadata": {},
   "outputs": [],
   "source": [
    "submit_data_tmp=pd.concat([eval_data.reset_index(drop=True)[\"SK_ID_CURR\"],pd.DataFrame(ypred[:,1])],axis=1)\n",
    "submit_data_tmp.columns=[\"SK_ID_CURR\",\"TARGET2\"]\n",
    "\n",
    "submit_data7=submit_data6.copy()\n",
    "submit_data_tmp=submit_data_tmp.set_index(\"SK_ID_CURR\")\n",
    "submit_data7=submit_data6.set_index(\"SK_ID_CURR\")\n",
    "\n",
    "submit_data7.loc[submit_data_tmp.index,\"TARGET\"]=submit_data_tmp[\"TARGET2\"]"
   ]
  },
  {
   "cell_type": "code",
   "execution_count": 293,
   "metadata": {},
   "outputs": [],
   "source": [
    "submit_data7.reset_index().to_csv(\"credit_submit_data_0605_02.csv\",index=False,header=True)"
   ]
  },
  {
   "cell_type": "code",
   "execution_count": 297,
   "metadata": {},
   "outputs": [],
   "source": []
  },
  {
   "cell_type": "code",
   "execution_count": null,
   "metadata": {},
   "outputs": [],
   "source": []
  },
  {
   "cell_type": "code",
   "execution_count": null,
   "metadata": {},
   "outputs": [],
   "source": []
  },
  {
   "cell_type": "code",
   "execution_count": null,
   "metadata": {},
   "outputs": [],
   "source": []
  },
  {
   "cell_type": "code",
   "execution_count": 388,
   "metadata": {},
   "outputs": [],
   "source": [
    "# 全データ結合\n",
    "merged_data1_2=pd.merge(app_data6,bureau_data2,on=\"SK_ID_CURR\",how=\"outer\")\n",
    "merged_data1_2_3=pd.merge(merged_data1_2,POS_data2,on=\"SK_ID_CURR\",how=\"outer\")\n",
    "merged_data1_2_3_4=pd.merge(merged_data1_2_3,ccb_data2,on=\"SK_ID_CURR\",how=\"outer\")\n",
    "\n",
    "#merged_data1_2_3_4=pd.merge(merged_data1_2_3_4,flag_data,on=\"SK_ID_CURR\",how=\"outer\")\n",
    "#merged_data1_2_3_4=pd.merge(merged_data1_2_3_4,flag_data.dropna(subset=[\"TARGET\"]),on=\"SK_ID_CURR\",how=\"inner\")"
   ]
  },
  {
   "cell_type": "code",
   "execution_count": null,
   "metadata": {},
   "outputs": [],
   "source": []
  },
  {
   "cell_type": "code",
   "execution_count": 389,
   "metadata": {},
   "outputs": [],
   "source": [
    "#tmp_data=merged_data1_2_3_4[[\"SK_ID_CURR\",'AMT_ANNUITY',\"AMT_ANNUITY_BUREAU\",\"POS_ID_PREV_CNT\",\"CCB_num_of_loans\",\"TARGET\"]].sort_values(\"SK_ID_CURR\").set_index(\"SK_ID_CURR\").fillna(0).astype(bool).astype(int)\n",
    "tmp_data=merged_data1_2_3_4[[\"SK_ID_CURR\",'AMT_ANNUITY',\"AMT_ANNUITY_BUREAU\",\"POS_ID_PREV_CNT\",\"CCB_num_of_loans\"]].sort_values(\"SK_ID_CURR\").set_index(\"SK_ID_CURR\").fillna(0).astype(bool).astype(int)\n",
    "tmp_data.columns=[\"app_data\",\"bureau\",\"pos\",\"ccb\"]\n"
   ]
  },
  {
   "cell_type": "code",
   "execution_count": 390,
   "metadata": {},
   "outputs": [],
   "source": [
    "tmp_data.to_csv(\"merged_0605.csv\",index=False,header=True)"
   ]
  },
  {
   "cell_type": "code",
   "execution_count": null,
   "metadata": {},
   "outputs": [],
   "source": []
  },
  {
   "cell_type": "code",
   "execution_count": null,
   "metadata": {},
   "outputs": [],
   "source": []
  },
  {
   "cell_type": "code",
   "execution_count": 368,
   "metadata": {},
   "outputs": [],
   "source": [
    "# 案：複数のデータセットでモデル生成して、もっとも確率の高いスコアを予測スコアとする"
   ]
  },
  {
   "cell_type": "code",
   "execution_count": null,
   "metadata": {},
   "outputs": [],
   "source": []
  },
  {
   "cell_type": "code",
   "execution_count": 369,
   "metadata": {},
   "outputs": [],
   "source": [
    "tmp_data[\"app_data\"]=tmp_data[\"app_data\"]*1\n",
    "tmp_data[\"bureau\"]=tmp_data[\"bureau\"]*2\n",
    "tmp_data[\"pos\"]=tmp_data[\"pos\"]*4\n",
    "tmp_data[\"ccb\"]=tmp_data[\"ccb\"]*8"
   ]
  },
  {
   "cell_type": "code",
   "execution_count": 370,
   "metadata": {},
   "outputs": [
    {
     "data": {
      "text/plain": [
       "5     165955\n",
       "13     63843\n",
       "7      37852\n",
       "15     20163\n",
       "1      13126\n",
       "9       2388\n",
       "3       1778\n",
       "4       1542\n",
       "11       440\n",
       "0        223\n",
       "12        63\n",
       "6         19\n",
       "2         13\n",
       "14         7\n",
       "8          1\n",
       "dtype: int64"
      ]
     },
     "execution_count": 370,
     "metadata": {},
     "output_type": "execute_result"
    }
   ],
   "source": [
    "(tmp_data[\"app_data\"]+tmp_data[\"bureau\"]+tmp_data[\"pos\"]+tmp_data[\"ccb\"]).value_counts()"
   ]
  },
  {
   "cell_type": "code",
   "execution_count": 371,
   "metadata": {},
   "outputs": [],
   "source": [
    "tmp_data[\"CNT\"]=1\n",
    "tmp_data2=tmp_data.groupby([\"app_data\",\"bureau\",\"pos\",\"ccb\"]).sum()"
   ]
  },
  {
   "cell_type": "code",
   "execution_count": 372,
   "metadata": {},
   "outputs": [],
   "source": [
    "tmp_data2[\"pct\"]=tmp_data2[\"TARGET\"]/tmp_data2[\"CNT\"]"
   ]
  },
  {
   "cell_type": "code",
   "execution_count": 373,
   "metadata": {},
   "outputs": [],
   "source": [
    "tmp_data2.to_csv(\"merged_0605_aggr2.csv\",index=True,header=True)"
   ]
  },
  {
   "cell_type": "code",
   "execution_count": 374,
   "metadata": {},
   "outputs": [
    {
     "data": {
      "text/html": [
       "<div>\n",
       "<style scoped>\n",
       "    .dataframe tbody tr th:only-of-type {\n",
       "        vertical-align: middle;\n",
       "    }\n",
       "\n",
       "    .dataframe tbody tr th {\n",
       "        vertical-align: top;\n",
       "    }\n",
       "\n",
       "    .dataframe thead th {\n",
       "        text-align: right;\n",
       "    }\n",
       "</style>\n",
       "<table border=\"1\" class=\"dataframe\">\n",
       "  <thead>\n",
       "    <tr style=\"text-align: right;\">\n",
       "      <th></th>\n",
       "      <th></th>\n",
       "      <th></th>\n",
       "      <th></th>\n",
       "      <th>TARGET</th>\n",
       "      <th>CNT</th>\n",
       "      <th>pct</th>\n",
       "    </tr>\n",
       "    <tr>\n",
       "      <th>app_data</th>\n",
       "      <th>bureau</th>\n",
       "      <th>pos</th>\n",
       "      <th>ccb</th>\n",
       "      <th></th>\n",
       "      <th></th>\n",
       "      <th></th>\n",
       "    </tr>\n",
       "  </thead>\n",
       "  <tbody>\n",
       "    <tr>\n",
       "      <th rowspan=\"7\" valign=\"top\">0</th>\n",
       "      <th rowspan=\"4\" valign=\"top\">0</th>\n",
       "      <th rowspan=\"2\" valign=\"top\">0</th>\n",
       "      <th>0</th>\n",
       "      <td>2</td>\n",
       "      <td>223</td>\n",
       "      <td>0.008969</td>\n",
       "    </tr>\n",
       "    <tr>\n",
       "      <th>8</th>\n",
       "      <td>0</td>\n",
       "      <td>1</td>\n",
       "      <td>0.000000</td>\n",
       "    </tr>\n",
       "    <tr>\n",
       "      <th rowspan=\"2\" valign=\"top\">4</th>\n",
       "      <th>0</th>\n",
       "      <td>103</td>\n",
       "      <td>1542</td>\n",
       "      <td>0.066796</td>\n",
       "    </tr>\n",
       "    <tr>\n",
       "      <th>8</th>\n",
       "      <td>4</td>\n",
       "      <td>63</td>\n",
       "      <td>0.063492</td>\n",
       "    </tr>\n",
       "    <tr>\n",
       "      <th rowspan=\"3\" valign=\"top\">2</th>\n",
       "      <th>0</th>\n",
       "      <th>0</th>\n",
       "      <td>0</td>\n",
       "      <td>13</td>\n",
       "      <td>0.000000</td>\n",
       "    </tr>\n",
       "    <tr>\n",
       "      <th rowspan=\"2\" valign=\"top\">4</th>\n",
       "      <th>0</th>\n",
       "      <td>0</td>\n",
       "      <td>19</td>\n",
       "      <td>0.000000</td>\n",
       "    </tr>\n",
       "    <tr>\n",
       "      <th>8</th>\n",
       "      <td>0</td>\n",
       "      <td>7</td>\n",
       "      <td>0.000000</td>\n",
       "    </tr>\n",
       "    <tr>\n",
       "      <th rowspan=\"8\" valign=\"top\">1</th>\n",
       "      <th rowspan=\"4\" valign=\"top\">0</th>\n",
       "      <th rowspan=\"2\" valign=\"top\">0</th>\n",
       "      <th>0</th>\n",
       "      <td>767</td>\n",
       "      <td>13126</td>\n",
       "      <td>0.058434</td>\n",
       "    </tr>\n",
       "    <tr>\n",
       "      <th>8</th>\n",
       "      <td>289</td>\n",
       "      <td>2388</td>\n",
       "      <td>0.121022</td>\n",
       "    </tr>\n",
       "    <tr>\n",
       "      <th rowspan=\"2\" valign=\"top\">4</th>\n",
       "      <th>0</th>\n",
       "      <td>12949</td>\n",
       "      <td>165955</td>\n",
       "      <td>0.078027</td>\n",
       "    </tr>\n",
       "    <tr>\n",
       "      <th>8</th>\n",
       "      <td>5358</td>\n",
       "      <td>63843</td>\n",
       "      <td>0.083925</td>\n",
       "    </tr>\n",
       "    <tr>\n",
       "      <th rowspan=\"4\" valign=\"top\">2</th>\n",
       "      <th rowspan=\"2\" valign=\"top\">0</th>\n",
       "      <th>0</th>\n",
       "      <td>114</td>\n",
       "      <td>1778</td>\n",
       "      <td>0.064117</td>\n",
       "    </tr>\n",
       "    <tr>\n",
       "      <th>8</th>\n",
       "      <td>32</td>\n",
       "      <td>440</td>\n",
       "      <td>0.072727</td>\n",
       "    </tr>\n",
       "    <tr>\n",
       "      <th rowspan=\"2\" valign=\"top\">4</th>\n",
       "      <th>0</th>\n",
       "      <td>3356</td>\n",
       "      <td>37852</td>\n",
       "      <td>0.088661</td>\n",
       "    </tr>\n",
       "    <tr>\n",
       "      <th>8</th>\n",
       "      <td>1851</td>\n",
       "      <td>20163</td>\n",
       "      <td>0.091802</td>\n",
       "    </tr>\n",
       "  </tbody>\n",
       "</table>\n",
       "</div>"
      ],
      "text/plain": [
       "                         TARGET     CNT       pct\n",
       "app_data bureau pos ccb                          \n",
       "0        0      0   0         2     223  0.008969\n",
       "                    8         0       1  0.000000\n",
       "                4   0       103    1542  0.066796\n",
       "                    8         4      63  0.063492\n",
       "         2      0   0         0      13  0.000000\n",
       "                4   0         0      19  0.000000\n",
       "                    8         0       7  0.000000\n",
       "1        0      0   0       767   13126  0.058434\n",
       "                    8       289    2388  0.121022\n",
       "                4   0     12949  165955  0.078027\n",
       "                    8      5358   63843  0.083925\n",
       "         2      0   0       114    1778  0.064117\n",
       "                    8        32     440  0.072727\n",
       "                4   0      3356   37852  0.088661\n",
       "                    8      1851   20163  0.091802"
      ]
     },
     "execution_count": 374,
     "metadata": {},
     "output_type": "execute_result"
    }
   ],
   "source": [
    "tmp_data2"
   ]
  },
  {
   "cell_type": "code",
   "execution_count": 470,
   "metadata": {},
   "outputs": [],
   "source": [
    "# ①③④だけのデータで予測して、対象者の結果を置き換える\n",
    "tgt_index=tmp_data[(tmp_data[\"app_data\"]==1)&(tmp_data[\"bureau\"]==0)&(tmp_data[\"pos\"]==1)&(tmp_data[\"ccb\"]==1)].index\n",
    "\n",
    "merged_data1_3_4_ex=app_data6.merge(POS_data2,on=\"SK_ID_CURR\",how=\"inner\").merge(ccb_data2,on=\"SK_ID_CURR\",how=\"inner\").set_index(\"SK_ID_CURR\").ix[tgt_index]\n",
    "merged_data1_3_4_ex=pd.merge(merged_data1_3_4_ex.reset_index(),flag_data,on=\"SK_ID_CURR\",how=\"left\")"
   ]
  },
  {
   "cell_type": "code",
   "execution_count": 471,
   "metadata": {},
   "outputs": [
    {
     "name": "stdout",
     "output_type": "stream",
     "text": [
      "70011\n",
      "70011\n"
     ]
    }
   ],
   "source": [
    "print(len(tgt_index))\n",
    "print(len(merged_data1_3_4_ex))"
   ]
  },
  {
   "cell_type": "code",
   "execution_count": 476,
   "metadata": {},
   "outputs": [
    {
     "name": "stdout",
     "output_type": "stream",
     "text": [
      "63843\n",
      "NG\n",
      "0.9677803361370863\n",
      "0.9999992851732193\n"
     ]
    },
    {
     "data": {
      "text/plain": [
       "array([[<matplotlib.axes._subplots.AxesSubplot object at 0x7f36ebf858d0>]],\n",
       "      dtype=object)"
      ]
     },
     "execution_count": 476,
     "metadata": {},
     "output_type": "execute_result"
    },
    {
     "data": {
      "image/png": "[encoded data removed]",
      "text/plain": [
       "<Figure size 432x288 with 1 Axes>"
      ]
     },
     "metadata": {},
     "output_type": "display_data"
    }
   ],
   "source": [
    "train_data=merged_data1_3_4_ex[merged_data1_3_4_ex[\"TARGET\"]==merged_data1_3_4_ex[\"TARGET\"]]\n",
    "print(len(train_data))\n",
    "\n",
    "train_data_x=train_data.copy()\n",
    "del train_data_x[\"SK_ID_CURR\"]\n",
    "del train_data_x[\"TARGET\"]\n",
    "train_data_y=train_data[\"TARGET\"]\n",
    "\n",
    "try:\n",
    "    del train_data_x[\"ORGANIZATION_TYPE\"]\n",
    "except:\n",
    "    print(\"NG\")\n",
    "    \n",
    "model = RandomForestClassifier(random_state=0,n_estimators=100,n_jobs=-1,max_depth=30,min_samples_leaf=2)\n",
    "model.fit(train_data_x, train_data_y)\n",
    "\n",
    "ypred=model.predict_proba(train_data_x)\n",
    "print(accuracy_score(train_data_y,  np.argmax(ypred, axis=1)))\n",
    "print(roc_auc_score(train_data_y, ypred[:,1]))\n",
    "\n",
    "pd.DataFrame(ypred[:,1]).hist()"
   ]
  },
  {
   "cell_type": "code",
   "execution_count": 477,
   "metadata": {},
   "outputs": [
    {
     "name": "stdout",
     "output_type": "stream",
     "text": [
      "6168\n",
      "6168\n"
     ]
    },
    {
     "data": {
      "text/plain": [
       "array([[<matplotlib.axes._subplots.AxesSubplot object at 0x7f36dc9a23c8>]],\n",
       "      dtype=object)"
      ]
     },
     "execution_count": 477,
     "metadata": {},
     "output_type": "execute_result"
    },
    {
     "data": {
      "image/png": "[encoded data removed]",
      "text/plain": [
       "<Figure size 432x288 with 1 Axes>"
      ]
     },
     "metadata": {},
     "output_type": "display_data"
    }
   ],
   "source": [
    "eval_data=merged_data1_3_4_ex[merged_data1_3_4_ex[\"TARGET\"]!=merged_data1_3_4_ex[\"TARGET\"]].copy()\n",
    "print(len(eval_data))\n",
    "eval_data_x=eval_data.copy()\n",
    "del eval_data_x[\"TARGET\"]\n",
    "del eval_data_x[\"SK_ID_CURR\"]\n",
    "ypred=model.predict_proba(eval_data_x)\n",
    "\n",
    "submit_data1=pd.concat([eval_data.reset_index(drop=True)[\"SK_ID_CURR\"],pd.DataFrame(ypred[:,1])],axis=1)\n",
    "submit_data1.columns=[\"SK_ID_CURR\",\"TARGET\"]\n",
    "print(len(submit_data1))\n",
    "\n",
    "pd.DataFrame(ypred[:,1]).hist()"
   ]
  },
  {
   "cell_type": "code",
   "execution_count": null,
   "metadata": {},
   "outputs": [],
   "source": []
  },
  {
   "cell_type": "code",
   "execution_count": 478,
   "metadata": {},
   "outputs": [
    {
     "name": "stdout",
     "output_type": "stream",
     "text": [
      "6168\n"
     ]
    }
   ],
   "source": [
    "submit_data_tmp=pd.concat([eval_data.reset_index(drop=True)[\"SK_ID_CURR\"],pd.DataFrame(ypred[:,1])],axis=1)\n",
    "submit_data_tmp.columns=[\"SK_ID_CURR\",\"TARGET2\"]\n",
    "\n",
    "submit_data8=submit_data6.copy()\n",
    "submit_data_tmp=submit_data_tmp.set_index(\"SK_ID_CURR\")\n",
    "#submit_data8=submit_data6.set_index(\"SK_ID_CURR\")\n",
    "\n",
    "submit_data8.loc[submit_data_tmp.index,\"TARGET\"]=submit_data_tmp[\"TARGET2\"]\n",
    "\n",
    "print(len(submit_data6[\"TARGET\"])-(submit_data6[\"TARGET\"]==submit_data8[\"TARGET\"]).astype(int).sum())"
   ]
  },
  {
   "cell_type": "code",
   "execution_count": 479,
   "metadata": {},
   "outputs": [],
   "source": [
    "submit_data8.to_csv(\"credit_submit_data_0606_01.csv\",index=True,header=True)"
   ]
  },
  {
   "cell_type": "code",
   "execution_count": null,
   "metadata": {},
   "outputs": [],
   "source": []
  },
  {
   "cell_type": "code",
   "execution_count": 86,
   "metadata": {},
   "outputs": [],
   "source": [
    "submit_data.columns=[\"SK_ID_CURR\",\"TARGET2\"]\n",
    "submit_data8=pd.read_csv(\"credit_submit_data_0606_02.csv\").set_index(\"SK_ID_CURR\")\n",
    "submit_data_tmp=submit_data.copy()\n",
    "submit_data_tmp=submit_data_tmp.set_index(\"SK_ID_CURR\")\n",
    "submit_data8.loc[submit_data_tmp.index,\"TARGET\"]=submit_data_tmp[\"TARGET2\"]"
   ]
  },
  {
   "cell_type": "code",
   "execution_count": 87,
   "metadata": {},
   "outputs": [
    {
     "data": {
      "text/html": [
       "<div>\n",
       "<style scoped>\n",
       "    .dataframe tbody tr th:only-of-type {\n",
       "        vertical-align: middle;\n",
       "    }\n",
       "\n",
       "    .dataframe tbody tr th {\n",
       "        vertical-align: top;\n",
       "    }\n",
       "\n",
       "    .dataframe thead th {\n",
       "        text-align: right;\n",
       "    }\n",
       "</style>\n",
       "<table border=\"1\" class=\"dataframe\">\n",
       "  <thead>\n",
       "    <tr style=\"text-align: right;\">\n",
       "      <th></th>\n",
       "      <th>TARGET</th>\n",
       "    </tr>\n",
       "    <tr>\n",
       "      <th>SK_ID_CURR</th>\n",
       "      <th></th>\n",
       "    </tr>\n",
       "  </thead>\n",
       "  <tbody>\n",
       "    <tr>\n",
       "      <th>100001</th>\n",
       "      <td>0.032999</td>\n",
       "    </tr>\n",
       "    <tr>\n",
       "      <th>100005</th>\n",
       "      <td>0.122049</td>\n",
       "    </tr>\n",
       "    <tr>\n",
       "      <th>100013</th>\n",
       "      <td>0.032425</td>\n",
       "    </tr>\n",
       "    <tr>\n",
       "      <th>100028</th>\n",
       "      <td>0.055379</td>\n",
       "    </tr>\n",
       "    <tr>\n",
       "      <th>100038</th>\n",
       "      <td>0.120729</td>\n",
       "    </tr>\n",
       "    <tr>\n",
       "      <th>100042</th>\n",
       "      <td>0.087154</td>\n",
       "    </tr>\n",
       "    <tr>\n",
       "      <th>100057</th>\n",
       "      <td>0.030096</td>\n",
       "    </tr>\n",
       "    <tr>\n",
       "      <th>100065</th>\n",
       "      <td>0.114249</td>\n",
       "    </tr>\n",
       "    <tr>\n",
       "      <th>100066</th>\n",
       "      <td>0.076494</td>\n",
       "    </tr>\n",
       "    <tr>\n",
       "      <th>100067</th>\n",
       "      <td>0.225131</td>\n",
       "    </tr>\n",
       "    <tr>\n",
       "      <th>100074</th>\n",
       "      <td>0.025928</td>\n",
       "    </tr>\n",
       "    <tr>\n",
       "      <th>100090</th>\n",
       "      <td>0.065581</td>\n",
       "    </tr>\n",
       "    <tr>\n",
       "      <th>100091</th>\n",
       "      <td>0.136903</td>\n",
       "    </tr>\n",
       "    <tr>\n",
       "      <th>100092</th>\n",
       "      <td>0.041533</td>\n",
       "    </tr>\n",
       "    <tr>\n",
       "      <th>100106</th>\n",
       "      <td>0.028745</td>\n",
       "    </tr>\n",
       "    <tr>\n",
       "      <th>100107</th>\n",
       "      <td>0.080014</td>\n",
       "    </tr>\n",
       "    <tr>\n",
       "      <th>100109</th>\n",
       "      <td>0.145249</td>\n",
       "    </tr>\n",
       "    <tr>\n",
       "      <th>100117</th>\n",
       "      <td>0.039022</td>\n",
       "    </tr>\n",
       "    <tr>\n",
       "      <th>100128</th>\n",
       "      <td>0.187888</td>\n",
       "    </tr>\n",
       "    <tr>\n",
       "      <th>100141</th>\n",
       "      <td>0.077152</td>\n",
       "    </tr>\n",
       "    <tr>\n",
       "      <th>100150</th>\n",
       "      <td>0.033131</td>\n",
       "    </tr>\n",
       "    <tr>\n",
       "      <th>100168</th>\n",
       "      <td>0.025524</td>\n",
       "    </tr>\n",
       "    <tr>\n",
       "      <th>100169</th>\n",
       "      <td>0.045845</td>\n",
       "    </tr>\n",
       "    <tr>\n",
       "      <th>100170</th>\n",
       "      <td>0.221833</td>\n",
       "    </tr>\n",
       "    <tr>\n",
       "      <th>100171</th>\n",
       "      <td>0.080335</td>\n",
       "    </tr>\n",
       "    <tr>\n",
       "      <th>100172</th>\n",
       "      <td>0.090528</td>\n",
       "    </tr>\n",
       "    <tr>\n",
       "      <th>100184</th>\n",
       "      <td>0.138173</td>\n",
       "    </tr>\n",
       "    <tr>\n",
       "      <th>100187</th>\n",
       "      <td>0.069893</td>\n",
       "    </tr>\n",
       "    <tr>\n",
       "      <th>100212</th>\n",
       "      <td>0.079550</td>\n",
       "    </tr>\n",
       "    <tr>\n",
       "      <th>100222</th>\n",
       "      <td>0.064328</td>\n",
       "    </tr>\n",
       "    <tr>\n",
       "      <th>...</th>\n",
       "      <td>...</td>\n",
       "    </tr>\n",
       "    <tr>\n",
       "      <th>455963</th>\n",
       "      <td>0.097185</td>\n",
       "    </tr>\n",
       "    <tr>\n",
       "      <th>455965</th>\n",
       "      <td>0.039512</td>\n",
       "    </tr>\n",
       "    <tr>\n",
       "      <th>456007</th>\n",
       "      <td>0.154370</td>\n",
       "    </tr>\n",
       "    <tr>\n",
       "      <th>456008</th>\n",
       "      <td>0.034357</td>\n",
       "    </tr>\n",
       "    <tr>\n",
       "      <th>456009</th>\n",
       "      <td>0.084177</td>\n",
       "    </tr>\n",
       "    <tr>\n",
       "      <th>456010</th>\n",
       "      <td>0.112880</td>\n",
       "    </tr>\n",
       "    <tr>\n",
       "      <th>456011</th>\n",
       "      <td>0.049109</td>\n",
       "    </tr>\n",
       "    <tr>\n",
       "      <th>456013</th>\n",
       "      <td>0.096087</td>\n",
       "    </tr>\n",
       "    <tr>\n",
       "      <th>456028</th>\n",
       "      <td>0.107577</td>\n",
       "    </tr>\n",
       "    <tr>\n",
       "      <th>456058</th>\n",
       "      <td>0.032203</td>\n",
       "    </tr>\n",
       "    <tr>\n",
       "      <th>456111</th>\n",
       "      <td>0.047377</td>\n",
       "    </tr>\n",
       "    <tr>\n",
       "      <th>456114</th>\n",
       "      <td>0.040852</td>\n",
       "    </tr>\n",
       "    <tr>\n",
       "      <th>456115</th>\n",
       "      <td>0.049335</td>\n",
       "    </tr>\n",
       "    <tr>\n",
       "      <th>456116</th>\n",
       "      <td>0.086865</td>\n",
       "    </tr>\n",
       "    <tr>\n",
       "      <th>456119</th>\n",
       "      <td>0.021808</td>\n",
       "    </tr>\n",
       "    <tr>\n",
       "      <th>456120</th>\n",
       "      <td>0.071642</td>\n",
       "    </tr>\n",
       "    <tr>\n",
       "      <th>456122</th>\n",
       "      <td>0.114078</td>\n",
       "    </tr>\n",
       "    <tr>\n",
       "      <th>456123</th>\n",
       "      <td>0.014545</td>\n",
       "    </tr>\n",
       "    <tr>\n",
       "      <th>456166</th>\n",
       "      <td>0.089026</td>\n",
       "    </tr>\n",
       "    <tr>\n",
       "      <th>456167</th>\n",
       "      <td>0.026852</td>\n",
       "    </tr>\n",
       "    <tr>\n",
       "      <th>456168</th>\n",
       "      <td>0.065888</td>\n",
       "    </tr>\n",
       "    <tr>\n",
       "      <th>456169</th>\n",
       "      <td>0.047859</td>\n",
       "    </tr>\n",
       "    <tr>\n",
       "      <th>456170</th>\n",
       "      <td>0.044604</td>\n",
       "    </tr>\n",
       "    <tr>\n",
       "      <th>456189</th>\n",
       "      <td>0.065516</td>\n",
       "    </tr>\n",
       "    <tr>\n",
       "      <th>456202</th>\n",
       "      <td>0.101543</td>\n",
       "    </tr>\n",
       "    <tr>\n",
       "      <th>456221</th>\n",
       "      <td>0.066393</td>\n",
       "    </tr>\n",
       "    <tr>\n",
       "      <th>456222</th>\n",
       "      <td>0.066551</td>\n",
       "    </tr>\n",
       "    <tr>\n",
       "      <th>456223</th>\n",
       "      <td>0.029760</td>\n",
       "    </tr>\n",
       "    <tr>\n",
       "      <th>456224</th>\n",
       "      <td>0.071936</td>\n",
       "    </tr>\n",
       "    <tr>\n",
       "      <th>456250</th>\n",
       "      <td>0.120321</td>\n",
       "    </tr>\n",
       "  </tbody>\n",
       "</table>\n",
       "<p>48744 rows × 1 columns</p>\n",
       "</div>"
      ],
      "text/plain": [
       "              TARGET\n",
       "SK_ID_CURR          \n",
       "100001      0.032999\n",
       "100005      0.122049\n",
       "100013      0.032425\n",
       "100028      0.055379\n",
       "100038      0.120729\n",
       "100042      0.087154\n",
       "100057      0.030096\n",
       "100065      0.114249\n",
       "100066      0.076494\n",
       "100067      0.225131\n",
       "100074      0.025928\n",
       "100090      0.065581\n",
       "100091      0.136903\n",
       "100092      0.041533\n",
       "100106      0.028745\n",
       "100107      0.080014\n",
       "100109      0.145249\n",
       "100117      0.039022\n",
       "100128      0.187888\n",
       "100141      0.077152\n",
       "100150      0.033131\n",
       "100168      0.025524\n",
       "100169      0.045845\n",
       "100170      0.221833\n",
       "100171      0.080335\n",
       "100172      0.090528\n",
       "100184      0.138173\n",
       "100187      0.069893\n",
       "100212      0.079550\n",
       "100222      0.064328\n",
       "...              ...\n",
       "455963      0.097185\n",
       "455965      0.039512\n",
       "456007      0.154370\n",
       "456008      0.034357\n",
       "456009      0.084177\n",
       "456010      0.112880\n",
       "456011      0.049109\n",
       "456013      0.096087\n",
       "456028      0.107577\n",
       "456058      0.032203\n",
       "456111      0.047377\n",
       "456114      0.040852\n",
       "456115      0.049335\n",
       "456116      0.086865\n",
       "456119      0.021808\n",
       "456120      0.071642\n",
       "456122      0.114078\n",
       "456123      0.014545\n",
       "456166      0.089026\n",
       "456167      0.026852\n",
       "456168      0.065888\n",
       "456169      0.047859\n",
       "456170      0.044604\n",
       "456189      0.065516\n",
       "456202      0.101543\n",
       "456221      0.066393\n",
       "456222      0.066551\n",
       "456223      0.029760\n",
       "456224      0.071936\n",
       "456250      0.120321\n",
       "\n",
       "[48744 rows x 1 columns]"
      ]
     },
     "execution_count": 87,
     "metadata": {},
     "output_type": "execute_result"
    }
   ],
   "source": [
    "submit_data8"
   ]
  },
  {
   "cell_type": "code",
   "execution_count": 88,
   "metadata": {},
   "outputs": [],
   "source": [
    "submit_data8.to_csv(\"credit_submit_data_0606_03.csv\",index=True,header=True)"
   ]
  },
  {
   "cell_type": "code",
   "execution_count": 89,
   "metadata": {},
   "outputs": [
    {
     "data": {
      "text/plain": [
       "48744"
      ]
     },
     "execution_count": 89,
     "metadata": {},
     "output_type": "execute_result"
    }
   ],
   "source": [
    "len(submit_data8)"
   ]
  },
  {
   "cell_type": "code",
   "execution_count": 82,
   "metadata": {},
   "outputs": [
    {
     "data": {
      "text/html": [
       "<div>\n",
       "<style scoped>\n",
       "    .dataframe tbody tr th:only-of-type {\n",
       "        vertical-align: middle;\n",
       "    }\n",
       "\n",
       "    .dataframe tbody tr th {\n",
       "        vertical-align: top;\n",
       "    }\n",
       "\n",
       "    .dataframe thead th {\n",
       "        text-align: right;\n",
       "    }\n",
       "</style>\n",
       "<table border=\"1\" class=\"dataframe\">\n",
       "  <thead>\n",
       "    <tr style=\"text-align: right;\">\n",
       "      <th></th>\n",
       "      <th>SK_ID_CURR</th>\n",
       "      <th>TARGET</th>\n",
       "    </tr>\n",
       "  </thead>\n",
       "  <tbody>\n",
       "    <tr>\n",
       "      <th>0</th>\n",
       "      <td>100001</td>\n",
       "      <td>0.120729</td>\n",
       "    </tr>\n",
       "    <tr>\n",
       "      <th>1</th>\n",
       "      <td>100005</td>\n",
       "      <td>0.077152</td>\n",
       "    </tr>\n",
       "    <tr>\n",
       "      <th>2</th>\n",
       "      <td>100013</td>\n",
       "      <td>0.039225</td>\n",
       "    </tr>\n",
       "    <tr>\n",
       "      <th>3</th>\n",
       "      <td>100028</td>\n",
       "      <td>0.140609</td>\n",
       "    </tr>\n",
       "    <tr>\n",
       "      <th>4</th>\n",
       "      <td>100038</td>\n",
       "      <td>0.022820</td>\n",
       "    </tr>\n",
       "  </tbody>\n",
       "</table>\n",
       "</div>"
      ],
      "text/plain": [
       "   SK_ID_CURR    TARGET\n",
       "0      100001  0.120729\n",
       "1      100005  0.077152\n",
       "2      100013  0.039225\n",
       "3      100028  0.140609\n",
       "4      100038  0.022820"
      ]
     },
     "execution_count": 82,
     "metadata": {},
     "output_type": "execute_result"
    }
   ],
   "source": [
    "submit_data8.head()"
   ]
  },
  {
   "cell_type": "code",
   "execution_count": null,
   "metadata": {},
   "outputs": [],
   "source": []
  },
  {
   "cell_type": "code",
   "execution_count": 24,
   "metadata": {},
   "outputs": [
    {
     "name": "stdout",
     "output_type": "stream",
     "text": [
      "(1670214, 37)\n",
      "338857\n"
     ]
    }
   ],
   "source": [
    "prev_app=pd.read_csv(\"previous_application.csv\")\n",
    "prev_app=prev_app.replace(\"XNA\",np.nan)\n",
    "print(prev_app.shape)\n",
    "print(len(prev_app[\"SK_ID_CURR\"].value_counts()))"
   ]
  },
  {
   "cell_type": "code",
   "execution_count": 25,
   "metadata": {},
   "outputs": [
    {
     "data": {
      "text/plain": [
       "1670214"
      ]
     },
     "execution_count": 25,
     "metadata": {},
     "output_type": "execute_result"
    }
   ],
   "source": [
    "len(prev_app.sort_values([\"SK_ID_CURR\",\"SK_ID_PREV\"]))\n",
    "# 2種類のIDの組み合わせはユニークらしい"
   ]
  },
  {
   "cell_type": "code",
   "execution_count": 26,
   "metadata": {},
   "outputs": [
    {
     "name": "stderr",
     "output_type": "stream",
     "text": [
      "100%|██████████| 16/16 [00:37<00:00,  2.33s/it]\n"
     ]
    }
   ],
   "source": [
    "prev_app2=prev_app.copy()\n",
    "#prev_app2[\"FLAG_LAST_APPL_PER_CONTRACT\"]=prev_app2[\"FLAG_LAST_APPL_PER_CONTRACT\"].replace(\"Y\",1).replace(\"N\",0)\n",
    "for tgt_col in tqdm([\"NAME_CONTRACT_TYPE\",\"WEEKDAY_APPR_PROCESS_START\",\"NAME_CASH_LOAN_PURPOSE\",\"NAME_CONTRACT_STATUS\",\n",
    "                     \"NAME_PAYMENT_TYPE\",\"CODE_REJECT_REASON\",\"NAME_TYPE_SUITE\",\"NAME_CLIENT_TYPE\",\"NAME_GOODS_CATEGORY\",\n",
    "                     \"NAME_PORTFOLIO\",\"NAME_PRODUCT_TYPE\",\"FLAG_LAST_APPL_PER_CONTRACT\",\"CHANNEL_TYPE\",\"NAME_SELLER_INDUSTRY\",\n",
    "                     \"NAME_YIELD_GROUP\",\"PRODUCT_COMBINATION\"]):\n",
    "    #print(tgt_col)\n",
    "    tmp_DF=pd.get_dummies(prev_app2[tgt_col])\n",
    "    tmp_DF.columns=[tgt_col+\"_\"+str(x) for x in tmp_DF.columns]\n",
    "\n",
    "    prev_app2=pd.concat([prev_app2,tmp_DF],axis=1)\n",
    "    del prev_app2[tgt_col]"
   ]
  },
  {
   "cell_type": "raw",
   "metadata": {},
   "source": [
    "tgt_col='PRODUCT_COMBINATION'\n",
    "tmp_DF=pd.get_dummies(prev_app2[tgt_col])\n",
    "tmp_DF.columns=[tgt_col+\"_\"+str(x) for x in tmp_DF.columns]\n",
    "\n",
    "prev_app2=pd.concat([prev_app2,tmp_DF],axis=1)\n",
    "del prev_app2[tgt_col]"
   ]
  },
  {
   "cell_type": "code",
   "execution_count": 27,
   "metadata": {},
   "outputs": [],
   "source": [
    "prev_app2_cate=pd.concat([prev_app2[prev_app2.columns[1:2]],prev_app2[prev_app2.columns[21:]]],axis=1)\n",
    "prev_app2_cont=prev_app2[prev_app2.columns[:21]]\n",
    "prev_app2_cont[\"HOUR_APPR_PROCESS_START\"]=prev_app2_cont[\"HOUR_APPR_PROCESS_START\"].replace(0,24).replace(1,25).replace(2,26)"
   ]
  },
  {
   "cell_type": "code",
   "execution_count": 28,
   "metadata": {
    "scrolled": true
   },
   "outputs": [
    {
     "data": {
      "text/plain": [
       "['NFLAG_LAST_APPL_IN_DAY', 'NFLAG_INSURED_ON_APPROVAL']"
      ]
     },
     "execution_count": 28,
     "metadata": {},
     "output_type": "execute_result"
    }
   ],
   "source": [
    "grep_include(prev_app2_cont.columns,\"FLAG\")"
   ]
  },
  {
   "cell_type": "code",
   "execution_count": 29,
   "metadata": {},
   "outputs": [
    {
     "name": "stdout",
     "output_type": "stream",
     "text": [
      "338857\n",
      "338602\n"
     ]
    }
   ],
   "source": [
    "print(len(prev_app[\"SK_ID_CURR\"].value_counts()))\n",
    "print(len(prev_app[prev_app[\"NAME_CONTRACT_STATUS\"]!=\"Canceled\"][\"SK_ID_CURR\"].value_counts()))"
   ]
  },
  {
   "cell_type": "code",
   "execution_count": 30,
   "metadata": {},
   "outputs": [],
   "source": [
    "# 案：キャンセルになったレコードを削除する or しないで２パターン試す"
   ]
  },
  {
   "cell_type": "code",
   "execution_count": 31,
   "metadata": {},
   "outputs": [],
   "source": [
    "prev_app2_cont=prev_app2_cont[prev_app2[\"NAME_CONTRACT_STATUS_Canceled\"]!=1]\n",
    "del prev_app2_cont[\"SK_ID_PREV\"]\n",
    "prev_app_cont_mean=prev_app2_cont.groupby(\"SK_ID_CURR\").mean()"
   ]
  },
  {
   "cell_type": "code",
   "execution_count": 32,
   "metadata": {},
   "outputs": [
    {
     "name": "stderr",
     "output_type": "stream",
     "text": [
      "100%|██████████| 19/19 [00:00<00:00, 66.76it/s]\n"
     ]
    },
    {
     "name": "stdout",
     "output_type": "stream",
     "text": [
      "338602\n",
      "336519\n",
      "15\n"
     ]
    }
   ],
   "source": [
    "col_lst_prev_app=[]\n",
    "for tmp_col in tqdm(prev_app_cont_mean.columns):\n",
    "    if prev_app_cont_mean[tmp_col].value_counts().sum()/len(prev_app_cont_mean) > 0.95:\n",
    "        col_lst_prev_app.append(tmp_col)\n",
    "\n",
    "print(len(prev_app_cont_mean))\n",
    "print(len(prev_app_cont_mean[col_lst_prev_app].dropna()))\n",
    "print(len(col_lst_prev_app))"
   ]
  },
  {
   "cell_type": "code",
   "execution_count": 33,
   "metadata": {},
   "outputs": [],
   "source": [
    "# ⑤データ\n",
    "prev_app_cont_mean=prev_app_cont_mean[col_lst_prev_app].dropna()\n",
    "#prev_app2_cont.sort_values(\"SK_ID_CURR\")\n",
    "prev_app_cont_mean.columns=[\"6_\"+str(x)+\"_mean\" for x in prev_app_cont_mean.columns]\n",
    "prev_app_cont_mean=prev_app_cont_mean.reset_index()"
   ]
  },
  {
   "cell_type": "code",
   "execution_count": 34,
   "metadata": {},
   "outputs": [],
   "source": [
    "# ⑥データ\n",
    "prev_app_cate_sum=prev_app2_cate.groupby(\"SK_ID_CURR\").sum()\n",
    "prev_app_cate_sum.columns=[\"6_\"+str(x)+\"_sum\" for x in prev_app_cate_sum.columns]\n",
    "prev_app_cate_sum=prev_app_cate_sum.reset_index()"
   ]
  },
  {
   "cell_type": "code",
   "execution_count": null,
   "metadata": {},
   "outputs": [],
   "source": []
  },
  {
   "cell_type": "code",
   "execution_count": null,
   "metadata": {},
   "outputs": [],
   "source": []
  },
  {
   "cell_type": "code",
   "execution_count": null,
   "metadata": {},
   "outputs": [],
   "source": []
  },
  {
   "cell_type": "code",
   "execution_count": 494,
   "metadata": {},
   "outputs": [],
   "source": []
  },
  {
   "cell_type": "code",
   "execution_count": null,
   "metadata": {},
   "outputs": [],
   "source": []
  },
  {
   "cell_type": "code",
   "execution_count": null,
   "metadata": {},
   "outputs": [],
   "source": []
  },
  {
   "cell_type": "code",
   "execution_count": 232,
   "metadata": {},
   "outputs": [
    {
     "data": {
      "text/html": [
       "<div>\n",
       "<style scoped>\n",
       "    .dataframe tbody tr th:only-of-type {\n",
       "        vertical-align: middle;\n",
       "    }\n",
       "\n",
       "    .dataframe tbody tr th {\n",
       "        vertical-align: top;\n",
       "    }\n",
       "\n",
       "    .dataframe thead th {\n",
       "        text-align: right;\n",
       "    }\n",
       "</style>\n",
       "<table border=\"1\" class=\"dataframe\">\n",
       "  <thead>\n",
       "    <tr style=\"text-align: right;\">\n",
       "      <th></th>\n",
       "      <th>SK_ID_CURR</th>\n",
       "      <th>SK_ID_PREV</th>\n",
       "      <th>NAME_CONTRACT_STATUS</th>\n",
       "    </tr>\n",
       "  </thead>\n",
       "  <tbody>\n",
       "    <tr>\n",
       "      <th>201668</th>\n",
       "      <td>100001</td>\n",
       "      <td>1369693</td>\n",
       "      <td>Approved</td>\n",
       "    </tr>\n",
       "    <tr>\n",
       "      <th>892077</th>\n",
       "      <td>100002</td>\n",
       "      <td>1038818</td>\n",
       "      <td>Approved</td>\n",
       "    </tr>\n",
       "    <tr>\n",
       "      <th>575941</th>\n",
       "      <td>100003</td>\n",
       "      <td>1810518</td>\n",
       "      <td>Approved</td>\n",
       "    </tr>\n",
       "    <tr>\n",
       "      <th>1223745</th>\n",
       "      <td>100003</td>\n",
       "      <td>2396755</td>\n",
       "      <td>Approved</td>\n",
       "    </tr>\n",
       "    <tr>\n",
       "      <th>1021650</th>\n",
       "      <td>100003</td>\n",
       "      <td>2636178</td>\n",
       "      <td>Approved</td>\n",
       "    </tr>\n",
       "    <tr>\n",
       "      <th>935548</th>\n",
       "      <td>100004</td>\n",
       "      <td>1564014</td>\n",
       "      <td>Approved</td>\n",
       "    </tr>\n",
       "    <tr>\n",
       "      <th>1259112</th>\n",
       "      <td>100005</td>\n",
       "      <td>1857999</td>\n",
       "      <td>Canceled</td>\n",
       "    </tr>\n",
       "    <tr>\n",
       "      <th>1378978</th>\n",
       "      <td>100005</td>\n",
       "      <td>2495675</td>\n",
       "      <td>Approved</td>\n",
       "    </tr>\n",
       "    <tr>\n",
       "      <th>1131133</th>\n",
       "      <td>100006</td>\n",
       "      <td>1020698</td>\n",
       "      <td>Approved</td>\n",
       "    </tr>\n",
       "    <tr>\n",
       "      <th>1232752</th>\n",
       "      <td>100006</td>\n",
       "      <td>1243599</td>\n",
       "      <td>Canceled</td>\n",
       "    </tr>\n",
       "    <tr>\n",
       "      <th>900957</th>\n",
       "      <td>100006</td>\n",
       "      <td>1489396</td>\n",
       "      <td>Approved</td>\n",
       "    </tr>\n",
       "    <tr>\n",
       "      <th>1607443</th>\n",
       "      <td>100006</td>\n",
       "      <td>1697039</td>\n",
       "      <td>Refused</td>\n",
       "    </tr>\n",
       "    <tr>\n",
       "      <th>98162</th>\n",
       "      <td>100006</td>\n",
       "      <td>2078043</td>\n",
       "      <td>Approved</td>\n",
       "    </tr>\n",
       "    <tr>\n",
       "      <th>830967</th>\n",
       "      <td>100006</td>\n",
       "      <td>2190416</td>\n",
       "      <td>Approved</td>\n",
       "    </tr>\n",
       "    <tr>\n",
       "      <th>1333657</th>\n",
       "      <td>100006</td>\n",
       "      <td>2299329</td>\n",
       "      <td>Approved</td>\n",
       "    </tr>\n",
       "    <tr>\n",
       "      <th>1595430</th>\n",
       "      <td>100006</td>\n",
       "      <td>2545789</td>\n",
       "      <td>Canceled</td>\n",
       "    </tr>\n",
       "    <tr>\n",
       "      <th>617859</th>\n",
       "      <td>100006</td>\n",
       "      <td>2827850</td>\n",
       "      <td>Canceled</td>\n",
       "    </tr>\n",
       "    <tr>\n",
       "      <th>693308</th>\n",
       "      <td>100007</td>\n",
       "      <td>1692033</td>\n",
       "      <td>Approved</td>\n",
       "    </tr>\n",
       "    <tr>\n",
       "      <th>1483068</th>\n",
       "      <td>100007</td>\n",
       "      <td>1940724</td>\n",
       "      <td>Approved</td>\n",
       "    </tr>\n",
       "    <tr>\n",
       "      <th>13392</th>\n",
       "      <td>100007</td>\n",
       "      <td>2001242</td>\n",
       "      <td>Approved</td>\n",
       "    </tr>\n",
       "    <tr>\n",
       "      <th>1061094</th>\n",
       "      <td>100007</td>\n",
       "      <td>2119973</td>\n",
       "      <td>Approved</td>\n",
       "    </tr>\n",
       "    <tr>\n",
       "      <th>1260339</th>\n",
       "      <td>100007</td>\n",
       "      <td>2462742</td>\n",
       "      <td>Approved</td>\n",
       "    </tr>\n",
       "    <tr>\n",
       "      <th>87569</th>\n",
       "      <td>100007</td>\n",
       "      <td>2730157</td>\n",
       "      <td>Approved</td>\n",
       "    </tr>\n",
       "    <tr>\n",
       "      <th>604799</th>\n",
       "      <td>100008</td>\n",
       "      <td>1186888</td>\n",
       "      <td>Approved</td>\n",
       "    </tr>\n",
       "    <tr>\n",
       "      <th>600145</th>\n",
       "      <td>100008</td>\n",
       "      <td>1757431</td>\n",
       "      <td>Canceled</td>\n",
       "    </tr>\n",
       "    <tr>\n",
       "      <th>906992</th>\n",
       "      <td>100008</td>\n",
       "      <td>1907290</td>\n",
       "      <td>Approved</td>\n",
       "    </tr>\n",
       "    <tr>\n",
       "      <th>320227</th>\n",
       "      <td>100008</td>\n",
       "      <td>2218188</td>\n",
       "      <td>Approved</td>\n",
       "    </tr>\n",
       "    <tr>\n",
       "      <th>800095</th>\n",
       "      <td>100008</td>\n",
       "      <td>2613879</td>\n",
       "      <td>Approved</td>\n",
       "    </tr>\n",
       "    <tr>\n",
       "      <th>1515126</th>\n",
       "      <td>100009</td>\n",
       "      <td>1112703</td>\n",
       "      <td>Approved</td>\n",
       "    </tr>\n",
       "    <tr>\n",
       "      <th>1421626</th>\n",
       "      <td>100009</td>\n",
       "      <td>1193310</td>\n",
       "      <td>Approved</td>\n",
       "    </tr>\n",
       "    <tr>\n",
       "      <th>...</th>\n",
       "      <td>...</td>\n",
       "      <td>...</td>\n",
       "      <td>...</td>\n",
       "    </tr>\n",
       "    <tr>\n",
       "      <th>1116858</th>\n",
       "      <td>456247</td>\n",
       "      <td>2582033</td>\n",
       "      <td>Approved</td>\n",
       "    </tr>\n",
       "    <tr>\n",
       "      <th>252572</th>\n",
       "      <td>456247</td>\n",
       "      <td>2797706</td>\n",
       "      <td>Approved</td>\n",
       "    </tr>\n",
       "    <tr>\n",
       "      <th>1239697</th>\n",
       "      <td>456248</td>\n",
       "      <td>1136073</td>\n",
       "      <td>Approved</td>\n",
       "    </tr>\n",
       "    <tr>\n",
       "      <th>1168620</th>\n",
       "      <td>456248</td>\n",
       "      <td>1395578</td>\n",
       "      <td>Approved</td>\n",
       "    </tr>\n",
       "    <tr>\n",
       "      <th>345758</th>\n",
       "      <td>456248</td>\n",
       "      <td>1826280</td>\n",
       "      <td>Approved</td>\n",
       "    </tr>\n",
       "    <tr>\n",
       "      <th>1387092</th>\n",
       "      <td>456248</td>\n",
       "      <td>2743495</td>\n",
       "      <td>Approved</td>\n",
       "    </tr>\n",
       "    <tr>\n",
       "      <th>478898</th>\n",
       "      <td>456249</td>\n",
       "      <td>2660508</td>\n",
       "      <td>Approved</td>\n",
       "    </tr>\n",
       "    <tr>\n",
       "      <th>234061</th>\n",
       "      <td>456249</td>\n",
       "      <td>2669123</td>\n",
       "      <td>Refused</td>\n",
       "    </tr>\n",
       "    <tr>\n",
       "      <th>935792</th>\n",
       "      <td>456250</td>\n",
       "      <td>1081068</td>\n",
       "      <td>Approved</td>\n",
       "    </tr>\n",
       "    <tr>\n",
       "      <th>1094543</th>\n",
       "      <td>456250</td>\n",
       "      <td>1482581</td>\n",
       "      <td>Canceled</td>\n",
       "    </tr>\n",
       "    <tr>\n",
       "      <th>553648</th>\n",
       "      <td>456250</td>\n",
       "      <td>1511244</td>\n",
       "      <td>Canceled</td>\n",
       "    </tr>\n",
       "    <tr>\n",
       "      <th>1467403</th>\n",
       "      <td>456250</td>\n",
       "      <td>1740566</td>\n",
       "      <td>Approved</td>\n",
       "    </tr>\n",
       "    <tr>\n",
       "      <th>490103</th>\n",
       "      <td>456250</td>\n",
       "      <td>1794451</td>\n",
       "      <td>Approved</td>\n",
       "    </tr>\n",
       "    <tr>\n",
       "      <th>791939</th>\n",
       "      <td>456250</td>\n",
       "      <td>1922117</td>\n",
       "      <td>Approved</td>\n",
       "    </tr>\n",
       "    <tr>\n",
       "      <th>1345759</th>\n",
       "      <td>456250</td>\n",
       "      <td>2624169</td>\n",
       "      <td>Canceled</td>\n",
       "    </tr>\n",
       "    <tr>\n",
       "      <th>1440475</th>\n",
       "      <td>456250</td>\n",
       "      <td>2626069</td>\n",
       "      <td>Refused</td>\n",
       "    </tr>\n",
       "    <tr>\n",
       "      <th>292302</th>\n",
       "      <td>456251</td>\n",
       "      <td>2248017</td>\n",
       "      <td>Approved</td>\n",
       "    </tr>\n",
       "    <tr>\n",
       "      <th>444497</th>\n",
       "      <td>456252</td>\n",
       "      <td>1503599</td>\n",
       "      <td>Approved</td>\n",
       "    </tr>\n",
       "    <tr>\n",
       "      <th>1246881</th>\n",
       "      <td>456253</td>\n",
       "      <td>1668235</td>\n",
       "      <td>Approved</td>\n",
       "    </tr>\n",
       "    <tr>\n",
       "      <th>181558</th>\n",
       "      <td>456253</td>\n",
       "      <td>1686207</td>\n",
       "      <td>Approved</td>\n",
       "    </tr>\n",
       "    <tr>\n",
       "      <th>455446</th>\n",
       "      <td>456254</td>\n",
       "      <td>1792910</td>\n",
       "      <td>Approved</td>\n",
       "    </tr>\n",
       "    <tr>\n",
       "      <th>7315</th>\n",
       "      <td>456254</td>\n",
       "      <td>2016407</td>\n",
       "      <td>Approved</td>\n",
       "    </tr>\n",
       "    <tr>\n",
       "      <th>596623</th>\n",
       "      <td>456255</td>\n",
       "      <td>1179690</td>\n",
       "      <td>Approved</td>\n",
       "    </tr>\n",
       "    <tr>\n",
       "      <th>814647</th>\n",
       "      <td>456255</td>\n",
       "      <td>1296007</td>\n",
       "      <td>Refused</td>\n",
       "    </tr>\n",
       "    <tr>\n",
       "      <th>453227</th>\n",
       "      <td>456255</td>\n",
       "      <td>1359084</td>\n",
       "      <td>Approved</td>\n",
       "    </tr>\n",
       "    <tr>\n",
       "      <th>729432</th>\n",
       "      <td>456255</td>\n",
       "      <td>1708056</td>\n",
       "      <td>Refused</td>\n",
       "    </tr>\n",
       "    <tr>\n",
       "      <th>214743</th>\n",
       "      <td>456255</td>\n",
       "      <td>1743609</td>\n",
       "      <td>Approved</td>\n",
       "    </tr>\n",
       "    <tr>\n",
       "      <th>608510</th>\n",
       "      <td>456255</td>\n",
       "      <td>2073384</td>\n",
       "      <td>Approved</td>\n",
       "    </tr>\n",
       "    <tr>\n",
       "      <th>1383554</th>\n",
       "      <td>456255</td>\n",
       "      <td>2631384</td>\n",
       "      <td>Approved</td>\n",
       "    </tr>\n",
       "    <tr>\n",
       "      <th>1411592</th>\n",
       "      <td>456255</td>\n",
       "      <td>2729207</td>\n",
       "      <td>Approved</td>\n",
       "    </tr>\n",
       "  </tbody>\n",
       "</table>\n",
       "<p>1670214 rows × 3 columns</p>\n",
       "</div>"
      ],
      "text/plain": [
       "         SK_ID_CURR  SK_ID_PREV NAME_CONTRACT_STATUS\n",
       "201668       100001     1369693             Approved\n",
       "892077       100002     1038818             Approved\n",
       "575941       100003     1810518             Approved\n",
       "1223745      100003     2396755             Approved\n",
       "1021650      100003     2636178             Approved\n",
       "935548       100004     1564014             Approved\n",
       "1259112      100005     1857999             Canceled\n",
       "1378978      100005     2495675             Approved\n",
       "1131133      100006     1020698             Approved\n",
       "1232752      100006     1243599             Canceled\n",
       "900957       100006     1489396             Approved\n",
       "1607443      100006     1697039              Refused\n",
       "98162        100006     2078043             Approved\n",
       "830967       100006     2190416             Approved\n",
       "1333657      100006     2299329             Approved\n",
       "1595430      100006     2545789             Canceled\n",
       "617859       100006     2827850             Canceled\n",
       "693308       100007     1692033             Approved\n",
       "1483068      100007     1940724             Approved\n",
       "13392        100007     2001242             Approved\n",
       "1061094      100007     2119973             Approved\n",
       "1260339      100007     2462742             Approved\n",
       "87569        100007     2730157             Approved\n",
       "604799       100008     1186888             Approved\n",
       "600145       100008     1757431             Canceled\n",
       "906992       100008     1907290             Approved\n",
       "320227       100008     2218188             Approved\n",
       "800095       100008     2613879             Approved\n",
       "1515126      100009     1112703             Approved\n",
       "1421626      100009     1193310             Approved\n",
       "...             ...         ...                  ...\n",
       "1116858      456247     2582033             Approved\n",
       "252572       456247     2797706             Approved\n",
       "1239697      456248     1136073             Approved\n",
       "1168620      456248     1395578             Approved\n",
       "345758       456248     1826280             Approved\n",
       "1387092      456248     2743495             Approved\n",
       "478898       456249     2660508             Approved\n",
       "234061       456249     2669123              Refused\n",
       "935792       456250     1081068             Approved\n",
       "1094543      456250     1482581             Canceled\n",
       "553648       456250     1511244             Canceled\n",
       "1467403      456250     1740566             Approved\n",
       "490103       456250     1794451             Approved\n",
       "791939       456250     1922117             Approved\n",
       "1345759      456250     2624169             Canceled\n",
       "1440475      456250     2626069              Refused\n",
       "292302       456251     2248017             Approved\n",
       "444497       456252     1503599             Approved\n",
       "1246881      456253     1668235             Approved\n",
       "181558       456253     1686207             Approved\n",
       "455446       456254     1792910             Approved\n",
       "7315         456254     2016407             Approved\n",
       "596623       456255     1179690             Approved\n",
       "814647       456255     1296007              Refused\n",
       "453227       456255     1359084             Approved\n",
       "729432       456255     1708056              Refused\n",
       "214743       456255     1743609             Approved\n",
       "608510       456255     2073384             Approved\n",
       "1383554      456255     2631384             Approved\n",
       "1411592      456255     2729207             Approved\n",
       "\n",
       "[1670214 rows x 3 columns]"
      ]
     },
     "execution_count": 232,
     "metadata": {},
     "output_type": "execute_result"
    }
   ],
   "source": [
    "prev_app.sort_values([\"SK_ID_CURR\",\"SK_ID_PREV\"])[[\"SK_ID_CURR\",\"SK_ID_PREV\",\"NAME_CONTRACT_STATUS\"]]"
   ]
  },
  {
   "cell_type": "code",
   "execution_count": null,
   "metadata": {},
   "outputs": [],
   "source": []
  },
  {
   "cell_type": "code",
   "execution_count": null,
   "metadata": {},
   "outputs": [],
   "source": []
  },
  {
   "cell_type": "code",
   "execution_count": null,
   "metadata": {},
   "outputs": [],
   "source": []
  },
  {
   "cell_type": "code",
   "execution_count": null,
   "metadata": {},
   "outputs": [],
   "source": []
  },
  {
   "cell_type": "code",
   "execution_count": 492,
   "metadata": {},
   "outputs": [
    {
     "name": "stderr",
     "output_type": "stream",
     "text": [
      "100%|██████████| 37/37 [00:05<00:00,  6.71it/s]\n"
     ]
    },
    {
     "name": "stdout",
     "output_type": "stream",
     "text": [
      "1662689\n",
      "16\n"
     ]
    }
   ],
   "source": [
    "col_lst_prev_app=[]\n",
    "for tmp_col in tqdm(prev_app.columns):\n",
    "    if prev_app[tmp_col].value_counts().sum()/len(prev_app) > 0.9:\n",
    "        col_lst_prev_app.append(tmp_col)\n",
    "        \n",
    "print(len(prev_app[col_lst_prev_app].dropna()))\n",
    "print(len(col_lst_prev_app))"
   ]
  },
  {
   "cell_type": "code",
   "execution_count": null,
   "metadata": {},
   "outputs": [],
   "source": []
  },
  {
   "cell_type": "code",
   "execution_count": null,
   "metadata": {},
   "outputs": [],
   "source": []
  },
  {
   "cell_type": "code",
   "execution_count": null,
   "metadata": {},
   "outputs": [],
   "source": []
  },
  {
   "cell_type": "code",
   "execution_count": null,
   "metadata": {},
   "outputs": [],
   "source": []
  },
  {
   "cell_type": "code",
   "execution_count": null,
   "metadata": {},
   "outputs": [],
   "source": []
  },
  {
   "cell_type": "code",
   "execution_count": null,
   "metadata": {},
   "outputs": [],
   "source": [
    "inst_pay=pd.read_csv(\"installments_payments.csv\")\n",
    "inst_pay=inst_pay.replace(\"XNA\",np.nan)"
   ]
  },
  {
   "cell_type": "code",
   "execution_count": 445,
   "metadata": {},
   "outputs": [
    {
     "data": {
      "text/html": [
       "<div>\n",
       "<style scoped>\n",
       "    .dataframe tbody tr th:only-of-type {\n",
       "        vertical-align: middle;\n",
       "    }\n",
       "\n",
       "    .dataframe tbody tr th {\n",
       "        vertical-align: top;\n",
       "    }\n",
       "\n",
       "    .dataframe thead th {\n",
       "        text-align: right;\n",
       "    }\n",
       "</style>\n",
       "<table border=\"1\" class=\"dataframe\">\n",
       "  <thead>\n",
       "    <tr style=\"text-align: right;\">\n",
       "      <th></th>\n",
       "      <th>SK_ID_PREV</th>\n",
       "      <th>SK_ID_CURR</th>\n",
       "      <th>NUM_INSTALMENT_VERSION</th>\n",
       "      <th>NUM_INSTALMENT_NUMBER</th>\n",
       "      <th>DAYS_INSTALMENT</th>\n",
       "      <th>DAYS_ENTRY_PAYMENT</th>\n",
       "      <th>AMT_INSTALMENT</th>\n",
       "      <th>AMT_PAYMENT</th>\n",
       "    </tr>\n",
       "  </thead>\n",
       "  <tbody>\n",
       "    <tr>\n",
       "      <th>0</th>\n",
       "      <td>1054186</td>\n",
       "      <td>161674</td>\n",
       "      <td>1.0</td>\n",
       "      <td>6</td>\n",
       "      <td>-1180.0</td>\n",
       "      <td>-1187.0</td>\n",
       "      <td>6948.360</td>\n",
       "      <td>6948.360</td>\n",
       "    </tr>\n",
       "    <tr>\n",
       "      <th>1</th>\n",
       "      <td>1330831</td>\n",
       "      <td>151639</td>\n",
       "      <td>0.0</td>\n",
       "      <td>34</td>\n",
       "      <td>-2156.0</td>\n",
       "      <td>-2156.0</td>\n",
       "      <td>1716.525</td>\n",
       "      <td>1716.525</td>\n",
       "    </tr>\n",
       "    <tr>\n",
       "      <th>2</th>\n",
       "      <td>2085231</td>\n",
       "      <td>193053</td>\n",
       "      <td>2.0</td>\n",
       "      <td>1</td>\n",
       "      <td>-63.0</td>\n",
       "      <td>-63.0</td>\n",
       "      <td>25425.000</td>\n",
       "      <td>25425.000</td>\n",
       "    </tr>\n",
       "    <tr>\n",
       "      <th>3</th>\n",
       "      <td>2452527</td>\n",
       "      <td>199697</td>\n",
       "      <td>1.0</td>\n",
       "      <td>3</td>\n",
       "      <td>-2418.0</td>\n",
       "      <td>-2426.0</td>\n",
       "      <td>24350.130</td>\n",
       "      <td>24350.130</td>\n",
       "    </tr>\n",
       "    <tr>\n",
       "      <th>4</th>\n",
       "      <td>2714724</td>\n",
       "      <td>167756</td>\n",
       "      <td>1.0</td>\n",
       "      <td>2</td>\n",
       "      <td>-1383.0</td>\n",
       "      <td>-1366.0</td>\n",
       "      <td>2165.040</td>\n",
       "      <td>2160.585</td>\n",
       "    </tr>\n",
       "  </tbody>\n",
       "</table>\n",
       "</div>"
      ],
      "text/plain": [
       "   SK_ID_PREV  SK_ID_CURR  NUM_INSTALMENT_VERSION  NUM_INSTALMENT_NUMBER  \\\n",
       "0     1054186      161674                     1.0                      6   \n",
       "1     1330831      151639                     0.0                     34   \n",
       "2     2085231      193053                     2.0                      1   \n",
       "3     2452527      199697                     1.0                      3   \n",
       "4     2714724      167756                     1.0                      2   \n",
       "\n",
       "   DAYS_INSTALMENT  DAYS_ENTRY_PAYMENT  AMT_INSTALMENT  AMT_PAYMENT  \n",
       "0          -1180.0             -1187.0        6948.360     6948.360  \n",
       "1          -2156.0             -2156.0        1716.525     1716.525  \n",
       "2            -63.0               -63.0       25425.000    25425.000  \n",
       "3          -2418.0             -2426.0       24350.130    24350.130  \n",
       "4          -1383.0             -1366.0        2165.040     2160.585  "
      ]
     },
     "execution_count": 445,
     "metadata": {},
     "output_type": "execute_result"
    }
   ],
   "source": [
    "inst_pay.head()"
   ]
  },
  {
   "cell_type": "code",
   "execution_count": 480,
   "metadata": {},
   "outputs": [
    {
     "data": {
      "text/plain": [
       "339587"
      ]
     },
     "execution_count": 480,
     "metadata": {},
     "output_type": "execute_result"
    }
   ],
   "source": [
    "len(inst_pay[\"SK_ID_CURR\"].value_counts())"
   ]
  },
  {
   "cell_type": "code",
   "execution_count": null,
   "metadata": {},
   "outputs": [],
   "source": []
  },
  {
   "cell_type": "code",
   "execution_count": null,
   "metadata": {},
   "outputs": [],
   "source": []
  },
  {
   "cell_type": "code",
   "execution_count": null,
   "metadata": {},
   "outputs": [],
   "source": []
  },
  {
   "cell_type": "code",
   "execution_count": null,
   "metadata": {},
   "outputs": [],
   "source": []
  },
  {
   "cell_type": "code",
   "execution_count": null,
   "metadata": {},
   "outputs": [],
   "source": []
  },
  {
   "cell_type": "code",
   "execution_count": null,
   "metadata": {},
   "outputs": [],
   "source": []
  },
  {
   "cell_type": "code",
   "execution_count": null,
   "metadata": {},
   "outputs": [],
   "source": []
  },
  {
   "cell_type": "code",
   "execution_count": null,
   "metadata": {},
   "outputs": [],
   "source": []
  },
  {
   "cell_type": "code",
   "execution_count": null,
   "metadata": {},
   "outputs": [],
   "source": []
  },
  {
   "cell_type": "code",
   "execution_count": null,
   "metadata": {},
   "outputs": [],
   "source": []
  },
  {
   "cell_type": "code",
   "execution_count": null,
   "metadata": {},
   "outputs": [],
   "source": []
  },
  {
   "cell_type": "code",
   "execution_count": null,
   "metadata": {},
   "outputs": [],
   "source": [
    "# TODO:階層的なデータ構造を反映する"
   ]
  },
  {
   "cell_type": "code",
   "execution_count": null,
   "metadata": {},
   "outputs": [],
   "source": []
  },
  {
   "cell_type": "raw",
   "metadata": {},
   "source": [
    "This kernel explores the Credit Card Balance CSV\n",
    "\n",
    "Credt Card Balance - Feature Engineer\n",
    "\n",
    "8 Features have been developed from this CSV across two Categories - Customer Risk Profile & Customer Behaviour\n",
    "\n",
    "This is only an Exploration of potential features.\n",
    "\n",
    "CUSTOMER RISK PROFILE\n",
    "- Number of Loans per Customer\n",
    "- Rate at which Loan is paid back by customer - No of instalments per loan\n",
    "- How much did the Customer load a Credit line?\n",
    "- How many times did the Customer miss the minimum payment?\n",
    "- What is the average number of days did Customer go past due date?\n",
    "- What fraction of minimum payments were missed?\n",
    "\n",
    "CUSTOMER BEHAVIOUR PATTERNS\n",
    "- Cash withdrawals VS Overall Spending ratio\n",
    "- Average number of drawings per customer - Total Drawings / Number of Drawings\n"
   ]
  },
  {
   "cell_type": "code",
   "execution_count": 80,
   "metadata": {},
   "outputs": [],
   "source": [
    "CCB_FULL = pd.read_csv('credit_card_balance.csv')"
   ]
  },
  {
   "cell_type": "code",
   "execution_count": 88,
   "metadata": {},
   "outputs": [],
   "source": [
    "CCB = CCB_FULL[0:]\n",
    "grp = CCB.groupby(by = ['SK_ID_CURR'])['SK_ID_PREV'].nunique().reset_index().rename(index = str, columns = {'SK_ID_PREV': 'NO_LOANS'})\n",
    "CCB = CCB.merge(grp, on = ['SK_ID_CURR'], how = 'left')\n",
    "del grp \n",
    "#gc.collect()\n",
    "#print(CCB.dtypes, CCB.shape)\n",
    "CCB1=CCB.copy()"
   ]
  },
  {
   "cell_type": "code",
   "execution_count": 87,
   "metadata": {},
   "outputs": [
    {
     "data": {
      "text/plain": [
       "1.0    102818\n",
       "2.0       732\n",
       "3.0         7\n",
       "4.0         1\n",
       "Name: NO_LOANS, dtype: int64"
      ]
     },
     "execution_count": 87,
     "metadata": {},
     "output_type": "execute_result"
    }
   ],
   "source": [
    "CCB.groupby(\"SK_ID_CURR\").mean()[\"NO_LOANS\"].value_counts()"
   ]
  },
  {
   "cell_type": "code",
   "execution_count": null,
   "metadata": {},
   "outputs": [],
   "source": []
  },
  {
   "cell_type": "code",
   "execution_count": null,
   "metadata": {},
   "outputs": [],
   "source": []
  },
  {
   "cell_type": "code",
   "execution_count": 89,
   "metadata": {},
   "outputs": [],
   "source": [
    "# CNT_INSTALMENT_MATURE_CUM gives number of installments paid as of that month \n",
    "# The Max of this column shows the total number of installments made for that loan \n",
    "\n",
    "CCB = CCB_FULL[0:]\n",
    "\n",
    "# No of Loans per customer \n",
    "\n",
    "CCB = CCB_FULL[0:]\n",
    "grp = CCB.groupby(by = ['SK_ID_CURR'])['SK_ID_PREV'].nunique().reset_index().rename(index = str, columns = {'SK_ID_PREV': 'NO_LOANS'})\n",
    "CCB = CCB.merge(grp, on = ['SK_ID_CURR'], how = 'left')\n",
    "del grp \n",
    "#gc.collect()\n",
    "\n",
    "#print(CCB.dtypes)\n",
    "\n",
    "\n",
    "# No of Installments paid per Loan per Customer \n",
    "\n",
    "grp = CCB.groupby(by = ['SK_ID_CURR', 'SK_ID_PREV'])['CNT_INSTALMENT_MATURE_CUM'].max().reset_index().rename(index = str, columns = {'CNT_INSTALMENT_MATURE_CUM': 'NO_INSTALMENTS'})\n",
    "grp1 = grp.groupby(by = ['SK_ID_CURR'])['NO_INSTALMENTS'].sum().reset_index().rename(index = str, columns = {'NO_INSTALMENTS': 'TOTAL_INSTALMENTS'})\n",
    "CCB = CCB.merge(grp1, on = ['SK_ID_CURR'], how = 'left')\n",
    "del grp, grp1\n",
    "#gc.collect()\n",
    "\n",
    "# Average Number of installments paid per loan \n",
    "\n",
    "CCB['INSTALLMENTS_PER_LOAN'] = (CCB['TOTAL_INSTALMENTS']/CCB['NO_LOANS']).astype('uint32')\n",
    "del CCB['TOTAL_INSTALMENTS']\n",
    "del CCB['NO_LOANS']\n",
    "#gc.collect()\n",
    "\n",
    "#print(CCB.dtypes, CCB.shape)\n",
    "\n",
    "CCB2=CCB.copy()"
   ]
  },
  {
   "cell_type": "code",
   "execution_count": 90,
   "metadata": {},
   "outputs": [
    {
     "data": {
      "text/html": [
       "<div>\n",
       "<style scoped>\n",
       "    .dataframe tbody tr th:only-of-type {\n",
       "        vertical-align: middle;\n",
       "    }\n",
       "\n",
       "    .dataframe tbody tr th {\n",
       "        vertical-align: top;\n",
       "    }\n",
       "\n",
       "    .dataframe thead th {\n",
       "        text-align: right;\n",
       "    }\n",
       "</style>\n",
       "<table border=\"1\" class=\"dataframe\">\n",
       "  <thead>\n",
       "    <tr style=\"text-align: right;\">\n",
       "      <th></th>\n",
       "      <th>SK_ID_PREV</th>\n",
       "      <th>SK_ID_CURR</th>\n",
       "      <th>MONTHS_BALANCE</th>\n",
       "      <th>AMT_BALANCE</th>\n",
       "      <th>AMT_CREDIT_LIMIT_ACTUAL</th>\n",
       "      <th>AMT_DRAWINGS_ATM_CURRENT</th>\n",
       "      <th>AMT_DRAWINGS_CURRENT</th>\n",
       "      <th>AMT_DRAWINGS_OTHER_CURRENT</th>\n",
       "      <th>AMT_DRAWINGS_POS_CURRENT</th>\n",
       "      <th>AMT_INST_MIN_REGULARITY</th>\n",
       "      <th>...</th>\n",
       "      <th>AMT_TOTAL_RECEIVABLE</th>\n",
       "      <th>CNT_DRAWINGS_ATM_CURRENT</th>\n",
       "      <th>CNT_DRAWINGS_CURRENT</th>\n",
       "      <th>CNT_DRAWINGS_OTHER_CURRENT</th>\n",
       "      <th>CNT_DRAWINGS_POS_CURRENT</th>\n",
       "      <th>CNT_INSTALMENT_MATURE_CUM</th>\n",
       "      <th>NAME_CONTRACT_STATUS</th>\n",
       "      <th>SK_DPD</th>\n",
       "      <th>SK_DPD_DEF</th>\n",
       "      <th>INSTALLMENTS_PER_LOAN</th>\n",
       "    </tr>\n",
       "  </thead>\n",
       "  <tbody>\n",
       "    <tr>\n",
       "      <th>0</th>\n",
       "      <td>2562384</td>\n",
       "      <td>378907</td>\n",
       "      <td>-6</td>\n",
       "      <td>56.970</td>\n",
       "      <td>135000</td>\n",
       "      <td>0.0</td>\n",
       "      <td>877.5</td>\n",
       "      <td>0.0</td>\n",
       "      <td>877.5</td>\n",
       "      <td>1700.325</td>\n",
       "      <td>...</td>\n",
       "      <td>0.000</td>\n",
       "      <td>0.0</td>\n",
       "      <td>1</td>\n",
       "      <td>0.0</td>\n",
       "      <td>1.0</td>\n",
       "      <td>35.0</td>\n",
       "      <td>Active</td>\n",
       "      <td>0</td>\n",
       "      <td>0</td>\n",
       "      <td>39</td>\n",
       "    </tr>\n",
       "    <tr>\n",
       "      <th>1</th>\n",
       "      <td>2582071</td>\n",
       "      <td>363914</td>\n",
       "      <td>-1</td>\n",
       "      <td>63975.555</td>\n",
       "      <td>45000</td>\n",
       "      <td>2250.0</td>\n",
       "      <td>2250.0</td>\n",
       "      <td>0.0</td>\n",
       "      <td>0.0</td>\n",
       "      <td>2250.000</td>\n",
       "      <td>...</td>\n",
       "      <td>64875.555</td>\n",
       "      <td>1.0</td>\n",
       "      <td>1</td>\n",
       "      <td>0.0</td>\n",
       "      <td>0.0</td>\n",
       "      <td>69.0</td>\n",
       "      <td>Active</td>\n",
       "      <td>0</td>\n",
       "      <td>0</td>\n",
       "      <td>69</td>\n",
       "    </tr>\n",
       "    <tr>\n",
       "      <th>2</th>\n",
       "      <td>1740877</td>\n",
       "      <td>371185</td>\n",
       "      <td>-7</td>\n",
       "      <td>31815.225</td>\n",
       "      <td>450000</td>\n",
       "      <td>0.0</td>\n",
       "      <td>0.0</td>\n",
       "      <td>0.0</td>\n",
       "      <td>0.0</td>\n",
       "      <td>2250.000</td>\n",
       "      <td>...</td>\n",
       "      <td>31460.085</td>\n",
       "      <td>0.0</td>\n",
       "      <td>0</td>\n",
       "      <td>0.0</td>\n",
       "      <td>0.0</td>\n",
       "      <td>30.0</td>\n",
       "      <td>Active</td>\n",
       "      <td>0</td>\n",
       "      <td>0</td>\n",
       "      <td>36</td>\n",
       "    </tr>\n",
       "    <tr>\n",
       "      <th>3</th>\n",
       "      <td>1389973</td>\n",
       "      <td>337855</td>\n",
       "      <td>-4</td>\n",
       "      <td>236572.110</td>\n",
       "      <td>225000</td>\n",
       "      <td>2250.0</td>\n",
       "      <td>2250.0</td>\n",
       "      <td>0.0</td>\n",
       "      <td>0.0</td>\n",
       "      <td>11795.760</td>\n",
       "      <td>...</td>\n",
       "      <td>233048.970</td>\n",
       "      <td>1.0</td>\n",
       "      <td>1</td>\n",
       "      <td>0.0</td>\n",
       "      <td>0.0</td>\n",
       "      <td>10.0</td>\n",
       "      <td>Active</td>\n",
       "      <td>0</td>\n",
       "      <td>0</td>\n",
       "      <td>13</td>\n",
       "    </tr>\n",
       "    <tr>\n",
       "      <th>4</th>\n",
       "      <td>1891521</td>\n",
       "      <td>126868</td>\n",
       "      <td>-1</td>\n",
       "      <td>453919.455</td>\n",
       "      <td>450000</td>\n",
       "      <td>0.0</td>\n",
       "      <td>11547.0</td>\n",
       "      <td>0.0</td>\n",
       "      <td>11547.0</td>\n",
       "      <td>22924.890</td>\n",
       "      <td>...</td>\n",
       "      <td>453919.455</td>\n",
       "      <td>0.0</td>\n",
       "      <td>1</td>\n",
       "      <td>0.0</td>\n",
       "      <td>1.0</td>\n",
       "      <td>101.0</td>\n",
       "      <td>Active</td>\n",
       "      <td>0</td>\n",
       "      <td>0</td>\n",
       "      <td>101</td>\n",
       "    </tr>\n",
       "  </tbody>\n",
       "</table>\n",
       "<p>5 rows × 24 columns</p>\n",
       "</div>"
      ],
      "text/plain": [
       "   SK_ID_PREV  SK_ID_CURR  MONTHS_BALANCE  AMT_BALANCE  \\\n",
       "0     2562384      378907              -6       56.970   \n",
       "1     2582071      363914              -1    63975.555   \n",
       "2     1740877      371185              -7    31815.225   \n",
       "3     1389973      337855              -4   236572.110   \n",
       "4     1891521      126868              -1   453919.455   \n",
       "\n",
       "   AMT_CREDIT_LIMIT_ACTUAL  AMT_DRAWINGS_ATM_CURRENT  AMT_DRAWINGS_CURRENT  \\\n",
       "0                   135000                       0.0                 877.5   \n",
       "1                    45000                    2250.0                2250.0   \n",
       "2                   450000                       0.0                   0.0   \n",
       "3                   225000                    2250.0                2250.0   \n",
       "4                   450000                       0.0               11547.0   \n",
       "\n",
       "   AMT_DRAWINGS_OTHER_CURRENT  AMT_DRAWINGS_POS_CURRENT  \\\n",
       "0                         0.0                     877.5   \n",
       "1                         0.0                       0.0   \n",
       "2                         0.0                       0.0   \n",
       "3                         0.0                       0.0   \n",
       "4                         0.0                   11547.0   \n",
       "\n",
       "   AMT_INST_MIN_REGULARITY          ...            AMT_TOTAL_RECEIVABLE  \\\n",
       "0                 1700.325          ...                           0.000   \n",
       "1                 2250.000          ...                       64875.555   \n",
       "2                 2250.000          ...                       31460.085   \n",
       "3                11795.760          ...                      233048.970   \n",
       "4                22924.890          ...                      453919.455   \n",
       "\n",
       "   CNT_DRAWINGS_ATM_CURRENT  CNT_DRAWINGS_CURRENT  CNT_DRAWINGS_OTHER_CURRENT  \\\n",
       "0                       0.0                     1                         0.0   \n",
       "1                       1.0                     1                         0.0   \n",
       "2                       0.0                     0                         0.0   \n",
       "3                       1.0                     1                         0.0   \n",
       "4                       0.0                     1                         0.0   \n",
       "\n",
       "   CNT_DRAWINGS_POS_CURRENT  CNT_INSTALMENT_MATURE_CUM  NAME_CONTRACT_STATUS  \\\n",
       "0                       1.0                       35.0                Active   \n",
       "1                       0.0                       69.0                Active   \n",
       "2                       0.0                       30.0                Active   \n",
       "3                       0.0                       10.0                Active   \n",
       "4                       1.0                      101.0                Active   \n",
       "\n",
       "   SK_DPD  SK_DPD_DEF  INSTALLMENTS_PER_LOAN  \n",
       "0       0           0                     39  \n",
       "1       0           0                     69  \n",
       "2       0           0                     36  \n",
       "3       0           0                     13  \n",
       "4       0           0                    101  \n",
       "\n",
       "[5 rows x 24 columns]"
      ]
     },
     "execution_count": 90,
     "metadata": {},
     "output_type": "execute_result"
    }
   ],
   "source": [
    "CCB2.head()"
   ]
  },
  {
   "cell_type": "code",
   "execution_count": null,
   "metadata": {},
   "outputs": [],
   "source": [
    "CCB = CCB_FULL[0:]\n",
    "\n",
    "CCB['AMT_CREDIT_LIMIT_ACTUAL1'] = CCB['AMT_CREDIT_LIMIT_ACTUAL']\n",
    "\n",
    "def f(x1, x2):\n",
    "    \n",
    "    balance = x1.max()\n",
    "    limit = x2.max()\n",
    "    \n",
    "    return (balance/limit)\n",
    "\n",
    "# Calculate the ratio of Amount Balance to Credit Limit - CREDIT LOAD OF CUSTOMER \n",
    "# This is done for each Credit limit value per loan per Customer \n",
    "\n",
    "grp = CCB.groupby(by = ['SK_ID_CURR', 'SK_ID_PREV', 'AMT_CREDIT_LIMIT_ACTUAL']).apply(lambda x: f(x.AMT_BALANCE, x.AMT_CREDIT_LIMIT_ACTUAL1)).reset_index().rename(index = str, columns = {0: 'CREDIT_LOAD1'})\n",
    "del CCB['AMT_CREDIT_LIMIT_ACTUAL1']\n",
    "gc.collect()\n",
    "\n",
    "# We now calculate the mean Credit load of All Loan transactions of Customer \n",
    "grp1 = grp.groupby(by = ['SK_ID_CURR'])['CREDIT_LOAD1'].mean().reset_index().rename(index = str, columns = {'CREDIT_LOAD1': 'CREDIT_LOAD'})\n",
    "print(grp1.dtypes)\n",
    "\n",
    "CCB = CCB.merge(grp1, on = ['SK_ID_CURR'], how = 'left')\n",
    "del grp, grp1\n",
    "gc.collect()\n",
    "\n",
    "print(CCB.dtypes, CCB.shape)"
   ]
  },
  {
   "cell_type": "code",
   "execution_count": null,
   "metadata": {},
   "outputs": [],
   "source": [
    "# Function to calculate number of times Days Past Due occurred \n",
    "\n",
    "CCB = CCB_FULL[0:]\n",
    "\n",
    "def f(DPD):\n",
    "    \n",
    "    # DPD is a series of values of SK_DPD for each of the groupby combination \n",
    "    # We convert it to a list to get the number of SK_DPD values NOT EQUALS ZERO\n",
    "    x = DPD.tolist()\n",
    "    c = 0\n",
    "    for i,j in enumerate(x):\n",
    "        if j != 0:\n",
    "            c += 1\n",
    "    \n",
    "    return c \n",
    "\n",
    "grp = CCB.groupby(by = ['SK_ID_CURR', 'SK_ID_PREV']).apply(lambda x: f(x.SK_DPD)).reset_index().rename(index = str, columns = {0: 'NO_DPD'})\n",
    "grp1 = grp.groupby(by = ['SK_ID_CURR'])['NO_DPD'].mean().reset_index().rename(index = str, columns = {'NO_DPD' : 'DPD_COUNT'})\n",
    "\n",
    "CCB = CCB.merge(grp1, on = ['SK_ID_CURR'], how = 'left')\n",
    "del grp1\n",
    "del grp \n",
    "gc.collect()\n",
    "\n",
    "print(CCB.dtypes, CCB.shape)"
   ]
  },
  {
   "cell_type": "code",
   "execution_count": 71,
   "metadata": {},
   "outputs": [],
   "source": [
    "CCB = CCB_FULL[0:]\n",
    "\n",
    "grp = CCB.groupby(by= ['SK_ID_CURR'])['SK_DPD'].mean().reset_index().rename(index = str, columns = {'SK_DPD': 'AVG_DPD'})\n",
    "CCB = CCB.merge(grp, on = ['SK_ID_CURR'], how = 'left')\n",
    "del grp \n",
    "gc.collect()\n",
    "\n",
    "print(CCB.dtypes, CCB.shape)"
   ]
  },
  {
   "cell_type": "code",
   "execution_count": null,
   "metadata": {},
   "outputs": [],
   "source": [
    "CCB = CCB_FULL[0:]\n",
    "\n",
    "def f(min_pay, total_pay):\n",
    "    \n",
    "    M = min_pay.tolist()\n",
    "    T = total_pay.tolist()\n",
    "    P = len(M)\n",
    "    c = 0 \n",
    "    # Find the count of transactions when Payment made is less than Minimum Payment \n",
    "    for i in range(len(M)):\n",
    "        if T[i] < M[i]:\n",
    "            c += 1  \n",
    "    return (100*c)/P\n",
    "\n",
    "grp = CCB.groupby(by = ['SK_ID_CURR']).apply(lambda x: f(x.AMT_INST_MIN_REGULARITY, x.AMT_PAYMENT_CURRENT)).reset_index().rename(index = str, columns = { 0 : 'PERCENTAGE_MISSED_PAYMENTS'})\n",
    "CCB = CCB.merge(grp, on = ['SK_ID_CURR'], how = 'left')\n",
    "del grp \n",
    "gc.collect()\n",
    "\n",
    "print(CCB.dtypes, CCB.shape)"
   ]
  },
  {
   "cell_type": "code",
   "execution_count": null,
   "metadata": {},
   "outputs": [],
   "source": [
    "CCB = CCB_FULL[0:]\n",
    "\n",
    "grp = CCB.groupby(by = ['SK_ID_CURR'])['AMT_DRAWINGS_ATM_CURRENT'].sum().reset_index().rename(index = str, columns = {'AMT_DRAWINGS_ATM_CURRENT' : 'DRAWINGS_ATM'})\n",
    "CCB = CCB.merge(grp, on = ['SK_ID_CURR'], how = 'left')\n",
    "del grp\n",
    "gc.collect()\n",
    "\n",
    "grp = CCB.groupby(by = ['SK_ID_CURR'])['AMT_DRAWINGS_CURRENT'].sum().reset_index().rename(index = str, columns = {'AMT_DRAWINGS_CURRENT' : 'DRAWINGS_TOTAL'})\n",
    "CCB = CCB.merge(grp, on = ['SK_ID_CURR'], how = 'left')\n",
    "del grp\n",
    "gc.collect()\n",
    "\n",
    "CCB['CASH_CARD_RATIO1'] = (CCB['DRAWINGS_ATM']/CCB['DRAWINGS_TOTAL'])*100\n",
    "del CCB['DRAWINGS_ATM']\n",
    "del CCB['DRAWINGS_TOTAL']\n",
    "gc.collect()\n",
    "\n",
    "grp = CCB.groupby(by = ['SK_ID_CURR'])['CASH_CARD_RATIO1'].mean().reset_index().rename(index = str, columns ={ 'CASH_CARD_RATIO1' : 'CASH_CARD_RATIO'})\n",
    "CCB = CCB.merge(grp, on = ['SK_ID_CURR'], how = 'left')\n",
    "del grp \n",
    "gc.collect()\n",
    "\n",
    "del CCB['CASH_CARD_RATIO1']\n",
    "gc.collect()\n",
    "\n",
    "print(CCB.dtypes, CCB.shape)\n",
    "\n",
    "# WE can leave NaN values as they are for LGBM "
   ]
  },
  {
   "cell_type": "code",
   "execution_count": null,
   "metadata": {},
   "outputs": [],
   "source": [
    "CCB = CCB_FULL[0:]\n",
    "\n",
    "grp = CCB.groupby(by = ['SK_ID_CURR'])['AMT_DRAWINGS_CURRENT'].sum().reset_index().rename(index = str, columns = {'AMT_DRAWINGS_CURRENT' : 'TOTAL_DRAWINGS'})\n",
    "CCB = CCB.merge(grp, on = ['SK_ID_CURR'], how = 'left')\n",
    "del grp\n",
    "gc.collect()\n",
    "\n",
    "grp = CCB.groupby(by = ['SK_ID_CURR'])['CNT_DRAWINGS_CURRENT'].sum().reset_index().rename(index = str, columns = {'CNT_DRAWINGS_CURRENT' : 'NO_DRAWINGS'})\n",
    "CCB = CCB.merge(grp, on = ['SK_ID_CURR'], how = 'left')\n",
    "del grp\n",
    "gc.collect()\n",
    "\n",
    "CCB['DRAWINGS_RATIO1'] = (CCB['TOTAL_DRAWINGS']/CCB['NO_DRAWINGS'])*100\n",
    "del CCB['TOTAL_DRAWINGS']\n",
    "del CCB['NO_DRAWINGS']\n",
    "gc.collect()\n",
    "\n",
    "grp = CCB.groupby(by = ['SK_ID_CURR'])['DRAWINGS_RATIO1'].mean().reset_index().rename(index = str, columns ={ 'DRAWINGS_RATIO1' : 'DRAWINGS_RATIO'})\n",
    "CCB = CCB.merge(grp, on = ['SK_ID_CURR'], how = 'left')\n",
    "del grp \n",
    "gc.collect()\n",
    "\n",
    "del CCB['DRAWINGS_RATIO1']\n",
    "\n",
    "print(CCB.dtypes, CCB.shape)"
   ]
  },
  {
   "cell_type": "code",
   "execution_count": null,
   "metadata": {},
   "outputs": [],
   "source": []
  },
  {
   "cell_type": "code",
   "execution_count": null,
   "metadata": {},
   "outputs": [],
   "source": []
  },
  {
   "cell_type": "code",
   "execution_count": null,
   "metadata": {},
   "outputs": [],
   "source": []
  }
 ],
 "metadata": {
  "kernelspec": {
   "display_name": "Python 3",
   "language": "python",
   "name": "python3"
  },
  "language_info": {
   "codemirror_mode": {
    "name": "ipython",
    "version": 3
   },
   "file_extension": ".py",
   "mimetype": "text/x-python",
   "name": "python",
   "nbconvert_exporter": "python",
   "pygments_lexer": "ipython3",
   "version": "3.6.4"
  }
 },
 "nbformat": 4,
 "nbformat_minor": 2
}
