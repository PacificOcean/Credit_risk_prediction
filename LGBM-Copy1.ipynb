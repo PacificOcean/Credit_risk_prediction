{
 "cells": [
  {
   "cell_type": "code",
   "execution_count": 1,
   "metadata": {},
   "outputs": [
    {
     "name": "stdout",
     "output_type": "stream",
     "text": [
      "['.ipynb_checkpoints', 'application_test.csv', 'application_train.csv', 'bureau.csv', 'bureau_balance.csv', 'credit-Copy1.ipynb', 'credit.ipynb', 'credit6-Copy1.ipynb', 'credit_bak.ipynb', 'credit_card_balance.csv', 'credit_cp.ipynb', 'credit_submit_data_0601_01.csv', 'credit_submit_data_0602_01.csv', 'HomeCredit_columns_description.csv', 'installments_payments.csv', 'LGBM-Copy1.ipynb', 'LGBM.ipynb', 'POS_CASH_balance.csv', 'previous_application.csv', 'sample_submission.csv', 'submission_0609.csv']\n"
     ]
    }
   ],
   "source": [
    "# This Python 3 environment comes with many helpful analytics libraries installed\n",
    "# It is defined by the kaggle/python docker image: https://github.com/kaggle/docker-python\n",
    "# For example, here's several helpful packages to load in \n",
    "\n",
    "import numpy as np # linear algebra\n",
    "import pandas as pd # data processing, CSV file I/O (e.g. pd.read_csv)\n",
    "\n",
    "import matplotlib\n",
    "import matplotlib.pyplot as plt\n",
    "import seaborn as sns\n",
    "%matplotlib inline \n",
    "\n",
    "# Input data files are available in the \"../input/\" directory.\n",
    "# For example, running this (by clicking run or pressing Shift+Enter) will list the files in the input directory\n",
    "\n",
    "import os\n",
    "PATH = \"./\"\n",
    "print(os.listdir(PATH))\n",
    "\n",
    "# Any results you write to the current directory are saved as output.\n"
   ]
  },
  {
   "cell_type": "code",
   "execution_count": 2,
   "metadata": {},
   "outputs": [],
   "source": [
    "def reduce_mem_usage(df):\n",
    "    \"\"\" iterate through all the columns of a dataframe and modify the data type\n",
    "        to reduce memory usage.        \n",
    "    \"\"\"\n",
    "    start_mem = df.memory_usage().sum() / 1024**2\n",
    "    print('Memory usage of dataframe is {:.2f} MB'.format(start_mem))\n",
    "    \n",
    "    for col in df.columns:\n",
    "        col_type = df[col].dtype\n",
    "        \n",
    "        if col_type != object:\n",
    "            c_min = df[col].min()\n",
    "            c_max = df[col].max()\n",
    "            if str(col_type)[:3] == 'int':\n",
    "                if c_min > np.iinfo(np.int8).min and c_max < np.iinfo(np.int8).max:\n",
    "                    df[col] = df[col].astype(np.int8)\n",
    "                elif c_min > np.iinfo(np.int16).min and c_max < np.iinfo(np.int16).max:\n",
    "                    df[col] = df[col].astype(np.int16)\n",
    "                elif c_min > np.iinfo(np.int32).min and c_max < np.iinfo(np.int32).max:\n",
    "                    df[col] = df[col].astype(np.int32)\n",
    "                elif c_min > np.iinfo(np.int64).min and c_max < np.iinfo(np.int64).max:\n",
    "                    df[col] = df[col].astype(np.int64)  \n",
    "            else:\n",
    "                if c_min > np.finfo(np.float16).min and c_max < np.finfo(np.float16).max:\n",
    "                    df[col] = df[col].astype(np.float16)\n",
    "                elif c_min > np.finfo(np.float32).min and c_max < np.finfo(np.float32).max:\n",
    "                    df[col] = df[col].astype(np.float32)\n",
    "                else:\n",
    "                    df[col] = df[col].astype(np.float64)\n",
    "        else:\n",
    "            df[col] = df[col].astype('category')\n",
    "\n",
    "    end_mem = df.memory_usage().sum() / 1024**2\n",
    "    print('Memory usage after optimization is: {:.2f} MB'.format(end_mem))\n",
    "    print('Decreased by {:.1f}%'.format(100 * (start_mem - end_mem) / start_mem))\n",
    "    \n",
    "    return df\n",
    "\n",
    "\n",
    "def import_data(file):\n",
    "    \"\"\"create a dataframe and optimize its memory usage\"\"\"\n",
    "    df = pd.read_csv(file, parse_dates=True, keep_date_col=True)\n",
    "    df = reduce_mem_usage(df)\n",
    "    return df\n"
   ]
  },
  {
   "cell_type": "code",
   "execution_count": 3,
   "metadata": {},
   "outputs": [
    {
     "name": "stdout",
     "output_type": "stream",
     "text": [
      "Memory usage of dataframe is 286.23 MB\n",
      "Memory usage after optimization is: 59.54 MB\n",
      "Decreased by 79.2%\n",
      "Memory usage of dataframe is 45.00 MB\n",
      "Memory usage after optimization is: 9.40 MB\n",
      "Decreased by 79.1%\n"
     ]
    }
   ],
   "source": [
    "application_train = import_data(PATH+'application_train.csv')\n",
    "application_test = import_data(PATH+'application_test.csv')"
   ]
  },
  {
   "cell_type": "code",
   "execution_count": 4,
   "metadata": {},
   "outputs": [],
   "source": [
    "application_train = application_train[application_train['AMT_INCOME_TOTAL'] != 1.170000e+08]\n",
    "application_train = application_train[application_train['AMT_REQ_CREDIT_BUREAU_QRT'] != 261]\n",
    "application_train = application_train[application_train['OBS_30_CNT_SOCIAL_CIRCLE'] < 300]\n"
   ]
  },
  {
   "cell_type": "code",
   "execution_count": 5,
   "metadata": {},
   "outputs": [],
   "source": [
    "application_train['DAYS_EMPLOYED'] = (application_train['DAYS_EMPLOYED'].apply(lambda x: x if x != 365243 else np.nan))\n"
   ]
  },
  {
   "cell_type": "code",
   "execution_count": 6,
   "metadata": {},
   "outputs": [],
   "source": [
    "def feat_ext_source(df):\n",
    "    x1 = df['EXT_SOURCE_1'].fillna(-1) + 1e-1\n",
    "    x2 = df['EXT_SOURCE_2'].fillna(-1) + 1e-1\n",
    "    x3 = df['EXT_SOURCE_3'].fillna(-1) + 1e-1\n",
    "    \n",
    "    df['EXT_SOURCE_1over2_NAminus1_Add0.1'] = x1/x2\n",
    "    df['EXT_SOURCE_2over1_NAminus1_Add0.1'] = x2/x1\n",
    "    df['EXT_SOURCE_1over3_NAminus1_Add0.1'] = x1/x3\n",
    "    df['EXT_SOURCE_3over1_NAminus1_Add0.1'] = x3/x1\n",
    "    df['EXT_SOURCE_2over3_NAminus1_Add0.1'] = x2/x3\n",
    "    df['EXT_SOURCE_3over2_NAminus1_Add0.1'] = x3/x2\n",
    "    \n",
    "    df['EXT_SOURCE_na1_2'] = (df['EXT_SOURCE_1'].isnull()) * (df['EXT_SOURCE_2'].fillna(0))\n",
    "    df['EXT_SOURCE_na1_3'] = (df['EXT_SOURCE_1'].isnull()) * (df['EXT_SOURCE_3'].fillna(0))\n",
    "    df['EXT_SOURCE_na2_1'] = (df['EXT_SOURCE_2'].isnull()) * (df['EXT_SOURCE_1'].fillna(0))\n",
    "    df['EXT_SOURCE_na2_3'] = (df['EXT_SOURCE_2'].isnull()) * (df['EXT_SOURCE_3'].fillna(0))\n",
    "    df['EXT_SOURCE_na3_1'] = (df['EXT_SOURCE_3'].isnull()) * (df['EXT_SOURCE_1'].fillna(0))\n",
    "    df['EXT_SOURCE_na3_2'] = (df['EXT_SOURCE_3'].isnull()) * (df['EXT_SOURCE_2'].fillna(0))\n",
    "    \n",
    "    return df\n"
   ]
  },
  {
   "cell_type": "code",
   "execution_count": 7,
   "metadata": {},
   "outputs": [],
   "source": [
    "application_train = feat_ext_source(application_train)\n",
    "application_test  = feat_ext_source(application_test)\n"
   ]
  },
  {
   "cell_type": "code",
   "execution_count": 8,
   "metadata": {},
   "outputs": [
    {
     "name": "stdout",
     "output_type": "stream",
     "text": [
      "Memory usage of train increases from 79.86 to 115.22 MB\n",
      "Memory usage of test increases from 10.51 to 16.13 MB\n"
     ]
    }
   ],
   "source": [
    "# use this if you want to convert categorical features to dummies(default)\n",
    "def cat_to_dummy(train, test):\n",
    "    train_d = pd.get_dummies(train, drop_first=False)\n",
    "    test_d = pd.get_dummies(test, drop_first=False)\n",
    "    # make sure that the number of features in train and test should be same\n",
    "    for i in train_d.columns:\n",
    "        if i not in test_d.columns:\n",
    "            if i!='TARGET':\n",
    "                train_d = train_d.drop(i, axis=1)\n",
    "    for j in test_d.columns:\n",
    "        if j not in train_d.columns:\n",
    "            if j!='TARGET':\n",
    "                test_d = test_d.drop(i, axis=1)\n",
    "    print('Memory usage of train increases from {:.2f} to {:.2f} MB'.format(train.memory_usage().sum() / 1024**2, \n",
    "                                                                            train_d.memory_usage().sum() / 1024**2))\n",
    "    print('Memory usage of test increases from {:.2f} to {:.2f} MB'.format(test.memory_usage().sum() / 1024**2, \n",
    "                                                                            test_d.memory_usage().sum() / 1024**2))\n",
    "    return train_d, test_d\n",
    "\n",
    "application_train_ohe, application_test_ohe = cat_to_dummy(application_train, application_test)\n"
   ]
  },
  {
   "cell_type": "code",
   "execution_count": 9,
   "metadata": {},
   "outputs": [],
   "source": [
    "# bureauデータの整形\n",
    "\n",
    "bureau_data=pd.read_csv(\"bureau.csv\")\n",
    "# bureau_data.columns\n",
    "\n",
    "bureau_data[\"CREDIT_CNT\"]=1\n",
    "\n",
    "cate_cols=['CREDIT_ACTIVE', 'CREDIT_CURRENCY', 'CREDIT_TYPE']\n",
    "\n",
    "for tgt_col in cate_cols:\n",
    "    tmp_DF=pd.get_dummies(bureau_data[tgt_col])\n",
    "    tmp_DF.columns=[tgt_col+\"_\"+str(x) for x in tmp_DF.columns]\n",
    "    bureau_data=pd.concat([bureau_data,tmp_DF],axis=1)\n",
    "    del bureau_data[tgt_col]\n",
    "\n",
    "del bureau_data[\"SK_ID_BUREAU\"]\n",
    "\n",
    "bureau_data[\"AMT_ANNUITY_BUREAU\"]=bureau_data[\"AMT_ANNUITY\"]\n",
    "del bureau_data[\"AMT_ANNUITY\"]\n",
    "\n",
    "bureau_data2=bureau_data.fillna(0).groupby(\"SK_ID_CURR\").sum().reset_index(drop=False)\n"
   ]
  },
  {
   "cell_type": "code",
   "execution_count": 10,
   "metadata": {},
   "outputs": [],
   "source": [
    "# POS_CASHデータの整形\n",
    "\n",
    "POS_data=pd.read_csv(\"POS_CASH_balance.csv\")\n",
    "\n",
    "#PREV_IDの数、SK_DPDの合計、SK_DPDの回数、分割数の平均\n",
    "tmp_data1=POS_data.groupby([\"SK_ID_CURR\",\"SK_ID_PREV\"]).mean()\n",
    "tmp_data1[\"POS_ID_PREV_CNT\"]=1\n",
    "tmp_data1_2=tmp_data1.groupby([\"SK_ID_CURR\"]).sum()[\"POS_ID_PREV_CNT\"]\n",
    "tmp_data2=POS_data.groupby([\"SK_ID_CURR\"]).sum()[\"SK_DPD\"]\n",
    "POS_data[\"SK_DPD_CNT\"]=POS_data[\"SK_DPD\"].astype(bool).astype(int)\n",
    "tmp_data3=POS_data.groupby([\"SK_ID_CURR\"]).sum()[\"SK_DPD_CNT\"]\n",
    "tmp_data4=tmp_data1.groupby([\"SK_ID_CURR\"]).sum()[\"CNT_INSTALMENT\"]\n",
    "POS_data2=pd.concat([tmp_data1_2,tmp_data2,tmp_data3,tmp_data4],axis=1)\n",
    "POS_data2.columns=['POS_ID_PREV_CNT', 'POS_SK_DPD_SUM', 'POS_SK_DPD_CNT', 'POS_CNT_INSTALMENT_MEAN']\n",
    "POS_data2=POS_data2.reset_index()"
   ]
  },
  {
   "cell_type": "code",
   "execution_count": 11,
   "metadata": {},
   "outputs": [
    {
     "name": "stdout",
     "output_type": "stream",
     "text": [
      "(1670214, 37)\n",
      "338857\n",
      "1670214\n"
     ]
    },
    {
     "name": "stderr",
     "output_type": "stream",
     "text": [
      "C:\\Users\\userpc\\Anaconda3\\lib\\site-packages\\ipykernel_launcher.py:32: SettingWithCopyWarning: \n",
      "A value is trying to be set on a copy of a slice from a DataFrame.\n",
      "Try using .loc[row_indexer,col_indexer] = value instead\n",
      "\n",
      "See the caveats in the documentation: http://pandas.pydata.org/pandas-docs/stable/indexing.html#indexing-view-versus-copy\n"
     ]
    },
    {
     "name": "stdout",
     "output_type": "stream",
     "text": [
      "['NFLAG_LAST_APPL_IN_DAY', 'NFLAG_INSURED_ON_APPROVAL']\n",
      "338857\n",
      "338602\n",
      "338602\n",
      "336519\n",
      "15\n"
     ]
    }
   ],
   "source": [
    "# previous_applicationデータの加工\n",
    "def grep_include(lst,word):\n",
    "    tgt = []\n",
    "    for string in lst:\n",
    "        if string.find(word) != -1: #wordがstringに含まれている\n",
    "            tgt.append(string)\n",
    "    return tgt\n",
    "\n",
    "prev_app=pd.read_csv(\"previous_application.csv\")\n",
    "prev_app=prev_app.replace(\"XNA\",np.nan)\n",
    "print(prev_app.shape)\n",
    "print(len(prev_app[\"SK_ID_CURR\"].value_counts()))\n",
    "\n",
    "print(len(prev_app.sort_values([\"SK_ID_CURR\",\"SK_ID_PREV\"])))\n",
    "# 2種類のIDの組み合わせはユニークらしい\n",
    "\n",
    "prev_app2=prev_app.copy()\n",
    "#prev_app2[\"FLAG_LAST_APPL_PER_CONTRACT\"]=prev_app2[\"FLAG_LAST_APPL_PER_CONTRACT\"].replace(\"Y\",1).replace(\"N\",0)\n",
    "for tgt_col in [\"NAME_CONTRACT_TYPE\",\"WEEKDAY_APPR_PROCESS_START\",\"NAME_CASH_LOAN_PURPOSE\",\"NAME_CONTRACT_STATUS\",\n",
    "                     \"NAME_PAYMENT_TYPE\",\"CODE_REJECT_REASON\",\"NAME_TYPE_SUITE\",\"NAME_CLIENT_TYPE\",\"NAME_GOODS_CATEGORY\",\n",
    "                     \"NAME_PORTFOLIO\",\"NAME_PRODUCT_TYPE\",\"FLAG_LAST_APPL_PER_CONTRACT\",\"CHANNEL_TYPE\",\"NAME_SELLER_INDUSTRY\",\n",
    "                     \"NAME_YIELD_GROUP\",\"PRODUCT_COMBINATION\"]:\n",
    "    #print(tgt_col)\n",
    "    tmp_DF=pd.get_dummies(prev_app2[tgt_col])\n",
    "    tmp_DF.columns=[tgt_col+\"_\"+str(x) for x in tmp_DF.columns]\n",
    "\n",
    "    prev_app2=pd.concat([prev_app2,tmp_DF],axis=1)\n",
    "    del prev_app2[tgt_col]\n",
    "    \n",
    "prev_app2_cate=pd.concat([prev_app2[prev_app2.columns[1:2]],prev_app2[prev_app2.columns[21:]]],axis=1)\n",
    "prev_app2_cont=prev_app2[prev_app2.columns[:21]]\n",
    "prev_app2_cont[\"HOUR_APPR_PROCESS_START\"]=prev_app2_cont[\"HOUR_APPR_PROCESS_START\"].replace(0,24).replace(1,25).replace(2,26)\n",
    "\n",
    "print(grep_include(prev_app2_cont.columns,\"FLAG\")) # フラグをカテゴリとするかは、後日検討\n",
    "print(len(prev_app[\"SK_ID_CURR\"].value_counts()))\n",
    "# 案：キャンセルになったレコードを削除する or しないで２パターン試す →削除するほうがよい\n",
    "print(len(prev_app[prev_app[\"NAME_CONTRACT_STATUS\"]!=\"Canceled\"][\"SK_ID_CURR\"].value_counts()))\n",
    "\n",
    "prev_app2_cont=prev_app2_cont[prev_app2[\"NAME_CONTRACT_STATUS_Canceled\"]!=1]\n",
    "del prev_app2_cont[\"SK_ID_PREV\"]\n",
    "prev_app_cont_mean=prev_app2_cont.groupby(\"SK_ID_CURR\").mean()\n",
    "\n",
    "col_lst_prev_app=[]\n",
    "for tmp_col in prev_app_cont_mean.columns:\n",
    "    if prev_app_cont_mean[tmp_col].value_counts().sum()/len(prev_app_cont_mean) > 0.95:\n",
    "        col_lst_prev_app.append(tmp_col)\n",
    "\n",
    "print(len(prev_app_cont_mean))\n",
    "print(len(prev_app_cont_mean[col_lst_prev_app].dropna()))\n",
    "print(len(col_lst_prev_app))\n",
    "\n",
    "# ⑤データ\n",
    "prev_app_cont_mean=prev_app_cont_mean[col_lst_prev_app].dropna()\n",
    "#prev_app2_cont.sort_values(\"SK_ID_CURR\")\n",
    "prev_app_cont_mean.columns=[\"6_\"+str(x)+\"_mean\" for x in prev_app_cont_mean.columns]\n",
    "prev_app_cont_mean=prev_app_cont_mean.reset_index()\n",
    "\n",
    "# ⑥データ\n",
    "prev_app_cate_sum=prev_app2_cate.groupby(\"SK_ID_CURR\").sum()\n",
    "prev_app_cate_sum.columns=[\"6_\"+str(x)+\"_sum\" for x in prev_app_cate_sum.columns]\n",
    "prev_app_cate_sum=prev_app_cate_sum.reset_index()"
   ]
  },
  {
   "cell_type": "code",
   "execution_count": 14,
   "metadata": {},
   "outputs": [
    {
     "name": "stdout",
     "output_type": "stream",
     "text": [
      "(339578, 3)\n"
     ]
    }
   ],
   "source": [
    "# installments_paymentsデータの加工\n",
    "inst_pay=pd.read_csv(\"installments_payments.csv\")\n",
    "inst_pay=inst_pay.replace(\"XNA\",np.nan)\n",
    "del inst_pay[\"NUM_INSTALMENT_VERSION\"]\n",
    "#inst_pay2=inst_pay.merge(flag_data,on=\"SK_ID_CURR\",how=\"left\")\n",
    "#print(inst_pay2.shape)\n",
    "\n",
    "inst_pay2=inst_pay.sort_values([\"SK_ID_CURR\",\"SK_ID_PREV\",\"NUM_INSTALMENT_NUMBER\"])\n",
    "#inst_pay.tail(10)\n",
    "inst_pay2[\"DIFF_DAYS\"]=inst_pay2[\"DAYS_INSTALMENT\"]-inst_pay2[\"DAYS_ENTRY_PAYMENT\"]\n",
    "inst_pay2[\"DIFF_AMT\"]=inst_pay2[\"AMT_INSTALMENT\"]-inst_pay2[\"AMT_PAYMENT\"]\n",
    "\n",
    "inst_pay2_aggr=inst_pay2.groupby(\"SK_ID_CURR\").mean().reset_index()\n",
    "\n",
    "inst_pay_aggr2=inst_pay2_aggr[[\"SK_ID_CURR\",\"DIFF_DAYS\",\"DIFF_AMT\"]]\n",
    "inst_pay_aggr2.columns=[\"SK_ID_CURR\",\"7_DIFF_DAYS_MEAN\",\"7_DIFF_AMT_MEAN\"]\n",
    "\n",
    "# ⑦データ\n",
    "inst_pay_aggr2=inst_pay_aggr2.dropna()\n",
    "print(inst_pay_aggr2.shape)"
   ]
  },
  {
   "cell_type": "raw",
   "metadata": {},
   "source": [
    "# use this if you want to convert categorical features to dummies(default)\n",
    "def cat_to_int(train, test):\n",
    "    mem_orig_train = train.memory_usage().sum() / 1024**2\n",
    "    mem_orig_test  = test .memory_usage().sum() / 1024**2\n",
    "    categorical_feats = [ f for f in train.columns if train[f].dtype == 'object' or train[f].dtype.name == 'category' ]\n",
    "    print('---------------------')\n",
    "    print(categorical_feats)\n",
    "    for f_ in categorical_feats:\n",
    "        train[f_], indexer = pd.factorize(train[f_])\n",
    "        test[f_] = indexer.get_indexer(test[f_])\n",
    "    print('Memory usage of train increases from {:.2f} to {:.2f} MB'.format(mem_orig_train, \n",
    "                                                                            train.memory_usage().sum() / 1024**2))\n",
    "    print('Memory usage of test increases from {:.2f} to {:.2f} MB'.format(mem_orig_test, \n",
    "                                                                            test.memory_usage().sum() / 1024**2))\n",
    "    return categorical_feats, train, test\n",
    "\n",
    "#categorical_feats, application_train_ohe, application_test_ohe = cat_to_int(application_train, application_test)\n"
   ]
  },
  {
   "cell_type": "code",
   "execution_count": 15,
   "metadata": {},
   "outputs": [
    {
     "data": {
      "text/plain": [
       "306487"
      ]
     },
     "execution_count": 15,
     "metadata": {},
     "output_type": "execute_result"
    }
   ],
   "source": [
    "len(application_train_ohe)"
   ]
  },
  {
   "cell_type": "code",
   "execution_count": 18,
   "metadata": {},
   "outputs": [],
   "source": [
    "application_train_ohe2=application_train_ohe.merge(bureau_data2,on=\"SK_ID_CURR\",how=\"inner\").merge(POS_data2,on=\"SK_ID_CURR\",how=\"inner\").merge(prev_app_cate_sum,on=\"SK_ID_CURR\",how=\"inner\").merge(prev_app_cont_mean,on=\"SK_ID_CURR\",how=\"inner\").merge(inst_pay_aggr2,on=\"SK_ID_CURR\",how=\"inner\")\n",
    "application_test_ohe2=application_test_ohe.merge(bureau_data2,on=\"SK_ID_CURR\",how=\"inner\").merge(POS_data2,on=\"SK_ID_CURR\",how=\"inner\").merge(prev_app_cate_sum,on=\"SK_ID_CURR\",how=\"inner\").merge(prev_app_cont_mean,on=\"SK_ID_CURR\",how=\"inner\").merge(inst_pay_aggr2,on=\"SK_ID_CURR\",how=\"inner\")\n"
   ]
  },
  {
   "cell_type": "code",
   "execution_count": null,
   "metadata": {},
   "outputs": [],
   "source": []
  },
  {
   "cell_type": "code",
   "execution_count": 10,
   "metadata": {},
   "outputs": [],
   "source": [
    "#application_train_ohe, application_test_ohe = (application_train, application_test)\n"
   ]
  },
  {
   "cell_type": "code",
   "execution_count": 19,
   "metadata": {},
   "outputs": [],
   "source": [
    "#from imblearn.under_sampling import RandomUnderSampler\n",
    "#rus = RandomUnderSampler(random_state=314)\n",
    "#X_rus, y_rus = rus.fit_sample(application_train_ohe.drop(['SK_ID_CURR', 'TARGET'], axis=1).fillna(-1), \n",
    "#                              application_train_ohe['TARGET'])\n",
    "\n",
    "# You can use the full sample and do sample weighting in lightgbm using `is_unbalance` OR `scale_pos_weight` argument\n",
    "# But it makes the code to run 8x..10x slower, which is ok for the run with pre-optimised parametersm but is too slow for HP optimisation\n",
    "X_rus, y_rus = (application_train_ohe2.drop(['SK_ID_CURR', 'TARGET'], axis=1),\n",
    "                application_train_ohe2['TARGET'])\n"
   ]
  },
  {
   "cell_type": "code",
   "execution_count": 20,
   "metadata": {},
   "outputs": [],
   "source": [
    "from sklearn.model_selection import train_test_split\n",
    "X_train, X_test, y_train, y_test = train_test_split(X_rus, y_rus, test_size=0.20, random_state=314, stratify=y_rus)\n"
   ]
  },
  {
   "cell_type": "code",
   "execution_count": 21,
   "metadata": {},
   "outputs": [],
   "source": [
    "def learning_rate_010_decay_power_099(current_iter):\n",
    "    base_learning_rate = 0.1\n",
    "    lr = base_learning_rate  * np.power(.99, current_iter)\n",
    "    return lr if lr > 1e-3 else 1e-3\n",
    "\n",
    "def learning_rate_010_decay_power_0995(current_iter):\n",
    "    base_learning_rate = 0.1\n",
    "    lr = base_learning_rate  * np.power(.995, current_iter)\n",
    "    return lr if lr > 1e-3 else 1e-3\n",
    "\n",
    "def learning_rate_005_decay_power_099(current_iter):\n",
    "    base_learning_rate = 0.05\n",
    "    lr = base_learning_rate  * np.power(.99, current_iter)\n",
    "    return lr if lr > 1e-3 else 1e-3\n"
   ]
  },
  {
   "cell_type": "code",
   "execution_count": 22,
   "metadata": {},
   "outputs": [],
   "source": [
    "import lightgbm as lgb\n",
    "fit_params={\"early_stopping_rounds\":30, \n",
    "            \"eval_metric\" : 'auc', \n",
    "            \"eval_set\" : [(X_test,y_test)],\n",
    "            'eval_names': ['valid'],\n",
    "            #'callbacks': [lgb.reset_parameter(learning_rate=learning_rate_010_decay_power_099)],\n",
    "            'verbose': 100,\n",
    "            'categorical_feature': 'auto'}\n"
   ]
  },
  {
   "cell_type": "code",
   "execution_count": 23,
   "metadata": {},
   "outputs": [],
   "source": [
    "from scipy.stats import randint as sp_randint\n",
    "from scipy.stats import uniform as sp_uniform\n",
    "param_test ={'num_leaves': sp_randint(6, 50), \n",
    "             'min_child_samples': sp_randint(100, 500), \n",
    "             'min_child_weight': [1e-5, 1e-3, 1e-2, 1e-1, 1, 1e1, 1e2, 1e3, 1e4],\n",
    "             'subsample': sp_uniform(loc=0.2, scale=0.8), \n",
    "             'colsample_bytree': sp_uniform(loc=0.4, scale=0.6),\n",
    "             'reg_alpha': [0, 1e-1, 1, 2, 5, 7, 10, 50, 100],\n",
    "             'reg_lambda': [0, 1e-1, 1, 5, 10, 20, 50, 100]}\n"
   ]
  },
  {
   "cell_type": "code",
   "execution_count": 24,
   "metadata": {},
   "outputs": [],
   "source": [
    "#This parameter defines the number of HP points to be tested\n",
    "n_HP_points_to_test = 100\n",
    "\n",
    "import lightgbm as lgb\n",
    "from sklearn.model_selection import RandomizedSearchCV, GridSearchCV\n",
    "\n",
    "#n_estimators is set to a \"large value\". The actual number of trees build will depend on early stopping and 1000 define only the absolute maximum\n",
    "clf = lgb.LGBMClassifier(max_depth=-1, random_state=314, silent=True, metric='None', n_jobs=4, n_estimators=1000)\n",
    "gs = RandomizedSearchCV(\n",
    "    estimator=clf, param_distributions=param_test, \n",
    "    n_iter=n_HP_points_to_test,\n",
    "    scoring='roc_auc',\n",
    "    cv=3,\n",
    "    refit=True,\n",
    "    random_state=314,\n",
    "    verbose=True)\n"
   ]
  },
  {
   "cell_type": "code",
   "execution_count": 25,
   "metadata": {},
   "outputs": [],
   "source": [
    "#gs.fit(X_train, y_train, **fit_params)\n",
    "#print('Best score reached: {} with params: {} '.format(gs.best_score_, gs.best_params_))\n"
   ]
  },
  {
   "cell_type": "code",
   "execution_count": 26,
   "metadata": {},
   "outputs": [],
   "source": [
    "opt_parameters = {'colsample_bytree': 0.9234, 'min_child_samples': 399, 'min_child_weight': 0.1, 'num_leaves': 13, 'reg_alpha': 2, 'reg_lambda': 5, 'subsample': 0.855}\n"
   ]
  },
  {
   "cell_type": "code",
   "execution_count": 27,
   "metadata": {},
   "outputs": [
    {
     "data": {
      "text/plain": [
       "LGBMClassifier(boosting_type='gbdt', class_weight=None,\n",
       "        colsample_bytree=0.9234, learning_rate=0.1, max_depth=-1,\n",
       "        metric='None', min_child_samples=399, min_child_weight=0.1,\n",
       "        min_split_gain=0.0, n_estimators=1000, n_jobs=4, num_leaves=13,\n",
       "        objective=None, random_state=314, reg_alpha=2, reg_lambda=5,\n",
       "        silent=True, subsample=0.855, subsample_for_bin=200000,\n",
       "        subsample_freq=1)"
      ]
     },
     "execution_count": 27,
     "metadata": {},
     "output_type": "execute_result"
    }
   ],
   "source": [
    "clf_sw = lgb.LGBMClassifier(**clf.get_params())\n",
    "#set optimal parameters\n",
    "clf_sw.set_params(**opt_parameters)\n"
   ]
  },
  {
   "cell_type": "code",
   "execution_count": 28,
   "metadata": {},
   "outputs": [],
   "source": [
    "gs_sample_weight = GridSearchCV(estimator=clf_sw, \n",
    "                                param_grid={'scale_pos_weight':[1,2,6,12]},\n",
    "                                scoring='roc_auc',\n",
    "                                cv=5,\n",
    "                                refit=True,\n",
    "                                verbose=True)\n"
   ]
  },
  {
   "cell_type": "code",
   "execution_count": 29,
   "metadata": {},
   "outputs": [
    {
     "name": "stdout",
     "output_type": "stream",
     "text": [
      "Fitting 5 folds for each of 4 candidates, totalling 20 fits\n",
      "Training until validation scores don't improve for 30 rounds.\n",
      "[100]\tvalid's auc: 0.772873\n",
      "[200]\tvalid's auc: 0.778172\n",
      "Early stopping, best iteration is:\n",
      "[231]\tvalid's auc: 0.778825\n",
      "Training until validation scores don't improve for 30 rounds.\n",
      "[100]\tvalid's auc: 0.772899\n",
      "[200]\tvalid's auc: 0.778156\n",
      "Early stopping, best iteration is:\n",
      "[230]\tvalid's auc: 0.778558\n",
      "Training until validation scores don't improve for 30 rounds.\n",
      "[100]\tvalid's auc: 0.771689\n",
      "[200]\tvalid's auc: 0.777488\n",
      "Early stopping, best iteration is:\n",
      "[256]\tvalid's auc: 0.778433\n",
      "Training until validation scores don't improve for 30 rounds.\n",
      "[100]\tvalid's auc: 0.772799\n",
      "[200]\tvalid's auc: 0.778739\n",
      "[300]\tvalid's auc: 0.77941\n",
      "Early stopping, best iteration is:\n",
      "[330]\tvalid's auc: 0.779583\n",
      "Training until validation scores don't improve for 30 rounds.\n",
      "[100]\tvalid's auc: 0.772105\n",
      "[200]\tvalid's auc: 0.777643\n",
      "Early stopping, best iteration is:\n",
      "[240]\tvalid's auc: 0.77894\n",
      "Training until validation scores don't improve for 30 rounds.\n",
      "[100]\tvalid's auc: 0.774434\n",
      "[200]\tvalid's auc: 0.778828\n",
      "[300]\tvalid's auc: 0.779521\n",
      "Early stopping, best iteration is:\n",
      "[283]\tvalid's auc: 0.779733\n",
      "Training until validation scores don't improve for 30 rounds.\n",
      "[100]\tvalid's auc: 0.773588\n",
      "Early stopping, best iteration is:\n",
      "[162]\tvalid's auc: 0.777977\n",
      "Training until validation scores don't improve for 30 rounds.\n",
      "[100]\tvalid's auc: 0.774233\n",
      "[200]\tvalid's auc: 0.778982\n",
      "[300]\tvalid's auc: 0.779954\n",
      "Early stopping, best iteration is:\n",
      "[300]\tvalid's auc: 0.779954\n",
      "Training until validation scores don't improve for 30 rounds.\n",
      "[100]\tvalid's auc: 0.774931\n",
      "[200]\tvalid's auc: 0.779697\n",
      "[300]\tvalid's auc: 0.780579\n",
      "[400]\tvalid's auc: 0.781148\n",
      "Early stopping, best iteration is:\n",
      "[394]\tvalid's auc: 0.781231\n",
      "Training until validation scores don't improve for 30 rounds.\n",
      "[100]\tvalid's auc: 0.774047\n",
      "[200]\tvalid's auc: 0.778815\n",
      "Early stopping, best iteration is:\n",
      "[229]\tvalid's auc: 0.779303\n",
      "Training until validation scores don't improve for 30 rounds.\n",
      "[100]\tvalid's auc: 0.775357\n",
      "[200]\tvalid's auc: 0.77828\n",
      "[300]\tvalid's auc: 0.779071\n",
      "Early stopping, best iteration is:\n",
      "[277]\tvalid's auc: 0.779328\n",
      "Training until validation scores don't improve for 30 rounds.\n",
      "[100]\tvalid's auc: 0.774914\n",
      "[200]\tvalid's auc: 0.778997\n",
      "Early stopping, best iteration is:\n",
      "[207]\tvalid's auc: 0.779086\n",
      "Training until validation scores don't improve for 30 rounds.\n",
      "[100]\tvalid's auc: 0.774972\n",
      "[200]\tvalid's auc: 0.779623\n",
      "[300]\tvalid's auc: 0.780447\n",
      "Early stopping, best iteration is:\n",
      "[297]\tvalid's auc: 0.780492\n",
      "Training until validation scores don't improve for 30 rounds.\n",
      "[100]\tvalid's auc: 0.774988\n",
      "[200]\tvalid's auc: 0.778783\n",
      "Early stopping, best iteration is:\n",
      "[219]\tvalid's auc: 0.779355\n",
      "Training until validation scores don't improve for 30 rounds.\n",
      "[100]\tvalid's auc: 0.774597\n",
      "[200]\tvalid's auc: 0.777945\n",
      "[300]\tvalid's auc: 0.778914\n",
      "Early stopping, best iteration is:\n",
      "[342]\tvalid's auc: 0.779244\n",
      "Training until validation scores don't improve for 30 rounds.\n",
      "[100]\tvalid's auc: 0.774783\n",
      "[200]\tvalid's auc: 0.778112\n",
      "[300]\tvalid's auc: 0.778532\n",
      "Early stopping, best iteration is:\n",
      "[280]\tvalid's auc: 0.77909\n",
      "Training until validation scores don't improve for 30 rounds.\n",
      "[100]\tvalid's auc: 0.774641\n",
      "[200]\tvalid's auc: 0.778283\n",
      "Early stopping, best iteration is:\n",
      "[232]\tvalid's auc: 0.778658\n",
      "Training until validation scores don't improve for 30 rounds.\n",
      "[100]\tvalid's auc: 0.773265\n",
      "[200]\tvalid's auc: 0.776996\n",
      "Early stopping, best iteration is:\n",
      "[259]\tvalid's auc: 0.777605\n",
      "Training until validation scores don't improve for 30 rounds.\n",
      "[100]\tvalid's auc: 0.773802\n",
      "[200]\tvalid's auc: 0.777798\n",
      "Early stopping, best iteration is:\n",
      "[233]\tvalid's auc: 0.777922\n",
      "Training until validation scores don't improve for 30 rounds.\n",
      "[100]\tvalid's auc: 0.774725\n",
      "[200]\tvalid's auc: 0.777856\n",
      "Early stopping, best iteration is:\n",
      "[266]\tvalid's auc: 0.7791\n"
     ]
    },
    {
     "name": "stderr",
     "output_type": "stream",
     "text": [
      "[Parallel(n_jobs=1)]: Done  20 out of  20 | elapsed: 16.1min finished\n"
     ]
    },
    {
     "name": "stdout",
     "output_type": "stream",
     "text": [
      "Training until validation scores don't improve for 30 rounds.\n",
      "[100]\tvalid's auc: 0.773325\n",
      "[200]\tvalid's auc: 0.779873\n",
      "Early stopping, best iteration is:\n",
      "[261]\tvalid's auc: 0.780994\n",
      "Best score reached: 0.7770636200467047 with params: {'scale_pos_weight': 1} \n"
     ]
    }
   ],
   "source": [
    "gs_sample_weight.fit(X_train, y_train, **fit_params)\n",
    "print('Best score reached: {} with params: {} '.format(gs_sample_weight.best_score_, gs_sample_weight.best_params_))\n"
   ]
  },
  {
   "cell_type": "code",
   "execution_count": 30,
   "metadata": {},
   "outputs": [],
   "source": [
    "#print(\"Valid+-Std     Train  :   Parameters\")\n",
    "#for i in np.argsort(gs.cv_results_['mean_test_score'])[-5:]:\n",
    "#    print('{1:.3f}+-{3:.3f}     {2:.3f}   :  {0}'.format(gs.cv_results_['params'][i], \n",
    "#                                    gs.cv_results_['mean_test_score'][i], \n",
    "#                                    gs.cv_results_['mean_train_score'][i],\n",
    "#                                    gs.cv_results_['std_test_score'][i]))\n"
   ]
  },
  {
   "cell_type": "code",
   "execution_count": 31,
   "metadata": {},
   "outputs": [
    {
     "name": "stdout",
     "output_type": "stream",
     "text": [
      "Valid+-Std     Train  :   Parameters\n",
      "0.776+-0.003     0.833   :  {'scale_pos_weight': 12}\n",
      "0.777+-0.004     0.830   :  {'scale_pos_weight': 2}\n",
      "0.777+-0.004     0.834   :  {'scale_pos_weight': 6}\n",
      "0.777+-0.004     0.824   :  {'scale_pos_weight': 1}\n"
     ]
    },
    {
     "name": "stderr",
     "output_type": "stream",
     "text": [
      "C:\\Users\\userpc\\Anaconda3\\lib\\site-packages\\sklearn\\utils\\deprecation.py:122: FutureWarning: You are accessing a training score ('mean_train_score'), which will not be available by default any more in 0.21. If you need training scores, please set return_train_score=True\n",
      "  warnings.warn(*warn_args, **warn_kwargs)\n"
     ]
    }
   ],
   "source": [
    "print(\"Valid+-Std     Train  :   Parameters\")\n",
    "for i in np.argsort(gs_sample_weight.cv_results_['mean_test_score'])[-5:]:\n",
    "    print('{1:.3f}+-{3:.3f}     {2:.3f}   :  {0}'.format(gs_sample_weight.cv_results_['params'][i], \n",
    "                                    gs_sample_weight.cv_results_['mean_test_score'][i], \n",
    "                                    gs_sample_weight.cv_results_['mean_train_score'][i],\n",
    "                                    gs_sample_weight.cv_results_['std_test_score'][i]))\n"
   ]
  },
  {
   "cell_type": "code",
   "execution_count": 32,
   "metadata": {},
   "outputs": [
    {
     "name": "stdout",
     "output_type": "stream",
     "text": [
      "Training until validation scores don't improve for 30 rounds.\n",
      "[100]\tvalid's auc: 0.769634\n",
      "[200]\tvalid's auc: 0.776833\n",
      "[300]\tvalid's auc: 0.778826\n",
      "[400]\tvalid's auc: 0.779537\n",
      "[500]\tvalid's auc: 0.779983\n",
      "[600]\tvalid's auc: 0.78027\n",
      "[700]\tvalid's auc: 0.780368\n",
      "[800]\tvalid's auc: 0.780443\n",
      "[900]\tvalid's auc: 0.780488\n",
      "[1000]\tvalid's auc: 0.780524\n",
      "[1100]\tvalid's auc: 0.780554\n",
      "[1200]\tvalid's auc: 0.780585\n",
      "[1300]\tvalid's auc: 0.780611\n",
      "[1400]\tvalid's auc: 0.78064\n",
      "[1500]\tvalid's auc: 0.780673\n",
      "[1600]\tvalid's auc: 0.780697\n",
      "[1700]\tvalid's auc: 0.780719\n",
      "[1800]\tvalid's auc: 0.780745\n",
      "[1900]\tvalid's auc: 0.780768\n",
      "[2000]\tvalid's auc: 0.780788\n",
      "[2100]\tvalid's auc: 0.780819\n",
      "[2200]\tvalid's auc: 0.780849\n",
      "[2300]\tvalid's auc: 0.780871\n",
      "[2400]\tvalid's auc: 0.780891\n",
      "[2500]\tvalid's auc: 0.780912\n",
      "[2600]\tvalid's auc: 0.780938\n",
      "[2700]\tvalid's auc: 0.780965\n",
      "[2800]\tvalid's auc: 0.78099\n",
      "[2900]\tvalid's auc: 0.781019\n",
      "[3000]\tvalid's auc: 0.781039\n",
      "[3100]\tvalid's auc: 0.78107\n",
      "[3200]\tvalid's auc: 0.781097\n",
      "[3300]\tvalid's auc: 0.781124\n",
      "[3400]\tvalid's auc: 0.781145\n",
      "[3500]\tvalid's auc: 0.781163\n",
      "[3600]\tvalid's auc: 0.781181\n",
      "[3700]\tvalid's auc: 0.781203\n",
      "[3800]\tvalid's auc: 0.781218\n",
      "[3900]\tvalid's auc: 0.781251\n",
      "[4000]\tvalid's auc: 0.781272\n",
      "[4100]\tvalid's auc: 0.781296\n",
      "[4200]\tvalid's auc: 0.781318\n",
      "[4300]\tvalid's auc: 0.78134\n",
      "[4400]\tvalid's auc: 0.78136\n",
      "[4500]\tvalid's auc: 0.781382\n",
      "[4600]\tvalid's auc: 0.781403\n",
      "[4700]\tvalid's auc: 0.781414\n",
      "[4800]\tvalid's auc: 0.781436\n",
      "[4900]\tvalid's auc: 0.781464\n",
      "[5000]\tvalid's auc: 0.781478\n",
      "Did not meet early stopping. Best iteration is:\n",
      "[4999]\tvalid's auc: 0.781479\n"
     ]
    },
    {
     "data": {
      "text/plain": [
       "LGBMClassifier(boosting_type='gbdt', class_weight=None,\n",
       "        colsample_bytree=0.9234, learning_rate=0.005, max_depth=-1,\n",
       "        metric='None', min_child_samples=399, min_child_weight=0.1,\n",
       "        min_split_gain=0.0, n_estimators=5000, n_jobs=4, num_leaves=13,\n",
       "        objective='binary', random_state=314, reg_alpha=2, reg_lambda=5,\n",
       "        silent=True, subsample=0.855, subsample_for_bin=200000,\n",
       "        subsample_freq=1)"
      ]
     },
     "execution_count": 32,
     "metadata": {},
     "output_type": "execute_result"
    }
   ],
   "source": [
    "#Configure from the HP optimisation\n",
    "#clf_final = lgb.LGBMClassifier(**gs.best_estimator_.get_params())\n",
    "\n",
    "#Configure locally from hardcoded values\n",
    "clf_final = lgb.LGBMClassifier(**clf.get_params())\n",
    "#set optimal parameters\n",
    "clf_final.set_params(**opt_parameters)\n",
    "\n",
    "#force larger number of max trees and smaller learning rate\n",
    "clf_final.set_params(n_estimators=5000, learning_rate=0.005, objective='binary')\n",
    "clf_final.fit(X_train, y_train, **fit_params, callbacks=[lgb.reset_parameter(learning_rate=learning_rate_010_decay_power_0995)])\n"
   ]
  },
  {
   "cell_type": "code",
   "execution_count": 36,
   "metadata": {},
   "outputs": [
    {
     "data": {
      "text/plain": [
       "<matplotlib.axes._subplots.AxesSubplot at 0xe09de13278>"
      ]
     },
     "execution_count": 36,
     "metadata": {},
     "output_type": "execute_result"
    },
    {
     "data": {
      "image/png": "[encoded data removed]",
      "text/plain": [
       "<matplotlib.figure.Figure at 0xe09de24940>"
      ]
     },
     "metadata": {},
     "output_type": "display_data"
    }
   ],
   "source": [
    "feat_imp = pd.Series(clf_final.feature_importances_, index=application_train_ohe2.drop(['SK_ID_CURR', 'TARGET'], axis=1).columns)\n",
    "feat_imp.nlargest(20).plot(kind='barh', figsize=(8,10))\n"
   ]
  },
  {
   "cell_type": "code",
   "execution_count": null,
   "metadata": {},
   "outputs": [],
   "source": []
  },
  {
   "cell_type": "code",
   "execution_count": 37,
   "metadata": {},
   "outputs": [],
   "source": [
    "probabilities = clf_final.predict_proba(application_test_ohe2.drop(['SK_ID_CURR'], axis=1))\n",
    "submission = pd.DataFrame({\n",
    "    'SK_ID_CURR': application_test_ohe2['SK_ID_CURR'],\n",
    "    'TARGET':     [ row[1] for row in probabilities]\n",
    "})\n",
    "#submission.to_csv(\"submission_0609-02.csv\", index=False)\n"
   ]
  },
  {
   "cell_type": "code",
   "execution_count": 38,
   "metadata": {},
   "outputs": [
    {
     "data": {
      "text/plain": [
       "41250"
      ]
     },
     "execution_count": 38,
     "metadata": {},
     "output_type": "execute_result"
    }
   ],
   "source": [
    "len(submission)"
   ]
  },
  {
   "cell_type": "code",
   "execution_count": 39,
   "metadata": {},
   "outputs": [],
   "source": [
    "submission.columns=[\"SK_ID_CURR\",\"TARGET2\"]\n",
    "submission=submission.set_index(\"SK_ID_CURR\")\n",
    "submission2=pd.read_csv(\"submission_0609.csv\").set_index(\"SK_ID_CURR\")\n",
    "submission2.loc[submission.index,\"TARGET\"]=submission[\"TARGET2\"]"
   ]
  },
  {
   "cell_type": "code",
   "execution_count": 40,
   "metadata": {},
   "outputs": [
    {
     "data": {
      "text/plain": [
       "48744"
      ]
     },
     "execution_count": 40,
     "metadata": {},
     "output_type": "execute_result"
    }
   ],
   "source": [
    "len(submission2)"
   ]
  },
  {
   "cell_type": "code",
   "execution_count": 41,
   "metadata": {},
   "outputs": [],
   "source": [
    "submission2.to_csv(\"submission_0609-02.csv\", index=True)  #ベスト"
   ]
  },
  {
   "cell_type": "code",
   "execution_count": 29,
   "metadata": {},
   "outputs": [
    {
     "data": {
      "text/plain": [
       "245189"
      ]
     },
     "execution_count": 29,
     "metadata": {},
     "output_type": "execute_result"
    }
   ],
   "source": [
    "len(X_train)"
   ]
  },
  {
   "cell_type": "code",
   "execution_count": 31,
   "metadata": {},
   "outputs": [
    {
     "data": {
      "text/plain": [
       "48744"
      ]
     },
     "execution_count": 31,
     "metadata": {},
     "output_type": "execute_result"
    }
   ],
   "source": [
    "len(application_test_ohe)"
   ]
  },
  {
   "cell_type": "code",
   "execution_count": null,
   "metadata": {},
   "outputs": [],
   "source": []
  }
 ],
 "metadata": {
  "kernelspec": {
   "display_name": "Python 3",
   "language": "python",
   "name": "python3"
  },
  "language_info": {
   "codemirror_mode": {
    "name": "ipython",
    "version": 3
   },
   "file_extension": ".py",
   "mimetype": "text/x-python",
   "name": "python",
   "nbconvert_exporter": "python",
   "pygments_lexer": "ipython3",
   "version": "3.6.4"
  }
 },
 "nbformat": 4,
 "nbformat_minor": 2
}
